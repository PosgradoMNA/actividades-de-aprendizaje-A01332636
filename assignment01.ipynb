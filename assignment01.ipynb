{
  "nbformat": 4,
  "nbformat_minor": 0,
  "metadata": {
    "colab": {
      "name": "assignment01.ipynb",
      "provenance": [],
      "include_colab_link": true
    },
    "kernelspec": {
      "name": "python3",
      "display_name": "Python 3"
    },
    "language_info": {
      "name": "python"
    }
  },
  "cells": [
    {
      "cell_type": "markdown",
      "metadata": {
        "id": "view-in-github",
        "colab_type": "text"
      },
      "source": [
        "<a href=\"https://colab.research.google.com/github/PosgradoMNA/actividades-de-aprendizaje-A01332636/blob/main/assignment01.ipynb\" target=\"_parent\"><img src=\"https://colab.research.google.com/assets/colab-badge.svg\" alt=\"Open In Colab\"/></a>"
      ]
    },
    {
      "cell_type": "code",
      "execution_count": null,
      "metadata": {
        "id": "LzUSMM79NR9P",
        "outputId": "0e6cb421-1096-426a-b31a-f61d059def81",
        "colab": {
          "base_uri": "https://localhost:8080/"
        }
      },
      "outputs": [
        {
          "output_type": "stream",
          "name": "stdout",
          "text": [
            "assignment01 for GitJobish03 and edited in git, and 18\n"
          ]
        }
      ],
      "source": [
        "print('assignment01 for GitJobish03 and edited in git, and 18')"
      ]
    },
    {
      "cell_type": "markdown",
      "source": [
        "# Say Hello!"
      ],
      "metadata": {
        "id": "jXlQR_Lk8a3L"
      }
    },
    {
      "cell_type": "markdown",
      "source": [
        "Let's say hello to the world with a PRINT statement."
      ],
      "metadata": {
        "id": "0758udtS4kDo"
      }
    },
    {
      "cell_type": "code",
      "source": [
        "print(\"Hello World!\")"
      ],
      "metadata": {
        "id": "sCOp-1GPcovB",
        "colab": {
          "base_uri": "https://localhost:8080/"
        },
        "outputId": "eda17929-99e0-4b65-cabf-d27cc364abec"
      },
      "execution_count": 1,
      "outputs": [
        {
          "output_type": "stream",
          "name": "stdout",
          "text": [
            "Hello World!\n"
          ]
        }
      ]
    },
    {
      "cell_type": "markdown",
      "source": [
        "Let's print \"Hello\" and \"World\" on two separate lines. Hint: \\n in the middle of the string acts as a new line character."
      ],
      "metadata": {
        "id": "vwaXVLY04tck"
      }
    },
    {
      "cell_type": "code",
      "source": [
        "print(\"Hello\\nWorld\")"
      ],
      "metadata": {
        "colab": {
          "base_uri": "https://localhost:8080/"
        },
        "id": "d5x9KAhL4o95",
        "outputId": "75aa6d57-063a-4711-bf17-c199f1ef1912"
      },
      "execution_count": 3,
      "outputs": [
        {
          "output_type": "stream",
          "name": "stdout",
          "text": [
            "Hello\n",
            "World\n"
          ]
        }
      ]
    },
    {
      "cell_type": "markdown",
      "source": [
        "Let's create a comment"
      ],
      "metadata": {
        "id": "rrm-WYR843vw"
      }
    },
    {
      "cell_type": "code",
      "source": [
        "#Comment"
      ],
      "metadata": {
        "id": "YZLFMvXw4xz7"
      },
      "execution_count": 4,
      "outputs": []
    },
    {
      "cell_type": "markdown",
      "source": [
        "# Types"
      ],
      "metadata": {
        "id": "Zk2mPD1s6jfo"
      }
    },
    {
      "cell_type": "code",
      "source": [
        "type(\"Hello World\")"
      ],
      "metadata": {
        "colab": {
          "base_uri": "https://localhost:8080/"
        },
        "id": "fM1bk0ph47TH",
        "outputId": "73a37e91-17ab-4380-967c-387ac8f35abb"
      },
      "execution_count": 5,
      "outputs": [
        {
          "output_type": "execute_result",
          "data": {
            "text/plain": [
              "str"
            ]
          },
          "metadata": {},
          "execution_count": 5
        }
      ]
    },
    {
      "cell_type": "markdown",
      "source": [
        "Type of a number with \"\""
      ],
      "metadata": {
        "id": "Y1iuafu_6vmi"
      }
    },
    {
      "cell_type": "code",
      "source": [
        "type(\"1.1\")"
      ],
      "metadata": {
        "colab": {
          "base_uri": "https://localhost:8080/"
        },
        "id": "oo26e3I16uHn",
        "outputId": "209c1956-f2ed-47ac-a12a-39318be57cc7"
      },
      "execution_count": 6,
      "outputs": [
        {
          "output_type": "execute_result",
          "data": {
            "text/plain": [
              "str"
            ]
          },
          "metadata": {},
          "execution_count": 6
        }
      ]
    },
    {
      "cell_type": "markdown",
      "source": [
        "# Is a Number Always a Number? \n",
        "Cast the following to an int and then to a bool"
      ],
      "metadata": {
        "id": "8Hsgk1rR6upy"
      }
    },
    {
      "cell_type": "code",
      "source": [
        "print(int(1))\n",
        "print(bool(1))"
      ],
      "metadata": {
        "colab": {
          "base_uri": "https://localhost:8080/"
        },
        "id": "jQDdg4bO68mG",
        "outputId": "06081bad-ce26-4eaa-98dc-57b930b079c7"
      },
      "execution_count": 7,
      "outputs": [
        {
          "output_type": "stream",
          "name": "stdout",
          "text": [
            "1\n",
            "True\n"
          ]
        }
      ]
    },
    {
      "cell_type": "code",
      "source": [
        "type(int(1.0))"
      ],
      "metadata": {
        "colab": {
          "base_uri": "https://localhost:8080/"
        },
        "id": "MIh4zsa-7D1_",
        "outputId": "7e02c11d-af48-4fa6-daaa-55b127a8056b"
      },
      "execution_count": 8,
      "outputs": [
        {
          "output_type": "execute_result",
          "data": {
            "text/plain": [
              "int"
            ]
          },
          "metadata": {},
          "execution_count": 8
        }
      ]
    },
    {
      "cell_type": "markdown",
      "source": [
        "What version of Python are we using?"
      ],
      "metadata": {
        "id": "GUVAjNt2-8Na"
      }
    },
    {
      "cell_type": "code",
      "source": [
        "import sys\n",
        "print (sys.version)"
      ],
      "metadata": {
        "colab": {
          "base_uri": "https://localhost:8080/"
        },
        "id": "vTT8r2u57O2R",
        "outputId": "c4097361-a68f-4d18-e7ac-503c52dfd699"
      },
      "execution_count": 9,
      "outputs": [
        {
          "output_type": "stream",
          "name": "stdout",
          "text": [
            "3.7.14 (default, Sep  8 2022, 00:06:44) \n",
            "[GCC 7.5.0]\n"
          ]
        }
      ]
    },
    {
      "cell_type": "markdown",
      "source": [
        "Writing comments in python"
      ],
      "metadata": {
        "id": "7iwVX0WfBHDK"
      }
    },
    {
      "cell_type": "code",
      "source": [
        "# Practice on writing comments\n",
        "\n",
        "print('Hello, Python!') # This line prints a string\n",
        "# print('Hi')"
      ],
      "metadata": {
        "id": "8GgsOCOb_HSW",
        "outputId": "c48155f1-7ed7-4f87-e57b-4153c5f624be",
        "colab": {
          "base_uri": "https://localhost:8080/"
        }
      },
      "execution_count": 10,
      "outputs": [
        {
          "output_type": "stream",
          "name": "stdout",
          "text": [
            "Hello, Python!\n"
          ]
        }
      ]
    },
    {
      "cell_type": "markdown",
      "source": [
        "## Errors in python"
      ],
      "metadata": {
        "id": "yVm2jEg1BLPe"
      }
    },
    {
      "cell_type": "markdown",
      "source": [
        "print as frint"
      ],
      "metadata": {
        "id": "bzr-2_hYBUSK"
      }
    },
    {
      "cell_type": "code",
      "source": [
        "# Print string as error message\n",
        "frint(\"Hello, Python!\")"
      ],
      "metadata": {
        "id": "YTxn_UcABI_B",
        "outputId": "bb37e403-46f9-41c8-d5a6-5a2d4ec4f300",
        "colab": {
          "base_uri": "https://localhost:8080/",
          "height": 182
        }
      },
      "execution_count": 11,
      "outputs": [
        {
          "output_type": "error",
          "ename": "NameError",
          "evalue": "ignored",
          "traceback": [
            "\u001b[0;31m---------------------------------------------------------------------------\u001b[0m",
            "\u001b[0;31mNameError\u001b[0m                                 Traceback (most recent call last)",
            "\u001b[0;32m<ipython-input-11-1e06465536be>\u001b[0m in \u001b[0;36m<module>\u001b[0;34m\u001b[0m\n\u001b[1;32m      1\u001b[0m \u001b[0;31m# Print string as error message\u001b[0m\u001b[0;34m\u001b[0m\u001b[0;34m\u001b[0m\u001b[0;34m\u001b[0m\u001b[0m\n\u001b[0;32m----> 2\u001b[0;31m \u001b[0mfrint\u001b[0m\u001b[0;34m(\u001b[0m\u001b[0;34m\"Hello, Python!\"\u001b[0m\u001b[0;34m)\u001b[0m\u001b[0;34m\u001b[0m\u001b[0;34m\u001b[0m\u001b[0m\n\u001b[0m",
            "\u001b[0;31mNameError\u001b[0m: name 'frint' is not defined"
          ]
        }
      ]
    },
    {
      "cell_type": "markdown",
      "source": [
        "The error message tells you:\n",
        "\n",
        "where the error occurred (more useful in large notebook cells or scripts), and\n",
        "what kind of error it was (NameError)\n",
        "Here, Python attempted to run the function frint, but could not determine what frint is since it's not a built-in function and it has not been previously defined by us either.\n",
        "You'll notice that if we make a different type of mistake, by forgetting to close the string, we'll obtain a different error (i.e., a SyntaxError). Try it below:"
      ],
      "metadata": {
        "id": "BbQkdvq-Bgc-"
      }
    },
    {
      "cell_type": "code",
      "source": [
        "# Try to see built-in error message\n",
        "print(\"Hello, Python!)"
      ],
      "metadata": {
        "id": "Kp-S9p7qBjOT",
        "outputId": "b5069127-97bc-4e8c-fea4-1275971cfa3f",
        "colab": {
          "base_uri": "https://localhost:8080/",
          "height": 130
        }
      },
      "execution_count": 12,
      "outputs": [
        {
          "output_type": "error",
          "ename": "SyntaxError",
          "evalue": "ignored",
          "traceback": [
            "\u001b[0;36m  File \u001b[0;32m\"<ipython-input-12-52d11b2bf794>\"\u001b[0;36m, line \u001b[0;32m2\u001b[0m\n\u001b[0;31m    print(\"Hello, Python!)\u001b[0m\n\u001b[0m                          ^\u001b[0m\n\u001b[0;31mSyntaxError\u001b[0m\u001b[0;31m:\u001b[0m EOL while scanning string literal\n"
          ]
        }
      ]
    },
    {
      "cell_type": "markdown",
      "source": [
        "#Does Python know about your error before it runs your code?\n",
        "Python is what is called an interpreted language. Compiled languages examine your entire program at compile time, and are able to warn you about a whole class of errors prior to execution. In contrast, Python interprets your script line by line as it executes it. Python will stop executing the entire program when it encounters an error (unless the error is expected and handled by the programmer, a more advanced subject that we'll cover later on in this course).\n",
        "\n",
        "Try to run the code in the cell below and see what happens:"
      ],
      "metadata": {
        "id": "pva6-aEJCFeV"
      }
    },
    {
      "cell_type": "code",
      "source": [
        "print(\"This will be printed\")\n",
        "frint(\"This will cause an error\")\n",
        "print(\"This will NOT be printed\")"
      ],
      "metadata": {
        "id": "tF3DLLwpBs4R",
        "outputId": "82d00fe8-8ce9-4d10-eef9-6a8ece60fb9c",
        "colab": {
          "base_uri": "https://localhost:8080/",
          "height": 217
        }
      },
      "execution_count": 13,
      "outputs": [
        {
          "output_type": "stream",
          "name": "stdout",
          "text": [
            "This will be printed\n"
          ]
        },
        {
          "output_type": "error",
          "ename": "NameError",
          "evalue": "ignored",
          "traceback": [
            "\u001b[0;31m---------------------------------------------------------------------------\u001b[0m",
            "\u001b[0;31mNameError\u001b[0m                                 Traceback (most recent call last)",
            "\u001b[0;32m<ipython-input-13-aa3f0d14d353>\u001b[0m in \u001b[0;36m<module>\u001b[0;34m\u001b[0m\n\u001b[1;32m      1\u001b[0m \u001b[0mprint\u001b[0m\u001b[0;34m(\u001b[0m\u001b[0;34m\"This will be printed\"\u001b[0m\u001b[0;34m)\u001b[0m\u001b[0;34m\u001b[0m\u001b[0;34m\u001b[0m\u001b[0m\n\u001b[0;32m----> 2\u001b[0;31m \u001b[0mfrint\u001b[0m\u001b[0;34m(\u001b[0m\u001b[0;34m\"This will cause an error\"\u001b[0m\u001b[0;34m)\u001b[0m\u001b[0;34m\u001b[0m\u001b[0;34m\u001b[0m\u001b[0m\n\u001b[0m\u001b[1;32m      3\u001b[0m \u001b[0mprint\u001b[0m\u001b[0;34m(\u001b[0m\u001b[0;34m\"This will NOT be printed\"\u001b[0m\u001b[0;34m)\u001b[0m\u001b[0;34m\u001b[0m\u001b[0;34m\u001b[0m\u001b[0m\n",
            "\u001b[0;31mNameError\u001b[0m: name 'frint' is not defined"
          ]
        }
      ]
    },
    {
      "cell_type": "markdown",
      "source": [
        "Exercise"
      ],
      "metadata": {
        "id": "UNDAw2y6Fy9Q"
      }
    },
    {
      "cell_type": "code",
      "source": [
        "print(\"Hello world!\")"
      ],
      "metadata": {
        "id": "VGVrjOafGC52",
        "outputId": "c9209ab7-2c4d-4e8a-d4b1-f0b8c3da74ac",
        "colab": {
          "base_uri": "https://localhost:8080/"
        }
      },
      "execution_count": 15,
      "outputs": [
        {
          "output_type": "stream",
          "name": "stdout",
          "text": [
            "Hello world!\n"
          ]
        }
      ]
    },
    {
      "cell_type": "code",
      "source": [
        "print (\"Hello world!\") #Print the traditional hello world"
      ],
      "metadata": {
        "id": "u1PDfb64GL9Q",
        "outputId": "d0a4d4e0-1b33-4b52-c7f8-aee48e89e40f",
        "colab": {
          "base_uri": "https://localhost:8080/"
        }
      },
      "execution_count": 14,
      "outputs": [
        {
          "output_type": "stream",
          "name": "stdout",
          "text": [
            "Hello world!\n"
          ]
        }
      ]
    },
    {
      "cell_type": "markdown",
      "source": [
        "#Types of objects in python"
      ],
      "metadata": {
        "id": "tzVowNWqGUHH"
      }
    },
    {
      "cell_type": "code",
      "source": [
        "print(1, \"= int\") #int\n",
        "type(1) "
      ],
      "metadata": {
        "id": "Z4vPDhyOGQ7g",
        "outputId": "285371d7-dcfb-476e-c549-8854159202be",
        "colab": {
          "base_uri": "https://localhost:8080/"
        }
      },
      "execution_count": 26,
      "outputs": [
        {
          "output_type": "stream",
          "name": "stdout",
          "text": [
            "1 = int\n"
          ]
        },
        {
          "output_type": "execute_result",
          "data": {
            "text/plain": [
              "int"
            ]
          },
          "metadata": {},
          "execution_count": 26
        }
      ]
    },
    {
      "cell_type": "code",
      "source": [
        "print(2.0,\"= float\")\n",
        "type(2.0) #float"
      ],
      "metadata": {
        "id": "j5fYoyecJhQ_",
        "outputId": "cf5d3d0a-7f78-4b6a-e531-a574f7e7c3cb",
        "colab": {
          "base_uri": "https://localhost:8080/"
        }
      },
      "execution_count": 28,
      "outputs": [
        {
          "output_type": "stream",
          "name": "stdout",
          "text": [
            "2.0 = float\n"
          ]
        },
        {
          "output_type": "execute_result",
          "data": {
            "text/plain": [
              "float"
            ]
          },
          "metadata": {},
          "execution_count": 28
        }
      ]
    },
    {
      "cell_type": "code",
      "source": [
        "print(\"Abigail = String\")\n",
        "type(\"Abigail\") #string"
      ],
      "metadata": {
        "id": "k8PSJOPrJjRD",
        "outputId": "7ff81b85-3fba-44f5-de17-b7741d66559e",
        "colab": {
          "base_uri": "https://localhost:8080/"
        }
      },
      "execution_count": 30,
      "outputs": [
        {
          "output_type": "stream",
          "name": "stdout",
          "text": [
            "Abigail = String\n"
          ]
        },
        {
          "output_type": "execute_result",
          "data": {
            "text/plain": [
              "str"
            ]
          },
          "metadata": {},
          "execution_count": 30
        }
      ]
    },
    {
      "cell_type": "markdown",
      "source": [
        "#Integers"
      ],
      "metadata": {
        "id": "o7sTSZhtLsNo"
      }
    },
    {
      "cell_type": "code",
      "source": [
        "type(-1)"
      ],
      "metadata": {
        "id": "ijHdGw8xJlXQ",
        "outputId": "fc41ea44-9bfb-4e4f-a621-b5ed76e68a42",
        "colab": {
          "base_uri": "https://localhost:8080/"
        }
      },
      "execution_count": 31,
      "outputs": [
        {
          "output_type": "execute_result",
          "data": {
            "text/plain": [
              "int"
            ]
          },
          "metadata": {},
          "execution_count": 31
        }
      ]
    },
    {
      "cell_type": "code",
      "source": [
        "type(4)"
      ],
      "metadata": {
        "id": "sa0vxXG0L0KZ",
        "outputId": "f591d625-9365-4c85-d82a-0a3e59a5e0e1",
        "colab": {
          "base_uri": "https://localhost:8080/"
        }
      },
      "execution_count": 32,
      "outputs": [
        {
          "output_type": "execute_result",
          "data": {
            "text/plain": [
              "int"
            ]
          },
          "metadata": {},
          "execution_count": 32
        }
      ]
    },
    {
      "cell_type": "code",
      "source": [
        "type(0)"
      ],
      "metadata": {
        "id": "zHl1anAJL03E",
        "outputId": "50dc98fe-d9e5-4bde-c398-5939d76569bc",
        "colab": {
          "base_uri": "https://localhost:8080/"
        }
      },
      "execution_count": 33,
      "outputs": [
        {
          "output_type": "execute_result",
          "data": {
            "text/plain": [
              "int"
            ]
          },
          "metadata": {},
          "execution_count": 33
        }
      ]
    },
    {
      "cell_type": "markdown",
      "source": [
        "#float"
      ],
      "metadata": {
        "id": "XI5MjoqIL89x"
      }
    },
    {
      "cell_type": "code",
      "source": [
        "type(1.0)"
      ],
      "metadata": {
        "id": "GikcDQvML1b8",
        "outputId": "3e482346-b96e-4273-c515-8fd16c344696",
        "colab": {
          "base_uri": "https://localhost:8080/"
        }
      },
      "execution_count": 34,
      "outputs": [
        {
          "output_type": "execute_result",
          "data": {
            "text/plain": [
              "float"
            ]
          },
          "metadata": {},
          "execution_count": 34
        }
      ]
    },
    {
      "cell_type": "code",
      "source": [
        "type(0.56)"
      ],
      "metadata": {
        "id": "hIL0L5mGL-5I",
        "outputId": "e31fd873-9718-4172-f3fd-8b7255e94bb4",
        "colab": {
          "base_uri": "https://localhost:8080/"
        }
      },
      "execution_count": 35,
      "outputs": [
        {
          "output_type": "execute_result",
          "data": {
            "text/plain": [
              "float"
            ]
          },
          "metadata": {},
          "execution_count": 35
        }
      ]
    },
    {
      "cell_type": "code",
      "source": [
        "type(-.587)"
      ],
      "metadata": {
        "id": "DU_oqn_QL_0z",
        "outputId": "36ce88d2-be3f-4f27-d7ad-9b4545d452b2",
        "colab": {
          "base_uri": "https://localhost:8080/"
        }
      },
      "execution_count": 36,
      "outputs": [
        {
          "output_type": "execute_result",
          "data": {
            "text/plain": [
              "float"
            ]
          },
          "metadata": {},
          "execution_count": 36
        }
      ]
    },
    {
      "cell_type": "code",
      "source": [
        "# System settings about float type\n",
        "\n",
        "sys.float_info"
      ],
      "metadata": {
        "id": "jA-q5C1kMB7J",
        "outputId": "1c097c20-c3b4-45d5-921f-91f465f50cfb",
        "colab": {
          "base_uri": "https://localhost:8080/"
        }
      },
      "execution_count": 37,
      "outputs": [
        {
          "output_type": "execute_result",
          "data": {
            "text/plain": [
              "sys.float_info(max=1.7976931348623157e+308, max_exp=1024, max_10_exp=308, min=2.2250738585072014e-308, min_exp=-1021, min_10_exp=-307, dig=15, mant_dig=53, epsilon=2.220446049250313e-16, radix=2, rounds=1)"
            ]
          },
          "metadata": {},
          "execution_count": 37
        }
      ]
    },
    {
      "cell_type": "markdown",
      "source": [
        "#Converting from one object type to a different object type"
      ],
      "metadata": {
        "id": "A9ctH9Y7MG8A"
      }
    },
    {
      "cell_type": "markdown",
      "source": [
        "You can change the type of the object in Python; this is called typecasting. For example, you can convert an integer into a float (e.g. 2 to 2.0).\n",
        "\n",
        "Let's try it:"
      ],
      "metadata": {
        "id": "RULnCSqKM1yX"
      }
    },
    {
      "cell_type": "code",
      "source": [
        "float(3)"
      ],
      "metadata": {
        "id": "K5W70_2lMC3Z",
        "outputId": "d6d1ff53-a756-4ff7-9784-8b2ed8fb1311",
        "colab": {
          "base_uri": "https://localhost:8080/"
        }
      },
      "execution_count": 38,
      "outputs": [
        {
          "output_type": "execute_result",
          "data": {
            "text/plain": [
              "3.0"
            ]
          },
          "metadata": {},
          "execution_count": 38
        }
      ]
    },
    {
      "cell_type": "code",
      "source": [
        "int(1.1) #Al cambiar un float a entero se perderá información"
      ],
      "metadata": {
        "id": "-e6AHFU9NVD_",
        "outputId": "ae9029ab-9c42-4ae5-cbf7-5cc5ab95a5b0",
        "colab": {
          "base_uri": "https://localhost:8080/"
        }
      },
      "execution_count": 39,
      "outputs": [
        {
          "output_type": "execute_result",
          "data": {
            "text/plain": [
              "1"
            ]
          },
          "metadata": {},
          "execution_count": 39
        }
      ]
    },
    {
      "cell_type": "markdown",
      "source": [
        "String to in or float"
      ],
      "metadata": {
        "id": "3lmhGophPDKT"
      }
    },
    {
      "cell_type": "code",
      "source": [
        "type(int(\"1\"))"
      ],
      "metadata": {
        "id": "hQ-qIG3POKWP",
        "outputId": "6ce1ffbc-fa9b-48b1-eb16-4b0a61e807de",
        "colab": {
          "base_uri": "https://localhost:8080/"
        }
      },
      "execution_count": 41,
      "outputs": [
        {
          "output_type": "execute_result",
          "data": {
            "text/plain": [
              "int"
            ]
          },
          "metadata": {},
          "execution_count": 41
        }
      ]
    },
    {
      "cell_type": "code",
      "source": [
        "type(float(1.0))"
      ],
      "metadata": {
        "id": "I3ta-JWfPGJJ",
        "outputId": "1a07065e-b884-416a-c399-c0bda74f7b41",
        "colab": {
          "base_uri": "https://localhost:8080/"
        }
      },
      "execution_count": 42,
      "outputs": [
        {
          "output_type": "execute_result",
          "data": {
            "text/plain": [
              "float"
            ]
          },
          "metadata": {},
          "execution_count": 42
        }
      ]
    },
    {
      "cell_type": "code",
      "source": [
        "type(int(\"1 or 2\"))"
      ],
      "metadata": {
        "id": "_FAnUDS4PpBf",
        "outputId": "9bd2756a-eec3-4311-ec3f-62d76dfc9aae",
        "colab": {
          "base_uri": "https://localhost:8080/",
          "height": 165
        }
      },
      "execution_count": 43,
      "outputs": [
        {
          "output_type": "error",
          "ename": "ValueError",
          "evalue": "ignored",
          "traceback": [
            "\u001b[0;31m---------------------------------------------------------------------------\u001b[0m",
            "\u001b[0;31mValueError\u001b[0m                                Traceback (most recent call last)",
            "\u001b[0;32m<ipython-input-43-48004d3923a2>\u001b[0m in \u001b[0;36m<module>\u001b[0;34m\u001b[0m\n\u001b[0;32m----> 1\u001b[0;31m \u001b[0mtype\u001b[0m\u001b[0;34m(\u001b[0m\u001b[0mint\u001b[0m\u001b[0;34m(\u001b[0m\u001b[0;34m\"1 or 2\"\u001b[0m\u001b[0;34m)\u001b[0m\u001b[0;34m)\u001b[0m\u001b[0;34m\u001b[0m\u001b[0;34m\u001b[0m\u001b[0m\n\u001b[0m",
            "\u001b[0;31mValueError\u001b[0m: invalid literal for int() with base 10: '1 or 2'"
          ]
        }
      ]
    },
    {
      "cell_type": "markdown",
      "source": [
        "Numbers to string"
      ],
      "metadata": {
        "id": "xRw442DtP7IR"
      }
    },
    {
      "cell_type": "code",
      "source": [
        "str(1)"
      ],
      "metadata": {
        "id": "cyu3OC9tPtnD",
        "outputId": "1ea158e0-bc0e-421b-c954-ced533e802c2",
        "colab": {
          "base_uri": "https://localhost:8080/",
          "height": 36
        }
      },
      "execution_count": 44,
      "outputs": [
        {
          "output_type": "execute_result",
          "data": {
            "text/plain": [
              "'1'"
            ],
            "application/vnd.google.colaboratory.intrinsic+json": {
              "type": "string"
            }
          },
          "metadata": {},
          "execution_count": 44
        }
      ]
    },
    {
      "cell_type": "code",
      "source": [
        "str(1.0)"
      ],
      "metadata": {
        "id": "OiXsO-usP_jJ",
        "outputId": "31e42360-7fe9-41f0-b2f9-e5dd7653b1c7",
        "colab": {
          "base_uri": "https://localhost:8080/",
          "height": 36
        }
      },
      "execution_count": 45,
      "outputs": [
        {
          "output_type": "execute_result",
          "data": {
            "text/plain": [
              "'1.0'"
            ],
            "application/vnd.google.colaboratory.intrinsic+json": {
              "type": "string"
            }
          },
          "metadata": {},
          "execution_count": 45
        }
      ]
    },
    {
      "cell_type": "markdown",
      "source": [
        "Boolean Data Type"
      ],
      "metadata": {
        "id": "iXmaBEFeQFyR"
      }
    },
    {
      "cell_type": "code",
      "source": [
        "True"
      ],
      "metadata": {
        "id": "llMK06mGQAkk",
        "outputId": "2f016047-3404-464a-909d-c86ccad4d23f",
        "colab": {
          "base_uri": "https://localhost:8080/"
        }
      },
      "execution_count": 46,
      "outputs": [
        {
          "output_type": "execute_result",
          "data": {
            "text/plain": [
              "True"
            ]
          },
          "metadata": {},
          "execution_count": 46
        }
      ]
    },
    {
      "cell_type": "code",
      "source": [
        "False"
      ],
      "metadata": {
        "id": "AZjoi3yDQJxW",
        "outputId": "205ecd4f-f03a-404e-ad7a-dfba09e00ec8",
        "colab": {
          "base_uri": "https://localhost:8080/"
        }
      },
      "execution_count": 47,
      "outputs": [
        {
          "output_type": "execute_result",
          "data": {
            "text/plain": [
              "bool"
            ]
          },
          "metadata": {},
          "execution_count": 47
        }
      ]
    },
    {
      "cell_type": "code",
      "source": [
        "type(True)"
      ],
      "metadata": {
        "id": "n9f_6lQ_QOe5",
        "outputId": "d95bc10a-96a0-49f7-c476-3bd24800cc36",
        "colab": {
          "base_uri": "https://localhost:8080/"
        }
      },
      "execution_count": 48,
      "outputs": [
        {
          "output_type": "execute_result",
          "data": {
            "text/plain": [
              "bool"
            ]
          },
          "metadata": {},
          "execution_count": 48
        }
      ]
    },
    {
      "cell_type": "code",
      "source": [
        "type(False)"
      ],
      "metadata": {
        "id": "Du0pPq-FQRui",
        "outputId": "27b4c6aa-bd4b-4c6e-f5dd-8d315a384f49",
        "colab": {
          "base_uri": "https://localhost:8080/"
        }
      },
      "execution_count": 49,
      "outputs": [
        {
          "output_type": "execute_result",
          "data": {
            "text/plain": [
              "bool"
            ]
          },
          "metadata": {},
          "execution_count": 49
        }
      ]
    },
    {
      "cell_type": "code",
      "source": [
        "int(True)"
      ],
      "metadata": {
        "id": "NnF8Lr09QVQO",
        "outputId": "e5b92d47-59cb-4ddc-96c6-7ecf8c21d2ec",
        "colab": {
          "base_uri": "https://localhost:8080/"
        }
      },
      "execution_count": 52,
      "outputs": [
        {
          "output_type": "execute_result",
          "data": {
            "text/plain": [
              "1"
            ]
          },
          "metadata": {},
          "execution_count": 52
        }
      ]
    },
    {
      "cell_type": "code",
      "source": [
        "int(False)"
      ],
      "metadata": {
        "id": "-UWqF_6OQWQq",
        "outputId": "66610806-8b40-480f-fc6b-b94e85ba894f",
        "colab": {
          "base_uri": "https://localhost:8080/"
        }
      },
      "execution_count": 51,
      "outputs": [
        {
          "output_type": "execute_result",
          "data": {
            "text/plain": [
              "0"
            ]
          },
          "metadata": {},
          "execution_count": 51
        }
      ]
    },
    {
      "cell_type": "code",
      "source": [
        "bool(1)"
      ],
      "metadata": {
        "id": "bfM3EdNMQXR6",
        "outputId": "088cb0b3-8979-4d4d-da94-1ec03515da9e",
        "colab": {
          "base_uri": "https://localhost:8080/"
        }
      },
      "execution_count": 53,
      "outputs": [
        {
          "output_type": "execute_result",
          "data": {
            "text/plain": [
              "True"
            ]
          },
          "metadata": {},
          "execution_count": 53
        }
      ]
    },
    {
      "cell_type": "code",
      "source": [
        "bool (0)"
      ],
      "metadata": {
        "id": "KrKEF3onQcf4",
        "outputId": "3e72ab81-e137-4a7e-b05b-62e83fba30d0",
        "colab": {
          "base_uri": "https://localhost:8080/"
        }
      },
      "execution_count": 54,
      "outputs": [
        {
          "output_type": "execute_result",
          "data": {
            "text/plain": [
              "False"
            ]
          },
          "metadata": {},
          "execution_count": 54
        }
      ]
    },
    {
      "cell_type": "code",
      "source": [
        "float(True)"
      ],
      "metadata": {
        "id": "Qi5xMCW6QdYa",
        "outputId": "8d1feeb7-2b5f-4ab4-f574-9d431fe97416",
        "colab": {
          "base_uri": "https://localhost:8080/"
        }
      },
      "execution_count": 55,
      "outputs": [
        {
          "output_type": "execute_result",
          "data": {
            "text/plain": [
              "1.0"
            ]
          },
          "metadata": {},
          "execution_count": 55
        }
      ]
    },
    {
      "cell_type": "markdown",
      "source": [
        "Types"
      ],
      "metadata": {
        "id": "sS2Nzz22QhOT"
      }
    },
    {
      "cell_type": "code",
      "source": [
        "type(6/2)"
      ],
      "metadata": {
        "id": "pc5IPth8QeMq",
        "outputId": "e9754cbe-57b8-4a28-e0d1-f55f73480bc5",
        "colab": {
          "base_uri": "https://localhost:8080/"
        }
      },
      "execution_count": 58,
      "outputs": [
        {
          "output_type": "execute_result",
          "data": {
            "text/plain": [
              "float"
            ]
          },
          "metadata": {},
          "execution_count": 58
        }
      ]
    },
    {
      "cell_type": "code",
      "source": [
        "type(6//2)"
      ],
      "metadata": {
        "id": "qZntOBgLQlEZ",
        "outputId": "7782f1e3-430d-4859-fad8-3f693420cf2c",
        "colab": {
          "base_uri": "https://localhost:8080/"
        }
      },
      "execution_count": 59,
      "outputs": [
        {
          "output_type": "execute_result",
          "data": {
            "text/plain": [
              "int"
            ]
          },
          "metadata": {},
          "execution_count": 59
        }
      ]
    },
    {
      "cell_type": "markdown",
      "source": [
        "Expressions and variables"
      ],
      "metadata": {
        "id": "fWrwZdh2Qrqp"
      }
    },
    {
      "cell_type": "code",
      "source": [
        "#+\n",
        "50+20+40+4"
      ],
      "metadata": {
        "id": "RZKSMKTNQl9r",
        "outputId": "23960a47-9af5-440e-b5d0-a699b671f0ca",
        "colab": {
          "base_uri": "https://localhost:8080/"
        }
      },
      "execution_count": 61,
      "outputs": [
        {
          "output_type": "execute_result",
          "data": {
            "text/plain": [
              "114"
            ]
          },
          "metadata": {},
          "execution_count": 61
        }
      ]
    },
    {
      "cell_type": "code",
      "source": [
        "#-\n",
        "50-20"
      ],
      "metadata": {
        "id": "rm7FBUeiQ0Cp",
        "outputId": "08d05227-17c6-400d-f2f0-10022a5432d7",
        "colab": {
          "base_uri": "https://localhost:8080/"
        }
      },
      "execution_count": 62,
      "outputs": [
        {
          "output_type": "execute_result",
          "data": {
            "text/plain": [
              "30"
            ]
          },
          "metadata": {},
          "execution_count": 62
        }
      ]
    },
    {
      "cell_type": "code",
      "source": [
        "#*\n",
        "2*4"
      ],
      "metadata": {
        "id": "C1fNcWuBQ3yg",
        "outputId": "e4872ec4-9070-45d3-b988-4036925a09b4",
        "colab": {
          "base_uri": "https://localhost:8080/"
        }
      },
      "execution_count": 63,
      "outputs": [
        {
          "output_type": "execute_result",
          "data": {
            "text/plain": [
              "8"
            ]
          },
          "metadata": {},
          "execution_count": 63
        }
      ]
    },
    {
      "cell_type": "code",
      "source": [
        "# /\n",
        "25/5"
      ],
      "metadata": {
        "id": "Yta7PNijQ5KQ",
        "outputId": "718469bc-b33c-4d4d-a6ba-ac149233a7ee",
        "colab": {
          "base_uri": "https://localhost:8080/"
        }
      },
      "execution_count": 65,
      "outputs": [
        {
          "output_type": "execute_result",
          "data": {
            "text/plain": [
              "5.0"
            ]
          },
          "metadata": {},
          "execution_count": 65
        }
      ]
    },
    {
      "cell_type": "code",
      "source": [
        "# //\n",
        "25//4"
      ],
      "metadata": {
        "id": "DPZoUQNmQ9_X",
        "outputId": "5582b163-7e62-4c25-e79d-1cd7e8f9c8eb",
        "colab": {
          "base_uri": "https://localhost:8080/"
        }
      },
      "execution_count": 66,
      "outputs": [
        {
          "output_type": "execute_result",
          "data": {
            "text/plain": [
              "6"
            ]
          },
          "metadata": {},
          "execution_count": 66
        }
      ]
    },
    {
      "cell_type": "markdown",
      "source": [
        "Expression"
      ],
      "metadata": {
        "id": "Z-3kpKdoRF-y"
      }
    },
    {
      "cell_type": "code",
      "source": [
        "160//60"
      ],
      "metadata": {
        "id": "fKmi7MZ7RB32",
        "outputId": "1ca3680e-04f8-4956-ae85-6540d7ac071c",
        "colab": {
          "base_uri": "https://localhost:8080/"
        }
      },
      "execution_count": 67,
      "outputs": [
        {
          "output_type": "execute_result",
          "data": {
            "text/plain": [
              "2"
            ]
          },
          "metadata": {},
          "execution_count": 67
        }
      ]
    },
    {
      "cell_type": "code",
      "source": [
        "160/60"
      ],
      "metadata": {
        "id": "fGC85sPdRJ1g",
        "outputId": "7176a6f2-89ef-455e-f767-c7097dcba944",
        "colab": {
          "base_uri": "https://localhost:8080/"
        }
      },
      "execution_count": 68,
      "outputs": [
        {
          "output_type": "execute_result",
          "data": {
            "text/plain": [
              "2.6666666666666665"
            ]
          },
          "metadata": {},
          "execution_count": 68
        }
      ]
    },
    {
      "cell_type": "code",
      "source": [
        "# Mathematical expression\n",
        "\n",
        "10 + 3 * 20"
      ],
      "metadata": {
        "id": "HYwkU4-fRLwL",
        "outputId": "d4f73480-213b-45ab-ecaa-0aca9f3872ab",
        "colab": {
          "base_uri": "https://localhost:8080/"
        }
      },
      "execution_count": 69,
      "outputs": [
        {
          "output_type": "execute_result",
          "data": {
            "text/plain": [
              "70"
            ]
          },
          "metadata": {},
          "execution_count": 69
        }
      ]
    },
    {
      "cell_type": "code",
      "source": [
        "(20-2)*3"
      ],
      "metadata": {
        "id": "veAOCagRRQXb",
        "outputId": "eb1117cf-7369-4273-95e3-8ba172b3479c",
        "colab": {
          "base_uri": "https://localhost:8080/"
        }
      },
      "execution_count": 70,
      "outputs": [
        {
          "output_type": "execute_result",
          "data": {
            "text/plain": [
              "54"
            ]
          },
          "metadata": {},
          "execution_count": 70
        }
      ]
    },
    {
      "cell_type": "markdown",
      "source": [
        "Variables"
      ],
      "metadata": {
        "id": "25Kz-HWSRVVM"
      }
    },
    {
      "cell_type": "code",
      "source": [],
      "metadata": {
        "id": "5Oq4_p3aRTXw"
      },
      "execution_count": null,
      "outputs": []
    }
  ]
}