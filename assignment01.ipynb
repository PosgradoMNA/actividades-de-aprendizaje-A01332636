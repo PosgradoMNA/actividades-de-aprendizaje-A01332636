{
  "nbformat": 4,
  "nbformat_minor": 0,
  "metadata": {
    "colab": {
      "name": "assignment01.ipynb",
      "provenance": [],
      "toc_visible": true,
      "include_colab_link": true
    },
    "kernelspec": {
      "name": "python3",
      "display_name": "Python 3"
    },
    "language_info": {
      "name": "python"
    }
  },
  "cells": [
    {
      "cell_type": "markdown",
      "metadata": {
        "id": "view-in-github",
        "colab_type": "text"
      },
      "source": [
        "<a href=\"https://colab.research.google.com/github/PosgradoMNA/actividades-de-aprendizaje-A01332636/blob/main/assignment01.ipynb\" target=\"_parent\"><img src=\"https://colab.research.google.com/assets/colab-badge.svg\" alt=\"Open In Colab\"/></a>"
      ]
    },
    {
      "cell_type": "code",
      "execution_count": null,
      "metadata": {
        "id": "LzUSMM79NR9P",
        "outputId": "0e6cb421-1096-426a-b31a-f61d059def81",
        "colab": {
          "base_uri": "https://localhost:8080/"
        }
      },
      "outputs": [
        {
          "output_type": "stream",
          "name": "stdout",
          "text": [
            "assignment01 for GitJobish03 and edited in git, and 18\n"
          ]
        }
      ],
      "source": [
        "print('assignment01 for GitJobish03 and edited in git, and 18')"
      ]
    },
    {
      "cell_type": "markdown",
      "source": [
        "# Módulo 1"
      ],
      "metadata": {
        "id": "Zm9rdc-0g1S-"
      }
    },
    {
      "cell_type": "markdown",
      "source": [
        "##Say Hello"
      ],
      "metadata": {
        "id": "jXlQR_Lk8a3L"
      }
    },
    {
      "cell_type": "markdown",
      "source": [
        "Let's say hello to the world with a PRINT statement."
      ],
      "metadata": {
        "id": "0758udtS4kDo"
      }
    },
    {
      "cell_type": "code",
      "source": [
        "print(\"Hello World!\")"
      ],
      "metadata": {
        "id": "sCOp-1GPcovB",
        "colab": {
          "base_uri": "https://localhost:8080/"
        },
        "outputId": "eda17929-99e0-4b65-cabf-d27cc364abec"
      },
      "execution_count": 1,
      "outputs": [
        {
          "output_type": "stream",
          "name": "stdout",
          "text": [
            "Hello World!\n"
          ]
        }
      ]
    },
    {
      "cell_type": "markdown",
      "source": [
        "Let's print \"Hello\" and \"World\" on two separate lines. Hint: \\n in the middle of the string acts as a new line character."
      ],
      "metadata": {
        "id": "vwaXVLY04tck"
      }
    },
    {
      "cell_type": "code",
      "source": [
        "print(\"Hello\\nWorld\")"
      ],
      "metadata": {
        "colab": {
          "base_uri": "https://localhost:8080/"
        },
        "id": "d5x9KAhL4o95",
        "outputId": "75aa6d57-063a-4711-bf17-c199f1ef1912"
      },
      "execution_count": 3,
      "outputs": [
        {
          "output_type": "stream",
          "name": "stdout",
          "text": [
            "Hello\n",
            "World\n"
          ]
        }
      ]
    },
    {
      "cell_type": "markdown",
      "source": [
        "Let's create a comment"
      ],
      "metadata": {
        "id": "rrm-WYR843vw"
      }
    },
    {
      "cell_type": "code",
      "source": [
        "#Comment"
      ],
      "metadata": {
        "id": "YZLFMvXw4xz7"
      },
      "execution_count": 4,
      "outputs": []
    },
    {
      "cell_type": "markdown",
      "source": [
        "## Types"
      ],
      "metadata": {
        "id": "Zk2mPD1s6jfo"
      }
    },
    {
      "cell_type": "code",
      "source": [
        "type(\"Hello World\")"
      ],
      "metadata": {
        "colab": {
          "base_uri": "https://localhost:8080/"
        },
        "id": "fM1bk0ph47TH",
        "outputId": "73a37e91-17ab-4380-967c-387ac8f35abb"
      },
      "execution_count": 5,
      "outputs": [
        {
          "output_type": "execute_result",
          "data": {
            "text/plain": [
              "str"
            ]
          },
          "metadata": {},
          "execution_count": 5
        }
      ]
    },
    {
      "cell_type": "markdown",
      "source": [
        "Type of a number with \"\""
      ],
      "metadata": {
        "id": "Y1iuafu_6vmi"
      }
    },
    {
      "cell_type": "code",
      "source": [
        "type(\"1.1\")"
      ],
      "metadata": {
        "colab": {
          "base_uri": "https://localhost:8080/"
        },
        "id": "oo26e3I16uHn",
        "outputId": "209c1956-f2ed-47ac-a12a-39318be57cc7"
      },
      "execution_count": 6,
      "outputs": [
        {
          "output_type": "execute_result",
          "data": {
            "text/plain": [
              "str"
            ]
          },
          "metadata": {},
          "execution_count": 6
        }
      ]
    },
    {
      "cell_type": "markdown",
      "source": [
        "## Is a Number Always a Number? \n",
        "Cast the following to an int and then to a bool"
      ],
      "metadata": {
        "id": "8Hsgk1rR6upy"
      }
    },
    {
      "cell_type": "code",
      "source": [
        "print(int(1))\n",
        "print(bool(1))"
      ],
      "metadata": {
        "colab": {
          "base_uri": "https://localhost:8080/"
        },
        "id": "jQDdg4bO68mG",
        "outputId": "06081bad-ce26-4eaa-98dc-57b930b079c7"
      },
      "execution_count": 7,
      "outputs": [
        {
          "output_type": "stream",
          "name": "stdout",
          "text": [
            "1\n",
            "True\n"
          ]
        }
      ]
    },
    {
      "cell_type": "code",
      "source": [
        "type(int(1.0))"
      ],
      "metadata": {
        "colab": {
          "base_uri": "https://localhost:8080/"
        },
        "id": "MIh4zsa-7D1_",
        "outputId": "7e02c11d-af48-4fa6-daaa-55b127a8056b"
      },
      "execution_count": 8,
      "outputs": [
        {
          "output_type": "execute_result",
          "data": {
            "text/plain": [
              "int"
            ]
          },
          "metadata": {},
          "execution_count": 8
        }
      ]
    },
    {
      "cell_type": "markdown",
      "source": [
        "What version of Python are we using?"
      ],
      "metadata": {
        "id": "GUVAjNt2-8Na"
      }
    },
    {
      "cell_type": "code",
      "source": [
        "import sys\n",
        "print (sys.version)"
      ],
      "metadata": {
        "colab": {
          "base_uri": "https://localhost:8080/"
        },
        "id": "vTT8r2u57O2R",
        "outputId": "c4097361-a68f-4d18-e7ac-503c52dfd699"
      },
      "execution_count": 9,
      "outputs": [
        {
          "output_type": "stream",
          "name": "stdout",
          "text": [
            "3.7.14 (default, Sep  8 2022, 00:06:44) \n",
            "[GCC 7.5.0]\n"
          ]
        }
      ]
    },
    {
      "cell_type": "markdown",
      "source": [
        "Writing comments in python"
      ],
      "metadata": {
        "id": "7iwVX0WfBHDK"
      }
    },
    {
      "cell_type": "code",
      "source": [
        "# Practice on writing comments\n",
        "\n",
        "print('Hello, Python!') # This line prints a string\n",
        "# print('Hi')"
      ],
      "metadata": {
        "colab": {
          "base_uri": "https://localhost:8080/"
        },
        "id": "8GgsOCOb_HSW",
        "outputId": "c48155f1-7ed7-4f87-e57b-4153c5f624be"
      },
      "execution_count": 10,
      "outputs": [
        {
          "output_type": "stream",
          "name": "stdout",
          "text": [
            "Hello, Python!\n"
          ]
        }
      ]
    },
    {
      "cell_type": "markdown",
      "source": [
        "## Errors in python"
      ],
      "metadata": {
        "id": "yVm2jEg1BLPe"
      }
    },
    {
      "cell_type": "markdown",
      "source": [
        "print as frint"
      ],
      "metadata": {
        "id": "bzr-2_hYBUSK"
      }
    },
    {
      "cell_type": "code",
      "source": [
        "# Print string as error message\n",
        "frint(\"Hello, Python!\")"
      ],
      "metadata": {
        "colab": {
          "base_uri": "https://localhost:8080/",
          "height": 183
        },
        "id": "YTxn_UcABI_B",
        "outputId": "bb37e403-46f9-41c8-d5a6-5a2d4ec4f300"
      },
      "execution_count": 11,
      "outputs": [
        {
          "output_type": "error",
          "ename": "NameError",
          "evalue": "ignored",
          "traceback": [
            "\u001b[0;31m---------------------------------------------------------------------------\u001b[0m",
            "\u001b[0;31mNameError\u001b[0m                                 Traceback (most recent call last)",
            "\u001b[0;32m<ipython-input-11-1e06465536be>\u001b[0m in \u001b[0;36m<module>\u001b[0;34m\u001b[0m\n\u001b[1;32m      1\u001b[0m \u001b[0;31m# Print string as error message\u001b[0m\u001b[0;34m\u001b[0m\u001b[0;34m\u001b[0m\u001b[0;34m\u001b[0m\u001b[0m\n\u001b[0;32m----> 2\u001b[0;31m \u001b[0mfrint\u001b[0m\u001b[0;34m(\u001b[0m\u001b[0;34m\"Hello, Python!\"\u001b[0m\u001b[0;34m)\u001b[0m\u001b[0;34m\u001b[0m\u001b[0;34m\u001b[0m\u001b[0m\n\u001b[0m",
            "\u001b[0;31mNameError\u001b[0m: name 'frint' is not defined"
          ]
        }
      ]
    },
    {
      "cell_type": "markdown",
      "source": [
        "The error message tells you:\n",
        "\n",
        "where the error occurred (more useful in large notebook cells or scripts), and\n",
        "what kind of error it was (NameError)\n",
        "Here, Python attempted to run the function frint, but could not determine what frint is since it's not a built-in function and it has not been previously defined by us either.\n",
        "You'll notice that if we make a different type of mistake, by forgetting to close the string, we'll obtain a different error (i.e., a SyntaxError). Try it below:"
      ],
      "metadata": {
        "id": "BbQkdvq-Bgc-"
      }
    },
    {
      "cell_type": "code",
      "source": [
        "# Try to see built-in error message\n",
        "print(\"Hello, Python!)"
      ],
      "metadata": {
        "colab": {
          "base_uri": "https://localhost:8080/",
          "height": 130
        },
        "id": "Kp-S9p7qBjOT",
        "outputId": "b5069127-97bc-4e8c-fea4-1275971cfa3f"
      },
      "execution_count": 12,
      "outputs": [
        {
          "output_type": "error",
          "ename": "SyntaxError",
          "evalue": "ignored",
          "traceback": [
            "\u001b[0;36m  File \u001b[0;32m\"<ipython-input-12-52d11b2bf794>\"\u001b[0;36m, line \u001b[0;32m2\u001b[0m\n\u001b[0;31m    print(\"Hello, Python!)\u001b[0m\n\u001b[0m                          ^\u001b[0m\n\u001b[0;31mSyntaxError\u001b[0m\u001b[0;31m:\u001b[0m EOL while scanning string literal\n"
          ]
        }
      ]
    },
    {
      "cell_type": "markdown",
      "source": [
        "##Does Python know about your error before it runs your code?\n",
        "Python is what is called an interpreted language. Compiled languages examine your entire program at compile time, and are able to warn you about a whole class of errors prior to execution. In contrast, Python interprets your script line by line as it executes it. Python will stop executing the entire program when it encounters an error (unless the error is expected and handled by the programmer, a more advanced subject that we'll cover later on in this course).\n",
        "\n",
        "Try to run the code in the cell below and see what happens:"
      ],
      "metadata": {
        "id": "pva6-aEJCFeV"
      }
    },
    {
      "cell_type": "code",
      "source": [
        "print(\"This will be printed\")\n",
        "frint(\"This will cause an error\")\n",
        "print(\"This will NOT be printed\")"
      ],
      "metadata": {
        "colab": {
          "base_uri": "https://localhost:8080/",
          "height": 217
        },
        "id": "tF3DLLwpBs4R",
        "outputId": "82d00fe8-8ce9-4d10-eef9-6a8ece60fb9c"
      },
      "execution_count": 13,
      "outputs": [
        {
          "output_type": "stream",
          "name": "stdout",
          "text": [
            "This will be printed\n"
          ]
        },
        {
          "output_type": "error",
          "ename": "NameError",
          "evalue": "ignored",
          "traceback": [
            "\u001b[0;31m---------------------------------------------------------------------------\u001b[0m",
            "\u001b[0;31mNameError\u001b[0m                                 Traceback (most recent call last)",
            "\u001b[0;32m<ipython-input-13-aa3f0d14d353>\u001b[0m in \u001b[0;36m<module>\u001b[0;34m\u001b[0m\n\u001b[1;32m      1\u001b[0m \u001b[0mprint\u001b[0m\u001b[0;34m(\u001b[0m\u001b[0;34m\"This will be printed\"\u001b[0m\u001b[0;34m)\u001b[0m\u001b[0;34m\u001b[0m\u001b[0;34m\u001b[0m\u001b[0m\n\u001b[0;32m----> 2\u001b[0;31m \u001b[0mfrint\u001b[0m\u001b[0;34m(\u001b[0m\u001b[0;34m\"This will cause an error\"\u001b[0m\u001b[0;34m)\u001b[0m\u001b[0;34m\u001b[0m\u001b[0;34m\u001b[0m\u001b[0m\n\u001b[0m\u001b[1;32m      3\u001b[0m \u001b[0mprint\u001b[0m\u001b[0;34m(\u001b[0m\u001b[0;34m\"This will NOT be printed\"\u001b[0m\u001b[0;34m)\u001b[0m\u001b[0;34m\u001b[0m\u001b[0;34m\u001b[0m\u001b[0m\n",
            "\u001b[0;31mNameError\u001b[0m: name 'frint' is not defined"
          ]
        }
      ]
    },
    {
      "cell_type": "markdown",
      "source": [
        "Exercise"
      ],
      "metadata": {
        "id": "UNDAw2y6Fy9Q"
      }
    },
    {
      "cell_type": "code",
      "source": [
        "print(\"Hello world!\")"
      ],
      "metadata": {
        "colab": {
          "base_uri": "https://localhost:8080/"
        },
        "id": "VGVrjOafGC52",
        "outputId": "c9209ab7-2c4d-4e8a-d4b1-f0b8c3da74ac"
      },
      "execution_count": 15,
      "outputs": [
        {
          "output_type": "stream",
          "name": "stdout",
          "text": [
            "Hello world!\n"
          ]
        }
      ]
    },
    {
      "cell_type": "code",
      "source": [
        "print (\"Hello world!\") #Print the traditional hello world"
      ],
      "metadata": {
        "colab": {
          "base_uri": "https://localhost:8080/"
        },
        "id": "u1PDfb64GL9Q",
        "outputId": "d0a4d4e0-1b33-4b52-c7f8-aee48e89e40f"
      },
      "execution_count": 14,
      "outputs": [
        {
          "output_type": "stream",
          "name": "stdout",
          "text": [
            "Hello world!\n"
          ]
        }
      ]
    },
    {
      "cell_type": "markdown",
      "source": [
        "##Types of objects in python"
      ],
      "metadata": {
        "id": "tzVowNWqGUHH"
      }
    },
    {
      "cell_type": "code",
      "source": [
        "print(1, \"= int\") #int\n",
        "type(1) "
      ],
      "metadata": {
        "colab": {
          "base_uri": "https://localhost:8080/"
        },
        "id": "Z4vPDhyOGQ7g",
        "outputId": "285371d7-dcfb-476e-c549-8854159202be"
      },
      "execution_count": 26,
      "outputs": [
        {
          "output_type": "stream",
          "name": "stdout",
          "text": [
            "1 = int\n"
          ]
        },
        {
          "output_type": "execute_result",
          "data": {
            "text/plain": [
              "int"
            ]
          },
          "metadata": {},
          "execution_count": 26
        }
      ]
    },
    {
      "cell_type": "code",
      "source": [
        "print(2.0,\"= float\")\n",
        "type(2.0) #float"
      ],
      "metadata": {
        "colab": {
          "base_uri": "https://localhost:8080/"
        },
        "id": "j5fYoyecJhQ_",
        "outputId": "cf5d3d0a-7f78-4b6a-e531-a574f7e7c3cb"
      },
      "execution_count": 28,
      "outputs": [
        {
          "output_type": "stream",
          "name": "stdout",
          "text": [
            "2.0 = float\n"
          ]
        },
        {
          "output_type": "execute_result",
          "data": {
            "text/plain": [
              "float"
            ]
          },
          "metadata": {},
          "execution_count": 28
        }
      ]
    },
    {
      "cell_type": "code",
      "source": [
        "print(\"Abigail = String\")\n",
        "type(\"Abigail\") #string"
      ],
      "metadata": {
        "colab": {
          "base_uri": "https://localhost:8080/"
        },
        "id": "k8PSJOPrJjRD",
        "outputId": "7ff81b85-3fba-44f5-de17-b7741d66559e"
      },
      "execution_count": 30,
      "outputs": [
        {
          "output_type": "stream",
          "name": "stdout",
          "text": [
            "Abigail = String\n"
          ]
        },
        {
          "output_type": "execute_result",
          "data": {
            "text/plain": [
              "str"
            ]
          },
          "metadata": {},
          "execution_count": 30
        }
      ]
    },
    {
      "cell_type": "markdown",
      "source": [
        "##Integers"
      ],
      "metadata": {
        "id": "o7sTSZhtLsNo"
      }
    },
    {
      "cell_type": "code",
      "source": [
        "type(-1)"
      ],
      "metadata": {
        "colab": {
          "base_uri": "https://localhost:8080/"
        },
        "id": "ijHdGw8xJlXQ",
        "outputId": "fc41ea44-9bfb-4e4f-a621-b5ed76e68a42"
      },
      "execution_count": 31,
      "outputs": [
        {
          "output_type": "execute_result",
          "data": {
            "text/plain": [
              "int"
            ]
          },
          "metadata": {},
          "execution_count": 31
        }
      ]
    },
    {
      "cell_type": "code",
      "source": [
        "type(4)"
      ],
      "metadata": {
        "colab": {
          "base_uri": "https://localhost:8080/"
        },
        "id": "sa0vxXG0L0KZ",
        "outputId": "f591d625-9365-4c85-d82a-0a3e59a5e0e1"
      },
      "execution_count": 32,
      "outputs": [
        {
          "output_type": "execute_result",
          "data": {
            "text/plain": [
              "int"
            ]
          },
          "metadata": {},
          "execution_count": 32
        }
      ]
    },
    {
      "cell_type": "code",
      "source": [
        "type(0)"
      ],
      "metadata": {
        "colab": {
          "base_uri": "https://localhost:8080/"
        },
        "id": "zHl1anAJL03E",
        "outputId": "50dc98fe-d9e5-4bde-c398-5939d76569bc"
      },
      "execution_count": 33,
      "outputs": [
        {
          "output_type": "execute_result",
          "data": {
            "text/plain": [
              "int"
            ]
          },
          "metadata": {},
          "execution_count": 33
        }
      ]
    },
    {
      "cell_type": "markdown",
      "source": [
        "##Float"
      ],
      "metadata": {
        "id": "XI5MjoqIL89x"
      }
    },
    {
      "cell_type": "code",
      "source": [
        "type(1.0)"
      ],
      "metadata": {
        "colab": {
          "base_uri": "https://localhost:8080/"
        },
        "id": "GikcDQvML1b8",
        "outputId": "3e482346-b96e-4273-c515-8fd16c344696"
      },
      "execution_count": 34,
      "outputs": [
        {
          "output_type": "execute_result",
          "data": {
            "text/plain": [
              "float"
            ]
          },
          "metadata": {},
          "execution_count": 34
        }
      ]
    },
    {
      "cell_type": "code",
      "source": [
        "type(0.56)"
      ],
      "metadata": {
        "colab": {
          "base_uri": "https://localhost:8080/"
        },
        "id": "hIL0L5mGL-5I",
        "outputId": "e31fd873-9718-4172-f3fd-8b7255e94bb4"
      },
      "execution_count": 35,
      "outputs": [
        {
          "output_type": "execute_result",
          "data": {
            "text/plain": [
              "float"
            ]
          },
          "metadata": {},
          "execution_count": 35
        }
      ]
    },
    {
      "cell_type": "code",
      "source": [
        "type(-.587)"
      ],
      "metadata": {
        "colab": {
          "base_uri": "https://localhost:8080/"
        },
        "id": "DU_oqn_QL_0z",
        "outputId": "36ce88d2-be3f-4f27-d7ad-9b4545d452b2"
      },
      "execution_count": 36,
      "outputs": [
        {
          "output_type": "execute_result",
          "data": {
            "text/plain": [
              "float"
            ]
          },
          "metadata": {},
          "execution_count": 36
        }
      ]
    },
    {
      "cell_type": "code",
      "source": [
        "# System settings about float type\n",
        "\n",
        "sys.float_info"
      ],
      "metadata": {
        "colab": {
          "base_uri": "https://localhost:8080/"
        },
        "id": "jA-q5C1kMB7J",
        "outputId": "1c097c20-c3b4-45d5-921f-91f465f50cfb"
      },
      "execution_count": 37,
      "outputs": [
        {
          "output_type": "execute_result",
          "data": {
            "text/plain": [
              "sys.float_info(max=1.7976931348623157e+308, max_exp=1024, max_10_exp=308, min=2.2250738585072014e-308, min_exp=-1021, min_10_exp=-307, dig=15, mant_dig=53, epsilon=2.220446049250313e-16, radix=2, rounds=1)"
            ]
          },
          "metadata": {},
          "execution_count": 37
        }
      ]
    },
    {
      "cell_type": "markdown",
      "source": [
        "##Converting from one object type to a different object type"
      ],
      "metadata": {
        "id": "A9ctH9Y7MG8A"
      }
    },
    {
      "cell_type": "markdown",
      "source": [
        "You can change the type of the object in Python; this is called typecasting. For example, you can convert an integer into a float (e.g. 2 to 2.0).\n",
        "\n",
        "Let's try it:"
      ],
      "metadata": {
        "id": "RULnCSqKM1yX"
      }
    },
    {
      "cell_type": "code",
      "source": [
        "float(3)"
      ],
      "metadata": {
        "colab": {
          "base_uri": "https://localhost:8080/"
        },
        "id": "K5W70_2lMC3Z",
        "outputId": "d6d1ff53-a756-4ff7-9784-8b2ed8fb1311"
      },
      "execution_count": 38,
      "outputs": [
        {
          "output_type": "execute_result",
          "data": {
            "text/plain": [
              "3.0"
            ]
          },
          "metadata": {},
          "execution_count": 38
        }
      ]
    },
    {
      "cell_type": "code",
      "source": [
        "int(1.1) #Al cambiar un float a entero se perderá información"
      ],
      "metadata": {
        "colab": {
          "base_uri": "https://localhost:8080/"
        },
        "id": "-e6AHFU9NVD_",
        "outputId": "ae9029ab-9c42-4ae5-cbf7-5cc5ab95a5b0"
      },
      "execution_count": 39,
      "outputs": [
        {
          "output_type": "execute_result",
          "data": {
            "text/plain": [
              "1"
            ]
          },
          "metadata": {},
          "execution_count": 39
        }
      ]
    },
    {
      "cell_type": "markdown",
      "source": [
        "String to in or float"
      ],
      "metadata": {
        "id": "3lmhGophPDKT"
      }
    },
    {
      "cell_type": "code",
      "source": [
        "type(int(\"1\"))"
      ],
      "metadata": {
        "colab": {
          "base_uri": "https://localhost:8080/"
        },
        "id": "hQ-qIG3POKWP",
        "outputId": "6ce1ffbc-fa9b-48b1-eb16-4b0a61e807de"
      },
      "execution_count": 41,
      "outputs": [
        {
          "output_type": "execute_result",
          "data": {
            "text/plain": [
              "int"
            ]
          },
          "metadata": {},
          "execution_count": 41
        }
      ]
    },
    {
      "cell_type": "code",
      "source": [
        "type(float(1.0))"
      ],
      "metadata": {
        "colab": {
          "base_uri": "https://localhost:8080/"
        },
        "id": "I3ta-JWfPGJJ",
        "outputId": "1a07065e-b884-416a-c399-c0bda74f7b41"
      },
      "execution_count": 42,
      "outputs": [
        {
          "output_type": "execute_result",
          "data": {
            "text/plain": [
              "float"
            ]
          },
          "metadata": {},
          "execution_count": 42
        }
      ]
    },
    {
      "cell_type": "code",
      "source": [
        "type(int(\"1 or 2\"))"
      ],
      "metadata": {
        "colab": {
          "base_uri": "https://localhost:8080/",
          "height": 165
        },
        "id": "_FAnUDS4PpBf",
        "outputId": "9bd2756a-eec3-4311-ec3f-62d76dfc9aae"
      },
      "execution_count": 43,
      "outputs": [
        {
          "output_type": "error",
          "ename": "ValueError",
          "evalue": "ignored",
          "traceback": [
            "\u001b[0;31m---------------------------------------------------------------------------\u001b[0m",
            "\u001b[0;31mValueError\u001b[0m                                Traceback (most recent call last)",
            "\u001b[0;32m<ipython-input-43-48004d3923a2>\u001b[0m in \u001b[0;36m<module>\u001b[0;34m\u001b[0m\n\u001b[0;32m----> 1\u001b[0;31m \u001b[0mtype\u001b[0m\u001b[0;34m(\u001b[0m\u001b[0mint\u001b[0m\u001b[0;34m(\u001b[0m\u001b[0;34m\"1 or 2\"\u001b[0m\u001b[0;34m)\u001b[0m\u001b[0;34m)\u001b[0m\u001b[0;34m\u001b[0m\u001b[0;34m\u001b[0m\u001b[0m\n\u001b[0m",
            "\u001b[0;31mValueError\u001b[0m: invalid literal for int() with base 10: '1 or 2'"
          ]
        }
      ]
    },
    {
      "cell_type": "markdown",
      "source": [
        "Numbers to string"
      ],
      "metadata": {
        "id": "xRw442DtP7IR"
      }
    },
    {
      "cell_type": "code",
      "source": [
        "str(1)"
      ],
      "metadata": {
        "colab": {
          "base_uri": "https://localhost:8080/",
          "height": 35
        },
        "id": "cyu3OC9tPtnD",
        "outputId": "1ea158e0-bc0e-421b-c954-ced533e802c2"
      },
      "execution_count": 44,
      "outputs": [
        {
          "output_type": "execute_result",
          "data": {
            "text/plain": [
              "'1'"
            ],
            "application/vnd.google.colaboratory.intrinsic+json": {
              "type": "string"
            }
          },
          "metadata": {},
          "execution_count": 44
        }
      ]
    },
    {
      "cell_type": "code",
      "source": [
        "str(1.0)"
      ],
      "metadata": {
        "colab": {
          "base_uri": "https://localhost:8080/",
          "height": 35
        },
        "id": "OiXsO-usP_jJ",
        "outputId": "31e42360-7fe9-41f0-b2f9-e5dd7653b1c7"
      },
      "execution_count": 45,
      "outputs": [
        {
          "output_type": "execute_result",
          "data": {
            "text/plain": [
              "'1.0'"
            ],
            "application/vnd.google.colaboratory.intrinsic+json": {
              "type": "string"
            }
          },
          "metadata": {},
          "execution_count": 45
        }
      ]
    },
    {
      "cell_type": "markdown",
      "source": [
        "##Boolean Data Type"
      ],
      "metadata": {
        "id": "iXmaBEFeQFyR"
      }
    },
    {
      "cell_type": "code",
      "source": [
        "True"
      ],
      "metadata": {
        "colab": {
          "base_uri": "https://localhost:8080/"
        },
        "id": "llMK06mGQAkk",
        "outputId": "2f016047-3404-464a-909d-c86ccad4d23f"
      },
      "execution_count": 46,
      "outputs": [
        {
          "output_type": "execute_result",
          "data": {
            "text/plain": [
              "True"
            ]
          },
          "metadata": {},
          "execution_count": 46
        }
      ]
    },
    {
      "cell_type": "code",
      "source": [
        "False"
      ],
      "metadata": {
        "colab": {
          "base_uri": "https://localhost:8080/"
        },
        "id": "AZjoi3yDQJxW",
        "outputId": "205ecd4f-f03a-404e-ad7a-dfba09e00ec8"
      },
      "execution_count": 47,
      "outputs": [
        {
          "output_type": "execute_result",
          "data": {
            "text/plain": [
              "bool"
            ]
          },
          "metadata": {},
          "execution_count": 47
        }
      ]
    },
    {
      "cell_type": "code",
      "source": [
        "type(True)"
      ],
      "metadata": {
        "colab": {
          "base_uri": "https://localhost:8080/"
        },
        "id": "n9f_6lQ_QOe5",
        "outputId": "d95bc10a-96a0-49f7-c476-3bd24800cc36"
      },
      "execution_count": 48,
      "outputs": [
        {
          "output_type": "execute_result",
          "data": {
            "text/plain": [
              "bool"
            ]
          },
          "metadata": {},
          "execution_count": 48
        }
      ]
    },
    {
      "cell_type": "code",
      "source": [
        "type(False)"
      ],
      "metadata": {
        "colab": {
          "base_uri": "https://localhost:8080/"
        },
        "id": "Du0pPq-FQRui",
        "outputId": "27b4c6aa-bd4b-4c6e-f5dd-8d315a384f49"
      },
      "execution_count": 49,
      "outputs": [
        {
          "output_type": "execute_result",
          "data": {
            "text/plain": [
              "bool"
            ]
          },
          "metadata": {},
          "execution_count": 49
        }
      ]
    },
    {
      "cell_type": "code",
      "source": [
        "int(True)"
      ],
      "metadata": {
        "colab": {
          "base_uri": "https://localhost:8080/"
        },
        "id": "NnF8Lr09QVQO",
        "outputId": "e5b92d47-59cb-4ddc-96c6-7ecf8c21d2ec"
      },
      "execution_count": 52,
      "outputs": [
        {
          "output_type": "execute_result",
          "data": {
            "text/plain": [
              "1"
            ]
          },
          "metadata": {},
          "execution_count": 52
        }
      ]
    },
    {
      "cell_type": "code",
      "source": [
        "int(False)"
      ],
      "metadata": {
        "colab": {
          "base_uri": "https://localhost:8080/"
        },
        "id": "-UWqF_6OQWQq",
        "outputId": "66610806-8b40-480f-fc6b-b94e85ba894f"
      },
      "execution_count": 51,
      "outputs": [
        {
          "output_type": "execute_result",
          "data": {
            "text/plain": [
              "0"
            ]
          },
          "metadata": {},
          "execution_count": 51
        }
      ]
    },
    {
      "cell_type": "code",
      "source": [
        "bool(1)"
      ],
      "metadata": {
        "colab": {
          "base_uri": "https://localhost:8080/"
        },
        "id": "bfM3EdNMQXR6",
        "outputId": "088cb0b3-8979-4d4d-da94-1ec03515da9e"
      },
      "execution_count": 53,
      "outputs": [
        {
          "output_type": "execute_result",
          "data": {
            "text/plain": [
              "True"
            ]
          },
          "metadata": {},
          "execution_count": 53
        }
      ]
    },
    {
      "cell_type": "code",
      "source": [
        "bool (0)"
      ],
      "metadata": {
        "colab": {
          "base_uri": "https://localhost:8080/"
        },
        "id": "KrKEF3onQcf4",
        "outputId": "3e72ab81-e137-4a7e-b05b-62e83fba30d0"
      },
      "execution_count": 54,
      "outputs": [
        {
          "output_type": "execute_result",
          "data": {
            "text/plain": [
              "False"
            ]
          },
          "metadata": {},
          "execution_count": 54
        }
      ]
    },
    {
      "cell_type": "code",
      "source": [
        "float(True)"
      ],
      "metadata": {
        "colab": {
          "base_uri": "https://localhost:8080/"
        },
        "id": "Qi5xMCW6QdYa",
        "outputId": "8d1feeb7-2b5f-4ab4-f574-9d431fe97416"
      },
      "execution_count": 55,
      "outputs": [
        {
          "output_type": "execute_result",
          "data": {
            "text/plain": [
              "1.0"
            ]
          },
          "metadata": {},
          "execution_count": 55
        }
      ]
    },
    {
      "cell_type": "markdown",
      "source": [
        "##Types"
      ],
      "metadata": {
        "id": "sS2Nzz22QhOT"
      }
    },
    {
      "cell_type": "code",
      "source": [
        "type(6/2)"
      ],
      "metadata": {
        "colab": {
          "base_uri": "https://localhost:8080/"
        },
        "id": "pc5IPth8QeMq",
        "outputId": "e9754cbe-57b8-4a28-e0d1-f55f73480bc5"
      },
      "execution_count": 58,
      "outputs": [
        {
          "output_type": "execute_result",
          "data": {
            "text/plain": [
              "float"
            ]
          },
          "metadata": {},
          "execution_count": 58
        }
      ]
    },
    {
      "cell_type": "code",
      "source": [
        "type(6//2)"
      ],
      "metadata": {
        "colab": {
          "base_uri": "https://localhost:8080/"
        },
        "id": "qZntOBgLQlEZ",
        "outputId": "7782f1e3-430d-4859-fad8-3f693420cf2c"
      },
      "execution_count": 59,
      "outputs": [
        {
          "output_type": "execute_result",
          "data": {
            "text/plain": [
              "int"
            ]
          },
          "metadata": {},
          "execution_count": 59
        }
      ]
    },
    {
      "cell_type": "markdown",
      "source": [
        "##Expressions and variables"
      ],
      "metadata": {
        "id": "fWrwZdh2Qrqp"
      }
    },
    {
      "cell_type": "code",
      "source": [
        "#+\n",
        "50+20+40+4"
      ],
      "metadata": {
        "colab": {
          "base_uri": "https://localhost:8080/"
        },
        "id": "RZKSMKTNQl9r",
        "outputId": "23960a47-9af5-440e-b5d0-a699b671f0ca"
      },
      "execution_count": 61,
      "outputs": [
        {
          "output_type": "execute_result",
          "data": {
            "text/plain": [
              "114"
            ]
          },
          "metadata": {},
          "execution_count": 61
        }
      ]
    },
    {
      "cell_type": "code",
      "source": [
        "#-\n",
        "50-20"
      ],
      "metadata": {
        "colab": {
          "base_uri": "https://localhost:8080/"
        },
        "id": "rm7FBUeiQ0Cp",
        "outputId": "08d05227-17c6-400d-f2f0-10022a5432d7"
      },
      "execution_count": 62,
      "outputs": [
        {
          "output_type": "execute_result",
          "data": {
            "text/plain": [
              "30"
            ]
          },
          "metadata": {},
          "execution_count": 62
        }
      ]
    },
    {
      "cell_type": "code",
      "source": [
        "#*\n",
        "2*4"
      ],
      "metadata": {
        "colab": {
          "base_uri": "https://localhost:8080/"
        },
        "id": "C1fNcWuBQ3yg",
        "outputId": "e4872ec4-9070-45d3-b988-4036925a09b4"
      },
      "execution_count": 63,
      "outputs": [
        {
          "output_type": "execute_result",
          "data": {
            "text/plain": [
              "8"
            ]
          },
          "metadata": {},
          "execution_count": 63
        }
      ]
    },
    {
      "cell_type": "code",
      "source": [
        "# /\n",
        "25/5"
      ],
      "metadata": {
        "colab": {
          "base_uri": "https://localhost:8080/"
        },
        "id": "Yta7PNijQ5KQ",
        "outputId": "718469bc-b33c-4d4d-a6ba-ac149233a7ee"
      },
      "execution_count": 65,
      "outputs": [
        {
          "output_type": "execute_result",
          "data": {
            "text/plain": [
              "5.0"
            ]
          },
          "metadata": {},
          "execution_count": 65
        }
      ]
    },
    {
      "cell_type": "code",
      "source": [
        "# //\n",
        "25//4"
      ],
      "metadata": {
        "colab": {
          "base_uri": "https://localhost:8080/"
        },
        "id": "DPZoUQNmQ9_X",
        "outputId": "5582b163-7e62-4c25-e79d-1cd7e8f9c8eb"
      },
      "execution_count": 66,
      "outputs": [
        {
          "output_type": "execute_result",
          "data": {
            "text/plain": [
              "6"
            ]
          },
          "metadata": {},
          "execution_count": 66
        }
      ]
    },
    {
      "cell_type": "markdown",
      "source": [
        "##Expression"
      ],
      "metadata": {
        "id": "Z-3kpKdoRF-y"
      }
    },
    {
      "cell_type": "code",
      "source": [
        "160//60"
      ],
      "metadata": {
        "colab": {
          "base_uri": "https://localhost:8080/"
        },
        "id": "fKmi7MZ7RB32",
        "outputId": "1ca3680e-04f8-4956-ae85-6540d7ac071c"
      },
      "execution_count": 67,
      "outputs": [
        {
          "output_type": "execute_result",
          "data": {
            "text/plain": [
              "2"
            ]
          },
          "metadata": {},
          "execution_count": 67
        }
      ]
    },
    {
      "cell_type": "code",
      "source": [
        "160/60"
      ],
      "metadata": {
        "colab": {
          "base_uri": "https://localhost:8080/"
        },
        "id": "fGC85sPdRJ1g",
        "outputId": "7176a6f2-89ef-455e-f767-c7097dcba944"
      },
      "execution_count": 68,
      "outputs": [
        {
          "output_type": "execute_result",
          "data": {
            "text/plain": [
              "2.6666666666666665"
            ]
          },
          "metadata": {},
          "execution_count": 68
        }
      ]
    },
    {
      "cell_type": "code",
      "source": [
        "# Mathematical expression\n",
        "\n",
        "10 + 3 * 20"
      ],
      "metadata": {
        "colab": {
          "base_uri": "https://localhost:8080/"
        },
        "id": "HYwkU4-fRLwL",
        "outputId": "d4f73480-213b-45ab-ecaa-0aca9f3872ab"
      },
      "execution_count": 69,
      "outputs": [
        {
          "output_type": "execute_result",
          "data": {
            "text/plain": [
              "70"
            ]
          },
          "metadata": {},
          "execution_count": 69
        }
      ]
    },
    {
      "cell_type": "code",
      "source": [
        "(20-2)*3"
      ],
      "metadata": {
        "colab": {
          "base_uri": "https://localhost:8080/"
        },
        "id": "veAOCagRRQXb",
        "outputId": "eb1117cf-7369-4273-95e3-8ba172b3479c"
      },
      "execution_count": 70,
      "outputs": [
        {
          "output_type": "execute_result",
          "data": {
            "text/plain": [
              "54"
            ]
          },
          "metadata": {},
          "execution_count": 70
        }
      ]
    },
    {
      "cell_type": "markdown",
      "source": [
        "Expression and variables"
      ],
      "metadata": {
        "id": "25Kz-HWSRVVM"
      }
    },
    {
      "cell_type": "code",
      "source": [
        "x=49+5-5\n",
        "x"
      ],
      "metadata": {
        "colab": {
          "base_uri": "https://localhost:8080/"
        },
        "id": "5Oq4_p3aRTXw",
        "outputId": "bfff5534-3745-42ee-9b01-3958165a991b"
      },
      "execution_count": 71,
      "outputs": [
        {
          "output_type": "execute_result",
          "data": {
            "text/plain": [
              "49"
            ]
          },
          "metadata": {},
          "execution_count": 71
        }
      ]
    },
    {
      "cell_type": "code",
      "source": [
        "y = 5*2\n",
        "y"
      ],
      "metadata": {
        "colab": {
          "base_uri": "https://localhost:8080/"
        },
        "id": "whiiu3E0Tth4",
        "outputId": "b8597df5-99a7-4dd8-dde6-d9757da9038b"
      },
      "execution_count": 73,
      "outputs": [
        {
          "output_type": "execute_result",
          "data": {
            "text/plain": [
              "10"
            ]
          },
          "metadata": {},
          "execution_count": 73
        }
      ]
    },
    {
      "cell_type": "code",
      "source": [
        "z= x*y\n",
        "z"
      ],
      "metadata": {
        "colab": {
          "base_uri": "https://localhost:8080/"
        },
        "id": "OFxW994NUfXY",
        "outputId": "e4cc694a-79e9-4826-e28f-100f3171d228"
      },
      "execution_count": 75,
      "outputs": [
        {
          "output_type": "execute_result",
          "data": {
            "text/plain": [
              "490"
            ]
          },
          "metadata": {},
          "execution_count": 75
        }
      ]
    },
    {
      "cell_type": "markdown",
      "source": [
        "##String Operators"
      ],
      "metadata": {
        "id": "hMJ-0cl3Ux89"
      }
    },
    {
      "cell_type": "markdown",
      "source": [
        "Slicing"
      ],
      "metadata": {
        "id": "zRQ6JS98XXsI"
      }
    },
    {
      "cell_type": "code",
      "source": [
        "Letter= \"Slicing\"\n",
        "Letter[0:3]"
      ],
      "metadata": {
        "colab": {
          "base_uri": "https://localhost:8080/",
          "height": 35
        },
        "id": "AWyRaELKUjuf",
        "outputId": "cba2357e-2de6-4db8-8806-1d80f8618419"
      },
      "execution_count": 78,
      "outputs": [
        {
          "output_type": "execute_result",
          "data": {
            "text/plain": [
              "'Sli'"
            ],
            "application/vnd.google.colaboratory.intrinsic+json": {
              "type": "string"
            }
          },
          "metadata": {},
          "execution_count": 78
        }
      ]
    },
    {
      "cell_type": "markdown",
      "source": [
        "Strides Are Good"
      ],
      "metadata": {
        "id": "FwCVzWVBXsVd"
      }
    },
    {
      "cell_type": "code",
      "source": [
        "Good=\"HiabjL\"\n",
        "Good[::2]"
      ],
      "metadata": {
        "colab": {
          "base_uri": "https://localhost:8080/",
          "height": 35
        },
        "id": "oKxQb7enXa1-",
        "outputId": "7028a23f-fe12-4865-b1a5-47fa7fcdd62e"
      },
      "execution_count": 79,
      "outputs": [
        {
          "output_type": "execute_result",
          "data": {
            "text/plain": [
              "'Haj'"
            ],
            "application/vnd.google.colaboratory.intrinsic+json": {
              "type": "string"
            }
          },
          "metadata": {},
          "execution_count": 79
        }
      ]
    },
    {
      "cell_type": "markdown",
      "source": [
        "Uppercase"
      ],
      "metadata": {
        "id": "awYcHg3lYMNB"
      }
    },
    {
      "cell_type": "code",
      "source": [
        "\"uppercase\".upper()"
      ],
      "metadata": {
        "colab": {
          "base_uri": "https://localhost:8080/",
          "height": 35
        },
        "id": "Z66-DqjaXxYI",
        "outputId": "6fdd2a4c-b2bd-48d1-b6b2-3b686c1484fd"
      },
      "execution_count": 80,
      "outputs": [
        {
          "output_type": "execute_result",
          "data": {
            "text/plain": [
              "'UPPERCASE'"
            ],
            "application/vnd.google.colaboratory.intrinsic+json": {
              "type": "string"
            }
          },
          "metadata": {},
          "execution_count": 80
        }
      ]
    },
    {
      "cell_type": "markdown",
      "source": [
        "What are Strings"
      ],
      "metadata": {
        "id": "cY0XLnwjbmra"
      }
    },
    {
      "cell_type": "code",
      "source": [
        "\"Estefania Abigail\""
      ],
      "metadata": {
        "colab": {
          "base_uri": "https://localhost:8080/",
          "height": 35
        },
        "id": "--s5tzvoYQX3",
        "outputId": "310a9f18-7a7d-49d4-8b3a-4bff15223a38"
      },
      "execution_count": 81,
      "outputs": [
        {
          "output_type": "execute_result",
          "data": {
            "text/plain": [
              "'Estefania Abigail'"
            ],
            "application/vnd.google.colaboratory.intrinsic+json": {
              "type": "string"
            }
          },
          "metadata": {},
          "execution_count": 81
        }
      ]
    },
    {
      "cell_type": "code",
      "source": [
        "\"1 2 3 4 5\""
      ],
      "metadata": {
        "colab": {
          "base_uri": "https://localhost:8080/",
          "height": 35
        },
        "id": "HOPBwnXjbpgW",
        "outputId": "b1c4e665-27c6-4e06-9bc3-413a8de51db9"
      },
      "execution_count": 82,
      "outputs": [
        {
          "output_type": "execute_result",
          "data": {
            "text/plain": [
              "'1 2 3 4 5'"
            ],
            "application/vnd.google.colaboratory.intrinsic+json": {
              "type": "string"
            }
          },
          "metadata": {},
          "execution_count": 82
        }
      ]
    },
    {
      "cell_type": "code",
      "source": [
        "!#$%&&/"
      ],
      "metadata": {
        "colab": {
          "base_uri": "https://localhost:8080/",
          "height": 35
        },
        "id": "Mk4yQ4-7brmp",
        "outputId": "5d9cd0c2-4190-4e1d-f795-8243ba4c8bb4"
      },
      "execution_count": 83,
      "outputs": [
        {
          "output_type": "execute_result",
          "data": {
            "text/plain": [
              "'!#$%&&/'"
            ],
            "application/vnd.google.colaboratory.intrinsic+json": {
              "type": "string"
            }
          },
          "metadata": {},
          "execution_count": 83
        }
      ]
    },
    {
      "cell_type": "code",
      "source": [
        "name = \"Estefania\""
      ],
      "metadata": {
        "id": "PavFTggwbubA"
      },
      "execution_count": 84,
      "outputs": []
    },
    {
      "cell_type": "markdown",
      "source": [
        "Indexing"
      ],
      "metadata": {
        "id": "R7Z0WRdmbxnZ"
      }
    },
    {
      "cell_type": "code",
      "source": [
        "print(name[3])"
      ],
      "metadata": {
        "colab": {
          "base_uri": "https://localhost:8080/"
        },
        "id": "gJgwwryfbwNO",
        "outputId": "b7b04f7b-4341-4ad5-bcb3-c2923362bc34"
      },
      "execution_count": 91,
      "outputs": [
        {
          "output_type": "stream",
          "name": "stdout",
          "text": [
            "e\n"
          ]
        }
      ]
    },
    {
      "cell_type": "markdown",
      "source": [
        "Negative Indexing"
      ],
      "metadata": {
        "id": "OYLH-VlSb9Vb"
      }
    },
    {
      "cell_type": "code",
      "source": [
        "print(name[-1])\n",
        "print(name[-9])\n",
        "len(name)"
      ],
      "metadata": {
        "colab": {
          "base_uri": "https://localhost:8080/"
        },
        "id": "LfnyranPb62F",
        "outputId": "f380c24c-d276-497e-82d4-c96cdcec5dc7"
      },
      "execution_count": 90,
      "outputs": [
        {
          "output_type": "stream",
          "name": "stdout",
          "text": [
            "a\n",
            "E\n"
          ]
        },
        {
          "output_type": "execute_result",
          "data": {
            "text/plain": [
              "9"
            ]
          },
          "metadata": {},
          "execution_count": 90
        }
      ]
    },
    {
      "cell_type": "markdown",
      "source": [
        "Slicing"
      ],
      "metadata": {
        "id": "EZ7p579dccCn"
      }
    },
    {
      "cell_type": "code",
      "source": [
        "name[0:4]"
      ],
      "metadata": {
        "colab": {
          "base_uri": "https://localhost:8080/",
          "height": 35
        },
        "id": "dkOE24yKcAiE",
        "outputId": "96e3e3be-0a83-4e2b-e7f5-e2c22785bad4"
      },
      "execution_count": 92,
      "outputs": [
        {
          "output_type": "execute_result",
          "data": {
            "text/plain": [
              "'Este'"
            ],
            "application/vnd.google.colaboratory.intrinsic+json": {
              "type": "string"
            }
          },
          "metadata": {},
          "execution_count": 92
        }
      ]
    },
    {
      "cell_type": "code",
      "source": [
        "name[4:9]"
      ],
      "metadata": {
        "colab": {
          "base_uri": "https://localhost:8080/",
          "height": 35
        },
        "id": "dyC6ay8qciTK",
        "outputId": "443e7d1d-e988-4dbb-9d60-83817dc14e65"
      },
      "execution_count": 94,
      "outputs": [
        {
          "output_type": "execute_result",
          "data": {
            "text/plain": [
              "'fania'"
            ],
            "application/vnd.google.colaboratory.intrinsic+json": {
              "type": "string"
            }
          },
          "metadata": {},
          "execution_count": 94
        }
      ]
    },
    {
      "cell_type": "markdown",
      "source": [
        "Stride"
      ],
      "metadata": {
        "id": "NjNmD1iBcnV-"
      }
    },
    {
      "cell_type": "code",
      "source": [
        "name[::2]"
      ],
      "metadata": {
        "colab": {
          "base_uri": "https://localhost:8080/",
          "height": 35
        },
        "id": "kVkb7YUOcjsg",
        "outputId": "cd1bf3ee-92e6-4fec-8f63-80b504ceeed4"
      },
      "execution_count": 95,
      "outputs": [
        {
          "output_type": "execute_result",
          "data": {
            "text/plain": [
              "'Etfna'"
            ],
            "application/vnd.google.colaboratory.intrinsic+json": {
              "type": "string"
            }
          },
          "metadata": {},
          "execution_count": 95
        }
      ]
    },
    {
      "cell_type": "code",
      "source": [
        "name[0:5:2]"
      ],
      "metadata": {
        "colab": {
          "base_uri": "https://localhost:8080/",
          "height": 35
        },
        "id": "ICATYig6cqoX",
        "outputId": "c8a22c23-8475-42fd-cddb-053caedb9bb3"
      },
      "execution_count": 96,
      "outputs": [
        {
          "output_type": "execute_result",
          "data": {
            "text/plain": [
              "'Etf'"
            ],
            "application/vnd.google.colaboratory.intrinsic+json": {
              "type": "string"
            }
          },
          "metadata": {},
          "execution_count": 96
        }
      ]
    },
    {
      "cell_type": "markdown",
      "source": [
        "Concatenate String"
      ],
      "metadata": {
        "id": "Ixw01uwJc7HU"
      }
    },
    {
      "cell_type": "code",
      "source": [
        "statement = name + \" is the best\"\n",
        "statement"
      ],
      "metadata": {
        "colab": {
          "base_uri": "https://localhost:8080/",
          "height": 35
        },
        "id": "3eouoPwFcv5e",
        "outputId": "afb8c7ee-9467-4dc2-f18c-887a6dd515aa"
      },
      "execution_count": 99,
      "outputs": [
        {
          "output_type": "execute_result",
          "data": {
            "text/plain": [
              "'Estefania is the best'"
            ],
            "application/vnd.google.colaboratory.intrinsic+json": {
              "type": "string"
            }
          },
          "metadata": {},
          "execution_count": 99
        }
      ]
    },
    {
      "cell_type": "code",
      "source": [
        "3*name"
      ],
      "metadata": {
        "colab": {
          "base_uri": "https://localhost:8080/",
          "height": 35
        },
        "id": "nsZUOzbJc-sk",
        "outputId": "27468f63-dba8-44f1-84e5-3d3998278c5c"
      },
      "execution_count": 100,
      "outputs": [
        {
          "output_type": "execute_result",
          "data": {
            "text/plain": [
              "'EstefaniaEstefaniaEstefania'"
            ],
            "application/vnd.google.colaboratory.intrinsic+json": {
              "type": "string"
            }
          },
          "metadata": {},
          "execution_count": 100
        }
      ]
    },
    {
      "cell_type": "code",
      "source": [
        "name = name + \" is the best\""
      ],
      "metadata": {
        "id": "mqDJK12bdHRI"
      },
      "execution_count": 101,
      "outputs": []
    },
    {
      "cell_type": "code",
      "source": [
        "name"
      ],
      "metadata": {
        "colab": {
          "base_uri": "https://localhost:8080/",
          "height": 35
        },
        "id": "ueNqfPnRdKB9",
        "outputId": "1898dd24-db73-410b-9ec5-cdceb8763324"
      },
      "execution_count": 102,
      "outputs": [
        {
          "output_type": "execute_result",
          "data": {
            "text/plain": [
              "'Estefania is the best'"
            ],
            "application/vnd.google.colaboratory.intrinsic+json": {
              "type": "string"
            }
          },
          "metadata": {},
          "execution_count": 102
        }
      ]
    },
    {
      "cell_type": "markdown",
      "source": [
        "String Operations"
      ],
      "metadata": {
        "id": "rxKeROP7dM9j"
      }
    },
    {
      "cell_type": "code",
      "source": [
        "a = \"Breaking bad is the best serie\"\n",
        "print(\"before upper:\", a)\n",
        "b = a.upper()\n",
        "print(\"after upper;\", b)"
      ],
      "metadata": {
        "colab": {
          "base_uri": "https://localhost:8080/"
        },
        "id": "DUGqUaPLdKpD",
        "outputId": "0d873dd5-3fba-4675-a1aa-dc67a3262169"
      },
      "execution_count": 105,
      "outputs": [
        {
          "output_type": "stream",
          "name": "stdout",
          "text": [
            "before upper: Breaking bad is the best serie\n",
            "after upper; BREAKING BAD IS THE BEST SERIE\n"
          ]
        }
      ]
    },
    {
      "cell_type": "code",
      "source": [
        "a = \"Estefania is the best\"\n",
        "b = a.replace(\"Estefania\", \"Abigail\")"
      ],
      "metadata": {
        "id": "HIFCpkhLdgja"
      },
      "execution_count": 106,
      "outputs": []
    },
    {
      "cell_type": "code",
      "source": [
        "name = \"Estefania\"\n",
        "name.find(\"fan\")"
      ],
      "metadata": {
        "colab": {
          "base_uri": "https://localhost:8080/"
        },
        "id": "805zkj4ldu_E",
        "outputId": "1b3bec99-0dbf-45c7-acb3-6ada246ff8e8"
      },
      "execution_count": 111,
      "outputs": [
        {
          "output_type": "execute_result",
          "data": {
            "text/plain": [
              "4"
            ]
          },
          "metadata": {},
          "execution_count": 111
        }
      ]
    },
    {
      "cell_type": "code",
      "source": [
        "name.find(\"dhbckh\")"
      ],
      "metadata": {
        "colab": {
          "base_uri": "https://localhost:8080/"
        },
        "id": "kS4VcrCzd0Y2",
        "outputId": "06ab8b2f-3cee-45a7-d5fd-f2d547a255c6"
      },
      "execution_count": 112,
      "outputs": [
        {
          "output_type": "execute_result",
          "data": {
            "text/plain": [
              "-1"
            ]
          },
          "metadata": {},
          "execution_count": 112
        }
      ]
    },
    {
      "cell_type": "markdown",
      "source": [
        "Quiz"
      ],
      "metadata": {
        "id": "ho7Scq_5eEDr"
      }
    },
    {
      "cell_type": "code",
      "source": [
        "a = \"1\" #\"1\"\n",
        "a"
      ],
      "metadata": {
        "colab": {
          "base_uri": "https://localhost:8080/",
          "height": 35
        },
        "id": "ujbE4RUSeB73",
        "outputId": "288156e8-4067-4890-cece-d96c974e3bf7"
      },
      "execution_count": 118,
      "outputs": [
        {
          "output_type": "execute_result",
          "data": {
            "text/plain": [
              "'1'"
            ],
            "application/vnd.google.colaboratory.intrinsic+json": {
              "type": "string"
            }
          },
          "metadata": {},
          "execution_count": 118
        }
      ]
    },
    {
      "cell_type": "code",
      "source": [
        "b = \"2\" #\"2\"\n",
        "b"
      ],
      "metadata": {
        "colab": {
          "base_uri": "https://localhost:8080/",
          "height": 35
        },
        "id": "RQGLdVyTeM5n",
        "outputId": "4069c7e8-1191-4c3c-92ad-5697a0df0f28"
      },
      "execution_count": 119,
      "outputs": [
        {
          "output_type": "execute_result",
          "data": {
            "text/plain": [
              "'2'"
            ],
            "application/vnd.google.colaboratory.intrinsic+json": {
              "type": "string"
            }
          },
          "metadata": {},
          "execution_count": 119
        }
      ]
    },
    {
      "cell_type": "code",
      "source": [
        "c= a+b\n",
        "c"
      ],
      "metadata": {
        "colab": {
          "base_uri": "https://localhost:8080/",
          "height": 35
        },
        "id": "iEB04GCaeP08",
        "outputId": "666f951e-0dcb-4d7b-8ee6-3361cbedf4b2"
      },
      "execution_count": 120,
      "outputs": [
        {
          "output_type": "execute_result",
          "data": {
            "text/plain": [
              "'12'"
            ],
            "application/vnd.google.colaboratory.intrinsic+json": {
              "type": "string"
            }
          },
          "metadata": {},
          "execution_count": 120
        }
      ]
    },
    {
      "cell_type": "code",
      "source": [
        "d= \"ABCDEFG\"\n",
        "d[:3]"
      ],
      "metadata": {
        "colab": {
          "base_uri": "https://localhost:8080/",
          "height": 35
        },
        "id": "apRuFD8WeTA2",
        "outputId": "1356f6e2-3f77-4728-9c54-799ef66516a8"
      },
      "execution_count": 124,
      "outputs": [
        {
          "output_type": "execute_result",
          "data": {
            "text/plain": [
              "'ABC'"
            ],
            "application/vnd.google.colaboratory.intrinsic+json": {
              "type": "string"
            }
          },
          "metadata": {},
          "execution_count": 124
        }
      ]
    },
    {
      "cell_type": "code",
      "source": [
        "e = \"clocrkr1e1c1t\"\n",
        "print(e[::2])"
      ],
      "metadata": {
        "colab": {
          "base_uri": "https://localhost:8080/"
        },
        "id": "_NRTlj3eelQK",
        "outputId": "81a9c160-b249-4b72-95c9-5e2959a4d451"
      },
      "execution_count": 126,
      "outputs": [
        {
          "output_type": "stream",
          "name": "stdout",
          "text": [
            "correct\n"
          ]
        }
      ]
    },
    {
      "cell_type": "code",
      "source": [
        "f=\"hi\"\n",
        "f.upper()"
      ],
      "metadata": {
        "colab": {
          "base_uri": "https://localhost:8080/",
          "height": 35
        },
        "id": "7grlqmv6e6YV",
        "outputId": "928ef956-14ea-44a5-f742-7ad8201b08ff"
      },
      "execution_count": 128,
      "outputs": [
        {
          "output_type": "execute_result",
          "data": {
            "text/plain": [
              "'HI'"
            ],
            "application/vnd.google.colaboratory.intrinsic+json": {
              "type": "string"
            }
          },
          "metadata": {},
          "execution_count": 128
        }
      ]
    },
    {
      "cell_type": "code",
      "source": [
        "g = \"Mary had a little lamb Little lamb, little lamb Mary had a little lamb \\\n",
        "Its fleece was white as snow And everywhere that Mary went Mary went, Mary went \\\n",
        "Everywhere that Mary went The lamb was sure to go\"\n",
        "g.find(\"snow\")"
      ],
      "metadata": {
        "colab": {
          "base_uri": "https://localhost:8080/"
        },
        "id": "nsz7h_09fRug",
        "outputId": "a7a06785-2a75-47c2-a949-00a3032c781e"
      },
      "execution_count": 129,
      "outputs": [
        {
          "output_type": "execute_result",
          "data": {
            "text/plain": [
              "95"
            ]
          },
          "metadata": {},
          "execution_count": 129
        }
      ]
    },
    {
      "cell_type": "code",
      "source": [
        "g.replace(\"Mary\", \"Bob\")"
      ],
      "metadata": {
        "colab": {
          "base_uri": "https://localhost:8080/",
          "height": 53
        },
        "id": "FwGWPiolfbo9",
        "outputId": "74d8c46a-1fa1-4c42-bb33-6ab128092d97"
      },
      "execution_count": 130,
      "outputs": [
        {
          "output_type": "execute_result",
          "data": {
            "text/plain": [
              "'Bob had a little lamb Little lamb, little lamb Bob had a little lamb Its fleece was white as snow And everywhere that Bob went Bob went, Bob went Everywhere that Bob went The lamb was sure to go'"
            ],
            "application/vnd.google.colaboratory.intrinsic+json": {
              "type": "string"
            }
          },
          "metadata": {},
          "execution_count": 130
        }
      ]
    },
    {
      "cell_type": "markdown",
      "source": [
        "# Módulo 2"
      ],
      "metadata": {
        "id": "kIGknK6vgqXP"
      }
    },
    {
      "cell_type": "markdown",
      "source": [
        "##Tuple"
      ],
      "metadata": {
        "id": "_HU5b6yPJ2Wk"
      }
    },
    {
      "cell_type": "code",
      "source": [
        "A=(0,\"Estefania\",2.0,3)\n",
        "A"
      ],
      "metadata": {
        "colab": {
          "base_uri": "https://localhost:8080/"
        },
        "id": "3Nqc0YUPJxRI",
        "outputId": "fccd0743-6ed3-4c9d-9d23-bcfc1b74adc7"
      },
      "execution_count": 22,
      "outputs": [
        {
          "output_type": "execute_result",
          "data": {
            "text/plain": [
              "(0, 'Estefania', 2.0, 3)"
            ]
          },
          "metadata": {},
          "execution_count": 22
        }
      ]
    },
    {
      "cell_type": "code",
      "source": [
        "type(A)"
      ],
      "metadata": {
        "colab": {
          "base_uri": "https://localhost:8080/"
        },
        "id": "zjNymcWTLdVK",
        "outputId": "cf8fbee4-dda9-4694-d79f-aeb0cf881f19"
      },
      "execution_count": 18,
      "outputs": [
        {
          "output_type": "execute_result",
          "data": {
            "text/plain": [
              "tuple"
            ]
          },
          "metadata": {},
          "execution_count": 18
        }
      ]
    },
    {
      "cell_type": "code",
      "source": [
        "#First two elements\n",
        "A[0:2]"
      ],
      "metadata": {
        "colab": {
          "base_uri": "https://localhost:8080/"
        },
        "id": "A-IjieTVKNpK",
        "outputId": "a8ee99e1-10db-4f8e-a384-ff1e00ceab34"
      },
      "execution_count": 19,
      "outputs": [
        {
          "output_type": "execute_result",
          "data": {
            "text/plain": [
              "(0, 'Estefania')"
            ]
          },
          "metadata": {},
          "execution_count": 19
        }
      ]
    },
    {
      "cell_type": "markdown",
      "source": [
        "###Indexing"
      ],
      "metadata": {
        "id": "PN2vg595Lhjo"
      }
    },
    {
      "cell_type": "code",
      "source": [
        "print(A[0])\n",
        "print(A[1])\n",
        "print(A[2])"
      ],
      "metadata": {
        "colab": {
          "base_uri": "https://localhost:8080/"
        },
        "id": "MZ5g2XZwLiwG",
        "outputId": "9662d551-3c76-4f55-c8e4-14cc2c4e8322"
      },
      "execution_count": 23,
      "outputs": [
        {
          "output_type": "stream",
          "name": "stdout",
          "text": [
            "0\n",
            "Estefania\n",
            "2.0\n"
          ]
        }
      ]
    },
    {
      "cell_type": "code",
      "source": [
        "#Last element with negative\n",
        "A[-1]"
      ],
      "metadata": {
        "colab": {
          "base_uri": "https://localhost:8080/"
        },
        "id": "1yWVB3ueLL2J",
        "outputId": "7e2117be-228b-4ba8-b22f-a5a49b4150f9"
      },
      "execution_count": 25,
      "outputs": [
        {
          "output_type": "execute_result",
          "data": {
            "text/plain": [
              "3"
            ]
          },
          "metadata": {},
          "execution_count": 25
        }
      ]
    },
    {
      "cell_type": "markdown",
      "source": [
        "###Concatenate"
      ],
      "metadata": {
        "id": "WdE2GYr4L5vQ"
      }
    },
    {
      "cell_type": "code",
      "source": [
        "A = A + (\"Abigail\", 27)\n",
        "A"
      ],
      "metadata": {
        "colab": {
          "base_uri": "https://localhost:8080/"
        },
        "id": "08A0v4RvLy5J",
        "outputId": "c3766a29-0623-4980-dcc6-888edbc08b80"
      },
      "execution_count": 26,
      "outputs": [
        {
          "output_type": "execute_result",
          "data": {
            "text/plain": [
              "(0, 'Estefania', 2.0, 3, 'Abigail', 27)"
            ]
          },
          "metadata": {},
          "execution_count": 26
        }
      ]
    },
    {
      "cell_type": "markdown",
      "source": [
        "###Slicing"
      ],
      "metadata": {
        "id": "6Drpb9h9MFpk"
      }
    },
    {
      "cell_type": "code",
      "source": [
        "print(len(A))\n",
        "print(A[0:2])\n",
        "print(A[2:4])\n",
        "print(A[4:6])"
      ],
      "metadata": {
        "colab": {
          "base_uri": "https://localhost:8080/"
        },
        "id": "xZiAXcRKMLG8",
        "outputId": "ebf1137f-b668-4d0c-a271-458d39822eec"
      },
      "execution_count": 31,
      "outputs": [
        {
          "output_type": "stream",
          "name": "stdout",
          "text": [
            "6\n",
            "(0, 'Estefania')\n",
            "(2.0, 3)\n",
            "('Abigail', 27)\n"
          ]
        }
      ]
    },
    {
      "cell_type": "markdown",
      "source": [
        "###Sorting"
      ],
      "metadata": {
        "id": "zIjHPt65MccU"
      }
    },
    {
      "cell_type": "code",
      "source": [
        "grades = (2,4,2,4,8,1,7)\n",
        "gradesSorted = sorted(grades)\n",
        "gradesSorted"
      ],
      "metadata": {
        "colab": {
          "base_uri": "https://localhost:8080/"
        },
        "id": "fnJc1KrDMf0F",
        "outputId": "49310b56-a557-4835-a90f-64e328254483"
      },
      "execution_count": 35,
      "outputs": [
        {
          "output_type": "execute_result",
          "data": {
            "text/plain": [
              "[1, 2, 2, 4, 4, 7, 8]"
            ]
          },
          "metadata": {},
          "execution_count": 35
        }
      ]
    },
    {
      "cell_type": "markdown",
      "source": [
        "###Nested Tuple"
      ],
      "metadata": {
        "id": "zwfQiY2wMwL9"
      }
    },
    {
      "cell_type": "code",
      "source": [
        "Nested = (1,2,(\"hi\", \"bye\"), (9,1),(\"Abigail\",(27, \"december\")))\n",
        "Nested"
      ],
      "metadata": {
        "colab": {
          "base_uri": "https://localhost:8080/"
        },
        "id": "mZEvf51nM1Dr",
        "outputId": "670fcc89-53fe-448c-a3ad-beb6a676167f"
      },
      "execution_count": 41,
      "outputs": [
        {
          "output_type": "execute_result",
          "data": {
            "text/plain": [
              "(1, 2, ('hi', 'bye'), (9, 1), ('Abigail', (27, 'december')))"
            ]
          },
          "metadata": {},
          "execution_count": 41
        }
      ]
    },
    {
      "cell_type": "code",
      "source": [
        "print(\"Element 0 of Tuple: \", Nested[0])\n",
        "print(\"Element 1 of Tuple: \", Nested[1])\n",
        "print(\"Element 2 of Tuple: \", Nested[2])\n",
        "print(\"Element 3 of Tuple: \", Nested[3])\n",
        "print(\"Element 4 of Tuple: \", Nested[4])"
      ],
      "metadata": {
        "colab": {
          "base_uri": "https://localhost:8080/"
        },
        "id": "2vxvqboWNIfy",
        "outputId": "230bcba2-98e8-428f-8034-52c7715b5d6f"
      },
      "execution_count": 42,
      "outputs": [
        {
          "output_type": "stream",
          "name": "stdout",
          "text": [
            "Element 0 of Tuple:  1\n",
            "Element 1 of Tuple:  2\n",
            "Element 2 of Tuple:  ('hi', 'bye')\n",
            "Element 3 of Tuple:  (9, 1)\n",
            "Element 4 of Tuple:  ('Abigail', (27, 'december'))\n"
          ]
        }
      ]
    },
    {
      "cell_type": "code",
      "source": [
        "print(\"Element 2, 0 of Tuple: \",   Nested[2][0])\n",
        "print(\"Element 2, 1 of Tuple: \",   Nested[2][1])\n",
        "print(\"Element 3, 0 of Tuple: \",   Nested[3][0])\n",
        "print(\"Element 3, 1 of Tuple: \",   Nested[3][1])\n",
        "print(\"Element 4, 0 of Tuple: \",   Nested[4][0])\n",
        "print(\"Element 4, 1 of Tuple: \",   Nested[4][1][1])"
      ],
      "metadata": {
        "colab": {
          "base_uri": "https://localhost:8080/"
        },
        "id": "EpUE9kLfNawg",
        "outputId": "4ddf8e0d-c64a-43fe-f552-f5b1216602b4"
      },
      "execution_count": 44,
      "outputs": [
        {
          "output_type": "stream",
          "name": "stdout",
          "text": [
            "Element 2, 0 of Tuple:  hi\n",
            "Element 2, 1 of Tuple:  bye\n",
            "Element 3, 0 of Tuple:  9\n",
            "Element 3, 1 of Tuple:  1\n",
            "Element 4, 0 of Tuple:  Abigail\n",
            "Element 4, 1 of Tuple:  december\n"
          ]
        }
      ]
    },
    {
      "cell_type": "code",
      "source": [
        "#Even string with a third index\n",
        "print(\"Element 2, 0, 0 of Tuple: \",   Nested[2][0][0])\n",
        "print(\"Element 2, 0, 1 of Tuple: \",   Nested[2][0][1])"
      ],
      "metadata": {
        "colab": {
          "base_uri": "https://localhost:8080/"
        },
        "id": "2PcC0dOANvbq",
        "outputId": "00410671-62e6-4776-d3d5-3431f2b93655"
      },
      "execution_count": 48,
      "outputs": [
        {
          "output_type": "stream",
          "name": "stdout",
          "text": [
            "Element 2, 0, 0 of Tuple:  h\n",
            "Element 2, 0, 1 of Tuple:  i\n"
          ]
        }
      ]
    },
    {
      "cell_type": "code",
      "source": [
        "#Index\n",
        "Nested.index(2)"
      ],
      "metadata": {
        "colab": {
          "base_uri": "https://localhost:8080/"
        },
        "id": "YUedTG3JOp4m",
        "outputId": "c48ccce6-4c68-4cea-aa8c-0c78e0c3b027"
      },
      "execution_count": 58,
      "outputs": [
        {
          "output_type": "execute_result",
          "data": {
            "text/plain": [
              "1"
            ]
          },
          "metadata": {},
          "execution_count": 58
        }
      ]
    },
    {
      "cell_type": "markdown",
      "source": [
        "##Lists"
      ],
      "metadata": {
        "id": "l7o27oZ_KSSN"
      }
    },
    {
      "cell_type": "code",
      "source": [
        "B=[\"a\",\"b\", \"c\"]"
      ],
      "metadata": {
        "id": "lAOIH-16KQnW"
      },
      "execution_count": 62,
      "outputs": []
    },
    {
      "cell_type": "code",
      "source": [
        "# First two elements\n",
        "B[0:2]"
      ],
      "metadata": {
        "colab": {
          "base_uri": "https://localhost:8080/"
        },
        "id": "4To56aIbKY-4",
        "outputId": "a0517c92-5d63-4234-8779-26c1f8d27c8b"
      },
      "execution_count": 63,
      "outputs": [
        {
          "output_type": "execute_result",
          "data": {
            "text/plain": [
              "['a', 'b']"
            ]
          },
          "metadata": {},
          "execution_count": 63
        }
      ]
    },
    {
      "cell_type": "code",
      "source": [
        "#Change one element to uppercase\n",
        "B[0] = B[0].upper()\n",
        "B"
      ],
      "metadata": {
        "colab": {
          "base_uri": "https://localhost:8080/"
        },
        "id": "CM34DWDJKb3_",
        "outputId": "1d3ce320-92ae-4759-f65d-c44cf940f51b"
      },
      "execution_count": 64,
      "outputs": [
        {
          "output_type": "execute_result",
          "data": {
            "text/plain": [
              "['A', 'b', 'c']"
            ]
          },
          "metadata": {},
          "execution_count": 64
        }
      ]
    },
    {
      "cell_type": "markdown",
      "source": [
        "###Extend"
      ],
      "metadata": {
        "id": "IA0PnOesQfr-"
      }
    },
    {
      "cell_type": "code",
      "source": [
        "#extend takes exactly one argument\n",
        "B.extend(\"d\")\n",
        "B"
      ],
      "metadata": {
        "colab": {
          "base_uri": "https://localhost:8080/"
        },
        "id": "gzvbhGh9Kye0",
        "outputId": "4728525d-f8ec-414c-bee6-3d96db31f180"
      },
      "execution_count": 66,
      "outputs": [
        {
          "output_type": "execute_result",
          "data": {
            "text/plain": [
              "['A', 'b', 'c', 'd']"
            ]
          },
          "metadata": {},
          "execution_count": 66
        }
      ]
    },
    {
      "cell_type": "markdown",
      "source": [
        "###Append"
      ],
      "metadata": {
        "id": "IlovrtjMQhoL"
      }
    },
    {
      "cell_type": "code",
      "source": [
        "#one new element\n",
        "B.append([10,2])\n",
        "B"
      ],
      "metadata": {
        "colab": {
          "base_uri": "https://localhost:8080/"
        },
        "id": "KyzaCNM_P3_X",
        "outputId": "99f33f2c-e266-4696-e3cf-6edf4e0a235b"
      },
      "execution_count": 68,
      "outputs": [
        {
          "output_type": "execute_result",
          "data": {
            "text/plain": [
              "['A', 'b', 'c', 'd', [10, 2], [10, 2]]"
            ]
          },
          "metadata": {},
          "execution_count": 68
        }
      ]
    },
    {
      "cell_type": "markdown",
      "source": [
        "###Changing the list elements"
      ],
      "metadata": {
        "id": "5NufrZnNRAgw"
      }
    },
    {
      "cell_type": "code",
      "source": [
        "B=[\"a\",\"b\", \"c\"]\n",
        "print(\"Before change: \", B)\n",
        "B[0]=\"New Year\"\n",
        "print(\"After change: \", B)"
      ],
      "metadata": {
        "colab": {
          "base_uri": "https://localhost:8080/"
        },
        "id": "dsbIpV6hQDa2",
        "outputId": "4a40b364-c3b7-4f67-b5df-5b11c79cb2c1"
      },
      "execution_count": 74,
      "outputs": [
        {
          "output_type": "stream",
          "name": "stdout",
          "text": [
            "Before change:  ['a', 'b', 'c']\n",
            "After change:  ['New Year', 'b', 'c']\n"
          ]
        }
      ]
    },
    {
      "cell_type": "code",
      "source": [
        "print('Before change:', B)\n",
        "del(B[1])\n",
        "print('After change:', B)"
      ],
      "metadata": {
        "colab": {
          "base_uri": "https://localhost:8080/"
        },
        "id": "_MmCT9PJQreU",
        "outputId": "1551efea-6b47-4fa8-e429-de921627c6cc"
      },
      "execution_count": 75,
      "outputs": [
        {
          "output_type": "stream",
          "name": "stdout",
          "text": [
            "Before change: ['New Year', 'b', 'c']\n",
            "After change: ['New Year', 'c']\n"
          ]
        }
      ]
    },
    {
      "cell_type": "markdown",
      "source": [
        "###Split"
      ],
      "metadata": {
        "id": "0OI1GMNVRVbv"
      }
    },
    {
      "cell_type": "code",
      "source": [
        "print(\"New Year\".split())\n",
        "print(\"New,Year\".split(\",\"))"
      ],
      "metadata": {
        "colab": {
          "base_uri": "https://localhost:8080/"
        },
        "id": "ZNz3N7XTRJrl",
        "outputId": "cb464f60-f182-461d-e7d7-14d2ed1a0819"
      },
      "execution_count": 82,
      "outputs": [
        {
          "output_type": "stream",
          "name": "stdout",
          "text": [
            "['New', 'Year']\n",
            "['New', 'Year']\n"
          ]
        }
      ]
    },
    {
      "cell_type": "markdown",
      "source": [
        "###Copy and Clone"
      ],
      "metadata": {
        "id": "ZarpHJP1RZdo"
      }
    },
    {
      "cell_type": "code",
      "source": [
        "A = [\"Estefania\", 27, 1994]\n",
        "B = A\n",
        "print(\"A:\", A)\n",
        "print(\"B:\", B)"
      ],
      "metadata": {
        "colab": {
          "base_uri": "https://localhost:8080/"
        },
        "id": "aQ1m5cPXRSll",
        "outputId": "aa5c3dba-3c59-4d6b-bb80-302ed53c1758"
      },
      "execution_count": 87,
      "outputs": [
        {
          "output_type": "stream",
          "name": "stdout",
          "text": [
            "A: ['Estefania', 27, 1994]\n",
            "B: ['Estefania', 27, 1994]\n"
          ]
        }
      ]
    },
    {
      "cell_type": "code",
      "source": [
        "print('B[0]:', B[0])\n",
        "A[0] = \"Abigail\"\n",
        "print('B[0]:', B[0])"
      ],
      "metadata": {
        "colab": {
          "base_uri": "https://localhost:8080/"
        },
        "id": "xKL_GIx9Rojs",
        "outputId": "b362ae00-f655-4995-e7bf-2b3a3f36a43b"
      },
      "execution_count": 88,
      "outputs": [
        {
          "output_type": "stream",
          "name": "stdout",
          "text": [
            "B[0]: Estefania\n",
            "B[0]: Abigail\n"
          ]
        }
      ]
    },
    {
      "cell_type": "code",
      "source": [
        "B = A[:]\n",
        "B"
      ],
      "metadata": {
        "colab": {
          "base_uri": "https://localhost:8080/"
        },
        "id": "hZxKyOuZR9D2",
        "outputId": "c0ff28a4-a305-4e67-8617-46ef229b37e4"
      },
      "execution_count": 89,
      "outputs": [
        {
          "output_type": "execute_result",
          "data": {
            "text/plain": [
              "['Abigail', 27, 1994]"
            ]
          },
          "metadata": {},
          "execution_count": 89
        }
      ]
    },
    {
      "cell_type": "markdown",
      "source": [
        "###Concatenate"
      ],
      "metadata": {
        "id": "AeLBDJVZSxOq"
      }
    },
    {
      "cell_type": "code",
      "source": [
        "C = [\"New Year\", 2022]\n",
        "D =  A+B+C\n",
        "D"
      ],
      "metadata": {
        "colab": {
          "base_uri": "https://localhost:8080/"
        },
        "id": "MEflZ4COSKtK",
        "outputId": "881bfee9-8183-476d-fa5e-55c47977d19a"
      },
      "execution_count": 91,
      "outputs": [
        {
          "output_type": "execute_result",
          "data": {
            "text/plain": [
              "['Abigail', 27, 1994, 'Abigail', 27, 1994, 'New Year', 2022]"
            ]
          },
          "metadata": {},
          "execution_count": 91
        }
      ]
    },
    {
      "cell_type": "markdown",
      "source": [
        "##Sets"
      ],
      "metadata": {
        "id": "XBRlbS8eTHsz"
      }
    },
    {
      "cell_type": "code",
      "source": [
        "#List to set\n",
        "A = set([\"A\", \"B\", \"C\", \"A\", \"B\", \"C\"])\n",
        "A"
      ],
      "metadata": {
        "colab": {
          "base_uri": "https://localhost:8080/"
        },
        "id": "fdHS_h6xStQW",
        "outputId": "f0004f37-e78f-4159-97c0-116fcc42e897"
      },
      "execution_count": 93,
      "outputs": [
        {
          "output_type": "execute_result",
          "data": {
            "text/plain": [
              "{'A', 'B', 'C'}"
            ]
          },
          "metadata": {},
          "execution_count": 93
        }
      ]
    },
    {
      "cell_type": "code",
      "source": [
        "#Add element\n",
        "A.add(\"D\")\n",
        "A"
      ],
      "metadata": {
        "colab": {
          "base_uri": "https://localhost:8080/"
        },
        "id": "zu_C7J2LUU3z",
        "outputId": "01c77b77-97d2-4ca1-a0c7-6a6026089e29"
      },
      "execution_count": 96,
      "outputs": [
        {
          "output_type": "execute_result",
          "data": {
            "text/plain": [
              "{'A', 'B', 'C', 'D'}"
            ]
          },
          "metadata": {},
          "execution_count": 96
        }
      ]
    },
    {
      "cell_type": "markdown",
      "source": [
        "###Intersection"
      ],
      "metadata": {
        "id": "hZuoaKuEUpFA"
      }
    },
    {
      "cell_type": "code",
      "source": [
        "B = set([\"A\", \"B\", \"X\", \"Y\", \"Z\"])\n",
        "print(\"With &: \",A&B)\n",
        "#or\n",
        "print(\"With .intersection: \",A.intersection(B))"
      ],
      "metadata": {
        "colab": {
          "base_uri": "https://localhost:8080/"
        },
        "id": "_qy7FWXdUfmW",
        "outputId": "d5ba1441-0f45-44bd-e7d0-0f57ec657c3c"
      },
      "execution_count": 103,
      "outputs": [
        {
          "output_type": "stream",
          "name": "stdout",
          "text": [
            "With &:  {'A', 'B'}\n",
            "With .intersection:  {'A', 'B'}\n"
          ]
        }
      ]
    },
    {
      "cell_type": "markdown",
      "source": [
        "###Difference"
      ],
      "metadata": {
        "id": "CgO7p1ZmVzi5"
      }
    },
    {
      "cell_type": "code",
      "source": [
        "print(\"Difference of A: \", A.difference(B))\n",
        "print(\"Difference of B: \", B.difference(A))"
      ],
      "metadata": {
        "colab": {
          "base_uri": "https://localhost:8080/"
        },
        "id": "ZQ9ILN3iUy2_",
        "outputId": "4380e8ff-92cf-4113-9f0d-948016c749e5"
      },
      "execution_count": 106,
      "outputs": [
        {
          "output_type": "stream",
          "name": "stdout",
          "text": [
            "Difference of A:  {'C', 'D'}\n",
            "Difference of B:  {'X', 'Y', 'Z'}\n"
          ]
        }
      ]
    },
    {
      "cell_type": "markdown",
      "source": [
        "###Union"
      ],
      "metadata": {
        "id": "Wj6wSSKeWKqe"
      }
    },
    {
      "cell_type": "code",
      "source": [
        "C=A.union(B)\n",
        "C"
      ],
      "metadata": {
        "colab": {
          "base_uri": "https://localhost:8080/"
        },
        "id": "SidE5TOOV3sK",
        "outputId": "fcf4c686-b266-4c8a-f812-dccf84319e24"
      },
      "execution_count": 108,
      "outputs": [
        {
          "output_type": "execute_result",
          "data": {
            "text/plain": [
              "{'A', 'B', 'C', 'D', 'X', 'Y', 'Z'}"
            ]
          },
          "metadata": {},
          "execution_count": 108
        }
      ]
    },
    {
      "cell_type": "markdown",
      "source": [
        "###Supersets ans subsets"
      ],
      "metadata": {
        "id": "oZEGJUPcXfXf"
      }
    },
    {
      "cell_type": "code",
      "source": [
        "set(C).issuperset(A)"
      ],
      "metadata": {
        "colab": {
          "base_uri": "https://localhost:8080/"
        },
        "id": "t4PtvgVhWO0A",
        "outputId": "b7e7ab60-e2a1-497e-ec6d-289d5277f468"
      },
      "execution_count": 111,
      "outputs": [
        {
          "output_type": "execute_result",
          "data": {
            "text/plain": [
              "True"
            ]
          },
          "metadata": {},
          "execution_count": 111
        }
      ]
    },
    {
      "cell_type": "code",
      "source": [
        "A.issubset(C)"
      ],
      "metadata": {
        "colab": {
          "base_uri": "https://localhost:8080/"
        },
        "id": "mioXC2mJWcMG",
        "outputId": "f4e12d2a-b943-4166-aeac-c9042c411c05"
      },
      "execution_count": 112,
      "outputs": [
        {
          "output_type": "execute_result",
          "data": {
            "text/plain": [
              "True"
            ]
          },
          "metadata": {},
          "execution_count": 112
        }
      ]
    },
    {
      "cell_type": "code",
      "source": [
        "set({\"A\", \"Z\"}).issubset(C)"
      ],
      "metadata": {
        "colab": {
          "base_uri": "https://localhost:8080/"
        },
        "id": "19pUWVsKWoTH",
        "outputId": "d460b70e-a2b7-406b-d306-de8eaa8f0e83"
      },
      "execution_count": 114,
      "outputs": [
        {
          "output_type": "execute_result",
          "data": {
            "text/plain": [
              "True"
            ]
          },
          "metadata": {},
          "execution_count": 114
        }
      ]
    },
    {
      "cell_type": "markdown",
      "source": [
        "##Dictionaries"
      ],
      "metadata": {
        "id": "xbP4X1vhXp4B"
      }
    },
    {
      "cell_type": "code",
      "source": [
        "A={\"Name\": \"Estefania\", \"Age\":27, \"Nickname\":\"Aby\"}\n",
        "print(type(A))\n",
        "A"
      ],
      "metadata": {
        "colab": {
          "base_uri": "https://localhost:8080/"
        },
        "id": "ixVJ4ebFWx2Z",
        "outputId": "48331f0e-cecf-4293-962e-77efd487c426"
      },
      "execution_count": 123,
      "outputs": [
        {
          "output_type": "stream",
          "name": "stdout",
          "text": [
            "<class 'dict'>\n"
          ]
        },
        {
          "output_type": "execute_result",
          "data": {
            "text/plain": [
              "{'Name': 'Estefania', 'Age': 27, 'Nickname': 'Aby'}"
            ]
          },
          "metadata": {},
          "execution_count": 123
        }
      ]
    },
    {
      "cell_type": "markdown",
      "source": [
        "###Using Keys and Values"
      ],
      "metadata": {
        "id": "grZs214zcGGv"
      }
    },
    {
      "cell_type": "code",
      "source": [
        "A[\"name\"]"
      ],
      "metadata": {
        "colab": {
          "base_uri": "https://localhost:8080/",
          "height": 35
        },
        "id": "E1RJa1_uYiL5",
        "outputId": "49147cd4-9c2c-4bb8-e0c4-1e240ba6a138"
      },
      "execution_count": 121,
      "outputs": [
        {
          "output_type": "execute_result",
          "data": {
            "text/plain": [
              "'Estefania'"
            ],
            "application/vnd.google.colaboratory.intrinsic+json": {
              "type": "string"
            }
          },
          "metadata": {},
          "execution_count": 121
        }
      ]
    },
    {
      "cell_type": "code",
      "source": [
        "A.keys()"
      ],
      "metadata": {
        "colab": {
          "base_uri": "https://localhost:8080/"
        },
        "id": "SEvpoAdrYs19",
        "outputId": "c9322600-f50c-4b53-e03f-121d6603a3d5"
      },
      "execution_count": 122,
      "outputs": [
        {
          "output_type": "execute_result",
          "data": {
            "text/plain": [
              "dict_keys(['name', 'Age', 'Nickname'])"
            ]
          },
          "metadata": {},
          "execution_count": 122
        }
      ]
    },
    {
      "cell_type": "code",
      "source": [
        "A.values()"
      ],
      "metadata": {
        "colab": {
          "base_uri": "https://localhost:8080/"
        },
        "id": "1-RrqdLyZCI2",
        "outputId": "5927d12f-3ecc-473a-e456-f8aead0fd7cd"
      },
      "execution_count": 124,
      "outputs": [
        {
          "output_type": "execute_result",
          "data": {
            "text/plain": [
              "dict_values(['Estefania', 27, 'Aby'])"
            ]
          },
          "metadata": {},
          "execution_count": 124
        }
      ]
    },
    {
      "cell_type": "markdown",
      "source": [
        "###Add and delete"
      ],
      "metadata": {
        "id": "oA9gEl5ScLaQ"
      }
    },
    {
      "cell_type": "code",
      "source": [
        "A[\"Year\"]=1994\n",
        "A"
      ],
      "metadata": {
        "colab": {
          "base_uri": "https://localhost:8080/"
        },
        "id": "SJAjUUPpaxof",
        "outputId": "26d895cd-a86c-4029-a284-d5c648bc27e5"
      },
      "execution_count": 125,
      "outputs": [
        {
          "output_type": "execute_result",
          "data": {
            "text/plain": [
              "{'Name': 'Estefania', 'Age': 27, 'Nickname': 'Aby', 'Year': 1994}"
            ]
          },
          "metadata": {},
          "execution_count": 125
        }
      ]
    },
    {
      "cell_type": "code",
      "source": [
        "del(A[\"Year\"])\n",
        "A"
      ],
      "metadata": {
        "colab": {
          "base_uri": "https://localhost:8080/"
        },
        "id": "vNEredBZa6aR",
        "outputId": "4dbf11b0-bfaa-4e91-ea79-3507b3d12048"
      },
      "execution_count": 126,
      "outputs": [
        {
          "output_type": "execute_result",
          "data": {
            "text/plain": [
              "{'Name': 'Estefania', 'Age': 27, 'Nickname': 'Aby'}"
            ]
          },
          "metadata": {},
          "execution_count": 126
        }
      ]
    },
    {
      "cell_type": "markdown",
      "source": [
        "###Key in Dictionary"
      ],
      "metadata": {
        "id": "RYJg__bbcOT_"
      }
    },
    {
      "cell_type": "code",
      "source": [
        "\"Name\" in A"
      ],
      "metadata": {
        "colab": {
          "base_uri": "https://localhost:8080/"
        },
        "id": "SudOT7HpbAN1",
        "outputId": "9427ffad-8734-400f-d609-b7f1cac53697"
      },
      "execution_count": 127,
      "outputs": [
        {
          "output_type": "execute_result",
          "data": {
            "text/plain": [
              "True"
            ]
          },
          "metadata": {},
          "execution_count": 127
        }
      ]
    },
    {
      "cell_type": "markdown",
      "source": [
        "#Módulo 3"
      ],
      "metadata": {
        "id": "fjo0w364b-Qv"
      }
    },
    {
      "cell_type": "markdown",
      "source": [
        "##Conditions and Branching"
      ],
      "metadata": {
        "id": "1Keca1HScARY"
      }
    },
    {
      "cell_type": "markdown",
      "source": [
        "###Comparison"
      ],
      "metadata": {
        "id": "wl7zWkpGgmza"
      }
    },
    {
      "cell_type": "code",
      "source": [
        "#Comparison operators\n",
        "i=1\n",
        "if (i==0):\n",
        "  print(\"i=0\")\n",
        "else:\n",
        "  print(\"i no es 0\")"
      ],
      "metadata": {
        "colab": {
          "base_uri": "https://localhost:8080/"
        },
        "id": "ktDXY39AcDmA",
        "outputId": "b4e7a24d-7426-43f4-94fc-87de0cf2590b"
      },
      "execution_count": 133,
      "outputs": [
        {
          "output_type": "stream",
          "name": "stdout",
          "text": [
            "i no es 0\n"
          ]
        }
      ]
    },
    {
      "cell_type": "code",
      "source": [
        "#Letters can be compared\n",
        "print(\"B\"<\"A\")\n",
        "print(\"BA\">\"AB\")"
      ],
      "metadata": {
        "colab": {
          "base_uri": "https://localhost:8080/"
        },
        "id": "cMe94qQogTnc",
        "outputId": "74103a47-dbc9-4335-abd5-d01b6d21dadc"
      },
      "execution_count": 144,
      "outputs": [
        {
          "output_type": "stream",
          "name": "stdout",
          "text": [
            "False\n",
            "True\n"
          ]
        }
      ]
    },
    {
      "cell_type": "markdown",
      "source": [
        "###Branching"
      ],
      "metadata": {
        "id": "HalMrZ-dgp1j"
      }
    },
    {
      "cell_type": "code",
      "source": [
        "#Branching\n",
        "x = [\"Estefania\",\"Valeria\"]\n",
        "for name in x:\n",
        "  if (name==\"Estefania\"):\n",
        "      print(\"Soy yo!\")\n",
        "  else:\n",
        "    print(\"No soy yo :(\")"
      ],
      "metadata": {
        "colab": {
          "base_uri": "https://localhost:8080/"
        },
        "id": "rEjSZRRTbFfQ",
        "outputId": "b134e913-ae82-4b61-cb39-65198a3606f6"
      },
      "execution_count": 135,
      "outputs": [
        {
          "output_type": "stream",
          "name": "stdout",
          "text": [
            "Soy yo!\n",
            "No soy yo :(\n"
          ]
        }
      ]
    },
    {
      "cell_type": "code",
      "source": [
        "age= 18\n",
        "if age > 18:\n",
        "  print(\"Eres mayor de edad\")\n",
        "elif age == 18:\n",
        "  print(\"Saca tu INE\")\n",
        "else:\n",
        "  print(\"Eres menor de edad\")\n"
      ],
      "metadata": {
        "colab": {
          "base_uri": "https://localhost:8080/"
        },
        "id": "94lVTGkcg1Ii",
        "outputId": "bde95bff-9206-41b0-96f3-2592b732a249"
      },
      "execution_count": 146,
      "outputs": [
        {
          "output_type": "stream",
          "name": "stdout",
          "text": [
            "Saca tu INE\n"
          ]
        }
      ]
    },
    {
      "cell_type": "markdown",
      "source": [
        "###Logic operators"
      ],
      "metadata": {
        "id": "gtLAn0Sfi6tX"
      }
    },
    {
      "cell_type": "code",
      "source": [
        "#Logic operators\n",
        "y=22\n",
        "x=28\n",
        "x<30 and y<30"
      ],
      "metadata": {
        "colab": {
          "base_uri": "https://localhost:8080/"
        },
        "id": "MHMmIyM_bpxM",
        "outputId": "fe2630e4-ca8b-4cef-82f2-56abdb189957"
      },
      "execution_count": 140,
      "outputs": [
        {
          "output_type": "execute_result",
          "data": {
            "text/plain": [
              "True"
            ]
          },
          "metadata": {},
          "execution_count": 140
        }
      ]
    },
    {
      "cell_type": "code",
      "source": [
        "if (x<25) or (y<25):\n",
        "  print(\"Uno es menor a 25\")\n",
        "else:\n",
        "  print(\"Ninguno es menor a 25\")"
      ],
      "metadata": {
        "colab": {
          "base_uri": "https://localhost:8080/"
        },
        "id": "VmJOOYLQhmwu",
        "outputId": "ec305d6b-427a-4b78-b7f6-04ed07ee3dba"
      },
      "execution_count": 147,
      "outputs": [
        {
          "output_type": "stream",
          "name": "stdout",
          "text": [
            "Uno es menor a 25\n"
          ]
        }
      ]
    },
    {
      "cell_type": "code",
      "source": [
        "if (x-y>0):\n",
        "  print(\"x es mayor que y\")\n",
        "else:\n",
        "  print(\"y es menor que x\")"
      ],
      "metadata": {
        "colab": {
          "base_uri": "https://localhost:8080/"
        },
        "id": "OtLQiEaVfd-A",
        "outputId": "b2c33ed7-8ce7-4ad4-9c25-d3b7eb4d1ca4"
      },
      "execution_count": 139,
      "outputs": [
        {
          "output_type": "stream",
          "name": "stdout",
          "text": [
            "y es menor que x\n"
          ]
        }
      ]
    },
    {
      "cell_type": "markdown",
      "source": [
        "##Loops"
      ],
      "metadata": {
        "id": "eslz1a8bixON"
      }
    },
    {
      "cell_type": "code",
      "source": [
        "A=[3,4,5]\n",
        "for a in A:\n",
        "    print(a)\n"
      ],
      "metadata": {
        "id": "ic6Q_Mqbn9C3",
        "outputId": "2948cf47-b2a3-492e-d559-86acf73fbe37",
        "colab": {
          "base_uri": "https://localhost:8080/"
        }
      },
      "execution_count": 152,
      "outputs": [
        {
          "output_type": "stream",
          "name": "stdout",
          "text": [
            "3\n",
            "4\n",
            "5\n"
          ]
        }
      ]
    },
    {
      "cell_type": "code",
      "source": [
        "x=11\n",
        "y=1\n",
        "while(y != x):\n",
        "    print(y)\n",
        "    y=y+1"
      ],
      "metadata": {
        "id": "gXfgTU8Pn_RJ",
        "outputId": "514e3856-6903-4442-d0e7-ab0d1269f908",
        "colab": {
          "base_uri": "https://localhost:8080/"
        }
      },
      "execution_count": 153,
      "outputs": [
        {
          "output_type": "stream",
          "name": "stdout",
          "text": [
            "1\n",
            "2\n",
            "3\n",
            "4\n",
            "5\n",
            "6\n",
            "7\n",
            "8\n",
            "9\n",
            "10\n"
          ]
        }
      ]
    },
    {
      "cell_type": "code",
      "source": [
        "def f(*x):\n",
        "  return sum(x)\n",
        "\n",
        "x=f(1,0,3)\n",
        "x"
      ],
      "metadata": {
        "colab": {
          "base_uri": "https://localhost:8080/"
        },
        "id": "CxpwnfcOfuwR",
        "outputId": "b21d0e51-45e8-4a7b-951a-e81054427391"
      },
      "execution_count": 151,
      "outputs": [
        {
          "output_type": "execute_result",
          "data": {
            "text/plain": [
              "4"
            ]
          },
          "metadata": {},
          "execution_count": 151
        }
      ]
    },
    {
      "cell_type": "code",
      "source": [],
      "metadata": {
        "id": "Q6DZD1Cbm64b"
      },
      "execution_count": null,
      "outputs": []
    }
  ]
}