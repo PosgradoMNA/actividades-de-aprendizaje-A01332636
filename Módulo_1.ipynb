{
  "nbformat": 4,
  "nbformat_minor": 0,
  "metadata": {
    "colab": {
      "provenance": [],
      "authorship_tag": "ABX9TyOD9Be5JR5hr4bQOJzwgBHN",
      "include_colab_link": true
    },
    "kernelspec": {
      "name": "python3",
      "display_name": "Python 3"
    },
    "language_info": {
      "name": "python"
    }
  },
  "cells": [
    {
      "cell_type": "markdown",
      "metadata": {
        "id": "view-in-github",
        "colab_type": "text"
      },
      "source": [
        "<a href=\"https://colab.research.google.com/github/PosgradoMNA/actividades-de-aprendizaje-A01332636/blob/main/M%C3%B3dulo_1.ipynb\" target=\"_parent\"><img src=\"https://colab.research.google.com/assets/colab-badge.svg\" alt=\"Open In Colab\"/></a>"
      ]
    },
    {
      "cell_type": "markdown",
      "source": [
        "# Módulo 1"
      ],
      "metadata": {
        "id": "Zm9rdc-0g1S-"
      }
    },
    {
      "cell_type": "markdown",
      "source": [
        "##Say Hello"
      ],
      "metadata": {
        "id": "jXlQR_Lk8a3L"
      }
    },
    {
      "cell_type": "markdown",
      "source": [
        "Let's say hello to the world with a PRINT statement."
      ],
      "metadata": {
        "id": "0758udtS4kDo"
      }
    },
    {
      "cell_type": "code",
      "source": [
        "print(\"Hello World!\")"
      ],
      "metadata": {
        "id": "sCOp-1GPcovB",
        "colab": {
          "base_uri": "https://localhost:8080/"
        },
        "outputId": "9d8f72bd-99db-43ca-c5ca-044c1cac2e41"
      },
      "execution_count": null,
      "outputs": [
        {
          "output_type": "stream",
          "name": "stdout",
          "text": [
            "Hello World!\n"
          ]
        }
      ]
    },
    {
      "cell_type": "markdown",
      "source": [
        "Let's print \"Hello\" and \"World\" on two separate lines. Hint: \\n in the middle of the string acts as a new line character."
      ],
      "metadata": {
        "id": "vwaXVLY04tck"
      }
    },
    {
      "cell_type": "code",
      "source": [
        "print(\"Hello\\nWorld\")"
      ],
      "metadata": {
        "colab": {
          "base_uri": "https://localhost:8080/"
        },
        "id": "d5x9KAhL4o95",
        "outputId": "1c0dc8ed-c3ed-491d-e5ae-1b0d8e673459"
      },
      "execution_count": null,
      "outputs": [
        {
          "output_type": "stream",
          "name": "stdout",
          "text": [
            "Hello\n",
            "World\n"
          ]
        }
      ]
    },
    {
      "cell_type": "markdown",
      "source": [
        "Let's create a comment"
      ],
      "metadata": {
        "id": "rrm-WYR843vw"
      }
    },
    {
      "cell_type": "code",
      "source": [
        "#Comment"
      ],
      "metadata": {
        "id": "YZLFMvXw4xz7"
      },
      "execution_count": null,
      "outputs": []
    },
    {
      "cell_type": "markdown",
      "source": [
        "## Types"
      ],
      "metadata": {
        "id": "Zk2mPD1s6jfo"
      }
    },
    {
      "cell_type": "code",
      "source": [
        "type(\"Hello World\")"
      ],
      "metadata": {
        "colab": {
          "base_uri": "https://localhost:8080/"
        },
        "id": "fM1bk0ph47TH",
        "outputId": "beea57e4-09f5-4ee1-8ad1-22d945df25fb"
      },
      "execution_count": null,
      "outputs": [
        {
          "output_type": "execute_result",
          "data": {
            "text/plain": [
              "str"
            ]
          },
          "metadata": {},
          "execution_count": 4
        }
      ]
    },
    {
      "cell_type": "markdown",
      "source": [
        "Type of a number with \"\""
      ],
      "metadata": {
        "id": "Y1iuafu_6vmi"
      }
    },
    {
      "cell_type": "code",
      "source": [
        "type(\"1.1\")"
      ],
      "metadata": {
        "colab": {
          "base_uri": "https://localhost:8080/"
        },
        "id": "oo26e3I16uHn",
        "outputId": "5d9f43bd-fe7d-40c3-ab25-8912b48abaf5"
      },
      "execution_count": null,
      "outputs": [
        {
          "output_type": "execute_result",
          "data": {
            "text/plain": [
              "str"
            ]
          },
          "metadata": {},
          "execution_count": 5
        }
      ]
    },
    {
      "cell_type": "markdown",
      "source": [
        "## Is a Number Always a Number? \n",
        "Cast the following to an int and then to a bool"
      ],
      "metadata": {
        "id": "8Hsgk1rR6upy"
      }
    },
    {
      "cell_type": "code",
      "source": [
        "print(int(1))\n",
        "print(bool(1))"
      ],
      "metadata": {
        "colab": {
          "base_uri": "https://localhost:8080/"
        },
        "id": "jQDdg4bO68mG",
        "outputId": "ded9fbfd-9273-4405-ec90-10e51337996d"
      },
      "execution_count": null,
      "outputs": [
        {
          "output_type": "stream",
          "name": "stdout",
          "text": [
            "1\n",
            "True\n"
          ]
        }
      ]
    },
    {
      "cell_type": "code",
      "source": [
        "type(int(1.0))"
      ],
      "metadata": {
        "colab": {
          "base_uri": "https://localhost:8080/"
        },
        "id": "MIh4zsa-7D1_",
        "outputId": "d9dafb3c-cc9b-44ed-fde5-218bb2ea0cfd"
      },
      "execution_count": null,
      "outputs": [
        {
          "output_type": "execute_result",
          "data": {
            "text/plain": [
              "int"
            ]
          },
          "metadata": {},
          "execution_count": 7
        }
      ]
    },
    {
      "cell_type": "markdown",
      "source": [
        "What version of Python are we using?"
      ],
      "metadata": {
        "id": "GUVAjNt2-8Na"
      }
    },
    {
      "cell_type": "code",
      "source": [
        "import sys\n",
        "print (sys.version)"
      ],
      "metadata": {
        "colab": {
          "base_uri": "https://localhost:8080/"
        },
        "id": "vTT8r2u57O2R",
        "outputId": "72463513-6dac-497a-8925-5a899a6a870f"
      },
      "execution_count": null,
      "outputs": [
        {
          "output_type": "stream",
          "name": "stdout",
          "text": [
            "3.7.14 (default, Sep  8 2022, 00:06:44) \n",
            "[GCC 7.5.0]\n"
          ]
        }
      ]
    },
    {
      "cell_type": "markdown",
      "source": [
        "Writing comments in python"
      ],
      "metadata": {
        "id": "7iwVX0WfBHDK"
      }
    },
    {
      "cell_type": "code",
      "source": [
        "# Practice on writing comments\n",
        "\n",
        "print('Hello, Python!') # This line prints a string\n",
        "# print('Hi')"
      ],
      "metadata": {
        "colab": {
          "base_uri": "https://localhost:8080/"
        },
        "id": "8GgsOCOb_HSW",
        "outputId": "618169ec-e357-4437-967b-929a33f61f8e"
      },
      "execution_count": null,
      "outputs": [
        {
          "output_type": "stream",
          "name": "stdout",
          "text": [
            "Hello, Python!\n"
          ]
        }
      ]
    },
    {
      "cell_type": "markdown",
      "source": [
        "## Errors in python"
      ],
      "metadata": {
        "id": "yVm2jEg1BLPe"
      }
    },
    {
      "cell_type": "markdown",
      "source": [
        "print as frint"
      ],
      "metadata": {
        "id": "bzr-2_hYBUSK"
      }
    },
    {
      "cell_type": "code",
      "source": [
        "# Print string as error message\n",
        "frint(\"Hello, Python!\")"
      ],
      "metadata": {
        "colab": {
          "base_uri": "https://localhost:8080/",
          "height": 183
        },
        "id": "YTxn_UcABI_B",
        "outputId": "13f03f75-23b8-44ae-deb6-a0f0c6b5dc94"
      },
      "execution_count": null,
      "outputs": [
        {
          "output_type": "error",
          "ename": "NameError",
          "evalue": "ignored",
          "traceback": [
            "\u001b[0;31m---------------------------------------------------------------------------\u001b[0m",
            "\u001b[0;31mNameError\u001b[0m                                 Traceback (most recent call last)",
            "\u001b[0;32m<ipython-input-10-1e06465536be>\u001b[0m in \u001b[0;36m<module>\u001b[0;34m\u001b[0m\n\u001b[1;32m      1\u001b[0m \u001b[0;31m# Print string as error message\u001b[0m\u001b[0;34m\u001b[0m\u001b[0;34m\u001b[0m\u001b[0;34m\u001b[0m\u001b[0m\n\u001b[0;32m----> 2\u001b[0;31m \u001b[0mfrint\u001b[0m\u001b[0;34m(\u001b[0m\u001b[0;34m\"Hello, Python!\"\u001b[0m\u001b[0;34m)\u001b[0m\u001b[0;34m\u001b[0m\u001b[0;34m\u001b[0m\u001b[0m\n\u001b[0m",
            "\u001b[0;31mNameError\u001b[0m: name 'frint' is not defined"
          ]
        }
      ]
    },
    {
      "cell_type": "markdown",
      "source": [
        "The error message tells you:\n",
        "\n",
        "where the error occurred (more useful in large notebook cells or scripts), and\n",
        "what kind of error it was (NameError)\n",
        "Here, Python attempted to run the function frint, but could not determine what frint is since it's not a built-in function and it has not been previously defined by us either.\n",
        "You'll notice that if we make a different type of mistake, by forgetting to close the string, we'll obtain a different error (i.e., a SyntaxError). Try it below:"
      ],
      "metadata": {
        "id": "BbQkdvq-Bgc-"
      }
    },
    {
      "cell_type": "code",
      "source": [
        "# Try to see built-in error message\n",
        "print(\"Hello, Python!)"
      ],
      "metadata": {
        "colab": {
          "base_uri": "https://localhost:8080/",
          "height": 130
        },
        "id": "Kp-S9p7qBjOT",
        "outputId": "a860c1fc-01cc-491c-8494-20d1635de19e"
      },
      "execution_count": null,
      "outputs": [
        {
          "output_type": "error",
          "ename": "SyntaxError",
          "evalue": "ignored",
          "traceback": [
            "\u001b[0;36m  File \u001b[0;32m\"<ipython-input-11-52d11b2bf794>\"\u001b[0;36m, line \u001b[0;32m2\u001b[0m\n\u001b[0;31m    print(\"Hello, Python!)\u001b[0m\n\u001b[0m                          ^\u001b[0m\n\u001b[0;31mSyntaxError\u001b[0m\u001b[0;31m:\u001b[0m EOL while scanning string literal\n"
          ]
        }
      ]
    },
    {
      "cell_type": "markdown",
      "source": [
        "##Does Python know about your error before it runs your code?\n",
        "Python is what is called an interpreted language. Compiled languages examine your entire program at compile time, and are able to warn you about a whole class of errors prior to execution. In contrast, Python interprets your script line by line as it executes it. Python will stop executing the entire program when it encounters an error (unless the error is expected and handled by the programmer, a more advanced subject that we'll cover later on in this course).\n",
        "\n",
        "Try to run the code in the cell below and see what happens:"
      ],
      "metadata": {
        "id": "pva6-aEJCFeV"
      }
    },
    {
      "cell_type": "code",
      "source": [
        "print(\"This will be printed\")\n",
        "frint(\"This will cause an error\")\n",
        "print(\"This will NOT be printed\")"
      ],
      "metadata": {
        "colab": {
          "base_uri": "https://localhost:8080/",
          "height": 217
        },
        "id": "tF3DLLwpBs4R",
        "outputId": "f57c79cd-8637-4462-9711-56f63175e260"
      },
      "execution_count": null,
      "outputs": [
        {
          "output_type": "stream",
          "name": "stdout",
          "text": [
            "This will be printed\n"
          ]
        },
        {
          "output_type": "error",
          "ename": "NameError",
          "evalue": "ignored",
          "traceback": [
            "\u001b[0;31m---------------------------------------------------------------------------\u001b[0m",
            "\u001b[0;31mNameError\u001b[0m                                 Traceback (most recent call last)",
            "\u001b[0;32m<ipython-input-12-aa3f0d14d353>\u001b[0m in \u001b[0;36m<module>\u001b[0;34m\u001b[0m\n\u001b[1;32m      1\u001b[0m \u001b[0mprint\u001b[0m\u001b[0;34m(\u001b[0m\u001b[0;34m\"This will be printed\"\u001b[0m\u001b[0;34m)\u001b[0m\u001b[0;34m\u001b[0m\u001b[0;34m\u001b[0m\u001b[0m\n\u001b[0;32m----> 2\u001b[0;31m \u001b[0mfrint\u001b[0m\u001b[0;34m(\u001b[0m\u001b[0;34m\"This will cause an error\"\u001b[0m\u001b[0;34m)\u001b[0m\u001b[0;34m\u001b[0m\u001b[0;34m\u001b[0m\u001b[0m\n\u001b[0m\u001b[1;32m      3\u001b[0m \u001b[0mprint\u001b[0m\u001b[0;34m(\u001b[0m\u001b[0;34m\"This will NOT be printed\"\u001b[0m\u001b[0;34m)\u001b[0m\u001b[0;34m\u001b[0m\u001b[0;34m\u001b[0m\u001b[0m\n",
            "\u001b[0;31mNameError\u001b[0m: name 'frint' is not defined"
          ]
        }
      ]
    },
    {
      "cell_type": "markdown",
      "source": [
        "Exercise"
      ],
      "metadata": {
        "id": "UNDAw2y6Fy9Q"
      }
    },
    {
      "cell_type": "code",
      "source": [
        "print(\"Hello world!\")"
      ],
      "metadata": {
        "colab": {
          "base_uri": "https://localhost:8080/"
        },
        "id": "VGVrjOafGC52",
        "outputId": "8f96c9b0-703b-4f36-e0bb-b653b397d3f1"
      },
      "execution_count": null,
      "outputs": [
        {
          "output_type": "stream",
          "name": "stdout",
          "text": [
            "Hello world!\n"
          ]
        }
      ]
    },
    {
      "cell_type": "code",
      "source": [
        "print (\"Hello world!\") #Print the traditional hello world"
      ],
      "metadata": {
        "colab": {
          "base_uri": "https://localhost:8080/"
        },
        "id": "u1PDfb64GL9Q",
        "outputId": "032f7129-ff96-4b04-b84a-5fb58ab14e05"
      },
      "execution_count": null,
      "outputs": [
        {
          "output_type": "stream",
          "name": "stdout",
          "text": [
            "Hello world!\n"
          ]
        }
      ]
    },
    {
      "cell_type": "markdown",
      "source": [
        "##Types of objects in python"
      ],
      "metadata": {
        "id": "tzVowNWqGUHH"
      }
    },
    {
      "cell_type": "code",
      "source": [
        "print(1, \"= int\") #int\n",
        "type(1) "
      ],
      "metadata": {
        "colab": {
          "base_uri": "https://localhost:8080/"
        },
        "id": "Z4vPDhyOGQ7g",
        "outputId": "626ddd23-dbde-439f-c89d-ec07cf99b78c"
      },
      "execution_count": null,
      "outputs": [
        {
          "output_type": "stream",
          "name": "stdout",
          "text": [
            "1 = int\n"
          ]
        },
        {
          "output_type": "execute_result",
          "data": {
            "text/plain": [
              "int"
            ]
          },
          "metadata": {},
          "execution_count": 15
        }
      ]
    },
    {
      "cell_type": "code",
      "source": [
        "print(2.0,\"= float\")\n",
        "type(2.0) #float"
      ],
      "metadata": {
        "colab": {
          "base_uri": "https://localhost:8080/"
        },
        "id": "j5fYoyecJhQ_",
        "outputId": "44c2ff9b-cd7b-43e8-ad67-fefc3f821ecb"
      },
      "execution_count": null,
      "outputs": [
        {
          "output_type": "stream",
          "name": "stdout",
          "text": [
            "2.0 = float\n"
          ]
        },
        {
          "output_type": "execute_result",
          "data": {
            "text/plain": [
              "float"
            ]
          },
          "metadata": {},
          "execution_count": 16
        }
      ]
    },
    {
      "cell_type": "code",
      "source": [
        "print(\"Abigail = String\")\n",
        "type(\"Abigail\") #string"
      ],
      "metadata": {
        "colab": {
          "base_uri": "https://localhost:8080/"
        },
        "id": "k8PSJOPrJjRD",
        "outputId": "9f646ae7-a497-461f-9a87-f05a6aa6c419"
      },
      "execution_count": null,
      "outputs": [
        {
          "output_type": "stream",
          "name": "stdout",
          "text": [
            "Abigail = String\n"
          ]
        },
        {
          "output_type": "execute_result",
          "data": {
            "text/plain": [
              "str"
            ]
          },
          "metadata": {},
          "execution_count": 17
        }
      ]
    },
    {
      "cell_type": "markdown",
      "source": [
        "##Integers"
      ],
      "metadata": {
        "id": "o7sTSZhtLsNo"
      }
    },
    {
      "cell_type": "code",
      "source": [
        "type(-1)"
      ],
      "metadata": {
        "colab": {
          "base_uri": "https://localhost:8080/"
        },
        "id": "ijHdGw8xJlXQ",
        "outputId": "d7b462dd-fd76-45ec-e38b-d5bc08722fba"
      },
      "execution_count": null,
      "outputs": [
        {
          "output_type": "execute_result",
          "data": {
            "text/plain": [
              "int"
            ]
          },
          "metadata": {},
          "execution_count": 18
        }
      ]
    },
    {
      "cell_type": "code",
      "source": [
        "type(4)"
      ],
      "metadata": {
        "colab": {
          "base_uri": "https://localhost:8080/"
        },
        "id": "sa0vxXG0L0KZ",
        "outputId": "07b5a56c-564a-452c-8aba-bf2d1e076d6e"
      },
      "execution_count": null,
      "outputs": [
        {
          "output_type": "execute_result",
          "data": {
            "text/plain": [
              "int"
            ]
          },
          "metadata": {},
          "execution_count": 19
        }
      ]
    },
    {
      "cell_type": "code",
      "source": [
        "type(0)"
      ],
      "metadata": {
        "colab": {
          "base_uri": "https://localhost:8080/"
        },
        "id": "zHl1anAJL03E",
        "outputId": "b6162276-ee3b-40e2-ecd8-cd1c8dd4a3a2"
      },
      "execution_count": null,
      "outputs": [
        {
          "output_type": "execute_result",
          "data": {
            "text/plain": [
              "int"
            ]
          },
          "metadata": {},
          "execution_count": 20
        }
      ]
    },
    {
      "cell_type": "markdown",
      "source": [
        "##Float"
      ],
      "metadata": {
        "id": "XI5MjoqIL89x"
      }
    },
    {
      "cell_type": "code",
      "source": [
        "type(1.0)"
      ],
      "metadata": {
        "colab": {
          "base_uri": "https://localhost:8080/"
        },
        "id": "GikcDQvML1b8",
        "outputId": "e887d644-be44-44cd-9163-72be975a2d5c"
      },
      "execution_count": null,
      "outputs": [
        {
          "output_type": "execute_result",
          "data": {
            "text/plain": [
              "float"
            ]
          },
          "metadata": {},
          "execution_count": 21
        }
      ]
    },
    {
      "cell_type": "code",
      "source": [
        "type(0.56)"
      ],
      "metadata": {
        "colab": {
          "base_uri": "https://localhost:8080/"
        },
        "id": "hIL0L5mGL-5I",
        "outputId": "0324d58a-c75c-4f28-ab6c-55395c8a9fb2"
      },
      "execution_count": null,
      "outputs": [
        {
          "output_type": "execute_result",
          "data": {
            "text/plain": [
              "float"
            ]
          },
          "metadata": {},
          "execution_count": 22
        }
      ]
    },
    {
      "cell_type": "code",
      "source": [
        "type(-.587)"
      ],
      "metadata": {
        "colab": {
          "base_uri": "https://localhost:8080/"
        },
        "id": "DU_oqn_QL_0z",
        "outputId": "0bd28bba-b708-4465-f84a-1844ec136cda"
      },
      "execution_count": null,
      "outputs": [
        {
          "output_type": "execute_result",
          "data": {
            "text/plain": [
              "float"
            ]
          },
          "metadata": {},
          "execution_count": 23
        }
      ]
    },
    {
      "cell_type": "code",
      "source": [
        "# System settings about float type\n",
        "\n",
        "sys.float_info"
      ],
      "metadata": {
        "colab": {
          "base_uri": "https://localhost:8080/"
        },
        "id": "jA-q5C1kMB7J",
        "outputId": "cdb2382b-dbd6-4432-ec68-0b3c2343113c"
      },
      "execution_count": null,
      "outputs": [
        {
          "output_type": "execute_result",
          "data": {
            "text/plain": [
              "sys.float_info(max=1.7976931348623157e+308, max_exp=1024, max_10_exp=308, min=2.2250738585072014e-308, min_exp=-1021, min_10_exp=-307, dig=15, mant_dig=53, epsilon=2.220446049250313e-16, radix=2, rounds=1)"
            ]
          },
          "metadata": {},
          "execution_count": 24
        }
      ]
    },
    {
      "cell_type": "markdown",
      "source": [
        "##Converting from one object type to a different object type"
      ],
      "metadata": {
        "id": "A9ctH9Y7MG8A"
      }
    },
    {
      "cell_type": "markdown",
      "source": [
        "You can change the type of the object in Python; this is called typecasting. For example, you can convert an integer into a float (e.g. 2 to 2.0).\n",
        "\n",
        "Let's try it:"
      ],
      "metadata": {
        "id": "RULnCSqKM1yX"
      }
    },
    {
      "cell_type": "code",
      "source": [
        "float(3)"
      ],
      "metadata": {
        "colab": {
          "base_uri": "https://localhost:8080/"
        },
        "id": "K5W70_2lMC3Z",
        "outputId": "eb995934-d3d5-415e-d060-58cb99c8cf83"
      },
      "execution_count": null,
      "outputs": [
        {
          "output_type": "execute_result",
          "data": {
            "text/plain": [
              "3.0"
            ]
          },
          "metadata": {},
          "execution_count": 25
        }
      ]
    },
    {
      "cell_type": "code",
      "source": [
        "int(1.1) #Al cambiar un float a entero se perderá información"
      ],
      "metadata": {
        "colab": {
          "base_uri": "https://localhost:8080/"
        },
        "id": "-e6AHFU9NVD_",
        "outputId": "f432c3ee-8f98-4877-839b-05eed607338d"
      },
      "execution_count": null,
      "outputs": [
        {
          "output_type": "execute_result",
          "data": {
            "text/plain": [
              "1"
            ]
          },
          "metadata": {},
          "execution_count": 26
        }
      ]
    },
    {
      "cell_type": "markdown",
      "source": [
        "String to in or float"
      ],
      "metadata": {
        "id": "3lmhGophPDKT"
      }
    },
    {
      "cell_type": "code",
      "source": [
        "type(int(\"1\"))"
      ],
      "metadata": {
        "colab": {
          "base_uri": "https://localhost:8080/"
        },
        "id": "hQ-qIG3POKWP",
        "outputId": "3857a931-50c0-4a7a-f6cd-c420165ac564"
      },
      "execution_count": null,
      "outputs": [
        {
          "output_type": "execute_result",
          "data": {
            "text/plain": [
              "int"
            ]
          },
          "metadata": {},
          "execution_count": 27
        }
      ]
    },
    {
      "cell_type": "code",
      "source": [
        "type(float(1.0))"
      ],
      "metadata": {
        "colab": {
          "base_uri": "https://localhost:8080/"
        },
        "id": "I3ta-JWfPGJJ",
        "outputId": "e71eb31a-dd8f-4fc9-8a39-78c1900cf834"
      },
      "execution_count": null,
      "outputs": [
        {
          "output_type": "execute_result",
          "data": {
            "text/plain": [
              "float"
            ]
          },
          "metadata": {},
          "execution_count": 28
        }
      ]
    },
    {
      "cell_type": "code",
      "source": [
        "type(int(\"1 or 2\"))"
      ],
      "metadata": {
        "colab": {
          "base_uri": "https://localhost:8080/",
          "height": 165
        },
        "id": "_FAnUDS4PpBf",
        "outputId": "2721e7c5-7c74-47d6-971e-05f839e79f31"
      },
      "execution_count": null,
      "outputs": [
        {
          "output_type": "error",
          "ename": "ValueError",
          "evalue": "ignored",
          "traceback": [
            "\u001b[0;31m---------------------------------------------------------------------------\u001b[0m",
            "\u001b[0;31mValueError\u001b[0m                                Traceback (most recent call last)",
            "\u001b[0;32m<ipython-input-29-48004d3923a2>\u001b[0m in \u001b[0;36m<module>\u001b[0;34m\u001b[0m\n\u001b[0;32m----> 1\u001b[0;31m \u001b[0mtype\u001b[0m\u001b[0;34m(\u001b[0m\u001b[0mint\u001b[0m\u001b[0;34m(\u001b[0m\u001b[0;34m\"1 or 2\"\u001b[0m\u001b[0;34m)\u001b[0m\u001b[0;34m)\u001b[0m\u001b[0;34m\u001b[0m\u001b[0;34m\u001b[0m\u001b[0m\n\u001b[0m",
            "\u001b[0;31mValueError\u001b[0m: invalid literal for int() with base 10: '1 or 2'"
          ]
        }
      ]
    },
    {
      "cell_type": "markdown",
      "source": [
        "Numbers to string"
      ],
      "metadata": {
        "id": "xRw442DtP7IR"
      }
    },
    {
      "cell_type": "code",
      "source": [
        "str(1)"
      ],
      "metadata": {
        "colab": {
          "base_uri": "https://localhost:8080/",
          "height": 35
        },
        "id": "cyu3OC9tPtnD",
        "outputId": "a0e8649c-6ead-4977-bed7-e71fc702d264"
      },
      "execution_count": null,
      "outputs": [
        {
          "output_type": "execute_result",
          "data": {
            "text/plain": [
              "'1'"
            ],
            "application/vnd.google.colaboratory.intrinsic+json": {
              "type": "string"
            }
          },
          "metadata": {},
          "execution_count": 30
        }
      ]
    },
    {
      "cell_type": "code",
      "source": [
        "str(1.0)"
      ],
      "metadata": {
        "colab": {
          "base_uri": "https://localhost:8080/",
          "height": 35
        },
        "id": "OiXsO-usP_jJ",
        "outputId": "2477b2a8-4da7-4418-a2bf-1362db6e074e"
      },
      "execution_count": null,
      "outputs": [
        {
          "output_type": "execute_result",
          "data": {
            "text/plain": [
              "'1.0'"
            ],
            "application/vnd.google.colaboratory.intrinsic+json": {
              "type": "string"
            }
          },
          "metadata": {},
          "execution_count": 31
        }
      ]
    },
    {
      "cell_type": "markdown",
      "source": [
        "##Boolean Data Type"
      ],
      "metadata": {
        "id": "iXmaBEFeQFyR"
      }
    },
    {
      "cell_type": "code",
      "source": [
        "True"
      ],
      "metadata": {
        "colab": {
          "base_uri": "https://localhost:8080/"
        },
        "id": "llMK06mGQAkk",
        "outputId": "96447b26-0b97-4adb-8028-5ad7a29db731"
      },
      "execution_count": null,
      "outputs": [
        {
          "output_type": "execute_result",
          "data": {
            "text/plain": [
              "True"
            ]
          },
          "metadata": {},
          "execution_count": 32
        }
      ]
    },
    {
      "cell_type": "code",
      "source": [
        "False"
      ],
      "metadata": {
        "colab": {
          "base_uri": "https://localhost:8080/"
        },
        "id": "AZjoi3yDQJxW",
        "outputId": "d0919e91-86d8-417d-a498-3571b6ebbcb1"
      },
      "execution_count": null,
      "outputs": [
        {
          "output_type": "execute_result",
          "data": {
            "text/plain": [
              "False"
            ]
          },
          "metadata": {},
          "execution_count": 33
        }
      ]
    },
    {
      "cell_type": "code",
      "source": [
        "type(True)"
      ],
      "metadata": {
        "colab": {
          "base_uri": "https://localhost:8080/"
        },
        "id": "n9f_6lQ_QOe5",
        "outputId": "59a9f0a7-2e29-49f9-833e-2873f65a2010"
      },
      "execution_count": null,
      "outputs": [
        {
          "output_type": "execute_result",
          "data": {
            "text/plain": [
              "bool"
            ]
          },
          "metadata": {},
          "execution_count": 34
        }
      ]
    },
    {
      "cell_type": "code",
      "source": [
        "type(False)"
      ],
      "metadata": {
        "colab": {
          "base_uri": "https://localhost:8080/"
        },
        "id": "Du0pPq-FQRui",
        "outputId": "6e19c19f-a789-4030-c06a-a85304d790fa"
      },
      "execution_count": null,
      "outputs": [
        {
          "output_type": "execute_result",
          "data": {
            "text/plain": [
              "bool"
            ]
          },
          "metadata": {},
          "execution_count": 35
        }
      ]
    },
    {
      "cell_type": "code",
      "source": [
        "int(True)"
      ],
      "metadata": {
        "colab": {
          "base_uri": "https://localhost:8080/"
        },
        "id": "NnF8Lr09QVQO",
        "outputId": "91b77f1d-b6b8-4ec1-9d65-b7504d08020d"
      },
      "execution_count": null,
      "outputs": [
        {
          "output_type": "execute_result",
          "data": {
            "text/plain": [
              "1"
            ]
          },
          "metadata": {},
          "execution_count": 36
        }
      ]
    },
    {
      "cell_type": "code",
      "source": [
        "int(False)"
      ],
      "metadata": {
        "colab": {
          "base_uri": "https://localhost:8080/"
        },
        "id": "-UWqF_6OQWQq",
        "outputId": "4f125f3a-e4b5-4a15-97ce-2256172b79d1"
      },
      "execution_count": null,
      "outputs": [
        {
          "output_type": "execute_result",
          "data": {
            "text/plain": [
              "0"
            ]
          },
          "metadata": {},
          "execution_count": 37
        }
      ]
    },
    {
      "cell_type": "code",
      "source": [
        "bool(1)"
      ],
      "metadata": {
        "colab": {
          "base_uri": "https://localhost:8080/"
        },
        "id": "bfM3EdNMQXR6",
        "outputId": "d80336a4-df09-4988-8b0f-5915b25009e3"
      },
      "execution_count": null,
      "outputs": [
        {
          "output_type": "execute_result",
          "data": {
            "text/plain": [
              "True"
            ]
          },
          "metadata": {},
          "execution_count": 38
        }
      ]
    },
    {
      "cell_type": "code",
      "source": [
        "bool (0)"
      ],
      "metadata": {
        "colab": {
          "base_uri": "https://localhost:8080/"
        },
        "id": "KrKEF3onQcf4",
        "outputId": "8f0db4a4-f445-4e73-a973-855e25976f78"
      },
      "execution_count": null,
      "outputs": [
        {
          "output_type": "execute_result",
          "data": {
            "text/plain": [
              "False"
            ]
          },
          "metadata": {},
          "execution_count": 39
        }
      ]
    },
    {
      "cell_type": "code",
      "source": [
        "float(True)"
      ],
      "metadata": {
        "colab": {
          "base_uri": "https://localhost:8080/"
        },
        "id": "Qi5xMCW6QdYa",
        "outputId": "fd22da9c-25ad-470e-9622-39a9d059a917"
      },
      "execution_count": null,
      "outputs": [
        {
          "output_type": "execute_result",
          "data": {
            "text/plain": [
              "1.0"
            ]
          },
          "metadata": {},
          "execution_count": 40
        }
      ]
    },
    {
      "cell_type": "markdown",
      "source": [
        "##Types"
      ],
      "metadata": {
        "id": "sS2Nzz22QhOT"
      }
    },
    {
      "cell_type": "code",
      "source": [
        "type(6/2)"
      ],
      "metadata": {
        "colab": {
          "base_uri": "https://localhost:8080/"
        },
        "id": "pc5IPth8QeMq",
        "outputId": "593cf7c3-008f-4c8c-945a-47171010a733"
      },
      "execution_count": null,
      "outputs": [
        {
          "output_type": "execute_result",
          "data": {
            "text/plain": [
              "float"
            ]
          },
          "metadata": {},
          "execution_count": 41
        }
      ]
    },
    {
      "cell_type": "code",
      "source": [
        "type(6//2)"
      ],
      "metadata": {
        "colab": {
          "base_uri": "https://localhost:8080/"
        },
        "id": "qZntOBgLQlEZ",
        "outputId": "ae5803cd-0ec7-4fb3-b6da-49a9f9c217b0"
      },
      "execution_count": null,
      "outputs": [
        {
          "output_type": "execute_result",
          "data": {
            "text/plain": [
              "int"
            ]
          },
          "metadata": {},
          "execution_count": 42
        }
      ]
    },
    {
      "cell_type": "markdown",
      "source": [
        "##Expressions and variables"
      ],
      "metadata": {
        "id": "fWrwZdh2Qrqp"
      }
    },
    {
      "cell_type": "code",
      "source": [
        "#+\n",
        "50+20+40+4"
      ],
      "metadata": {
        "colab": {
          "base_uri": "https://localhost:8080/"
        },
        "id": "RZKSMKTNQl9r",
        "outputId": "b4114465-d04b-4916-91ad-9abfaa4a609c"
      },
      "execution_count": null,
      "outputs": [
        {
          "output_type": "execute_result",
          "data": {
            "text/plain": [
              "114"
            ]
          },
          "metadata": {},
          "execution_count": 43
        }
      ]
    },
    {
      "cell_type": "code",
      "source": [
        "#-\n",
        "50-20"
      ],
      "metadata": {
        "colab": {
          "base_uri": "https://localhost:8080/"
        },
        "id": "rm7FBUeiQ0Cp",
        "outputId": "a37a2ee2-b133-46fc-8dd3-c5e10ead797d"
      },
      "execution_count": null,
      "outputs": [
        {
          "output_type": "execute_result",
          "data": {
            "text/plain": [
              "30"
            ]
          },
          "metadata": {},
          "execution_count": 44
        }
      ]
    },
    {
      "cell_type": "code",
      "source": [
        "#*\n",
        "2*4"
      ],
      "metadata": {
        "colab": {
          "base_uri": "https://localhost:8080/"
        },
        "id": "C1fNcWuBQ3yg",
        "outputId": "38e4df55-de0c-483b-e036-7ece771e3bae"
      },
      "execution_count": null,
      "outputs": [
        {
          "output_type": "execute_result",
          "data": {
            "text/plain": [
              "8"
            ]
          },
          "metadata": {},
          "execution_count": 45
        }
      ]
    },
    {
      "cell_type": "code",
      "source": [
        "# /\n",
        "25/5"
      ],
      "metadata": {
        "colab": {
          "base_uri": "https://localhost:8080/"
        },
        "id": "Yta7PNijQ5KQ",
        "outputId": "3250380e-bd0c-4488-e292-f0b5618c9278"
      },
      "execution_count": null,
      "outputs": [
        {
          "output_type": "execute_result",
          "data": {
            "text/plain": [
              "5.0"
            ]
          },
          "metadata": {},
          "execution_count": 46
        }
      ]
    },
    {
      "cell_type": "code",
      "source": [
        "# //\n",
        "25//4"
      ],
      "metadata": {
        "colab": {
          "base_uri": "https://localhost:8080/"
        },
        "id": "DPZoUQNmQ9_X",
        "outputId": "99645aaa-5936-4f30-8243-515e4d8c91ef"
      },
      "execution_count": null,
      "outputs": [
        {
          "output_type": "execute_result",
          "data": {
            "text/plain": [
              "6"
            ]
          },
          "metadata": {},
          "execution_count": 47
        }
      ]
    },
    {
      "cell_type": "markdown",
      "source": [
        "##Expression"
      ],
      "metadata": {
        "id": "Z-3kpKdoRF-y"
      }
    },
    {
      "cell_type": "code",
      "source": [
        "160//60"
      ],
      "metadata": {
        "colab": {
          "base_uri": "https://localhost:8080/"
        },
        "id": "fKmi7MZ7RB32",
        "outputId": "d5bef9ef-c3ec-46fa-aba9-7abdbe8581cc"
      },
      "execution_count": null,
      "outputs": [
        {
          "output_type": "execute_result",
          "data": {
            "text/plain": [
              "2"
            ]
          },
          "metadata": {},
          "execution_count": 48
        }
      ]
    },
    {
      "cell_type": "code",
      "source": [
        "160/60"
      ],
      "metadata": {
        "colab": {
          "base_uri": "https://localhost:8080/"
        },
        "id": "fGC85sPdRJ1g",
        "outputId": "e94e7af5-bf73-42cc-ef39-6cb24c4ccae3"
      },
      "execution_count": null,
      "outputs": [
        {
          "output_type": "execute_result",
          "data": {
            "text/plain": [
              "2.6666666666666665"
            ]
          },
          "metadata": {},
          "execution_count": 49
        }
      ]
    },
    {
      "cell_type": "code",
      "source": [
        "# Mathematical expression\n",
        "\n",
        "10 + 3 * 20"
      ],
      "metadata": {
        "colab": {
          "base_uri": "https://localhost:8080/"
        },
        "id": "HYwkU4-fRLwL",
        "outputId": "bf3500c0-f713-452e-d7d1-403b6539f799"
      },
      "execution_count": null,
      "outputs": [
        {
          "output_type": "execute_result",
          "data": {
            "text/plain": [
              "70"
            ]
          },
          "metadata": {},
          "execution_count": 50
        }
      ]
    },
    {
      "cell_type": "code",
      "source": [
        "(20-2)*3"
      ],
      "metadata": {
        "colab": {
          "base_uri": "https://localhost:8080/"
        },
        "id": "veAOCagRRQXb",
        "outputId": "9fa84c03-7c8c-4ed4-bb38-555fab87da3d"
      },
      "execution_count": null,
      "outputs": [
        {
          "output_type": "execute_result",
          "data": {
            "text/plain": [
              "54"
            ]
          },
          "metadata": {},
          "execution_count": 51
        }
      ]
    },
    {
      "cell_type": "markdown",
      "source": [
        "Expression and variables"
      ],
      "metadata": {
        "id": "25Kz-HWSRVVM"
      }
    },
    {
      "cell_type": "code",
      "source": [
        "x=49+5-5\n",
        "x"
      ],
      "metadata": {
        "colab": {
          "base_uri": "https://localhost:8080/"
        },
        "id": "5Oq4_p3aRTXw",
        "outputId": "3d1354a0-101f-4bd0-e2c1-58badccc4775"
      },
      "execution_count": null,
      "outputs": [
        {
          "output_type": "execute_result",
          "data": {
            "text/plain": [
              "49"
            ]
          },
          "metadata": {},
          "execution_count": 52
        }
      ]
    },
    {
      "cell_type": "code",
      "source": [
        "y = 5*2\n",
        "y"
      ],
      "metadata": {
        "colab": {
          "base_uri": "https://localhost:8080/"
        },
        "id": "whiiu3E0Tth4",
        "outputId": "71760b8c-5c7d-4f79-9945-b1ae55df9ed6"
      },
      "execution_count": null,
      "outputs": [
        {
          "output_type": "execute_result",
          "data": {
            "text/plain": [
              "10"
            ]
          },
          "metadata": {},
          "execution_count": 53
        }
      ]
    },
    {
      "cell_type": "code",
      "source": [
        "z= x*y\n",
        "z"
      ],
      "metadata": {
        "colab": {
          "base_uri": "https://localhost:8080/"
        },
        "id": "OFxW994NUfXY",
        "outputId": "3e5995fa-5335-41d1-dfb9-320bf8f476c6"
      },
      "execution_count": null,
      "outputs": [
        {
          "output_type": "execute_result",
          "data": {
            "text/plain": [
              "490"
            ]
          },
          "metadata": {},
          "execution_count": 54
        }
      ]
    },
    {
      "cell_type": "markdown",
      "source": [
        "##String Operators"
      ],
      "metadata": {
        "id": "hMJ-0cl3Ux89"
      }
    },
    {
      "cell_type": "markdown",
      "source": [
        "Slicing"
      ],
      "metadata": {
        "id": "zRQ6JS98XXsI"
      }
    },
    {
      "cell_type": "code",
      "source": [
        "Letter= \"Slicing\"\n",
        "Letter[0:3]"
      ],
      "metadata": {
        "colab": {
          "base_uri": "https://localhost:8080/",
          "height": 35
        },
        "id": "AWyRaELKUjuf",
        "outputId": "675fdd59-23f9-476d-853f-82f7bb6ef5f0"
      },
      "execution_count": null,
      "outputs": [
        {
          "output_type": "execute_result",
          "data": {
            "text/plain": [
              "'Sli'"
            ],
            "application/vnd.google.colaboratory.intrinsic+json": {
              "type": "string"
            }
          },
          "metadata": {},
          "execution_count": 55
        }
      ]
    },
    {
      "cell_type": "markdown",
      "source": [
        "Strides Are Good"
      ],
      "metadata": {
        "id": "FwCVzWVBXsVd"
      }
    },
    {
      "cell_type": "code",
      "source": [
        "Good=\"HiabjL\"\n",
        "Good[::2]"
      ],
      "metadata": {
        "colab": {
          "base_uri": "https://localhost:8080/",
          "height": 35
        },
        "id": "oKxQb7enXa1-",
        "outputId": "b54dbe2d-371f-4429-c810-db7f28daa4d1"
      },
      "execution_count": null,
      "outputs": [
        {
          "output_type": "execute_result",
          "data": {
            "text/plain": [
              "'Haj'"
            ],
            "application/vnd.google.colaboratory.intrinsic+json": {
              "type": "string"
            }
          },
          "metadata": {},
          "execution_count": 56
        }
      ]
    },
    {
      "cell_type": "markdown",
      "source": [
        "Uppercase"
      ],
      "metadata": {
        "id": "awYcHg3lYMNB"
      }
    },
    {
      "cell_type": "code",
      "source": [
        "\"uppercase\".upper()"
      ],
      "metadata": {
        "colab": {
          "base_uri": "https://localhost:8080/",
          "height": 35
        },
        "id": "Z66-DqjaXxYI",
        "outputId": "e701a454-1309-466c-8fbf-c43a8449c2c7"
      },
      "execution_count": null,
      "outputs": [
        {
          "output_type": "execute_result",
          "data": {
            "text/plain": [
              "'UPPERCASE'"
            ],
            "application/vnd.google.colaboratory.intrinsic+json": {
              "type": "string"
            }
          },
          "metadata": {},
          "execution_count": 57
        }
      ]
    },
    {
      "cell_type": "markdown",
      "source": [
        "What are Strings"
      ],
      "metadata": {
        "id": "cY0XLnwjbmra"
      }
    },
    {
      "cell_type": "code",
      "source": [
        "\"Estefania Abigail\""
      ],
      "metadata": {
        "colab": {
          "base_uri": "https://localhost:8080/",
          "height": 35
        },
        "id": "--s5tzvoYQX3",
        "outputId": "867e6e53-7adc-4efb-a93e-b719f5c5947e"
      },
      "execution_count": null,
      "outputs": [
        {
          "output_type": "execute_result",
          "data": {
            "text/plain": [
              "'Estefania Abigail'"
            ],
            "application/vnd.google.colaboratory.intrinsic+json": {
              "type": "string"
            }
          },
          "metadata": {},
          "execution_count": 58
        }
      ]
    },
    {
      "cell_type": "code",
      "source": [
        "\"1 2 3 4 5\""
      ],
      "metadata": {
        "colab": {
          "base_uri": "https://localhost:8080/",
          "height": 35
        },
        "id": "HOPBwnXjbpgW",
        "outputId": "acb95b20-a92e-4d33-8dd3-285a61c04833"
      },
      "execution_count": null,
      "outputs": [
        {
          "output_type": "execute_result",
          "data": {
            "text/plain": [
              "'1 2 3 4 5'"
            ],
            "application/vnd.google.colaboratory.intrinsic+json": {
              "type": "string"
            }
          },
          "metadata": {},
          "execution_count": 59
        }
      ]
    },
    {
      "cell_type": "code",
      "source": [
        "!#$%&&/"
      ],
      "metadata": {
        "id": "Mk4yQ4-7brmp"
      },
      "execution_count": null,
      "outputs": []
    },
    {
      "cell_type": "code",
      "source": [
        "name = \"Estefania\""
      ],
      "metadata": {
        "id": "PavFTggwbubA"
      },
      "execution_count": null,
      "outputs": []
    },
    {
      "cell_type": "markdown",
      "source": [
        "Indexing"
      ],
      "metadata": {
        "id": "R7Z0WRdmbxnZ"
      }
    },
    {
      "cell_type": "code",
      "source": [
        "print(name[3])"
      ],
      "metadata": {
        "colab": {
          "base_uri": "https://localhost:8080/"
        },
        "id": "gJgwwryfbwNO",
        "outputId": "e9df68ae-8ab1-4305-f094-b041c249ba0f"
      },
      "execution_count": null,
      "outputs": [
        {
          "output_type": "stream",
          "name": "stdout",
          "text": [
            "e\n"
          ]
        }
      ]
    },
    {
      "cell_type": "markdown",
      "source": [
        "Negative Indexing"
      ],
      "metadata": {
        "id": "OYLH-VlSb9Vb"
      }
    },
    {
      "cell_type": "code",
      "source": [
        "print(name[-1])\n",
        "print(name[-9])\n",
        "len(name)"
      ],
      "metadata": {
        "colab": {
          "base_uri": "https://localhost:8080/"
        },
        "id": "LfnyranPb62F",
        "outputId": "2256f1b2-21f7-4583-b454-5249f68bee64"
      },
      "execution_count": null,
      "outputs": [
        {
          "output_type": "stream",
          "name": "stdout",
          "text": [
            "a\n",
            "E\n"
          ]
        },
        {
          "output_type": "execute_result",
          "data": {
            "text/plain": [
              "9"
            ]
          },
          "metadata": {},
          "execution_count": 63
        }
      ]
    },
    {
      "cell_type": "markdown",
      "source": [
        "Slicing"
      ],
      "metadata": {
        "id": "EZ7p579dccCn"
      }
    },
    {
      "cell_type": "code",
      "source": [
        "name[0:4]"
      ],
      "metadata": {
        "colab": {
          "base_uri": "https://localhost:8080/",
          "height": 35
        },
        "id": "dkOE24yKcAiE",
        "outputId": "85938040-34ea-4563-940a-48c5ff3d07bb"
      },
      "execution_count": null,
      "outputs": [
        {
          "output_type": "execute_result",
          "data": {
            "text/plain": [
              "'Este'"
            ],
            "application/vnd.google.colaboratory.intrinsic+json": {
              "type": "string"
            }
          },
          "metadata": {},
          "execution_count": 64
        }
      ]
    },
    {
      "cell_type": "code",
      "source": [
        "name[4:9]"
      ],
      "metadata": {
        "colab": {
          "base_uri": "https://localhost:8080/",
          "height": 35
        },
        "id": "dyC6ay8qciTK",
        "outputId": "1ff93afa-0dd2-4ec3-b0fe-28527540ba5e"
      },
      "execution_count": null,
      "outputs": [
        {
          "output_type": "execute_result",
          "data": {
            "text/plain": [
              "'fania'"
            ],
            "application/vnd.google.colaboratory.intrinsic+json": {
              "type": "string"
            }
          },
          "metadata": {},
          "execution_count": 65
        }
      ]
    },
    {
      "cell_type": "markdown",
      "source": [
        "Stride"
      ],
      "metadata": {
        "id": "NjNmD1iBcnV-"
      }
    },
    {
      "cell_type": "code",
      "source": [
        "name[::2]"
      ],
      "metadata": {
        "colab": {
          "base_uri": "https://localhost:8080/",
          "height": 35
        },
        "id": "kVkb7YUOcjsg",
        "outputId": "71a43093-48b6-4325-c264-b5102754acea"
      },
      "execution_count": null,
      "outputs": [
        {
          "output_type": "execute_result",
          "data": {
            "text/plain": [
              "'Etfna'"
            ],
            "application/vnd.google.colaboratory.intrinsic+json": {
              "type": "string"
            }
          },
          "metadata": {},
          "execution_count": 66
        }
      ]
    },
    {
      "cell_type": "code",
      "source": [
        "name[0:5:2]"
      ],
      "metadata": {
        "colab": {
          "base_uri": "https://localhost:8080/",
          "height": 35
        },
        "id": "ICATYig6cqoX",
        "outputId": "dae1482a-0df6-47ea-b2f6-a0ecaa929c09"
      },
      "execution_count": null,
      "outputs": [
        {
          "output_type": "execute_result",
          "data": {
            "text/plain": [
              "'Etf'"
            ],
            "application/vnd.google.colaboratory.intrinsic+json": {
              "type": "string"
            }
          },
          "metadata": {},
          "execution_count": 67
        }
      ]
    },
    {
      "cell_type": "markdown",
      "source": [
        "Concatenate String"
      ],
      "metadata": {
        "id": "Ixw01uwJc7HU"
      }
    },
    {
      "cell_type": "code",
      "source": [
        "statement = name + \" is the best\"\n",
        "statement"
      ],
      "metadata": {
        "colab": {
          "base_uri": "https://localhost:8080/",
          "height": 35
        },
        "id": "3eouoPwFcv5e",
        "outputId": "5ba5556c-423f-4900-8d35-07ce78a012d8"
      },
      "execution_count": null,
      "outputs": [
        {
          "output_type": "execute_result",
          "data": {
            "text/plain": [
              "'Estefania is the best'"
            ],
            "application/vnd.google.colaboratory.intrinsic+json": {
              "type": "string"
            }
          },
          "metadata": {},
          "execution_count": 68
        }
      ]
    },
    {
      "cell_type": "code",
      "source": [
        "3*name"
      ],
      "metadata": {
        "colab": {
          "base_uri": "https://localhost:8080/",
          "height": 35
        },
        "id": "nsZUOzbJc-sk",
        "outputId": "59a9c82c-e559-493a-eb32-ddea7e321787"
      },
      "execution_count": null,
      "outputs": [
        {
          "output_type": "execute_result",
          "data": {
            "text/plain": [
              "'EstefaniaEstefaniaEstefania'"
            ],
            "application/vnd.google.colaboratory.intrinsic+json": {
              "type": "string"
            }
          },
          "metadata": {},
          "execution_count": 69
        }
      ]
    },
    {
      "cell_type": "code",
      "source": [
        "name = name + \" is the best\""
      ],
      "metadata": {
        "id": "mqDJK12bdHRI"
      },
      "execution_count": null,
      "outputs": []
    },
    {
      "cell_type": "code",
      "source": [
        "name"
      ],
      "metadata": {
        "colab": {
          "base_uri": "https://localhost:8080/",
          "height": 35
        },
        "id": "ueNqfPnRdKB9",
        "outputId": "cdd7cead-3805-4055-d31d-ef4d20117f05"
      },
      "execution_count": null,
      "outputs": [
        {
          "output_type": "execute_result",
          "data": {
            "text/plain": [
              "'Estefania is the best'"
            ],
            "application/vnd.google.colaboratory.intrinsic+json": {
              "type": "string"
            }
          },
          "metadata": {},
          "execution_count": 71
        }
      ]
    },
    {
      "cell_type": "markdown",
      "source": [
        "String Operations"
      ],
      "metadata": {
        "id": "rxKeROP7dM9j"
      }
    },
    {
      "cell_type": "code",
      "source": [
        "a = \"Breaking bad is the best serie\"\n",
        "print(\"before upper:\", a)\n",
        "b = a.upper()\n",
        "print(\"after upper;\", b)"
      ],
      "metadata": {
        "colab": {
          "base_uri": "https://localhost:8080/"
        },
        "id": "DUGqUaPLdKpD",
        "outputId": "9d829d92-24c6-4f8c-c23b-507526ce3b27"
      },
      "execution_count": null,
      "outputs": [
        {
          "output_type": "stream",
          "name": "stdout",
          "text": [
            "before upper: Breaking bad is the best serie\n",
            "after upper; BREAKING BAD IS THE BEST SERIE\n"
          ]
        }
      ]
    },
    {
      "cell_type": "code",
      "source": [
        "a = \"Estefania is the best\"\n",
        "b = a.replace(\"Estefania\", \"Abigail\")"
      ],
      "metadata": {
        "id": "HIFCpkhLdgja"
      },
      "execution_count": null,
      "outputs": []
    },
    {
      "cell_type": "code",
      "source": [
        "name = \"Estefania\"\n",
        "name.find(\"fan\")"
      ],
      "metadata": {
        "colab": {
          "base_uri": "https://localhost:8080/"
        },
        "id": "805zkj4ldu_E",
        "outputId": "abfbdfe4-ca97-4266-85d5-0c887d7955f5"
      },
      "execution_count": null,
      "outputs": [
        {
          "output_type": "execute_result",
          "data": {
            "text/plain": [
              "4"
            ]
          },
          "metadata": {},
          "execution_count": 74
        }
      ]
    },
    {
      "cell_type": "code",
      "source": [
        "name.find(\"dhbckh\")"
      ],
      "metadata": {
        "colab": {
          "base_uri": "https://localhost:8080/"
        },
        "id": "kS4VcrCzd0Y2",
        "outputId": "25e4a4f5-2fab-46c8-daa4-827e85b3bd62"
      },
      "execution_count": null,
      "outputs": [
        {
          "output_type": "execute_result",
          "data": {
            "text/plain": [
              "-1"
            ]
          },
          "metadata": {},
          "execution_count": 75
        }
      ]
    },
    {
      "cell_type": "markdown",
      "source": [
        "Quiz"
      ],
      "metadata": {
        "id": "ho7Scq_5eEDr"
      }
    },
    {
      "cell_type": "code",
      "source": [
        "a = \"1\" #\"1\"\n",
        "a"
      ],
      "metadata": {
        "colab": {
          "base_uri": "https://localhost:8080/",
          "height": 35
        },
        "id": "ujbE4RUSeB73",
        "outputId": "9b6c6e69-3867-427f-eaaf-05d1f6d57a22"
      },
      "execution_count": null,
      "outputs": [
        {
          "output_type": "execute_result",
          "data": {
            "text/plain": [
              "'1'"
            ],
            "application/vnd.google.colaboratory.intrinsic+json": {
              "type": "string"
            }
          },
          "metadata": {},
          "execution_count": 76
        }
      ]
    },
    {
      "cell_type": "code",
      "source": [
        "b = \"2\" #\"2\"\n",
        "b"
      ],
      "metadata": {
        "colab": {
          "base_uri": "https://localhost:8080/",
          "height": 35
        },
        "id": "RQGLdVyTeM5n",
        "outputId": "52f38a40-cb8a-4295-abbe-5fa1f3a61461"
      },
      "execution_count": null,
      "outputs": [
        {
          "output_type": "execute_result",
          "data": {
            "text/plain": [
              "'2'"
            ],
            "application/vnd.google.colaboratory.intrinsic+json": {
              "type": "string"
            }
          },
          "metadata": {},
          "execution_count": 77
        }
      ]
    },
    {
      "cell_type": "code",
      "source": [
        "c= a+b\n",
        "c"
      ],
      "metadata": {
        "colab": {
          "base_uri": "https://localhost:8080/",
          "height": 35
        },
        "id": "iEB04GCaeP08",
        "outputId": "a830daba-5dce-4e9f-c02d-396f3c9cfd1d"
      },
      "execution_count": null,
      "outputs": [
        {
          "output_type": "execute_result",
          "data": {
            "text/plain": [
              "'12'"
            ],
            "application/vnd.google.colaboratory.intrinsic+json": {
              "type": "string"
            }
          },
          "metadata": {},
          "execution_count": 78
        }
      ]
    },
    {
      "cell_type": "code",
      "source": [
        "d= \"ABCDEFG\"\n",
        "d[:3]"
      ],
      "metadata": {
        "colab": {
          "base_uri": "https://localhost:8080/",
          "height": 35
        },
        "id": "apRuFD8WeTA2",
        "outputId": "58ab8716-710b-483e-cc23-9782dba720b8"
      },
      "execution_count": null,
      "outputs": [
        {
          "output_type": "execute_result",
          "data": {
            "text/plain": [
              "'ABC'"
            ],
            "application/vnd.google.colaboratory.intrinsic+json": {
              "type": "string"
            }
          },
          "metadata": {},
          "execution_count": 79
        }
      ]
    },
    {
      "cell_type": "code",
      "source": [
        "e = \"clocrkr1e1c1t\"\n",
        "print(e[::2])"
      ],
      "metadata": {
        "colab": {
          "base_uri": "https://localhost:8080/"
        },
        "id": "_NRTlj3eelQK",
        "outputId": "f231a139-99a7-4cbf-8a28-ac6a9c384df7"
      },
      "execution_count": null,
      "outputs": [
        {
          "output_type": "stream",
          "name": "stdout",
          "text": [
            "correct\n"
          ]
        }
      ]
    },
    {
      "cell_type": "code",
      "source": [
        "f=\"hi\"\n",
        "f.upper()"
      ],
      "metadata": {
        "colab": {
          "base_uri": "https://localhost:8080/",
          "height": 35
        },
        "id": "7grlqmv6e6YV",
        "outputId": "62743f8c-c13d-4027-9410-e679cc284158"
      },
      "execution_count": null,
      "outputs": [
        {
          "output_type": "execute_result",
          "data": {
            "text/plain": [
              "'HI'"
            ],
            "application/vnd.google.colaboratory.intrinsic+json": {
              "type": "string"
            }
          },
          "metadata": {},
          "execution_count": 81
        }
      ]
    },
    {
      "cell_type": "code",
      "source": [
        "g = \"Mary had a little lamb Little lamb, little lamb Mary had a little lamb \\\n",
        "Its fleece was white as snow And everywhere that Mary went Mary went, Mary went \\\n",
        "Everywhere that Mary went The lamb was sure to go\"\n",
        "g.find(\"snow\")"
      ],
      "metadata": {
        "colab": {
          "base_uri": "https://localhost:8080/"
        },
        "id": "nsz7h_09fRug",
        "outputId": "bff9ca33-0d54-4d5b-9bf6-2478b68d5148"
      },
      "execution_count": null,
      "outputs": [
        {
          "output_type": "execute_result",
          "data": {
            "text/plain": [
              "95"
            ]
          },
          "metadata": {},
          "execution_count": 82
        }
      ]
    },
    {
      "cell_type": "code",
      "source": [
        "g.replace(\"Mary\", \"Bob\")"
      ],
      "metadata": {
        "colab": {
          "base_uri": "https://localhost:8080/",
          "height": 35
        },
        "id": "FwGWPiolfbo9",
        "outputId": "2aa6c277-ec25-4e0b-bfd1-aa98d82efaf3"
      },
      "execution_count": null,
      "outputs": [
        {
          "output_type": "execute_result",
          "data": {
            "text/plain": [
              "'Bob had a little lamb Little lamb, little lamb Bob had a little lamb Its fleece was white as snow And everywhere that Bob went Bob went, Bob went Everywhere that Bob went The lamb was sure to go'"
            ],
            "application/vnd.google.colaboratory.intrinsic+json": {
              "type": "string"
            }
          },
          "metadata": {},
          "execution_count": 83
        }
      ]
    }
  ]
}