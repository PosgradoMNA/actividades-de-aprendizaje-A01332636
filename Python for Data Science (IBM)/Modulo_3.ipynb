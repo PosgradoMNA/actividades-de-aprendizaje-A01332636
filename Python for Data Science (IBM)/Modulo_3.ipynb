{
  "nbformat": 4,
  "nbformat_minor": 0,
  "metadata": {
    "colab": {
      "provenance": [],
      "authorship_tag": "ABX9TyPOFd9czMeGpO2hvzKZ5KIX",
      "include_colab_link": true
    },
    "kernelspec": {
      "name": "python3",
      "display_name": "Python 3"
    },
    "language_info": {
      "name": "python"
    }
  },
  "cells": [
    {
      "cell_type": "markdown",
      "metadata": {
        "id": "view-in-github",
        "colab_type": "text"
      },
      "source": [
        "<a href=\"https://colab.research.google.com/github/PosgradoMNA/actividades-de-aprendizaje-A01332636/blob/main/Modulo_3.ipynb\" target=\"_parent\"><img src=\"https://colab.research.google.com/assets/colab-badge.svg\" alt=\"Open In Colab\"/></a>"
      ]
    },
    {
      "cell_type": "markdown",
      "source": [
        "#Módulo 3"
      ],
      "metadata": {
        "id": "fjo0w364b-Qv"
      }
    },
    {
      "cell_type": "markdown",
      "source": [
        "##Conditions and Branching"
      ],
      "metadata": {
        "id": "1Keca1HScARY"
      }
    },
    {
      "cell_type": "markdown",
      "source": [
        "###Comparison"
      ],
      "metadata": {
        "id": "wl7zWkpGgmza"
      }
    },
    {
      "cell_type": "code",
      "source": [
        "#Comparison operators\n",
        "i=1\n",
        "if (i==0):\n",
        "  print(\"i=0\")\n",
        "else:\n",
        "  print(\"i no es 0\")"
      ],
      "metadata": {
        "colab": {
          "base_uri": "https://localhost:8080/"
        },
        "id": "ktDXY39AcDmA",
        "outputId": "8a435e28-96e9-4f2d-cff0-9f7769132b3f"
      },
      "execution_count": 78,
      "outputs": [
        {
          "output_type": "stream",
          "name": "stdout",
          "text": [
            "i no es 0\n"
          ]
        }
      ]
    },
    {
      "cell_type": "code",
      "source": [
        "#Letters can be compared\n",
        "print(\"B\"<\"A\")\n",
        "print(\"BA\">\"AB\")"
      ],
      "metadata": {
        "colab": {
          "base_uri": "https://localhost:8080/"
        },
        "id": "cMe94qQogTnc",
        "outputId": "a703ccd6-9d4a-4a18-e5eb-9af268a172be"
      },
      "execution_count": 79,
      "outputs": [
        {
          "output_type": "stream",
          "name": "stdout",
          "text": [
            "False\n",
            "True\n"
          ]
        }
      ]
    },
    {
      "cell_type": "markdown",
      "source": [
        "###Branching"
      ],
      "metadata": {
        "id": "HalMrZ-dgp1j"
      }
    },
    {
      "cell_type": "code",
      "source": [
        "#Branching\n",
        "x = [\"Estefania\",\"Valeria\"]\n",
        "for name in x:\n",
        "  if (name==\"Estefania\"):\n",
        "      print(\"Soy yo!\")\n",
        "  else:\n",
        "    print(\"No soy yo :(\")"
      ],
      "metadata": {
        "colab": {
          "base_uri": "https://localhost:8080/"
        },
        "id": "rEjSZRRTbFfQ",
        "outputId": "f26de63f-7840-4016-e6e9-2aecc495a78b"
      },
      "execution_count": 80,
      "outputs": [
        {
          "output_type": "stream",
          "name": "stdout",
          "text": [
            "Soy yo!\n",
            "No soy yo :(\n"
          ]
        }
      ]
    },
    {
      "cell_type": "code",
      "source": [
        "age= 18\n",
        "if age > 18:\n",
        "  print(\"Eres mayor de edad\")\n",
        "elif age == 18:\n",
        "  print(\"Saca tu INE\")\n",
        "else:\n",
        "  print(\"Eres menor de edad\")\n"
      ],
      "metadata": {
        "colab": {
          "base_uri": "https://localhost:8080/"
        },
        "id": "94lVTGkcg1Ii",
        "outputId": "f00848d6-8e4f-4bbe-9106-cd65e139edd7"
      },
      "execution_count": 81,
      "outputs": [
        {
          "output_type": "stream",
          "name": "stdout",
          "text": [
            "Saca tu INE\n"
          ]
        }
      ]
    },
    {
      "cell_type": "markdown",
      "source": [
        "###Logic operators"
      ],
      "metadata": {
        "id": "gtLAn0Sfi6tX"
      }
    },
    {
      "cell_type": "code",
      "source": [
        "#Logic operators\n",
        "y=22\n",
        "x=28\n",
        "x<30 and y<30"
      ],
      "metadata": {
        "colab": {
          "base_uri": "https://localhost:8080/"
        },
        "id": "MHMmIyM_bpxM",
        "outputId": "8d6f14de-7701-4325-ff6f-4e6b0c8fabae"
      },
      "execution_count": 82,
      "outputs": [
        {
          "output_type": "execute_result",
          "data": {
            "text/plain": [
              "True"
            ]
          },
          "metadata": {},
          "execution_count": 82
        }
      ]
    },
    {
      "cell_type": "code",
      "source": [
        "if (x<25) or (y<25):\n",
        "  print(\"Uno es menor a 25\")\n",
        "else:\n",
        "  print(\"Ninguno es menor a 25\")"
      ],
      "metadata": {
        "colab": {
          "base_uri": "https://localhost:8080/"
        },
        "id": "VmJOOYLQhmwu",
        "outputId": "4e755359-0e68-421b-e10f-2de83050b7e4"
      },
      "execution_count": 83,
      "outputs": [
        {
          "output_type": "stream",
          "name": "stdout",
          "text": [
            "Uno es menor a 25\n"
          ]
        }
      ]
    },
    {
      "cell_type": "code",
      "source": [
        "if (x-y>0):\n",
        "  print(\"x es mayor que y\")\n",
        "else:\n",
        "  print(\"y es menor que x\")"
      ],
      "metadata": {
        "colab": {
          "base_uri": "https://localhost:8080/"
        },
        "id": "OtLQiEaVfd-A",
        "outputId": "e6318ee5-f328-43b6-9878-1e9884a42bc5"
      },
      "execution_count": 84,
      "outputs": [
        {
          "output_type": "stream",
          "name": "stdout",
          "text": [
            "x es mayor que y\n"
          ]
        }
      ]
    },
    {
      "cell_type": "markdown",
      "source": [
        "##Loops"
      ],
      "metadata": {
        "id": "eslz1a8bixON"
      }
    },
    {
      "cell_type": "code",
      "source": [
        "squares=[\"red\",\"yellow\",\"green\"]\n",
        "for i, square in enumerate(squares):\n",
        "  print(i, square)"
      ],
      "metadata": {
        "colab": {
          "base_uri": "https://localhost:8080/"
        },
        "id": "InEEbAImKkp9",
        "outputId": "c32029aa-81ee-4c41-a227-328d38342e40"
      },
      "execution_count": 85,
      "outputs": [
        {
          "output_type": "stream",
          "name": "stdout",
          "text": [
            "0 red\n",
            "1 yellow\n",
            "2 green\n"
          ]
        }
      ]
    },
    {
      "cell_type": "code",
      "source": [
        "squares = [\"orange\",\"orange\",\"purple\",\"blue\"]\n",
        "Newsquares=[]\n",
        "i=0\n",
        "while(squares[i]==\"orange\"):\n",
        "  Newsquares.append(squares[i])\n",
        "  i=i+1\n",
        "Newsquares"
      ],
      "metadata": {
        "colab": {
          "base_uri": "https://localhost:8080/"
        },
        "id": "tYG3dVdcLaE5",
        "outputId": "81de6992-3872-4cfb-9b28-00fd8f861771"
      },
      "execution_count": 86,
      "outputs": [
        {
          "output_type": "execute_result",
          "data": {
            "text/plain": [
              "['orange', 'orange']"
            ]
          },
          "metadata": {},
          "execution_count": 86
        }
      ]
    },
    {
      "cell_type": "code",
      "source": [
        "A=[3,4,5]\n",
        "for a in A:\n",
        "    print(a)\n"
      ],
      "metadata": {
        "id": "ic6Q_Mqbn9C3",
        "outputId": "f4a8655f-0c64-41fb-f12c-53ab69a8e7d4",
        "colab": {
          "base_uri": "https://localhost:8080/"
        }
      },
      "execution_count": 87,
      "outputs": [
        {
          "output_type": "stream",
          "name": "stdout",
          "text": [
            "3\n",
            "4\n",
            "5\n"
          ]
        }
      ]
    },
    {
      "cell_type": "code",
      "source": [
        "x=11\n",
        "y=1\n",
        "while(y != x):\n",
        "    print(y)\n",
        "    y=y+1"
      ],
      "metadata": {
        "id": "gXfgTU8Pn_RJ",
        "outputId": "3a179f87-f67f-4cfc-df79-eaec338abcc9",
        "colab": {
          "base_uri": "https://localhost:8080/"
        }
      },
      "execution_count": 88,
      "outputs": [
        {
          "output_type": "stream",
          "name": "stdout",
          "text": [
            "1\n",
            "2\n",
            "3\n",
            "4\n",
            "5\n",
            "6\n",
            "7\n",
            "8\n",
            "9\n",
            "10\n"
          ]
        }
      ]
    },
    {
      "cell_type": "markdown",
      "source": [
        "###Range"
      ],
      "metadata": {
        "id": "xfCVzSvmL_-Z"
      }
    },
    {
      "cell_type": "code",
      "source": [
        "range(3)"
      ],
      "metadata": {
        "colab": {
          "base_uri": "https://localhost:8080/"
        },
        "id": "CxpwnfcOfuwR",
        "outputId": "4abd5658-a9ce-4a92-82c6-a63002456679"
      },
      "execution_count": 89,
      "outputs": [
        {
          "output_type": "execute_result",
          "data": {
            "text/plain": [
              "range(0, 3)"
            ]
          },
          "metadata": {},
          "execution_count": 89
        }
      ]
    },
    {
      "cell_type": "markdown",
      "source": [
        "###For"
      ],
      "metadata": {
        "id": "xHydl5z2M0AU"
      }
    },
    {
      "cell_type": "code",
      "source": [
        "names= [\"Estefania\",\"Abigail\"]\n",
        "N=len(names)\n",
        "\n",
        "for i in range(N):\n",
        "  print(names[i])"
      ],
      "metadata": {
        "colab": {
          "base_uri": "https://localhost:8080/"
        },
        "id": "dJVz7Z6eMSCn",
        "outputId": "c3bd6906-9f8a-40cc-cf83-131998b4910d"
      },
      "execution_count": 90,
      "outputs": [
        {
          "output_type": "stream",
          "name": "stdout",
          "text": [
            "Estefania\n",
            "Abigail\n"
          ]
        }
      ]
    },
    {
      "cell_type": "code",
      "source": [
        "for i in range(0,6):\n",
        "  print(i)"
      ],
      "metadata": {
        "colab": {
          "base_uri": "https://localhost:8080/"
        },
        "id": "z0SxMfUWMxQ8",
        "outputId": "0d7c43df-2bbe-44cb-8859-ca82c98b4ba7"
      },
      "execution_count": 91,
      "outputs": [
        {
          "output_type": "stream",
          "name": "stdout",
          "text": [
            "0\n",
            "1\n",
            "2\n",
            "3\n",
            "4\n",
            "5\n"
          ]
        }
      ]
    },
    {
      "cell_type": "code",
      "source": [
        "for name in names:\n",
        "  print(name)"
      ],
      "metadata": {
        "colab": {
          "base_uri": "https://localhost:8080/"
        },
        "id": "R0BE384kMSWW",
        "outputId": "24a99f7c-6fe8-48fd-9ca0-a564dae2cb41"
      },
      "execution_count": 92,
      "outputs": [
        {
          "output_type": "stream",
          "name": "stdout",
          "text": [
            "Estefania\n",
            "Abigail\n"
          ]
        }
      ]
    },
    {
      "cell_type": "code",
      "source": [
        "names = [\"Estefania\", \"Abigail\", \"Veronica\", \"Zyanya\"]\n",
        "\n",
        "for i in range(0,4):\n",
        "  print(\"Before name \", i , \" is\", names[i])\n",
        "  names[i]=\"Estefania\"\n",
        "  print(\"After name \", i , \" is\", names[i])"
      ],
      "metadata": {
        "colab": {
          "base_uri": "https://localhost:8080/"
        },
        "id": "8CLmQuceNCMk",
        "outputId": "2adadc9c-dbb6-442b-ace0-96d299ea22c3"
      },
      "execution_count": 93,
      "outputs": [
        {
          "output_type": "stream",
          "name": "stdout",
          "text": [
            "Before name  0  is Estefania\n",
            "After name  0  is Estefania\n",
            "Before name  1  is Abigail\n",
            "After name  1  is Estefania\n",
            "Before name  2  is Veronica\n",
            "After name  2  is Estefania\n",
            "Before name  3  is Zyanya\n",
            "After name  3  is Estefania\n"
          ]
        }
      ]
    },
    {
      "cell_type": "markdown",
      "source": [
        "###While"
      ],
      "metadata": {
        "id": "-BeqngBeNvF9"
      }
    },
    {
      "cell_type": "code",
      "source": [
        "names = [\"Estefania\", \"Zyanya\", \"Abigail\", \"Veronica\"]\n",
        "\n",
        "i = 0\n",
        "family = names[0]\n",
        "\n",
        "while(family != \"Abigail\"):    \n",
        "    print(family)\n",
        "    i = i + 1\n",
        "    family = names[i]\n",
        "    \n",
        "\n",
        "print(\"It took \", i ,\"repetitions to get out of loop.\")"
      ],
      "metadata": {
        "colab": {
          "base_uri": "https://localhost:8080/"
        },
        "id": "cZ1pM7u7Nwnz",
        "outputId": "0e8bac2b-776d-4c0a-a1ae-331ffdf21fb3"
      },
      "execution_count": 94,
      "outputs": [
        {
          "output_type": "stream",
          "name": "stdout",
          "text": [
            "Estefania\n",
            "Zyanya\n",
            "It took  2 repetitions to get out of loop.\n"
          ]
        }
      ]
    },
    {
      "cell_type": "code",
      "source": [
        "PlayListRatings = [10, 9.5, 10, 8, 7.5, 5, 10, 10]\n",
        "i = 0\n",
        "Rating = PlayListRatings[0]\n",
        "while(i < len(PlayListRatings) and Rating >= 6):\n",
        "    print(Rating)\n",
        "    i = i + 1 # This prints the value 10 only once \n",
        "    Rating = PlayListRatings[i]"
      ],
      "metadata": {
        "colab": {
          "base_uri": "https://localhost:8080/"
        },
        "id": "dBHm5uNBNwzm",
        "outputId": "d9674d9b-c002-4a56-9e8e-8f231ad4e2bc"
      },
      "execution_count": 95,
      "outputs": [
        {
          "output_type": "stream",
          "name": "stdout",
          "text": [
            "10\n",
            "9.5\n",
            "10\n",
            "8\n",
            "7.5\n"
          ]
        }
      ]
    },
    {
      "cell_type": "code",
      "source": [
        "squares = ['orange', 'orange', 'purple', 'blue ', 'orange']\n",
        "new_squares = []\n",
        "i=0\n",
        "while (i< len(squares) and squares[i]== \"orange\"): \n",
        "    new_squares.append(squares[i])\n",
        "    i=i+1\n",
        "new_squares"
      ],
      "metadata": {
        "colab": {
          "base_uri": "https://localhost:8080/"
        },
        "id": "jsU0VSaRNxA7",
        "outputId": "85fb9782-3789-4597-dc14-2eecdbe0f535"
      },
      "execution_count": 96,
      "outputs": [
        {
          "output_type": "execute_result",
          "data": {
            "text/plain": [
              "['orange', 'orange']"
            ]
          },
          "metadata": {},
          "execution_count": 96
        }
      ]
    },
    {
      "cell_type": "markdown",
      "source": [
        "##Functions"
      ],
      "metadata": {
        "id": "qvUrPlEsRJOq"
      }
    },
    {
      "cell_type": "code",
      "source": [
        "numbers=[1,2,3,4,5,6]\n",
        "N=len(numbers)\n",
        "S=sum(numbers)\n",
        "Sort=sorted(numbers)\n",
        "print(N,\"\\n\",S,\"\\n\",Sort)"
      ],
      "metadata": {
        "colab": {
          "base_uri": "https://localhost:8080/"
        },
        "id": "SWXPKU5kRLuG",
        "outputId": "5ad0d8af-1842-4b82-9028-e94397195fb9"
      },
      "execution_count": 20,
      "outputs": [
        {
          "output_type": "stream",
          "name": "stdout",
          "text": [
            "6 \n",
            " 21 \n",
            " [1, 2, 3, 4, 5, 6]\n"
          ]
        }
      ]
    },
    {
      "cell_type": "code",
      "source": [
        "def add1(a):\n",
        "  b=a+1\n",
        "  return b\n",
        "\n",
        "c=add1(10)\n",
        "c"
      ],
      "metadata": {
        "colab": {
          "base_uri": "https://localhost:8080/"
        },
        "id": "S2oUv84MR3wB",
        "outputId": "f46341c2-504f-434f-a06d-33957ae4c233"
      },
      "execution_count": 21,
      "outputs": [
        {
          "output_type": "execute_result",
          "data": {
            "text/plain": [
              "11"
            ]
          },
          "metadata": {},
          "execution_count": 21
        }
      ]
    },
    {
      "cell_type": "code",
      "source": [
        "def Mult(a,b):\n",
        "  c=a*b\n",
        "  return c\n",
        "\n",
        "c=Mult(1,4)\n",
        "c"
      ],
      "metadata": {
        "colab": {
          "base_uri": "https://localhost:8080/"
        },
        "id": "y20mNryiSRUY",
        "outputId": "84dc9d82-f9a4-49e1-8d67-e81da7def2d2"
      },
      "execution_count": 22,
      "outputs": [
        {
          "output_type": "execute_result",
          "data": {
            "text/plain": [
              "4"
            ]
          },
          "metadata": {},
          "execution_count": 22
        }
      ]
    },
    {
      "cell_type": "code",
      "source": [
        "def ArtistNames(*names):\n",
        "  for name in names:\n",
        "    print(name)\n",
        "ArtistNames(\"Michael Jackson\", \"AC/DC\")"
      ],
      "metadata": {
        "colab": {
          "base_uri": "https://localhost:8080/"
        },
        "id": "9AkUntvUTHwa",
        "outputId": "15bfa751-397e-4559-9748-318d40eb34bd"
      },
      "execution_count": 23,
      "outputs": [
        {
          "output_type": "stream",
          "name": "stdout",
          "text": [
            "Michael Jackson\n",
            "AC/DC\n"
          ]
        }
      ]
    },
    {
      "cell_type": "code",
      "source": [
        "def f(*x):\n",
        "  return sum(x)\n",
        "\n",
        "x=f(1,0,3)\n",
        "x"
      ],
      "metadata": {
        "id": "Q6DZD1Cbm64b",
        "colab": {
          "base_uri": "https://localhost:8080/"
        },
        "outputId": "ab3c344f-c9bc-434e-c35c-9943cc0ce41c"
      },
      "execution_count": 24,
      "outputs": [
        {
          "output_type": "execute_result",
          "data": {
            "text/plain": [
              "4"
            ]
          },
          "metadata": {},
          "execution_count": 24
        }
      ]
    },
    {
      "cell_type": "code",
      "source": [
        "def f(a,b):\n",
        "    \"\"\"\n",
        "    multiply two values\n",
        "    \"\"\"\n",
        "    return a*b"
      ],
      "metadata": {
        "id": "pH6IzTIjXF1w"
      },
      "execution_count": 25,
      "outputs": []
    },
    {
      "cell_type": "code",
      "source": [
        "a=4\n",
        "b=2\n",
        "\n",
        "if a*b==f(a,b):   \n",
        "    print(\"Correct.\")   \n",
        "else:    \n",
        "    print(\"Incorrect.\")"
      ],
      "metadata": {
        "colab": {
          "base_uri": "https://localhost:8080/"
        },
        "id": "RpJY4pMUXJ7J",
        "outputId": "2e1ac06d-b72f-49fa-f33b-82431f9ff7e2"
      },
      "execution_count": 26,
      "outputs": [
        {
          "output_type": "stream",
          "name": "stdout",
          "text": [
            "Correct.\n"
          ]
        }
      ]
    },
    {
      "cell_type": "code",
      "source": [
        "help(f)"
      ],
      "metadata": {
        "colab": {
          "base_uri": "https://localhost:8080/"
        },
        "id": "GmczuWs1YLVv",
        "outputId": "8ba55f56-7da4-4430-93c1-ed4df4791c03"
      },
      "execution_count": 27,
      "outputs": [
        {
          "output_type": "stream",
          "name": "stdout",
          "text": [
            "Help on function f in module __main__:\n",
            "\n",
            "f(a, b)\n",
            "    multiply two values\n",
            "\n"
          ]
        }
      ]
    },
    {
      "cell_type": "code",
      "source": [
        "def square(a):\n",
        "    \n",
        "    # Local variable b\n",
        "    b = 1\n",
        "    c = a * a + b\n",
        "    print(a, \"if you square + 1\", c) \n",
        "    return(c)"
      ],
      "metadata": {
        "id": "7pIL8_CVYlst"
      },
      "execution_count": 28,
      "outputs": []
    },
    {
      "cell_type": "code",
      "source": [
        "x = 3\n",
        "# Makes function call and return function a y\n",
        "y = square(x)\n",
        "y"
      ],
      "metadata": {
        "colab": {
          "base_uri": "https://localhost:8080/"
        },
        "id": "2gM4bIRiYMFS",
        "outputId": "ac933276-02c3-473b-e9c8-7b59238d001a"
      },
      "execution_count": 29,
      "outputs": [
        {
          "output_type": "stream",
          "name": "stdout",
          "text": [
            "3 if you square + 1 10\n"
          ]
        },
        {
          "output_type": "execute_result",
          "data": {
            "text/plain": [
              "10"
            ]
          },
          "metadata": {},
          "execution_count": 29
        }
      ]
    },
    {
      "cell_type": "code",
      "source": [
        "# Define functions, one with return value None and other without return value\n",
        "\n",
        "def EA():\n",
        "    print('Estefania')\n",
        "    \n",
        "def EB1():\n",
        "    print('Estefania')\n",
        "    return(None)"
      ],
      "metadata": {
        "id": "3NtSc8Q-YqN2"
      },
      "execution_count": 30,
      "outputs": []
    },
    {
      "cell_type": "code",
      "source": [
        "EA()"
      ],
      "metadata": {
        "colab": {
          "base_uri": "https://localhost:8080/"
        },
        "id": "pziETx04Y2H8",
        "outputId": "ce8466b0-15f6-47bb-e986-73d659e7ae91"
      },
      "execution_count": 31,
      "outputs": [
        {
          "output_type": "stream",
          "name": "stdout",
          "text": [
            "Estefania\n"
          ]
        }
      ]
    },
    {
      "cell_type": "code",
      "source": [
        "EB1()"
      ],
      "metadata": {
        "colab": {
          "base_uri": "https://localhost:8080/"
        },
        "id": "GbphLmteY3EA",
        "outputId": "f8a5aafb-b091-49ad-c006-ce4e2856370c"
      },
      "execution_count": 32,
      "outputs": [
        {
          "output_type": "stream",
          "name": "stdout",
          "text": [
            "Estefania\n"
          ]
        }
      ]
    },
    {
      "cell_type": "code",
      "source": [
        "print(EA())\n",
        "print(EB1())"
      ],
      "metadata": {
        "colab": {
          "base_uri": "https://localhost:8080/"
        },
        "id": "4XKhfYPYY3oi",
        "outputId": "4fc64714-f2a1-47cb-cc69-28c09c7e6f77"
      },
      "execution_count": 33,
      "outputs": [
        {
          "output_type": "stream",
          "name": "stdout",
          "text": [
            "Estefania\n",
            "None\n",
            "Estefania\n",
            "None\n"
          ]
        }
      ]
    },
    {
      "cell_type": "markdown",
      "source": [
        "###Predefined functions"
      ],
      "metadata": {
        "id": "fHOooS_eZcNP"
      }
    },
    {
      "cell_type": "code",
      "source": [
        "numbers=[1,2,3,4,5,6,6,2,3,4]\n",
        "sum(numbers)"
      ],
      "metadata": {
        "colab": {
          "base_uri": "https://localhost:8080/"
        },
        "id": "HRiTBkP5ZDP9",
        "outputId": "fcefee37-8d22-4617-90cc-504a791f9348"
      },
      "execution_count": 34,
      "outputs": [
        {
          "output_type": "execute_result",
          "data": {
            "text/plain": [
              "36"
            ]
          },
          "metadata": {},
          "execution_count": 34
        }
      ]
    },
    {
      "cell_type": "code",
      "source": [
        "len(numbers)"
      ],
      "metadata": {
        "colab": {
          "base_uri": "https://localhost:8080/"
        },
        "id": "hdxhdYQoZjwZ",
        "outputId": "70f68c3e-dc78-44cf-892c-bbbdb561b2c7"
      },
      "execution_count": 35,
      "outputs": [
        {
          "output_type": "execute_result",
          "data": {
            "text/plain": [
              "10"
            ]
          },
          "metadata": {},
          "execution_count": 35
        }
      ]
    },
    {
      "cell_type": "markdown",
      "source": [
        "###IF/ELSE"
      ],
      "metadata": {
        "id": "WkCq7CAfZqf1"
      }
    },
    {
      "cell_type": "code",
      "source": [
        "def type_of_album(artist, album, year_released):\n",
        "    \n",
        "    print(artist, album, year_released)\n",
        "    if year_released > 1980:\n",
        "        return \"Modern\"\n",
        "    else:\n",
        "        return \"Oldie\"\n",
        "    \n",
        "x = type_of_album(\"Michael Jackson\", \"Thriller\", 1980)\n",
        "print(x)"
      ],
      "metadata": {
        "colab": {
          "base_uri": "https://localhost:8080/"
        },
        "id": "dwiuXiBsZpPF",
        "outputId": "c78aa74f-101b-4550-e69f-21d15791a41d"
      },
      "execution_count": 36,
      "outputs": [
        {
          "output_type": "stream",
          "name": "stdout",
          "text": [
            "Michael Jackson Thriller 1980\n",
            "Oldie\n"
          ]
        }
      ]
    },
    {
      "cell_type": "code",
      "source": [
        "def PrintList(the_list):\n",
        "    for element in the_list:\n",
        "        print(element)"
      ],
      "metadata": {
        "id": "e5RurHH_Z0hw"
      },
      "execution_count": 37,
      "outputs": []
    },
    {
      "cell_type": "code",
      "source": [
        "PrintList(numbers)"
      ],
      "metadata": {
        "colab": {
          "base_uri": "https://localhost:8080/"
        },
        "id": "xEjljl9VZ8dF",
        "outputId": "eb63eb80-9668-4406-8166-4e4753267a0b"
      },
      "execution_count": 38,
      "outputs": [
        {
          "output_type": "stream",
          "name": "stdout",
          "text": [
            "1\n",
            "2\n",
            "3\n",
            "4\n",
            "5\n",
            "6\n",
            "6\n",
            "2\n",
            "3\n",
            "4\n"
          ]
        }
      ]
    },
    {
      "cell_type": "markdown",
      "source": [
        "###Setting default argument values in your custom functions"
      ],
      "metadata": {
        "id": "AJqDYIxBaOWc"
      }
    },
    {
      "cell_type": "code",
      "source": [
        "def goodRating(rating=4): \n",
        "    if(rating < 7):\n",
        "        print(\"This isn't good. Rating: \",rating)\n",
        "        \n",
        "    else:\n",
        "        print(\"This is good. Rating: \",rating)"
      ],
      "metadata": {
        "id": "tIA8lYpSZ9Y2"
      },
      "execution_count": 39,
      "outputs": []
    },
    {
      "cell_type": "code",
      "source": [
        "goodRating(6)"
      ],
      "metadata": {
        "colab": {
          "base_uri": "https://localhost:8080/"
        },
        "id": "96zTzz7EafdH",
        "outputId": "89cce244-f83b-4d8b-b00c-db1000ca3a5d"
      },
      "execution_count": 40,
      "outputs": [
        {
          "output_type": "stream",
          "name": "stdout",
          "text": [
            "This isn't good. Rating:  6\n"
          ]
        }
      ]
    },
    {
      "cell_type": "code",
      "source": [
        "goodRating(8)"
      ],
      "metadata": {
        "colab": {
          "base_uri": "https://localhost:8080/"
        },
        "id": "GIy3z7THaiHp",
        "outputId": "57bcd81e-7cf9-4c95-d631-0026a622d204"
      },
      "execution_count": 41,
      "outputs": [
        {
          "output_type": "stream",
          "name": "stdout",
          "text": [
            "This is good. Rating:  8\n"
          ]
        }
      ]
    },
    {
      "cell_type": "code",
      "source": [
        "goodRating()"
      ],
      "metadata": {
        "colab": {
          "base_uri": "https://localhost:8080/"
        },
        "id": "Yn6SDd0Fa39D",
        "outputId": "94ec178a-56a9-47f5-a4e5-0b36fc81163a"
      },
      "execution_count": 42,
      "outputs": [
        {
          "output_type": "stream",
          "name": "stdout",
          "text": [
            "This isn't good. Rating:  4\n"
          ]
        }
      ]
    },
    {
      "cell_type": "markdown",
      "source": [
        "###Global Variables"
      ],
      "metadata": {
        "id": "I4a8xFHcbNVR"
      }
    },
    {
      "cell_type": "code",
      "source": [
        "name = \"estefania\"\n",
        "def printer1(name):\n",
        "  internal_var1 = \"Abigail\"\n",
        "  print(name, \"is me\")\n"
      ],
      "metadata": {
        "id": "402zEG6Wa7VL"
      },
      "execution_count": 43,
      "outputs": []
    },
    {
      "cell_type": "code",
      "source": [
        "printer1(name)"
      ],
      "metadata": {
        "colab": {
          "base_uri": "https://localhost:8080/"
        },
        "id": "f8bFdkdGbYUM",
        "outputId": "05be53bb-8ac8-46eb-afb4-96771a4fd66f"
      },
      "execution_count": 44,
      "outputs": [
        {
          "output_type": "stream",
          "name": "stdout",
          "text": [
            "estefania is me\n"
          ]
        }
      ]
    },
    {
      "cell_type": "code",
      "source": [
        "#printer1(internal_var1)\n",
        "#internal_var1 is nor defined"
      ],
      "metadata": {
        "id": "k1AX3v35bbyP"
      },
      "execution_count": 45,
      "outputs": []
    },
    {
      "cell_type": "code",
      "source": [
        "name = \"Estefania\"\n",
        "\n",
        "def printer(name):\n",
        "    global internal_var \n",
        "    internal_var= \"Abigail\"\n",
        "    print(name,\"is me\")\n",
        "\n",
        "printer(name) \n",
        "printer(internal_var)"
      ],
      "metadata": {
        "colab": {
          "base_uri": "https://localhost:8080/"
        },
        "id": "rIInv__2bnGp",
        "outputId": "b4106e19-f9ef-4b7f-da12-277c8b492949"
      },
      "execution_count": 46,
      "outputs": [
        {
          "output_type": "stream",
          "name": "stdout",
          "text": [
            "Estefania is me\n",
            "Abigail is me\n"
          ]
        }
      ]
    },
    {
      "cell_type": "markdown",
      "source": [
        "###Scope of variable"
      ],
      "metadata": {
        "id": "zMurTFZcchwz"
      }
    },
    {
      "cell_type": "code",
      "source": [
        "# Example of global variable\n",
        "\n",
        "myFavouriteBand = \"AC/DC\"\n",
        "\n",
        "def getBandRating(bandname):\n",
        "    if bandname == myFavouriteBand:\n",
        "        return 10.0\n",
        "    else:\n",
        "        return 0.0\n",
        "\n",
        "print(\"AC/DC's rating is:\", getBandRating(\"AC/DC\"))\n",
        "print(\"Deep Purple's rating is:\",getBandRating(\"Deep Purple\"))\n",
        "print(\"My favourite band is:\", myFavouriteBand)"
      ],
      "metadata": {
        "colab": {
          "base_uri": "https://localhost:8080/"
        },
        "id": "7wiOFBFLbzSe",
        "outputId": "548a3b80-c727-4681-b29e-15f04052cf94"
      },
      "execution_count": 47,
      "outputs": [
        {
          "output_type": "stream",
          "name": "stdout",
          "text": [
            "AC/DC's rating is: 10.0\n",
            "Deep Purple's rating is: 0.0\n",
            "My favourite band is: AC/DC\n"
          ]
        }
      ]
    },
    {
      "cell_type": "code",
      "source": [
        "# Deleting the variable \"myFavouriteBand\" from the previous example to demonstrate an example of a local variable \n",
        "\n",
        "#del myFavouriteBand\n",
        "\n",
        "# Example of local variable\n",
        "\n",
        "#def getBandRating(bandname):\n",
        "#    myFavouriteBand = \"AC/DC\"\n",
        "#    if bandname == myFavouriteBand:\n",
        "#        return 10.0\n",
        "#    else:\n",
        "#        return 0.0\n",
        "\n",
        "#print(\"AC/DC's rating is: \", getBandRating(\"AC/DC\"))\n",
        "#print(\"Deep Purple's rating is: \", getBandRating(\"Deep Purple\"))\n",
        "#print(\"My favourite band is\", myFavouriteBand)\n",
        "\n",
        "#name my favband is not defined"
      ],
      "metadata": {
        "id": "JWzdGT51b10K"
      },
      "execution_count": 48,
      "outputs": []
    },
    {
      "cell_type": "code",
      "source": [
        "#Example of global variable and local variable with the same name\n",
        "\n",
        "myFavouriteBand = \"AC/DC\"\n",
        "\n",
        "def getBandRating(bandname):\n",
        "    myFavouriteBand = \"Deep Purple\"\n",
        "    if bandname == myFavouriteBand:\n",
        "        return 10.0\n",
        "    else:\n",
        "        return 0.0\n",
        "\n",
        "print(\"AC/DC's rating is:\",getBandRating(\"AC/DC\"))\n",
        "print(\"Deep Purple's rating is: \",getBandRating(\"Deep Purple\"))\n",
        "print(\"My favourite band is:\",myFavouriteBand)"
      ],
      "metadata": {
        "colab": {
          "base_uri": "https://localhost:8080/"
        },
        "id": "jVTZzjIQdPxc",
        "outputId": "fcf61ac9-42e0-4358-b9e0-a13891dadff1"
      },
      "execution_count": 49,
      "outputs": [
        {
          "output_type": "stream",
          "name": "stdout",
          "text": [
            "AC/DC's rating is: 0.0\n",
            "Deep Purple's rating is:  10.0\n",
            "My favourite band is: AC/DC\n"
          ]
        }
      ]
    },
    {
      "cell_type": "markdown",
      "source": [
        "###Collections and functions"
      ],
      "metadata": {
        "id": "qra-ir_Sdo1h"
      }
    },
    {
      "cell_type": "code",
      "source": [
        "def printAll(*args): # All the arguments are 'packed' into args which can be treated like a tuple\n",
        "    print(\"Number of arguments:\", len(args)) \n",
        "    for argument in args:\n",
        "        print(argument)\n",
        "#printAll with 3 arguments\n",
        "printAll('Horsefeather','Adonis','Bone')\n",
        "#printAll with 4 arguments\n",
        "printAll('Sidecar','Long Island','Mudslide','Carriage')"
      ],
      "metadata": {
        "colab": {
          "base_uri": "https://localhost:8080/"
        },
        "id": "9mBfebRWdXuy",
        "outputId": "ecc0aedd-5716-4bf8-a4cd-7e0599d4f5f2"
      },
      "execution_count": 50,
      "outputs": [
        {
          "output_type": "stream",
          "name": "stdout",
          "text": [
            "Number of arguments: 3\n",
            "Horsefeather\n",
            "Adonis\n",
            "Bone\n",
            "Number of arguments: 4\n",
            "Sidecar\n",
            "Long Island\n",
            "Mudslide\n",
            "Carriage\n"
          ]
        }
      ]
    },
    {
      "cell_type": "code",
      "source": [
        "def printDictionary(**args):\n",
        "    for key in args:\n",
        "        print(key + \" : \" + args[key])\n",
        "\n",
        "printDictionary(Country='Canada',Province='Ontario',City='Toronto')"
      ],
      "metadata": {
        "colab": {
          "base_uri": "https://localhost:8080/"
        },
        "id": "-4S3uQJ7ds5j",
        "outputId": "c9985da6-ef82-4711-f758-97ab4eabbb86"
      },
      "execution_count": 51,
      "outputs": [
        {
          "output_type": "stream",
          "name": "stdout",
          "text": [
            "Country : Canada\n",
            "Province : Ontario\n",
            "City : Toronto\n"
          ]
        }
      ]
    },
    {
      "cell_type": "code",
      "source": [
        "def addItems(list):\n",
        "    list.append(\"Three\")\n",
        "    list.append(\"Four\")\n",
        "\n",
        "myList = [\"One\",\"Two\"]\n",
        "\n",
        "addItems(myList)\n",
        "\n",
        "myList\n",
        "    "
      ],
      "metadata": {
        "colab": {
          "base_uri": "https://localhost:8080/"
        },
        "id": "_-X9XgkJdu8s",
        "outputId": "2468bb3d-be6a-4462-f860-da4f8dc3da03"
      },
      "execution_count": 52,
      "outputs": [
        {
          "output_type": "execute_result",
          "data": {
            "text/plain": [
              "['One', 'Two', 'Three', 'Four']"
            ]
          },
          "metadata": {},
          "execution_count": 52
        }
      ]
    },
    {
      "cell_type": "code",
      "source": [
        "def con(a,b):\n",
        "  return a+b"
      ],
      "metadata": {
        "id": "is21w-dQdvcR"
      },
      "execution_count": 53,
      "outputs": []
    },
    {
      "cell_type": "code",
      "source": [
        "a=\"Estefania\"\n",
        "b=\"Castro\"\n",
        "con(a,b)"
      ],
      "metadata": {
        "colab": {
          "base_uri": "https://localhost:8080/",
          "height": 0
        },
        "id": "czOHqiGrd0-l",
        "outputId": "021a69d0-828f-4732-cd0d-8a5f537c767d"
      },
      "execution_count": 54,
      "outputs": [
        {
          "output_type": "execute_result",
          "data": {
            "text/plain": [
              "'EstefaniaCastro'"
            ],
            "application/vnd.google.colaboratory.intrinsic+json": {
              "type": "string"
            }
          },
          "metadata": {},
          "execution_count": 54
        }
      ]
    },
    {
      "cell_type": "code",
      "source": [
        "a=3\n",
        "b=4\n",
        "con(a,b)"
      ],
      "metadata": {
        "colab": {
          "base_uri": "https://localhost:8080/"
        },
        "id": "8mglQVLId5pU",
        "outputId": "713e51f3-7e5d-4cca-d592-d1d973adec80"
      },
      "execution_count": 55,
      "outputs": [
        {
          "output_type": "execute_result",
          "data": {
            "text/plain": [
              "7"
            ]
          },
          "metadata": {},
          "execution_count": 55
        }
      ]
    },
    {
      "cell_type": "markdown",
      "source": [
        "##Objets and classes"
      ],
      "metadata": {
        "id": "9PUN6I48eYni"
      }
    },
    {
      "cell_type": "code",
      "source": [
        "class Rectangle(object):\n",
        "  def __init__(self,color,height,width):\n",
        "    self.color=color;\n",
        "    self.height=height;\n",
        "    self.width=width\n",
        "  def r_info(self):\n",
        "        print(\"color: \",self.color)\n",
        "        print(\"height:\", self.height)\n",
        "        print(\"width:\",self.width)"
      ],
      "metadata": {
        "id": "gO9NNiMUd-Bv"
      },
      "execution_count": 56,
      "outputs": []
    },
    {
      "cell_type": "code",
      "source": [
        "BlueRectangle=Rectangle(\"blue\",5,5)"
      ],
      "metadata": {
        "id": "MQ_AVrBLfo2I"
      },
      "execution_count": 57,
      "outputs": []
    },
    {
      "cell_type": "code",
      "source": [
        "BlueRectangle.color"
      ],
      "metadata": {
        "colab": {
          "base_uri": "https://localhost:8080/",
          "height": 36
        },
        "id": "k_B980i6f2Ih",
        "outputId": "2fe1fc48-4b45-4af7-c729-7e9d1200b80a"
      },
      "execution_count": 58,
      "outputs": [
        {
          "output_type": "execute_result",
          "data": {
            "text/plain": [
              "'blue'"
            ],
            "application/vnd.google.colaboratory.intrinsic+json": {
              "type": "string"
            }
          },
          "metadata": {},
          "execution_count": 58
        }
      ]
    },
    {
      "cell_type": "code",
      "source": [
        "BlueRectangle.color=\"red\"\n",
        "BlueRectangle.color"
      ],
      "metadata": {
        "colab": {
          "base_uri": "https://localhost:8080/",
          "height": 36
        },
        "id": "I-50XBV0f_Q6",
        "outputId": "f2516315-c978-457e-ea8d-8195d4a7bac2"
      },
      "execution_count": 59,
      "outputs": [
        {
          "output_type": "execute_result",
          "data": {
            "text/plain": [
              "'red'"
            ],
            "application/vnd.google.colaboratory.intrinsic+json": {
              "type": "string"
            }
          },
          "metadata": {},
          "execution_count": 59
        }
      ]
    },
    {
      "cell_type": "code",
      "source": [
        "R1=Rectangle(\"green\",2,3)"
      ],
      "metadata": {
        "id": "v4ntWa7ngdoL"
      },
      "execution_count": 60,
      "outputs": []
    },
    {
      "cell_type": "code",
      "source": [
        "R1.r_info()"
      ],
      "metadata": {
        "colab": {
          "base_uri": "https://localhost:8080/"
        },
        "id": "Jhq88w-egqrJ",
        "outputId": "8025ca42-5f73-4a4d-9bd4-c9ae5c4e31e9"
      },
      "execution_count": 61,
      "outputs": [
        {
          "output_type": "stream",
          "name": "stdout",
          "text": [
            "color:  green\n",
            "height: 2\n",
            "width: 3\n"
          ]
        }
      ]
    },
    {
      "cell_type": "code",
      "source": [
        "class Car(object):\n",
        "    def __init__(self,make,model,color):\n",
        "        self.make=make;\n",
        "        self.model=model;\n",
        "        self.color=color;\n",
        "        self.owner_number=0 \n",
        "    def car_info(self):\n",
        "        print(\"make: \",self.make)\n",
        "        print(\"model:\", self.model)\n",
        "        print(\"color:\",self.color)\n",
        "        print(\"number of owners:\",self.owner_number)\n",
        "    def sell(self):\n",
        "        self.owner_number=self.owner_number+1"
      ],
      "metadata": {
        "id": "mET7vPWVhAkR"
      },
      "execution_count": 62,
      "outputs": []
    },
    {
      "cell_type": "code",
      "source": [
        "my_car=Car(\"BMW\",\"M3\",\"red\")\n",
        "my_car"
      ],
      "metadata": {
        "colab": {
          "base_uri": "https://localhost:8080/"
        },
        "id": "6F53KlDCigFq",
        "outputId": "31b0313b-89ac-4651-ffa0-9555550b3ccc"
      },
      "execution_count": 63,
      "outputs": [
        {
          "output_type": "execute_result",
          "data": {
            "text/plain": [
              "<__main__.Car at 0x7fec380d4710>"
            ]
          },
          "metadata": {},
          "execution_count": 63
        }
      ]
    },
    {
      "cell_type": "code",
      "source": [
        "my_car.car_info()"
      ],
      "metadata": {
        "colab": {
          "base_uri": "https://localhost:8080/"
        },
        "id": "Yzbt4fmdlwuo",
        "outputId": "173bed3d-2737-46b3-939d-888d8b2e9436"
      },
      "execution_count": 64,
      "outputs": [
        {
          "output_type": "stream",
          "name": "stdout",
          "text": [
            "make:  BMW\n",
            "model: M3\n",
            "color: red\n",
            "number of owners: 0\n"
          ]
        }
      ]
    },
    {
      "cell_type": "markdown",
      "source": [
        "###Creating a Class"
      ],
      "metadata": {
        "id": "9TRDluevnjZW"
      }
    },
    {
      "cell_type": "code",
      "source": [
        "# Import the library\n",
        "\n",
        "import matplotlib.pyplot as plt\n",
        "%matplotlib inline  "
      ],
      "metadata": {
        "id": "b4TpI9c-mEdb"
      },
      "execution_count": 65,
      "outputs": []
    },
    {
      "cell_type": "code",
      "source": [
        "# Create a class Circle\n",
        "\n",
        "class Circle(object):\n",
        "    \n",
        "    # Constructor\n",
        "    def __init__(self, radius=3, color='blue'):\n",
        "        self.radius = radius\n",
        "        self.color = color \n",
        "    \n",
        "    # Method\n",
        "    def add_radius(self, r):\n",
        "        self.radius = self.radius + r\n",
        "        return(self.radius)\n",
        "    \n",
        "    # Method\n",
        "    def drawCircle(self):\n",
        "        plt.gca().add_patch(plt.Circle((0, 0), radius=self.radius, fc=self.color))\n",
        "        plt.axis('scaled')\n",
        "        plt.show()  "
      ],
      "metadata": {
        "id": "WTrynIkEnmrw"
      },
      "execution_count": 66,
      "outputs": []
    },
    {
      "cell_type": "markdown",
      "source": [
        "###Creating an instance of a class circle"
      ],
      "metadata": {
        "id": "FOpoHhZYnq8a"
      }
    },
    {
      "cell_type": "code",
      "source": [
        "RedCircle=Circle(10,\"red\")"
      ],
      "metadata": {
        "id": "D7uNWY1eno36"
      },
      "execution_count": 67,
      "outputs": []
    },
    {
      "cell_type": "code",
      "source": [
        "dir(RedCircle)"
      ],
      "metadata": {
        "colab": {
          "base_uri": "https://localhost:8080/"
        },
        "id": "9hvJoQnOnyex",
        "outputId": "1a03a342-b36f-4906-fa43-80d4198281a3"
      },
      "execution_count": 68,
      "outputs": [
        {
          "output_type": "execute_result",
          "data": {
            "text/plain": [
              "['__class__',\n",
              " '__delattr__',\n",
              " '__dict__',\n",
              " '__dir__',\n",
              " '__doc__',\n",
              " '__eq__',\n",
              " '__format__',\n",
              " '__ge__',\n",
              " '__getattribute__',\n",
              " '__gt__',\n",
              " '__hash__',\n",
              " '__init__',\n",
              " '__init_subclass__',\n",
              " '__le__',\n",
              " '__lt__',\n",
              " '__module__',\n",
              " '__ne__',\n",
              " '__new__',\n",
              " '__reduce__',\n",
              " '__reduce_ex__',\n",
              " '__repr__',\n",
              " '__setattr__',\n",
              " '__sizeof__',\n",
              " '__str__',\n",
              " '__subclasshook__',\n",
              " '__weakref__',\n",
              " 'add_radius',\n",
              " 'color',\n",
              " 'drawCircle',\n",
              " 'radius']"
            ]
          },
          "metadata": {},
          "execution_count": 68
        }
      ]
    },
    {
      "cell_type": "code",
      "source": [
        "RedCircle.radius"
      ],
      "metadata": {
        "colab": {
          "base_uri": "https://localhost:8080/"
        },
        "id": "w1yfqAGvn18Y",
        "outputId": "846bc069-a994-415e-f571-065ce4d19fca"
      },
      "execution_count": 69,
      "outputs": [
        {
          "output_type": "execute_result",
          "data": {
            "text/plain": [
              "10"
            ]
          },
          "metadata": {},
          "execution_count": 69
        }
      ]
    },
    {
      "cell_type": "code",
      "source": [
        "RedCircle.color"
      ],
      "metadata": {
        "colab": {
          "base_uri": "https://localhost:8080/",
          "height": 0
        },
        "id": "rNzycgqSoADA",
        "outputId": "09f38630-291b-400f-aa8f-28ca07abe97d"
      },
      "execution_count": 70,
      "outputs": [
        {
          "output_type": "execute_result",
          "data": {
            "text/plain": [
              "'red'"
            ],
            "application/vnd.google.colaboratory.intrinsic+json": {
              "type": "string"
            }
          },
          "metadata": {},
          "execution_count": 70
        }
      ]
    },
    {
      "cell_type": "code",
      "source": [
        "RedCircle.radius = 1\n",
        "RedCircle.radius"
      ],
      "metadata": {
        "colab": {
          "base_uri": "https://localhost:8080/"
        },
        "id": "8UwHYkleoBsf",
        "outputId": "d620e30e-ba20-4e20-f9fb-88f56ca1282b"
      },
      "execution_count": 71,
      "outputs": [
        {
          "output_type": "execute_result",
          "data": {
            "text/plain": [
              "1"
            ]
          },
          "metadata": {},
          "execution_count": 71
        }
      ]
    },
    {
      "cell_type": "code",
      "source": [
        "RedCircle.drawCircle()"
      ],
      "metadata": {
        "colab": {
          "base_uri": "https://localhost:8080/",
          "height": 0
        },
        "id": "VlX1mtxvoFR5",
        "outputId": "58485e57-f157-41a1-d812-21c03479004d"
      },
      "execution_count": 72,
      "outputs": [
        {
          "output_type": "display_data",
          "data": {
            "text/plain": [
              "<Figure size 432x288 with 1 Axes>"
            ],
            "image/png": "[encoded data removed]"
          },
          "metadata": {
            "needs_background": "light"
          }
        }
      ]
    },
    {
      "cell_type": "code",
      "source": [
        "print('Radius of object:',RedCircle.radius)\n",
        "RedCircle.add_radius(2)\n",
        "print('Radius of object of after applying the method add_radius(2):',RedCircle.radius)\n",
        "RedCircle.add_radius(5)\n",
        "print('Radius of object of after applying the method add_radius(5):',RedCircle.radius)"
      ],
      "metadata": {
        "colab": {
          "base_uri": "https://localhost:8080/"
        },
        "id": "cgBphPCaoG4k",
        "outputId": "71457867-70fc-4999-ff22-9fc53bb58b2b"
      },
      "execution_count": 73,
      "outputs": [
        {
          "output_type": "stream",
          "name": "stdout",
          "text": [
            "Radius of object: 1\n",
            "Radius of object of after applying the method add_radius(2): 3\n",
            "Radius of object of after applying the method add_radius(5): 8\n"
          ]
        }
      ]
    },
    {
      "cell_type": "code",
      "source": [
        "class analysedText(object):\n",
        "    \n",
        "    def __init__ (self, text):\n",
        "        # remove punctuation\n",
        "        formattedText = text.replace('.','').replace('!','').replace('?','').replace(',','')\n",
        "        \n",
        "        # make text lowercase\n",
        "        formattedText = formattedText.lower()\n",
        "        \n",
        "        self.fmtText = formattedText\n",
        "        \n",
        "    def freqAll(self):        \n",
        "        # split text into words\n",
        "        wordList = self.fmtText.split(' ')\n",
        "        \n",
        "        # Create dictionary\n",
        "        freqMap = {}\n",
        "        for word in set(wordList): # use set to remove duplicates in list\n",
        "            freqMap[word] = wordList.count(word)\n",
        "        \n",
        "        return freqMap\n",
        "    \n",
        "    def freqOf(self,word):\n",
        "        # get frequency map\n",
        "        freqDict = self.freqAll()\n",
        "        \n",
        "        if word in freqDict:\n",
        "            return freqDict[word]\n",
        "        else:\n",
        "            return 0"
      ],
      "metadata": {
        "id": "W09ME2TCoLiY"
      },
      "execution_count": 74,
      "outputs": []
    },
    {
      "cell_type": "code",
      "source": [
        "import sys\n",
        "\n",
        "sampleMap = {'eirmod': 1,'sed': 1, 'amet': 2, 'diam': 5, 'consetetur': 1, 'labore': 1, 'tempor': 1, 'dolor': 1, 'magna': 2, 'et': 3, 'nonumy': 1, 'ipsum': 1, 'lorem': 2}\n",
        "\n",
        "def testMsg(passed):\n",
        "    if passed:\n",
        "       return 'Test Passed'\n",
        "    else :\n",
        "       return 'Test Failed'\n",
        "\n",
        "print(\"Constructor: \")\n",
        "try:\n",
        "    samplePassage = analysedText(\"Lorem ipsum dolor! diam amet, consetetur Lorem magna. sed diam nonumy eirmod tempor. diam et labore? et diam magna. et diam amet.\")\n",
        "    print(testMsg(samplePassage.fmtText == \"lorem ipsum dolor diam amet consetetur lorem magna sed diam nonumy eirmod tempor diam et labore et diam magna et diam amet\"))\n",
        "except:\n",
        "    print(\"Error detected. Recheck your function \" )\n",
        "print(\"freqAll: \")\n",
        "try:\n",
        "    wordMap = samplePassage.freqAll()\n",
        "    print(testMsg(wordMap==sampleMap))\n",
        "except:\n",
        "    print(\"Error detected. Recheck your function \" )\n",
        "print(\"freqOf: \")\n",
        "try:\n",
        "    passed = True\n",
        "    for word in sampleMap:\n",
        "        if samplePassage.freqOf(word) != sampleMap[word]:\n",
        "            passed = False\n",
        "            break\n",
        "    print(testMsg(passed))\n",
        "    \n",
        "except:\n",
        "    print(\"Error detected. Recheck your function  \" )\n",
        "    "
      ],
      "metadata": {
        "colab": {
          "base_uri": "https://localhost:8080/"
        },
        "id": "iVbQpZgzomFQ",
        "outputId": "43cdfd44-c920-4884-e34c-99fc467b8204"
      },
      "execution_count": 75,
      "outputs": [
        {
          "output_type": "stream",
          "name": "stdout",
          "text": [
            "Constructor: \n",
            "Test Passed\n",
            "freqAll: \n",
            "Test Passed\n",
            "freqOf: \n",
            "Test Passed\n"
          ]
        }
      ]
    },
    {
      "cell_type": "markdown",
      "source": [
        "##Exceptions"
      ],
      "metadata": {
        "id": "USvFCP9OpXQo"
      }
    },
    {
      "cell_type": "code",
      "source": [
        "a = 1\n",
        "\n",
        "try:\n",
        "    b = int(input(\"Please enter a number to divide a\"))\n",
        "    a = a/b\n",
        "    print(\"Success a=\",a)\n",
        "except:\n",
        "    print(\"There was an error\")"
      ],
      "metadata": {
        "colab": {
          "base_uri": "https://localhost:8080/"
        },
        "id": "D_gSrh3PpYoT",
        "outputId": "510895a3-3cd5-4ef1-f4b8-e8ea20d269e1"
      },
      "execution_count": 76,
      "outputs": [
        {
          "output_type": "stream",
          "name": "stdout",
          "text": [
            "Please enter a number to divide a1\n",
            "Success a= 1.0\n"
          ]
        }
      ]
    },
    {
      "cell_type": "code",
      "source": [
        "a = 1\n",
        "\n",
        "try:\n",
        "    b = int(input(\"Please enter a number to divide a\"))\n",
        "    a = a/b\n",
        "except ZeroDivisionError:\n",
        "    print(\"The number you provided cant divide 1 because it is 0\")\n",
        "except ValueError:\n",
        "    print(\"You did not provide a number\")\n",
        "except:\n",
        "    print(\"Something went wrong\")\n",
        "else:\n",
        "    print(\"success a=\",a)\n",
        "finally:\n",
        "    print(\"Processing Complete\")"
      ],
      "metadata": {
        "colab": {
          "base_uri": "https://localhost:8080/"
        },
        "id": "UnJEDMSTopNi",
        "outputId": "513aeb08-f3b0-4a94-ac80-7b064887e2e0"
      },
      "execution_count": 77,
      "outputs": [
        {
          "output_type": "stream",
          "name": "stdout",
          "text": [
            "Please enter a number to divide a2\n",
            "success a= 0.5\n",
            "Processing Complete\n"
          ]
        }
      ]
    },
    {
      "cell_type": "code",
      "source": [],
      "metadata": {
        "id": "_MCYAieQqTxV"
      },
      "execution_count": 77,
      "outputs": []
    }
  ]
}
