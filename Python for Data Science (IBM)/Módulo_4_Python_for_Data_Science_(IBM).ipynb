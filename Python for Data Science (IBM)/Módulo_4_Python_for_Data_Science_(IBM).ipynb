{
  "nbformat": 4,
  "nbformat_minor": 0,
  "metadata": {
    "colab": {
      "provenance": [],
      "toc_visible": true,
      "authorship_tag": "ABX9TyOy8sXzGqYt80O3lpf6fh95",
      "include_colab_link": true
    },
    "kernelspec": {
      "name": "python3",
      "display_name": "Python 3"
    },
    "language_info": {
      "name": "python"
    }
  },
  "cells": [
    {
      "cell_type": "markdown",
      "metadata": {
        "id": "view-in-github",
        "colab_type": "text"
      },
      "source": [
        "<a href=\"https://colab.research.google.com/github/PosgradoMNA/actividades-de-aprendizaje-A01332636/blob/main/M%C3%B3dulo_4_Python_for_Data_Science_(IBM).ipynb\" target=\"_parent\"><img src=\"https://colab.research.google.com/assets/colab-badge.svg\" alt=\"Open In Colab\"/></a>"
      ]
    },
    {
      "cell_type": "markdown",
      "source": [
        "#Módulo 4"
      ],
      "metadata": {
        "id": "bNtFSBMZdork"
      }
    },
    {
      "cell_type": "markdown",
      "source": [
        "##LAB-Reading Files"
      ],
      "metadata": {
        "id": "XB8xK2eadq6z"
      }
    },
    {
      "cell_type": "markdown",
      "source": [
        "###Download Data"
      ],
      "metadata": {
        "id": "JzXeAArsqaUJ"
      }
    },
    {
      "cell_type": "code",
      "source": [
        "!pip install pyodide.http"
      ],
      "metadata": {
        "colab": {
          "base_uri": "https://localhost:8080/"
        },
        "id": "VTgEdHw4qphz",
        "outputId": "670647f4-fd0d-4c43-fcea-9c98f6653d0f"
      },
      "execution_count": null,
      "outputs": [
        {
          "output_type": "stream",
          "name": "stdout",
          "text": [
            "Looking in indexes: https://pypi.org/simple, https://us-python.pkg.dev/colab-wheels/public/simple/\n",
            "Requirement already satisfied: pyodide.http in /usr/local/lib/python3.7/dist-packages (0.0.8)\n"
          ]
        }
      ]
    },
    {
      "cell_type": "code",
      "source": [
        "import urllib.request\n",
        "url = 'https://cf-courses-data.s3.us.cloud-object-storage.appdomain.cloud/IBMDeveloperSkillsNetwork-PY0101EN-SkillsNetwork/labs/Module%204/data/example1.txt'\n",
        "filename = 'Example1.txt'\n",
        "urllib.request.urlretrieve(url, filename)\n"
      ],
      "metadata": {
        "colab": {
          "base_uri": "https://localhost:8080/"
        },
        "id": "jBrR59sRsA7Y",
        "outputId": "6df88a88-69dd-4458-ee24-59a181627d86"
      },
      "execution_count": null,
      "outputs": [
        {
          "output_type": "execute_result",
          "data": {
            "text/plain": [
              "('Example1.txt', <http.client.HTTPMessage at 0x7fcc6214d890>)"
            ]
          },
          "metadata": {},
          "execution_count": 9
        }
      ]
    },
    {
      "cell_type": "code",
      "source": [
        "doc= \"Example1.txt\"\n",
        "file = open(doc, \"r\")"
      ],
      "metadata": {
        "id": "RfHTjks1qZhz"
      },
      "execution_count": null,
      "outputs": []
    },
    {
      "cell_type": "code",
      "source": [
        "file.name"
      ],
      "metadata": {
        "colab": {
          "base_uri": "https://localhost:8080/",
          "height": 35
        },
        "id": "_p22_NJhwQ85",
        "outputId": "3e97a989-99d1-4c4c-c70f-1edf91dc3d01"
      },
      "execution_count": null,
      "outputs": [
        {
          "output_type": "execute_result",
          "data": {
            "text/plain": [
              "'Example1.txt'"
            ],
            "application/vnd.google.colaboratory.intrinsic+json": {
              "type": "string"
            }
          },
          "metadata": {},
          "execution_count": 11
        }
      ]
    },
    {
      "cell_type": "code",
      "source": [
        "fileContent= file.read()\n",
        "fileContent"
      ],
      "metadata": {
        "colab": {
          "base_uri": "https://localhost:8080/",
          "height": 35
        },
        "id": "MAMdPupCwYDJ",
        "outputId": "a9fb57fc-ad98-41bb-c8b1-df51b52e13d5"
      },
      "execution_count": null,
      "outputs": [
        {
          "output_type": "execute_result",
          "data": {
            "text/plain": [
              "'This is line 1 \\nThis is line 2\\nThis is line 3'"
            ],
            "application/vnd.google.colaboratory.intrinsic+json": {
              "type": "string"
            }
          },
          "metadata": {},
          "execution_count": 12
        }
      ]
    },
    {
      "cell_type": "markdown",
      "source": [
        "###Reading text files"
      ],
      "metadata": {
        "id": "PSucNL1LsNQZ"
      }
    },
    {
      "cell_type": "code",
      "source": [
        "doc= \"Example1.txt\"\n",
        "file = open(doc, \"r\")"
      ],
      "metadata": {
        "id": "XjBvKRN7eE82"
      },
      "execution_count": null,
      "outputs": []
    },
    {
      "cell_type": "code",
      "source": [
        "file.name"
      ],
      "metadata": {
        "colab": {
          "base_uri": "https://localhost:8080/",
          "height": 35
        },
        "id": "ZI81GV_GpyIz",
        "outputId": "dfb11a64-390e-4f35-d335-17ea02364157"
      },
      "execution_count": null,
      "outputs": [
        {
          "output_type": "execute_result",
          "data": {
            "text/plain": [
              "'Example1.txt'"
            ],
            "application/vnd.google.colaboratory.intrinsic+json": {
              "type": "string"
            }
          },
          "metadata": {},
          "execution_count": 14
        }
      ]
    },
    {
      "cell_type": "code",
      "source": [
        "file.mode"
      ],
      "metadata": {
        "colab": {
          "base_uri": "https://localhost:8080/",
          "height": 35
        },
        "id": "wn879_rqp2t9",
        "outputId": "918b3847-8b4e-4d31-995b-2c32b7150e57"
      },
      "execution_count": null,
      "outputs": [
        {
          "output_type": "execute_result",
          "data": {
            "text/plain": [
              "'r'"
            ],
            "application/vnd.google.colaboratory.intrinsic+json": {
              "type": "string"
            }
          },
          "metadata": {},
          "execution_count": 15
        }
      ]
    },
    {
      "cell_type": "code",
      "source": [
        "fileContent= file.read()\n",
        "fileContent"
      ],
      "metadata": {
        "colab": {
          "base_uri": "https://localhost:8080/",
          "height": 35
        },
        "id": "Y6QE52VPp50R",
        "outputId": "6dc79bf6-2d3e-422e-ac08-b375a00fe9da"
      },
      "execution_count": null,
      "outputs": [
        {
          "output_type": "execute_result",
          "data": {
            "text/plain": [
              "'This is line 1 \\nThis is line 2\\nThis is line 3'"
            ],
            "application/vnd.google.colaboratory.intrinsic+json": {
              "type": "string"
            }
          },
          "metadata": {},
          "execution_count": 16
        }
      ]
    },
    {
      "cell_type": "code",
      "source": [
        "print(fileContent)"
      ],
      "metadata": {
        "colab": {
          "base_uri": "https://localhost:8080/"
        },
        "id": "0uJbC4rep-D9",
        "outputId": "5726ed03-2a79-49b2-8a14-80e6ead067cf"
      },
      "execution_count": null,
      "outputs": [
        {
          "output_type": "stream",
          "name": "stdout",
          "text": [
            "This is line 1 \n",
            "This is line 2\n",
            "This is line 3\n"
          ]
        }
      ]
    },
    {
      "cell_type": "code",
      "source": [
        "file.close()"
      ],
      "metadata": {
        "id": "OOvUIlNAqE9O"
      },
      "execution_count": null,
      "outputs": []
    },
    {
      "cell_type": "markdown",
      "source": [
        "###A better way to poen a file"
      ],
      "metadata": {
        "id": "y_coSjzbsS49"
      }
    },
    {
      "cell_type": "code",
      "source": [
        "with open(doc, \"r\") as file:\n",
        "    FileContent = file.read()\n",
        "    print(FileContent)"
      ],
      "metadata": {
        "colab": {
          "base_uri": "https://localhost:8080/"
        },
        "id": "WLNWYvmosSPu",
        "outputId": "71f80084-5fd2-47aa-df35-66e31da487a5"
      },
      "execution_count": null,
      "outputs": [
        {
          "output_type": "stream",
          "name": "stdout",
          "text": [
            "This is line 1 \n",
            "This is line 2\n",
            "This is line 3\n"
          ]
        }
      ]
    },
    {
      "cell_type": "code",
      "source": [
        "file.closed"
      ],
      "metadata": {
        "colab": {
          "base_uri": "https://localhost:8080/"
        },
        "id": "gkLOykmosj38",
        "outputId": "8a5895e7-b2df-45f2-cce3-c8b21b3632de"
      },
      "execution_count": null,
      "outputs": [
        {
          "output_type": "execute_result",
          "data": {
            "text/plain": [
              "True"
            ]
          },
          "metadata": {},
          "execution_count": 20
        }
      ]
    },
    {
      "cell_type": "code",
      "source": [
        "print(fileContent)"
      ],
      "metadata": {
        "colab": {
          "base_uri": "https://localhost:8080/"
        },
        "id": "Y8STsnX3smyR",
        "outputId": "46ed604b-d253-452c-9cf1-996b6191014f"
      },
      "execution_count": null,
      "outputs": [
        {
          "output_type": "stream",
          "name": "stdout",
          "text": [
            "This is line 1 \n",
            "This is line 2\n",
            "This is line 3\n"
          ]
        }
      ]
    },
    {
      "cell_type": "code",
      "source": [
        "with open(doc, \"r\") as file:\n",
        "    print(file.read(6))"
      ],
      "metadata": {
        "colab": {
          "base_uri": "https://localhost:8080/"
        },
        "id": "lHTgshu9s0Y5",
        "outputId": "69de52c7-9991-4890-924c-d099aaa32afd"
      },
      "execution_count": null,
      "outputs": [
        {
          "output_type": "stream",
          "name": "stdout",
          "text": [
            "This i\n"
          ]
        }
      ]
    },
    {
      "cell_type": "code",
      "source": [
        "with open(doc, \"r\") as file:\n",
        "    print(file.read(6))\n",
        "    print(file.read(9))\n",
        "    print(file.read(10))\n",
        "    print(file.read(15))"
      ],
      "metadata": {
        "colab": {
          "base_uri": "https://localhost:8080/"
        },
        "id": "YzGW0H6Xs6b0",
        "outputId": "f8570b0b-4d3d-4c00-c42d-e61be07ed287"
      },
      "execution_count": null,
      "outputs": [
        {
          "output_type": "stream",
          "name": "stdout",
          "text": [
            "This i\n",
            "s line 1 \n",
            "\n",
            "This is l\n",
            "ine 2\n",
            "This is l\n"
          ]
        }
      ]
    },
    {
      "cell_type": "code",
      "source": [
        "#One line\n",
        "with open(doc, \"r\") as file:\n",
        "    print(\"first line: \" + file.readline())"
      ],
      "metadata": {
        "colab": {
          "base_uri": "https://localhost:8080/"
        },
        "id": "Ea1mM7UkvDPY",
        "outputId": "a04575ec-ef46-4cc1-b6e2-0dc97b7e242f"
      },
      "execution_count": null,
      "outputs": [
        {
          "output_type": "stream",
          "name": "stdout",
          "text": [
            "first line: This is line 1 \n",
            "\n"
          ]
        }
      ]
    },
    {
      "cell_type": "code",
      "source": [
        "with open(doc, \"r\") as file:\n",
        "    print(file.readline(20)) # does not read past the end of line\n",
        "    print(file.read(20)) # Returns the next 20 chars"
      ],
      "metadata": {
        "colab": {
          "base_uri": "https://localhost:8080/"
        },
        "id": "YFyNwfFWvJZD",
        "outputId": "f7c42730-37ce-4faf-9c5c-46332610442b"
      },
      "execution_count": null,
      "outputs": [
        {
          "output_type": "stream",
          "name": "stdout",
          "text": [
            "This is line 1 \n",
            "\n",
            "This is line 2\n",
            "This \n"
          ]
        }
      ]
    },
    {
      "cell_type": "code",
      "source": [
        "with open(doc,\"r\") as file:\n",
        "        i = 0;\n",
        "        for line in file:\n",
        "            print(\"Iteration\", str(i), \": \", line)\n",
        "            i = i + 1"
      ],
      "metadata": {
        "colab": {
          "base_uri": "https://localhost:8080/"
        },
        "id": "HQIXIvmhvPQb",
        "outputId": "18430984-c2d6-4e54-e959-a559c62aee19"
      },
      "execution_count": null,
      "outputs": [
        {
          "output_type": "stream",
          "name": "stdout",
          "text": [
            "Iteration 0 :  This is line 1 \n",
            "\n",
            "Iteration 1 :  This is line 2\n",
            "\n",
            "Iteration 2 :  This is line 3\n"
          ]
        }
      ]
    },
    {
      "cell_type": "code",
      "source": [
        "with open(doc, \"r\") as file:\n",
        "    FileasList = file.readlines()"
      ],
      "metadata": {
        "id": "Bj6tJS1yvXhR"
      },
      "execution_count": null,
      "outputs": []
    },
    {
      "cell_type": "code",
      "source": [
        "FileasList[0]"
      ],
      "metadata": {
        "colab": {
          "base_uri": "https://localhost:8080/",
          "height": 35
        },
        "id": "LBSSyRO2vm3r",
        "outputId": "413327b6-ea33-4ae5-93a3-b0a1824061da"
      },
      "execution_count": null,
      "outputs": [
        {
          "output_type": "execute_result",
          "data": {
            "text/plain": [
              "'This is line 1 \\n'"
            ],
            "application/vnd.google.colaboratory.intrinsic+json": {
              "type": "string"
            }
          },
          "metadata": {},
          "execution_count": 28
        }
      ]
    },
    {
      "cell_type": "markdown",
      "source": [
        "###Second line"
      ],
      "metadata": {
        "id": "03R7xIGNvs6e"
      }
    },
    {
      "cell_type": "code",
      "source": [
        "FileasList[2]"
      ],
      "metadata": {
        "colab": {
          "base_uri": "https://localhost:8080/",
          "height": 35
        },
        "id": "MGGfXF_Qvu7r",
        "outputId": "8a3af22b-ae45-4a3d-b437-ac3acecf0622"
      },
      "execution_count": null,
      "outputs": [
        {
          "output_type": "execute_result",
          "data": {
            "text/plain": [
              "'This is line 3'"
            ],
            "application/vnd.google.colaboratory.intrinsic+json": {
              "type": "string"
            }
          },
          "metadata": {},
          "execution_count": 29
        }
      ]
    },
    {
      "cell_type": "markdown",
      "source": [
        "##LAB - Writing Files"
      ],
      "metadata": {
        "id": "9QdTE5fkdwW1"
      }
    },
    {
      "cell_type": "code",
      "source": [
        "doc2 = 'new_doc.txt'\n",
        "with open(doc2, 'w') as writefile:\n",
        "    writefile.write(\"This is line A\")"
      ],
      "metadata": {
        "id": "YPlgtK9utvfz"
      },
      "execution_count": null,
      "outputs": []
    },
    {
      "cell_type": "code",
      "source": [
        "with open(doc2, 'r') as testwritefile:\n",
        "    print(testwritefile.read())"
      ],
      "metadata": {
        "colab": {
          "base_uri": "https://localhost:8080/"
        },
        "id": "ydGK8GT5tvvn",
        "outputId": "49a8ee37-3fb4-4761-975c-377523a51009"
      },
      "execution_count": null,
      "outputs": [
        {
          "output_type": "stream",
          "name": "stdout",
          "text": [
            "This is line A\n"
          ]
        }
      ]
    },
    {
      "cell_type": "code",
      "source": [
        "with open(doc2, 'w') as writefile:\n",
        "    writefile.write(\"This is line A\\n\")\n",
        "    writefile.write(\"This is line B\\n\")"
      ],
      "metadata": {
        "id": "DtLUqiHntv0u"
      },
      "execution_count": null,
      "outputs": []
    },
    {
      "cell_type": "code",
      "source": [
        "with open(doc2, 'r') as testwritefile:\n",
        "    print(testwritefile.read())"
      ],
      "metadata": {
        "colab": {
          "base_uri": "https://localhost:8080/"
        },
        "id": "ZUEp6qoutv7d",
        "outputId": "29dd9aa1-0e7c-43aa-a055-a528fd4b50a3"
      },
      "execution_count": null,
      "outputs": [
        {
          "output_type": "stream",
          "name": "stdout",
          "text": [
            "This is line A\n",
            "This is line B\n",
            "\n"
          ]
        }
      ]
    },
    {
      "cell_type": "code",
      "source": [
        "Lines = [\"This is line A\\n\", \"This is line B\\n\", \"This is line C\\n\"]\n",
        "Lines"
      ],
      "metadata": {
        "colab": {
          "base_uri": "https://localhost:8080/"
        },
        "id": "YnhOn-jEtwBu",
        "outputId": "94fdfa24-09af-4a74-9f68-ae9663d296e8"
      },
      "execution_count": null,
      "outputs": [
        {
          "output_type": "execute_result",
          "data": {
            "text/plain": [
              "['This is line A\\n', 'This is line B\\n', 'This is line C\\n']"
            ]
          },
          "metadata": {},
          "execution_count": 34
        }
      ]
    },
    {
      "cell_type": "code",
      "source": [
        "with open('new_doc.txt', 'w') as writefile:\n",
        "    for line in Lines:\n",
        "        print(line)\n",
        "        writefile.write(line)"
      ],
      "metadata": {
        "colab": {
          "base_uri": "https://localhost:8080/"
        },
        "id": "jog1lqnZuJip",
        "outputId": "ee452b59-6a33-46bf-fc53-33a8eb1e83ab"
      },
      "execution_count": null,
      "outputs": [
        {
          "output_type": "stream",
          "name": "stdout",
          "text": [
            "This is line A\n",
            "\n",
            "This is line B\n",
            "\n",
            "This is line C\n",
            "\n"
          ]
        }
      ]
    },
    {
      "cell_type": "code",
      "source": [
        "with open('new_doc.txt', 'w') as writefile:\n",
        "    writefile.write(\"Overwrite\\n\")\n",
        "with open('new_doc.txt', 'r') as testwritefile:\n",
        "    print(testwritefile.read())"
      ],
      "metadata": {
        "colab": {
          "base_uri": "https://localhost:8080/"
        },
        "id": "JzhNgDXMuJoJ",
        "outputId": "cfbf79a1-3600-4a4e-ec7a-ae0b42795748"
      },
      "execution_count": null,
      "outputs": [
        {
          "output_type": "stream",
          "name": "stdout",
          "text": [
            "Overwrite\n",
            "\n"
          ]
        }
      ]
    },
    {
      "cell_type": "markdown",
      "source": [
        "###Appending Files"
      ],
      "metadata": {
        "id": "rKJXukQHubGR"
      }
    },
    {
      "cell_type": "code",
      "source": [
        "with open('new_doc.txt', 'a') as testwritefile:\n",
        "    testwritefile.write(\"This is line C\\n\")\n",
        "    testwritefile.write(\"This is line D\\n\")\n",
        "    testwritefile.write(\"This is line E\\n\")"
      ],
      "metadata": {
        "id": "ynN-AN9UugEK"
      },
      "execution_count": null,
      "outputs": []
    },
    {
      "cell_type": "code",
      "source": [
        "with open('new_doc.txt', 'r') as testwritefile:\n",
        "    print(testwritefile.read())"
      ],
      "metadata": {
        "colab": {
          "base_uri": "https://localhost:8080/"
        },
        "id": "7vEpww7CugKN",
        "outputId": "e3eb1af5-8ea2-4c4e-f705-767fa31c914c"
      },
      "execution_count": null,
      "outputs": [
        {
          "output_type": "stream",
          "name": "stdout",
          "text": [
            "Overwrite\n",
            "This is line C\n",
            "This is line D\n",
            "This is line E\n",
            "\n"
          ]
        }
      ]
    },
    {
      "cell_type": "markdown",
      "source": [
        "###Additional modes"
      ],
      "metadata": {
        "id": "VCnIz0z8uqgD"
      }
    },
    {
      "cell_type": "code",
      "source": [
        "with open('mew_doc.txt', 'a+') as testwritefile:\n",
        "    testwritefile.write(\"This is line E\\n\")\n",
        "    print(testwritefile.read())"
      ],
      "metadata": {
        "colab": {
          "base_uri": "https://localhost:8080/"
        },
        "id": "SK2SAtWPusch",
        "outputId": "d4c926f4-5039-4d3d-a0b6-a71469123947"
      },
      "execution_count": null,
      "outputs": [
        {
          "output_type": "stream",
          "name": "stdout",
          "text": [
            "\n"
          ]
        }
      ]
    },
    {
      "cell_type": "code",
      "source": [
        "with open('new_doc.txt', 'a+') as testwritefile:\n",
        "    print(\"Initial Location: {}\".format(testwritefile.tell()))\n",
        "    \n",
        "    data = testwritefile.read()\n",
        "    if (not data):  #empty strings return false in python\n",
        "            print('Read nothing') \n",
        "    else: \n",
        "            print(testwritefile.read())\n",
        "            \n",
        "    testwritefile.seek(0,0) # move 0 bytes from beginning.\n",
        "    \n",
        "    print(\"\\nNew Location : {}\".format(testwritefile.tell()))\n",
        "    data = testwritefile.read()\n",
        "    if (not data): \n",
        "            print('Read nothing') \n",
        "    else: \n",
        "            print(data)\n",
        "    \n",
        "    print(\"Location after read: {}\".format(testwritefile.tell()) )"
      ],
      "metadata": {
        "colab": {
          "base_uri": "https://localhost:8080/"
        },
        "id": "Bkbh6pEYugS9",
        "outputId": "2d498014-0661-42d8-84d9-3a71ffd766e3"
      },
      "execution_count": null,
      "outputs": [
        {
          "output_type": "stream",
          "name": "stdout",
          "text": [
            "Initial Location: 55\n",
            "Read nothing\n",
            "\n",
            "New Location : 0\n",
            "Overwrite\n",
            "This is line C\n",
            "This is line D\n",
            "This is line E\n",
            "\n",
            "Location after read: 55\n"
          ]
        }
      ]
    },
    {
      "cell_type": "code",
      "source": [
        "with open('new_doc.txt', 'r+') as testwritefile:\n",
        "    data = testwritefile.readlines()\n",
        "    testwritefile.seek(0,0) #write at beginning of file\n",
        "   \n",
        "    testwritefile.write(\"Line 1\" + \"\\n\")\n",
        "    testwritefile.write(\"Line 2\" + \"\\n\")\n",
        "    testwritefile.write(\"Line 3\" + \"\\n\")\n",
        "    testwritefile.write(\"finished\\n\")\n",
        "    #Uncomment the line below\n",
        "    #testwritefile.truncate()\n",
        "    testwritefile.seek(0,0)\n",
        "    print(testwritefile.read())\n",
        "    "
      ],
      "metadata": {
        "colab": {
          "base_uri": "https://localhost:8080/"
        },
        "id": "TgkKELH2uJw-",
        "outputId": "823f5810-1aed-44bd-f360-a188e17ec339"
      },
      "execution_count": null,
      "outputs": [
        {
          "output_type": "stream",
          "name": "stdout",
          "text": [
            "Line 1\n",
            "Line 2\n",
            "Line 3\n",
            "finished\n",
            "is line D\n",
            "This is line E\n",
            "\n"
          ]
        }
      ]
    },
    {
      "cell_type": "markdown",
      "source": [
        "###Copy a File"
      ],
      "metadata": {
        "id": "3Dkj21q8vBY1"
      }
    },
    {
      "cell_type": "code",
      "source": [
        "with open('new_doc.txt','r') as readfile:\n",
        "    with open('doc3.txt','w') as writefile:\n",
        "          for line in readfile:\n",
        "                writefile.write(line)"
      ],
      "metadata": {
        "id": "-uydHQP6vDTa"
      },
      "execution_count": null,
      "outputs": []
    },
    {
      "cell_type": "code",
      "source": [
        "with open('doc3.txt','r') as testwritefile:\n",
        "    print(testwritefile.read())"
      ],
      "metadata": {
        "colab": {
          "base_uri": "https://localhost:8080/"
        },
        "id": "mNsXKBXxvDdx",
        "outputId": "99309a70-accb-4258-cd36-4b2b1981e609"
      },
      "execution_count": null,
      "outputs": [
        {
          "output_type": "stream",
          "name": "stdout",
          "text": [
            "Line 1\n",
            "Line 2\n",
            "Line 3\n",
            "finished\n",
            "is line D\n",
            "This is line E\n",
            "\n"
          ]
        }
      ]
    },
    {
      "cell_type": "markdown",
      "source": [
        "###Exercise\n",
        "Limpiar y mantener imformación "
      ],
      "metadata": {
        "id": "UYer1aMSwBih"
      }
    },
    {
      "cell_type": "code",
      "source": [
        "from random import randint as rnd\n",
        "\n",
        "memReg = 'members.txt'\n",
        "exReg = 'inactive.txt'\n",
        "fee =('yes','no')\n",
        "\n",
        "def genFiles(current,old):\n",
        "    with open(current,'w+') as writefile: \n",
        "        writefile.write('Membership No  Date Joined  Active  \\n')\n",
        "        data = \"{:^13}  {:<11}  {:<6}\\n\"\n",
        "\n",
        "        for rowno in range(20):\n",
        "            date = str(rnd(2015,2020))+ '-' + str(rnd(1,12))+'-'+str(rnd(1,25))\n",
        "            writefile.write(data.format(rnd(10000,99999),date,fee[rnd(0,1)]))\n",
        "\n",
        "\n",
        "    with open(old,'w+') as writefile: \n",
        "        writefile.write('Membership No  Date Joined  Active  \\n')\n",
        "        data = \"{:^13}  {:<11}  {:<6}\\n\"\n",
        "        for rowno in range(3):\n",
        "            date = str(rnd(2015,2020))+ '-' + str(rnd(1,12))+'-'+str(rnd(1,25))\n",
        "            writefile.write(data.format(rnd(10000,99999),date,fee[1]))\n",
        "\n",
        "\n",
        "genFiles(memReg,exReg)\n"
      ],
      "metadata": {
        "id": "pSvFmZp2wLL-"
      },
      "execution_count": null,
      "outputs": []
    },
    {
      "cell_type": "code",
      "source": [
        "'''\n",
        "The two arguments for this function are the files:\n",
        "    - currentMem: File containing list of current members\n",
        "    - exMem: File containing list of old members\n",
        "    \n",
        "    This function should remove all rows from currentMem containing 'no' \n",
        "    in the 'Active' column and appends them to exMem.\n",
        "    '''\n",
        "def cleanFiles(currentMem,exMem):\n",
        "    with open(currentMem,'r+') as writeFile: \n",
        "        with open(exMem,'a+') as appendFile:\n",
        "            #get the data\n",
        "            writeFile.seek(0)\n",
        "            members = writeFile.readlines()\n",
        "            #remove header\n",
        "            header = members[0]\n",
        "            members.pop(0)\n",
        "                \n",
        "            inactive = [member for member in members if ('no' in member)]\n",
        "            '''\n",
        "            The above is the same as \n",
        "\n",
        "            for member in members:\n",
        "            if 'no' in member:\n",
        "                inactive.append(member)\n",
        "            '''\n",
        "            #go to the beginning of the write file\n",
        "            writeFile.seek(0) \n",
        "            writeFile.write(header)\n",
        "            for member in members:\n",
        "                if (member in inactive):\n",
        "                    appendFile.write(member)\n",
        "                else:\n",
        "                    writeFile.write(member)      \n",
        "            writeFile.truncate()\n",
        "                \n",
        "memReg = 'members.txt'\n",
        "exReg = 'inactive.txt'\n",
        "cleanFiles(memReg,exReg)\n",
        "                "
      ],
      "metadata": {
        "id": "-dnRIZDSwLSm"
      },
      "execution_count": null,
      "outputs": []
    },
    {
      "cell_type": "code",
      "source": [
        "headers = \"Membership No  Date Joined  Active  \\n\"\n",
        "\n",
        "with open(memReg,'r') as readFile:\n",
        "    print(\"Active Members: \\n\\n\")\n",
        "    print(readFile.read())\n",
        "    \n",
        "with open(exReg,'r') as readFile:\n",
        "    print(\"Inactive Members: \\n\\n\")\n",
        "    print(readFile.read())"
      ],
      "metadata": {
        "colab": {
          "base_uri": "https://localhost:8080/"
        },
        "id": "vrIbGh0iwLmj",
        "outputId": "4e93da71-b30d-4c4f-edad-a1c5a3c90dbd"
      },
      "execution_count": null,
      "outputs": [
        {
          "output_type": "stream",
          "name": "stdout",
          "text": [
            "Active Members: \n",
            "\n",
            "\n",
            "Membership No  Date Joined  Active  \n",
            "    95242      2015-4-6     yes   \n",
            "    43700      2019-7-7     yes   \n",
            "    35062      2020-12-16   yes   \n",
            "    84425      2016-8-20    yes   \n",
            "    91060      2018-7-3     yes   \n",
            "    68994      2019-12-23   yes   \n",
            "    45171      2016-6-25    yes   \n",
            "    99570      2019-10-16   yes   \n",
            "    73814      2017-5-2     yes   \n",
            "    90420      2018-1-22    yes   \n",
            "    90806      2019-4-19    yes   \n",
            "\n",
            "Inactive Members: \n",
            "\n",
            "\n",
            "Membership No  Date Joined  Active  \n",
            "    59087      2020-7-20    no    \n",
            "    88589      2018-9-6     no    \n",
            "    10423      2017-2-8     no    \n",
            "    48248      2015-11-9    no    \n",
            "    39870      2016-6-15    no    \n",
            "    20543      2017-9-14    no    \n",
            "    99025      2017-5-17    no    \n",
            "    99750      2018-11-16   no    \n",
            "    27110      2015-3-21    no    \n",
            "    66601      2016-12-15   no    \n",
            "    20078      2020-10-21   no    \n",
            "    71708      2020-2-24    no    \n",
            "\n"
          ]
        }
      ]
    },
    {
      "cell_type": "markdown",
      "source": [
        "##Loading Data with Pandas"
      ],
      "metadata": {
        "id": "tYUdirtbd4I-"
      }
    },
    {
      "cell_type": "markdown",
      "source": [
        "###Video"
      ],
      "metadata": {
        "id": "WZ0ge7eVyttK"
      }
    },
    {
      "cell_type": "code",
      "source": [
        "import pandas as pd\n",
        "\n",
        "data = {\n",
        "  \"calories\": [420, 380, 390],\n",
        "  \"duration\": [50, 40, 45]\n",
        "}\n",
        "\n",
        "#load data into a DataFrame object:\n",
        "df = pd.DataFrame(data)\n",
        "\n",
        "df"
      ],
      "metadata": {
        "colab": {
          "base_uri": "https://localhost:8080/",
          "height": 143
        },
        "id": "_M_3JnV3u9pd",
        "outputId": "6080c2ea-ccb2-4d89-fff4-89fdf0752188"
      },
      "execution_count": null,
      "outputs": [
        {
          "output_type": "execute_result",
          "data": {
            "text/plain": [
              "   calories  duration\n",
              "0       420        50\n",
              "1       380        40\n",
              "2       390        45"
            ],
            "text/html": [
              "\n",
              "  <div id=\"df-04ff2e15-d516-4c8e-bdd8-238b6eeaa5af\">\n",
              "    <div class=\"colab-df-container\">\n",
              "      <div>\n",
              "<style scoped>\n",
              "    .dataframe tbody tr th:only-of-type {\n",
              "        vertical-align: middle;\n",
              "    }\n",
              "\n",
              "    .dataframe tbody tr th {\n",
              "        vertical-align: top;\n",
              "    }\n",
              "\n",
              "    .dataframe thead th {\n",
              "        text-align: right;\n",
              "    }\n",
              "</style>\n",
              "<table border=\"1\" class=\"dataframe\">\n",
              "  <thead>\n",
              "    <tr style=\"text-align: right;\">\n",
              "      <th></th>\n",
              "      <th>calories</th>\n",
              "      <th>duration</th>\n",
              "    </tr>\n",
              "  </thead>\n",
              "  <tbody>\n",
              "    <tr>\n",
              "      <th>0</th>\n",
              "      <td>420</td>\n",
              "      <td>50</td>\n",
              "    </tr>\n",
              "    <tr>\n",
              "      <th>1</th>\n",
              "      <td>380</td>\n",
              "      <td>40</td>\n",
              "    </tr>\n",
              "    <tr>\n",
              "      <th>2</th>\n",
              "      <td>390</td>\n",
              "      <td>45</td>\n",
              "    </tr>\n",
              "  </tbody>\n",
              "</table>\n",
              "</div>\n",
              "      <button class=\"colab-df-convert\" onclick=\"convertToInteractive('df-04ff2e15-d516-4c8e-bdd8-238b6eeaa5af')\"\n",
              "              title=\"Convert this dataframe to an interactive table.\"\n",
              "              style=\"display:none;\">\n",
              "        \n",
              "  <svg xmlns=\"http://www.w3.org/2000/svg\" height=\"24px\"viewBox=\"0 0 24 24\"\n",
              "       width=\"24px\">\n",
              "    <path d=\"M0 0h24v24H0V0z\" fill=\"none\"/>\n",
              "    <path d=\"M18.56 5.44l.94 2.06.94-2.06 2.06-.94-2.06-.94-.94-2.06-.94 2.06-2.06.94zm-11 1L8.5 8.5l.94-2.06 2.06-.94-2.06-.94L8.5 2.5l-.94 2.06-2.06.94zm10 10l.94 2.06.94-2.06 2.06-.94-2.06-.94-.94-2.06-.94 2.06-2.06.94z\"/><path d=\"M17.41 7.96l-1.37-1.37c-.4-.4-.92-.59-1.43-.59-.52 0-1.04.2-1.43.59L10.3 9.45l-7.72 7.72c-.78.78-.78 2.05 0 2.83L4 21.41c.39.39.9.59 1.41.59.51 0 1.02-.2 1.41-.59l7.78-7.78 2.81-2.81c.8-.78.8-2.07 0-2.86zM5.41 20L4 18.59l7.72-7.72 1.47 1.35L5.41 20z\"/>\n",
              "  </svg>\n",
              "      </button>\n",
              "      \n",
              "  <style>\n",
              "    .colab-df-container {\n",
              "      display:flex;\n",
              "      flex-wrap:wrap;\n",
              "      gap: 12px;\n",
              "    }\n",
              "\n",
              "    .colab-df-convert {\n",
              "      background-color: #E8F0FE;\n",
              "      border: none;\n",
              "      border-radius: 50%;\n",
              "      cursor: pointer;\n",
              "      display: none;\n",
              "      fill: #1967D2;\n",
              "      height: 32px;\n",
              "      padding: 0 0 0 0;\n",
              "      width: 32px;\n",
              "    }\n",
              "\n",
              "    .colab-df-convert:hover {\n",
              "      background-color: #E2EBFA;\n",
              "      box-shadow: 0px 1px 2px rgba(60, 64, 67, 0.3), 0px 1px 3px 1px rgba(60, 64, 67, 0.15);\n",
              "      fill: #174EA6;\n",
              "    }\n",
              "\n",
              "    [theme=dark] .colab-df-convert {\n",
              "      background-color: #3B4455;\n",
              "      fill: #D2E3FC;\n",
              "    }\n",
              "\n",
              "    [theme=dark] .colab-df-convert:hover {\n",
              "      background-color: #434B5C;\n",
              "      box-shadow: 0px 1px 3px 1px rgba(0, 0, 0, 0.15);\n",
              "      filter: drop-shadow(0px 1px 2px rgba(0, 0, 0, 0.3));\n",
              "      fill: #FFFFFF;\n",
              "    }\n",
              "  </style>\n",
              "\n",
              "      <script>\n",
              "        const buttonEl =\n",
              "          document.querySelector('#df-04ff2e15-d516-4c8e-bdd8-238b6eeaa5af button.colab-df-convert');\n",
              "        buttonEl.style.display =\n",
              "          google.colab.kernel.accessAllowed ? 'block' : 'none';\n",
              "\n",
              "        async function convertToInteractive(key) {\n",
              "          const element = document.querySelector('#df-04ff2e15-d516-4c8e-bdd8-238b6eeaa5af');\n",
              "          const dataTable =\n",
              "            await google.colab.kernel.invokeFunction('convertToInteractive',\n",
              "                                                     [key], {});\n",
              "          if (!dataTable) return;\n",
              "\n",
              "          const docLinkHtml = 'Like what you see? Visit the ' +\n",
              "            '<a target=\"_blank\" href=https://colab.research.google.com/notebooks/data_table.ipynb>data table notebook</a>'\n",
              "            + ' to learn more about interactive tables.';\n",
              "          element.innerHTML = '';\n",
              "          dataTable['output_type'] = 'display_data';\n",
              "          await google.colab.output.renderOutput(dataTable, element);\n",
              "          const docLink = document.createElement('div');\n",
              "          docLink.innerHTML = docLinkHtml;\n",
              "          element.appendChild(docLink);\n",
              "        }\n",
              "      </script>\n",
              "    </div>\n",
              "  </div>\n",
              "  "
            ]
          },
          "metadata": {},
          "execution_count": 54
        }
      ]
    },
    {
      "cell_type": "code",
      "source": [
        "df.iloc[1,0]"
      ],
      "metadata": {
        "colab": {
          "base_uri": "https://localhost:8080/"
        },
        "id": "n7F-0hjyvAtb",
        "outputId": "506955a9-eb69-4711-9bcb-e767b95eb139"
      },
      "execution_count": null,
      "outputs": [
        {
          "output_type": "execute_result",
          "data": {
            "text/plain": [
              "380"
            ]
          },
          "metadata": {},
          "execution_count": 55
        }
      ]
    },
    {
      "cell_type": "code",
      "source": [
        "df.iloc[0,1]"
      ],
      "metadata": {
        "colab": {
          "base_uri": "https://localhost:8080/"
        },
        "id": "BI3z7drlx1NS",
        "outputId": "256a6ec6-4e27-4c23-ea93-807e92098b33"
      },
      "execution_count": null,
      "outputs": [
        {
          "output_type": "execute_result",
          "data": {
            "text/plain": [
              "50"
            ]
          },
          "metadata": {},
          "execution_count": 56
        }
      ]
    },
    {
      "cell_type": "code",
      "source": [
        "import pandas as banana\n",
        "\n",
        "df=banana.DataFrame({'a':[11,21,31],'b':[21,22,23]})\n",
        "\n",
        "df.head()"
      ],
      "metadata": {
        "colab": {
          "base_uri": "https://localhost:8080/",
          "height": 143
        },
        "id": "wnmGpljzyAZe",
        "outputId": "0320fa80-70c6-4949-ffd8-ec5fec0bd00f"
      },
      "execution_count": null,
      "outputs": [
        {
          "output_type": "execute_result",
          "data": {
            "text/plain": [
              "    a   b\n",
              "0  11  21\n",
              "1  21  22\n",
              "2  31  23"
            ],
            "text/html": [
              "\n",
              "  <div id=\"df-b0d96c60-1763-4071-85b0-cc98d295b011\">\n",
              "    <div class=\"colab-df-container\">\n",
              "      <div>\n",
              "<style scoped>\n",
              "    .dataframe tbody tr th:only-of-type {\n",
              "        vertical-align: middle;\n",
              "    }\n",
              "\n",
              "    .dataframe tbody tr th {\n",
              "        vertical-align: top;\n",
              "    }\n",
              "\n",
              "    .dataframe thead th {\n",
              "        text-align: right;\n",
              "    }\n",
              "</style>\n",
              "<table border=\"1\" class=\"dataframe\">\n",
              "  <thead>\n",
              "    <tr style=\"text-align: right;\">\n",
              "      <th></th>\n",
              "      <th>a</th>\n",
              "      <th>b</th>\n",
              "    </tr>\n",
              "  </thead>\n",
              "  <tbody>\n",
              "    <tr>\n",
              "      <th>0</th>\n",
              "      <td>11</td>\n",
              "      <td>21</td>\n",
              "    </tr>\n",
              "    <tr>\n",
              "      <th>1</th>\n",
              "      <td>21</td>\n",
              "      <td>22</td>\n",
              "    </tr>\n",
              "    <tr>\n",
              "      <th>2</th>\n",
              "      <td>31</td>\n",
              "      <td>23</td>\n",
              "    </tr>\n",
              "  </tbody>\n",
              "</table>\n",
              "</div>\n",
              "      <button class=\"colab-df-convert\" onclick=\"convertToInteractive('df-b0d96c60-1763-4071-85b0-cc98d295b011')\"\n",
              "              title=\"Convert this dataframe to an interactive table.\"\n",
              "              style=\"display:none;\">\n",
              "        \n",
              "  <svg xmlns=\"http://www.w3.org/2000/svg\" height=\"24px\"viewBox=\"0 0 24 24\"\n",
              "       width=\"24px\">\n",
              "    <path d=\"M0 0h24v24H0V0z\" fill=\"none\"/>\n",
              "    <path d=\"M18.56 5.44l.94 2.06.94-2.06 2.06-.94-2.06-.94-.94-2.06-.94 2.06-2.06.94zm-11 1L8.5 8.5l.94-2.06 2.06-.94-2.06-.94L8.5 2.5l-.94 2.06-2.06.94zm10 10l.94 2.06.94-2.06 2.06-.94-2.06-.94-.94-2.06-.94 2.06-2.06.94z\"/><path d=\"M17.41 7.96l-1.37-1.37c-.4-.4-.92-.59-1.43-.59-.52 0-1.04.2-1.43.59L10.3 9.45l-7.72 7.72c-.78.78-.78 2.05 0 2.83L4 21.41c.39.39.9.59 1.41.59.51 0 1.02-.2 1.41-.59l7.78-7.78 2.81-2.81c.8-.78.8-2.07 0-2.86zM5.41 20L4 18.59l7.72-7.72 1.47 1.35L5.41 20z\"/>\n",
              "  </svg>\n",
              "      </button>\n",
              "      \n",
              "  <style>\n",
              "    .colab-df-container {\n",
              "      display:flex;\n",
              "      flex-wrap:wrap;\n",
              "      gap: 12px;\n",
              "    }\n",
              "\n",
              "    .colab-df-convert {\n",
              "      background-color: #E8F0FE;\n",
              "      border: none;\n",
              "      border-radius: 50%;\n",
              "      cursor: pointer;\n",
              "      display: none;\n",
              "      fill: #1967D2;\n",
              "      height: 32px;\n",
              "      padding: 0 0 0 0;\n",
              "      width: 32px;\n",
              "    }\n",
              "\n",
              "    .colab-df-convert:hover {\n",
              "      background-color: #E2EBFA;\n",
              "      box-shadow: 0px 1px 2px rgba(60, 64, 67, 0.3), 0px 1px 3px 1px rgba(60, 64, 67, 0.15);\n",
              "      fill: #174EA6;\n",
              "    }\n",
              "\n",
              "    [theme=dark] .colab-df-convert {\n",
              "      background-color: #3B4455;\n",
              "      fill: #D2E3FC;\n",
              "    }\n",
              "\n",
              "    [theme=dark] .colab-df-convert:hover {\n",
              "      background-color: #434B5C;\n",
              "      box-shadow: 0px 1px 3px 1px rgba(0, 0, 0, 0.15);\n",
              "      filter: drop-shadow(0px 1px 2px rgba(0, 0, 0, 0.3));\n",
              "      fill: #FFFFFF;\n",
              "    }\n",
              "  </style>\n",
              "\n",
              "      <script>\n",
              "        const buttonEl =\n",
              "          document.querySelector('#df-b0d96c60-1763-4071-85b0-cc98d295b011 button.colab-df-convert');\n",
              "        buttonEl.style.display =\n",
              "          google.colab.kernel.accessAllowed ? 'block' : 'none';\n",
              "\n",
              "        async function convertToInteractive(key) {\n",
              "          const element = document.querySelector('#df-b0d96c60-1763-4071-85b0-cc98d295b011');\n",
              "          const dataTable =\n",
              "            await google.colab.kernel.invokeFunction('convertToInteractive',\n",
              "                                                     [key], {});\n",
              "          if (!dataTable) return;\n",
              "\n",
              "          const docLinkHtml = 'Like what you see? Visit the ' +\n",
              "            '<a target=\"_blank\" href=https://colab.research.google.com/notebooks/data_table.ipynb>data table notebook</a>'\n",
              "            + ' to learn more about interactive tables.';\n",
              "          element.innerHTML = '';\n",
              "          dataTable['output_type'] = 'display_data';\n",
              "          await google.colab.output.renderOutput(dataTable, element);\n",
              "          const docLink = document.createElement('div');\n",
              "          docLink.innerHTML = docLinkHtml;\n",
              "          element.appendChild(docLink);\n",
              "        }\n",
              "      </script>\n",
              "    </div>\n",
              "  </div>\n",
              "  "
            ]
          },
          "metadata": {},
          "execution_count": 57
        }
      ]
    },
    {
      "cell_type": "markdown",
      "source": [
        "###Get to know pandas array"
      ],
      "metadata": {
        "id": "cRahWzYRywdG"
      }
    },
    {
      "cell_type": "code",
      "source": [
        "import pandas as pd\n",
        "\n",
        "df=pd.DataFrame({'a':[11,21,31],'b':[21,22,23]})"
      ],
      "metadata": {
        "id": "t3P7A3ZCyy-M"
      },
      "execution_count": null,
      "outputs": []
    },
    {
      "cell_type": "code",
      "source": [
        "df.head(2)"
      ],
      "metadata": {
        "colab": {
          "base_uri": "https://localhost:8080/",
          "height": 112
        },
        "id": "QrHdQq2JyzIT",
        "outputId": "f3da737b-9867-4771-e9c5-a1b40221e7b2"
      },
      "execution_count": null,
      "outputs": [
        {
          "output_type": "execute_result",
          "data": {
            "text/plain": [
              "    a   b\n",
              "0  11  21\n",
              "1  21  22"
            ],
            "text/html": [
              "\n",
              "  <div id=\"df-f4d87833-8f58-436f-8a66-869b33233be8\">\n",
              "    <div class=\"colab-df-container\">\n",
              "      <div>\n",
              "<style scoped>\n",
              "    .dataframe tbody tr th:only-of-type {\n",
              "        vertical-align: middle;\n",
              "    }\n",
              "\n",
              "    .dataframe tbody tr th {\n",
              "        vertical-align: top;\n",
              "    }\n",
              "\n",
              "    .dataframe thead th {\n",
              "        text-align: right;\n",
              "    }\n",
              "</style>\n",
              "<table border=\"1\" class=\"dataframe\">\n",
              "  <thead>\n",
              "    <tr style=\"text-align: right;\">\n",
              "      <th></th>\n",
              "      <th>a</th>\n",
              "      <th>b</th>\n",
              "    </tr>\n",
              "  </thead>\n",
              "  <tbody>\n",
              "    <tr>\n",
              "      <th>0</th>\n",
              "      <td>11</td>\n",
              "      <td>21</td>\n",
              "    </tr>\n",
              "    <tr>\n",
              "      <th>1</th>\n",
              "      <td>21</td>\n",
              "      <td>22</td>\n",
              "    </tr>\n",
              "  </tbody>\n",
              "</table>\n",
              "</div>\n",
              "      <button class=\"colab-df-convert\" onclick=\"convertToInteractive('df-f4d87833-8f58-436f-8a66-869b33233be8')\"\n",
              "              title=\"Convert this dataframe to an interactive table.\"\n",
              "              style=\"display:none;\">\n",
              "        \n",
              "  <svg xmlns=\"http://www.w3.org/2000/svg\" height=\"24px\"viewBox=\"0 0 24 24\"\n",
              "       width=\"24px\">\n",
              "    <path d=\"M0 0h24v24H0V0z\" fill=\"none\"/>\n",
              "    <path d=\"M18.56 5.44l.94 2.06.94-2.06 2.06-.94-2.06-.94-.94-2.06-.94 2.06-2.06.94zm-11 1L8.5 8.5l.94-2.06 2.06-.94-2.06-.94L8.5 2.5l-.94 2.06-2.06.94zm10 10l.94 2.06.94-2.06 2.06-.94-2.06-.94-.94-2.06-.94 2.06-2.06.94z\"/><path d=\"M17.41 7.96l-1.37-1.37c-.4-.4-.92-.59-1.43-.59-.52 0-1.04.2-1.43.59L10.3 9.45l-7.72 7.72c-.78.78-.78 2.05 0 2.83L4 21.41c.39.39.9.59 1.41.59.51 0 1.02-.2 1.41-.59l7.78-7.78 2.81-2.81c.8-.78.8-2.07 0-2.86zM5.41 20L4 18.59l7.72-7.72 1.47 1.35L5.41 20z\"/>\n",
              "  </svg>\n",
              "      </button>\n",
              "      \n",
              "  <style>\n",
              "    .colab-df-container {\n",
              "      display:flex;\n",
              "      flex-wrap:wrap;\n",
              "      gap: 12px;\n",
              "    }\n",
              "\n",
              "    .colab-df-convert {\n",
              "      background-color: #E8F0FE;\n",
              "      border: none;\n",
              "      border-radius: 50%;\n",
              "      cursor: pointer;\n",
              "      display: none;\n",
              "      fill: #1967D2;\n",
              "      height: 32px;\n",
              "      padding: 0 0 0 0;\n",
              "      width: 32px;\n",
              "    }\n",
              "\n",
              "    .colab-df-convert:hover {\n",
              "      background-color: #E2EBFA;\n",
              "      box-shadow: 0px 1px 2px rgba(60, 64, 67, 0.3), 0px 1px 3px 1px rgba(60, 64, 67, 0.15);\n",
              "      fill: #174EA6;\n",
              "    }\n",
              "\n",
              "    [theme=dark] .colab-df-convert {\n",
              "      background-color: #3B4455;\n",
              "      fill: #D2E3FC;\n",
              "    }\n",
              "\n",
              "    [theme=dark] .colab-df-convert:hover {\n",
              "      background-color: #434B5C;\n",
              "      box-shadow: 0px 1px 3px 1px rgba(0, 0, 0, 0.15);\n",
              "      filter: drop-shadow(0px 1px 2px rgba(0, 0, 0, 0.3));\n",
              "      fill: #FFFFFF;\n",
              "    }\n",
              "  </style>\n",
              "\n",
              "      <script>\n",
              "        const buttonEl =\n",
              "          document.querySelector('#df-f4d87833-8f58-436f-8a66-869b33233be8 button.colab-df-convert');\n",
              "        buttonEl.style.display =\n",
              "          google.colab.kernel.accessAllowed ? 'block' : 'none';\n",
              "\n",
              "        async function convertToInteractive(key) {\n",
              "          const element = document.querySelector('#df-f4d87833-8f58-436f-8a66-869b33233be8');\n",
              "          const dataTable =\n",
              "            await google.colab.kernel.invokeFunction('convertToInteractive',\n",
              "                                                     [key], {});\n",
              "          if (!dataTable) return;\n",
              "\n",
              "          const docLinkHtml = 'Like what you see? Visit the ' +\n",
              "            '<a target=\"_blank\" href=https://colab.research.google.com/notebooks/data_table.ipynb>data table notebook</a>'\n",
              "            + ' to learn more about interactive tables.';\n",
              "          element.innerHTML = '';\n",
              "          dataTable['output_type'] = 'display_data';\n",
              "          await google.colab.output.renderOutput(dataTable, element);\n",
              "          const docLink = document.createElement('div');\n",
              "          docLink.innerHTML = docLinkHtml;\n",
              "          element.appendChild(docLink);\n",
              "        }\n",
              "      </script>\n",
              "    </div>\n",
              "  </div>\n",
              "  "
            ]
          },
          "metadata": {},
          "execution_count": 61
        }
      ]
    },
    {
      "cell_type": "code",
      "source": [
        "df[\"a\"]"
      ],
      "metadata": {
        "colab": {
          "base_uri": "https://localhost:8080/"
        },
        "id": "Ii8XpTnyyzS9",
        "outputId": "5bc5d4df-40c6-4736-9067-8dccd41cb9fa"
      },
      "execution_count": null,
      "outputs": [
        {
          "output_type": "execute_result",
          "data": {
            "text/plain": [
              "0    11\n",
              "1    21\n",
              "2    31\n",
              "Name: a, dtype: int64"
            ]
          },
          "metadata": {},
          "execution_count": 64
        }
      ]
    },
    {
      "cell_type": "code",
      "source": [
        "df.a"
      ],
      "metadata": {
        "colab": {
          "base_uri": "https://localhost:8080/"
        },
        "id": "ckW_qIC8zB9r",
        "outputId": "2e07a9d8-ba21-4591-80f0-ab7ab0151560"
      },
      "execution_count": null,
      "outputs": [
        {
          "output_type": "execute_result",
          "data": {
            "text/plain": [
              "0    11\n",
              "1    21\n",
              "2    31\n",
              "Name: a, dtype: int64"
            ]
          },
          "metadata": {},
          "execution_count": 65
        }
      ]
    },
    {
      "cell_type": "markdown",
      "source": [
        "##Working with and Saving Data with Pandas"
      ],
      "metadata": {
        "id": "wMz6GqYbd-ZQ"
      }
    },
    {
      "cell_type": "code",
      "source": [
        "df=pd.DataFrame({'a':[1,2,1],'b':[1,1,1]})"
      ],
      "metadata": {
        "id": "aMlRbjDHzt11"
      },
      "execution_count": null,
      "outputs": []
    },
    {
      "cell_type": "code",
      "source": [
        "df['a']==1"
      ],
      "metadata": {
        "colab": {
          "base_uri": "https://localhost:8080/"
        },
        "id": "wUyspoLizyz8",
        "outputId": "c0083ee2-f515-4a16-d377-1adaba2582b4"
      },
      "execution_count": null,
      "outputs": [
        {
          "output_type": "execute_result",
          "data": {
            "text/plain": [
              "0     True\n",
              "1    False\n",
              "2     True\n",
              "Name: a, dtype: bool"
            ]
          },
          "metadata": {},
          "execution_count": 68
        }
      ]
    },
    {
      "cell_type": "markdown",
      "source": [
        "###Get to know pandas array"
      ],
      "metadata": {
        "id": "IKTeRvBg1BBT"
      }
    },
    {
      "cell_type": "code",
      "source": [
        "import pandas as pd\n",
        "\n",
        "df = pd.DataFrame({\"a\":[1,2,3], \"b\":[1,3,1]})"
      ],
      "metadata": {
        "id": "NW4NXm2w1Dpp"
      },
      "execution_count": null,
      "outputs": []
    },
    {
      "cell_type": "code",
      "source": [
        "df[\"a\"].unique()"
      ],
      "metadata": {
        "colab": {
          "base_uri": "https://localhost:8080/"
        },
        "id": "PTH9fgH_1DxL",
        "outputId": "b1be0ca8-fc80-4e11-8382-a1b86217ef92"
      },
      "execution_count": null,
      "outputs": [
        {
          "output_type": "execute_result",
          "data": {
            "text/plain": [
              "array([1, 2])"
            ]
          },
          "metadata": {},
          "execution_count": 79
        }
      ]
    },
    {
      "cell_type": "code",
      "source": [
        "df.a.unique()"
      ],
      "metadata": {
        "colab": {
          "base_uri": "https://localhost:8080/"
        },
        "id": "gTmi-8091EDu",
        "outputId": "1cfccd33-265e-4ab8-b190-baf6a7b162c6"
      },
      "execution_count": null,
      "outputs": [
        {
          "output_type": "execute_result",
          "data": {
            "text/plain": [
              "array([1, 2])"
            ]
          },
          "metadata": {},
          "execution_count": 80
        }
      ]
    },
    {
      "cell_type": "code",
      "source": [
        "# DF con filas donde la columna a es menor a 2\n",
        "df[df[\"a\"]<3]"
      ],
      "metadata": {
        "colab": {
          "base_uri": "https://localhost:8080/",
          "height": 112
        },
        "id": "bLImNL-W1EOX",
        "outputId": "46d7f2be-bd27-4719-93d9-514810b1a40b"
      },
      "execution_count": null,
      "outputs": [
        {
          "output_type": "execute_result",
          "data": {
            "text/plain": [
              "   a  b\n",
              "0  1  1\n",
              "1  2  3"
            ],
            "text/html": [
              "\n",
              "  <div id=\"df-3db7b4ae-a9d8-4569-af95-50fca4f408e7\">\n",
              "    <div class=\"colab-df-container\">\n",
              "      <div>\n",
              "<style scoped>\n",
              "    .dataframe tbody tr th:only-of-type {\n",
              "        vertical-align: middle;\n",
              "    }\n",
              "\n",
              "    .dataframe tbody tr th {\n",
              "        vertical-align: top;\n",
              "    }\n",
              "\n",
              "    .dataframe thead th {\n",
              "        text-align: right;\n",
              "    }\n",
              "</style>\n",
              "<table border=\"1\" class=\"dataframe\">\n",
              "  <thead>\n",
              "    <tr style=\"text-align: right;\">\n",
              "      <th></th>\n",
              "      <th>a</th>\n",
              "      <th>b</th>\n",
              "    </tr>\n",
              "  </thead>\n",
              "  <tbody>\n",
              "    <tr>\n",
              "      <th>0</th>\n",
              "      <td>1</td>\n",
              "      <td>1</td>\n",
              "    </tr>\n",
              "    <tr>\n",
              "      <th>1</th>\n",
              "      <td>2</td>\n",
              "      <td>3</td>\n",
              "    </tr>\n",
              "  </tbody>\n",
              "</table>\n",
              "</div>\n",
              "      <button class=\"colab-df-convert\" onclick=\"convertToInteractive('df-3db7b4ae-a9d8-4569-af95-50fca4f408e7')\"\n",
              "              title=\"Convert this dataframe to an interactive table.\"\n",
              "              style=\"display:none;\">\n",
              "        \n",
              "  <svg xmlns=\"http://www.w3.org/2000/svg\" height=\"24px\"viewBox=\"0 0 24 24\"\n",
              "       width=\"24px\">\n",
              "    <path d=\"M0 0h24v24H0V0z\" fill=\"none\"/>\n",
              "    <path d=\"M18.56 5.44l.94 2.06.94-2.06 2.06-.94-2.06-.94-.94-2.06-.94 2.06-2.06.94zm-11 1L8.5 8.5l.94-2.06 2.06-.94-2.06-.94L8.5 2.5l-.94 2.06-2.06.94zm10 10l.94 2.06.94-2.06 2.06-.94-2.06-.94-.94-2.06-.94 2.06-2.06.94z\"/><path d=\"M17.41 7.96l-1.37-1.37c-.4-.4-.92-.59-1.43-.59-.52 0-1.04.2-1.43.59L10.3 9.45l-7.72 7.72c-.78.78-.78 2.05 0 2.83L4 21.41c.39.39.9.59 1.41.59.51 0 1.02-.2 1.41-.59l7.78-7.78 2.81-2.81c.8-.78.8-2.07 0-2.86zM5.41 20L4 18.59l7.72-7.72 1.47 1.35L5.41 20z\"/>\n",
              "  </svg>\n",
              "      </button>\n",
              "      \n",
              "  <style>\n",
              "    .colab-df-container {\n",
              "      display:flex;\n",
              "      flex-wrap:wrap;\n",
              "      gap: 12px;\n",
              "    }\n",
              "\n",
              "    .colab-df-convert {\n",
              "      background-color: #E8F0FE;\n",
              "      border: none;\n",
              "      border-radius: 50%;\n",
              "      cursor: pointer;\n",
              "      display: none;\n",
              "      fill: #1967D2;\n",
              "      height: 32px;\n",
              "      padding: 0 0 0 0;\n",
              "      width: 32px;\n",
              "    }\n",
              "\n",
              "    .colab-df-convert:hover {\n",
              "      background-color: #E2EBFA;\n",
              "      box-shadow: 0px 1px 2px rgba(60, 64, 67, 0.3), 0px 1px 3px 1px rgba(60, 64, 67, 0.15);\n",
              "      fill: #174EA6;\n",
              "    }\n",
              "\n",
              "    [theme=dark] .colab-df-convert {\n",
              "      background-color: #3B4455;\n",
              "      fill: #D2E3FC;\n",
              "    }\n",
              "\n",
              "    [theme=dark] .colab-df-convert:hover {\n",
              "      background-color: #434B5C;\n",
              "      box-shadow: 0px 1px 3px 1px rgba(0, 0, 0, 0.15);\n",
              "      filter: drop-shadow(0px 1px 2px rgba(0, 0, 0, 0.3));\n",
              "      fill: #FFFFFF;\n",
              "    }\n",
              "  </style>\n",
              "\n",
              "      <script>\n",
              "        const buttonEl =\n",
              "          document.querySelector('#df-3db7b4ae-a9d8-4569-af95-50fca4f408e7 button.colab-df-convert');\n",
              "        buttonEl.style.display =\n",
              "          google.colab.kernel.accessAllowed ? 'block' : 'none';\n",
              "\n",
              "        async function convertToInteractive(key) {\n",
              "          const element = document.querySelector('#df-3db7b4ae-a9d8-4569-af95-50fca4f408e7');\n",
              "          const dataTable =\n",
              "            await google.colab.kernel.invokeFunction('convertToInteractive',\n",
              "                                                     [key], {});\n",
              "          if (!dataTable) return;\n",
              "\n",
              "          const docLinkHtml = 'Like what you see? Visit the ' +\n",
              "            '<a target=\"_blank\" href=https://colab.research.google.com/notebooks/data_table.ipynb>data table notebook</a>'\n",
              "            + ' to learn more about interactive tables.';\n",
              "          element.innerHTML = '';\n",
              "          dataTable['output_type'] = 'display_data';\n",
              "          await google.colab.output.renderOutput(dataTable, element);\n",
              "          const docLink = document.createElement('div');\n",
              "          docLink.innerHTML = docLinkHtml;\n",
              "          element.appendChild(docLink);\n",
              "        }\n",
              "      </script>\n",
              "    </div>\n",
              "  </div>\n",
              "  "
            ]
          },
          "metadata": {},
          "execution_count": 86
        }
      ]
    },
    {
      "cell_type": "markdown",
      "source": [
        "##LAB-Loading Data and Viewing Data"
      ],
      "metadata": {
        "id": "Ec25Yw6deC5X"
      }
    },
    {
      "cell_type": "markdown",
      "source": [
        "###Intro to Pandas"
      ],
      "metadata": {
        "id": "x2vNrJHb2-LM"
      }
    },
    {
      "cell_type": "code",
      "source": [
        "csv_path = 'https://cf-courses-data.s3.us.cloud-object-storage.appdomain.cloud/IBMDeveloperSkillsNetwork-PY0101EN-SkillsNetwork/labs/Module%204/data/TopSellingAlbums.csv'\n",
        "df = pd.read_csv(csv_path)"
      ],
      "metadata": {
        "id": "dE37d3kO3AjD"
      },
      "execution_count": null,
      "outputs": []
    },
    {
      "cell_type": "code",
      "source": [
        "df.head()"
      ],
      "metadata": {
        "colab": {
          "base_uri": "https://localhost:8080/",
          "height": 206
        },
        "id": "aMHns6v53Aoh",
        "outputId": "6bccdb98-f498-497d-bfd7-20b8a1bba1ab"
      },
      "execution_count": null,
      "outputs": [
        {
          "output_type": "execute_result",
          "data": {
            "text/plain": [
              "            Artist                      Album  Released   Length  \\\n",
              "0  Michael Jackson                   Thriller      1982  0:42:19   \n",
              "1            AC/DC              Back in Black      1980  0:42:11   \n",
              "2       Pink Floyd  The Dark Side of the Moon      1973  0:42:49   \n",
              "3  Whitney Houston              The Bodyguard      1992  0:57:44   \n",
              "4        Meat Loaf            Bat Out of Hell      1977  0:46:33   \n",
              "\n",
              "                         Genre  Music Recording Sales (millions)  \\\n",
              "0               pop, rock, R&B                              46.0   \n",
              "1                    hard rock                              26.1   \n",
              "2             progressive rock                              24.2   \n",
              "3               R&B, soul, pop                              27.4   \n",
              "4  hard rock, progressive rock                              20.6   \n",
              "\n",
              "   Claimed Sales (millions) Released.1 Soundtrack  Rating  \n",
              "0                        65  30-Nov-82        NaN    10.0  \n",
              "1                        50  25-Jul-80        NaN     9.5  \n",
              "2                        45  01-Mar-73        NaN     9.0  \n",
              "3                        44  17-Nov-92          Y     8.5  \n",
              "4                        43  21-Oct-77        NaN     8.0  "
            ],
            "text/html": [
              "\n",
              "  <div id=\"df-f6bf2251-f770-4e85-a425-9c7b4ae6c6f1\">\n",
              "    <div class=\"colab-df-container\">\n",
              "      <div>\n",
              "<style scoped>\n",
              "    .dataframe tbody tr th:only-of-type {\n",
              "        vertical-align: middle;\n",
              "    }\n",
              "\n",
              "    .dataframe tbody tr th {\n",
              "        vertical-align: top;\n",
              "    }\n",
              "\n",
              "    .dataframe thead th {\n",
              "        text-align: right;\n",
              "    }\n",
              "</style>\n",
              "<table border=\"1\" class=\"dataframe\">\n",
              "  <thead>\n",
              "    <tr style=\"text-align: right;\">\n",
              "      <th></th>\n",
              "      <th>Artist</th>\n",
              "      <th>Album</th>\n",
              "      <th>Released</th>\n",
              "      <th>Length</th>\n",
              "      <th>Genre</th>\n",
              "      <th>Music Recording Sales (millions)</th>\n",
              "      <th>Claimed Sales (millions)</th>\n",
              "      <th>Released.1</th>\n",
              "      <th>Soundtrack</th>\n",
              "      <th>Rating</th>\n",
              "    </tr>\n",
              "  </thead>\n",
              "  <tbody>\n",
              "    <tr>\n",
              "      <th>0</th>\n",
              "      <td>Michael Jackson</td>\n",
              "      <td>Thriller</td>\n",
              "      <td>1982</td>\n",
              "      <td>0:42:19</td>\n",
              "      <td>pop, rock, R&amp;B</td>\n",
              "      <td>46.0</td>\n",
              "      <td>65</td>\n",
              "      <td>30-Nov-82</td>\n",
              "      <td>NaN</td>\n",
              "      <td>10.0</td>\n",
              "    </tr>\n",
              "    <tr>\n",
              "      <th>1</th>\n",
              "      <td>AC/DC</td>\n",
              "      <td>Back in Black</td>\n",
              "      <td>1980</td>\n",
              "      <td>0:42:11</td>\n",
              "      <td>hard rock</td>\n",
              "      <td>26.1</td>\n",
              "      <td>50</td>\n",
              "      <td>25-Jul-80</td>\n",
              "      <td>NaN</td>\n",
              "      <td>9.5</td>\n",
              "    </tr>\n",
              "    <tr>\n",
              "      <th>2</th>\n",
              "      <td>Pink Floyd</td>\n",
              "      <td>The Dark Side of the Moon</td>\n",
              "      <td>1973</td>\n",
              "      <td>0:42:49</td>\n",
              "      <td>progressive rock</td>\n",
              "      <td>24.2</td>\n",
              "      <td>45</td>\n",
              "      <td>01-Mar-73</td>\n",
              "      <td>NaN</td>\n",
              "      <td>9.0</td>\n",
              "    </tr>\n",
              "    <tr>\n",
              "      <th>3</th>\n",
              "      <td>Whitney Houston</td>\n",
              "      <td>The Bodyguard</td>\n",
              "      <td>1992</td>\n",
              "      <td>0:57:44</td>\n",
              "      <td>R&amp;B, soul, pop</td>\n",
              "      <td>27.4</td>\n",
              "      <td>44</td>\n",
              "      <td>17-Nov-92</td>\n",
              "      <td>Y</td>\n",
              "      <td>8.5</td>\n",
              "    </tr>\n",
              "    <tr>\n",
              "      <th>4</th>\n",
              "      <td>Meat Loaf</td>\n",
              "      <td>Bat Out of Hell</td>\n",
              "      <td>1977</td>\n",
              "      <td>0:46:33</td>\n",
              "      <td>hard rock, progressive rock</td>\n",
              "      <td>20.6</td>\n",
              "      <td>43</td>\n",
              "      <td>21-Oct-77</td>\n",
              "      <td>NaN</td>\n",
              "      <td>8.0</td>\n",
              "    </tr>\n",
              "  </tbody>\n",
              "</table>\n",
              "</div>\n",
              "      <button class=\"colab-df-convert\" onclick=\"convertToInteractive('df-f6bf2251-f770-4e85-a425-9c7b4ae6c6f1')\"\n",
              "              title=\"Convert this dataframe to an interactive table.\"\n",
              "              style=\"display:none;\">\n",
              "        \n",
              "  <svg xmlns=\"http://www.w3.org/2000/svg\" height=\"24px\"viewBox=\"0 0 24 24\"\n",
              "       width=\"24px\">\n",
              "    <path d=\"M0 0h24v24H0V0z\" fill=\"none\"/>\n",
              "    <path d=\"M18.56 5.44l.94 2.06.94-2.06 2.06-.94-2.06-.94-.94-2.06-.94 2.06-2.06.94zm-11 1L8.5 8.5l.94-2.06 2.06-.94-2.06-.94L8.5 2.5l-.94 2.06-2.06.94zm10 10l.94 2.06.94-2.06 2.06-.94-2.06-.94-.94-2.06-.94 2.06-2.06.94z\"/><path d=\"M17.41 7.96l-1.37-1.37c-.4-.4-.92-.59-1.43-.59-.52 0-1.04.2-1.43.59L10.3 9.45l-7.72 7.72c-.78.78-.78 2.05 0 2.83L4 21.41c.39.39.9.59 1.41.59.51 0 1.02-.2 1.41-.59l7.78-7.78 2.81-2.81c.8-.78.8-2.07 0-2.86zM5.41 20L4 18.59l7.72-7.72 1.47 1.35L5.41 20z\"/>\n",
              "  </svg>\n",
              "      </button>\n",
              "      \n",
              "  <style>\n",
              "    .colab-df-container {\n",
              "      display:flex;\n",
              "      flex-wrap:wrap;\n",
              "      gap: 12px;\n",
              "    }\n",
              "\n",
              "    .colab-df-convert {\n",
              "      background-color: #E8F0FE;\n",
              "      border: none;\n",
              "      border-radius: 50%;\n",
              "      cursor: pointer;\n",
              "      display: none;\n",
              "      fill: #1967D2;\n",
              "      height: 32px;\n",
              "      padding: 0 0 0 0;\n",
              "      width: 32px;\n",
              "    }\n",
              "\n",
              "    .colab-df-convert:hover {\n",
              "      background-color: #E2EBFA;\n",
              "      box-shadow: 0px 1px 2px rgba(60, 64, 67, 0.3), 0px 1px 3px 1px rgba(60, 64, 67, 0.15);\n",
              "      fill: #174EA6;\n",
              "    }\n",
              "\n",
              "    [theme=dark] .colab-df-convert {\n",
              "      background-color: #3B4455;\n",
              "      fill: #D2E3FC;\n",
              "    }\n",
              "\n",
              "    [theme=dark] .colab-df-convert:hover {\n",
              "      background-color: #434B5C;\n",
              "      box-shadow: 0px 1px 3px 1px rgba(0, 0, 0, 0.15);\n",
              "      filter: drop-shadow(0px 1px 2px rgba(0, 0, 0, 0.3));\n",
              "      fill: #FFFFFF;\n",
              "    }\n",
              "  </style>\n",
              "\n",
              "      <script>\n",
              "        const buttonEl =\n",
              "          document.querySelector('#df-f6bf2251-f770-4e85-a425-9c7b4ae6c6f1 button.colab-df-convert');\n",
              "        buttonEl.style.display =\n",
              "          google.colab.kernel.accessAllowed ? 'block' : 'none';\n",
              "\n",
              "        async function convertToInteractive(key) {\n",
              "          const element = document.querySelector('#df-f6bf2251-f770-4e85-a425-9c7b4ae6c6f1');\n",
              "          const dataTable =\n",
              "            await google.colab.kernel.invokeFunction('convertToInteractive',\n",
              "                                                     [key], {});\n",
              "          if (!dataTable) return;\n",
              "\n",
              "          const docLinkHtml = 'Like what you see? Visit the ' +\n",
              "            '<a target=\"_blank\" href=https://colab.research.google.com/notebooks/data_table.ipynb>data table notebook</a>'\n",
              "            + ' to learn more about interactive tables.';\n",
              "          element.innerHTML = '';\n",
              "          dataTable['output_type'] = 'display_data';\n",
              "          await google.colab.output.renderOutput(dataTable, element);\n",
              "          const docLink = document.createElement('div');\n",
              "          docLink.innerHTML = docLinkHtml;\n",
              "          element.appendChild(docLink);\n",
              "        }\n",
              "      </script>\n",
              "    </div>\n",
              "  </div>\n",
              "  "
            ]
          },
          "metadata": {},
          "execution_count": 100
        }
      ]
    },
    {
      "cell_type": "code",
      "source": [
        "#from pyodide.http import pyfetch\n",
        "xlsx_path = 'https://s3-api.us-geo.objectstorage.softlayer.net/cf-courses-data/CognitiveClass/PY0101EN/Chapter%204/Datasets/TopSellingAlbums.xlsx'\n",
        "\n",
        "\n",
        "df = pd.read_excel(xlsx_path)\n",
        "df.head()"
      ],
      "metadata": {
        "colab": {
          "base_uri": "https://localhost:8080/",
          "height": 206
        },
        "id": "0OFE1gvl3Ava",
        "outputId": "347a530d-18a7-43b0-d2fa-a4d22d8f8efd"
      },
      "execution_count": null,
      "outputs": [
        {
          "output_type": "execute_result",
          "data": {
            "text/plain": [
              "            Artist                      Album  Released    Length  \\\n",
              "0  Michael Jackson                   Thriller      1982  00:42:19   \n",
              "1            AC/DC              Back in Black      1980  00:42:11   \n",
              "2       Pink Floyd  The Dark Side of the Moon      1973  00:42:49   \n",
              "3  Whitney Houston              The Bodyguard      1992  00:57:44   \n",
              "4        Meat Loaf            Bat Out of Hell      1977  00:46:33   \n",
              "\n",
              "                         Genre  Music Recording Sales (millions)  \\\n",
              "0               pop, rock, R&B                              46.0   \n",
              "1                    hard rock                              26.1   \n",
              "2             progressive rock                              24.2   \n",
              "3               R&B, soul, pop                              27.4   \n",
              "4  hard rock, progressive rock                              20.6   \n",
              "\n",
              "   Claimed Sales (millions) Released.1 Soundtrack  Rating  \n",
              "0                        65 1982-11-30        NaN    10.0  \n",
              "1                        50 1980-07-25        NaN     9.5  \n",
              "2                        45 1973-03-01        NaN     9.0  \n",
              "3                        44 1992-11-17          Y     8.5  \n",
              "4                        43 1977-10-21        NaN     8.0  "
            ],
            "text/html": [
              "\n",
              "  <div id=\"df-9aec06e0-6614-4e31-8c77-9b183c86088d\">\n",
              "    <div class=\"colab-df-container\">\n",
              "      <div>\n",
              "<style scoped>\n",
              "    .dataframe tbody tr th:only-of-type {\n",
              "        vertical-align: middle;\n",
              "    }\n",
              "\n",
              "    .dataframe tbody tr th {\n",
              "        vertical-align: top;\n",
              "    }\n",
              "\n",
              "    .dataframe thead th {\n",
              "        text-align: right;\n",
              "    }\n",
              "</style>\n",
              "<table border=\"1\" class=\"dataframe\">\n",
              "  <thead>\n",
              "    <tr style=\"text-align: right;\">\n",
              "      <th></th>\n",
              "      <th>Artist</th>\n",
              "      <th>Album</th>\n",
              "      <th>Released</th>\n",
              "      <th>Length</th>\n",
              "      <th>Genre</th>\n",
              "      <th>Music Recording Sales (millions)</th>\n",
              "      <th>Claimed Sales (millions)</th>\n",
              "      <th>Released.1</th>\n",
              "      <th>Soundtrack</th>\n",
              "      <th>Rating</th>\n",
              "    </tr>\n",
              "  </thead>\n",
              "  <tbody>\n",
              "    <tr>\n",
              "      <th>0</th>\n",
              "      <td>Michael Jackson</td>\n",
              "      <td>Thriller</td>\n",
              "      <td>1982</td>\n",
              "      <td>00:42:19</td>\n",
              "      <td>pop, rock, R&amp;B</td>\n",
              "      <td>46.0</td>\n",
              "      <td>65</td>\n",
              "      <td>1982-11-30</td>\n",
              "      <td>NaN</td>\n",
              "      <td>10.0</td>\n",
              "    </tr>\n",
              "    <tr>\n",
              "      <th>1</th>\n",
              "      <td>AC/DC</td>\n",
              "      <td>Back in Black</td>\n",
              "      <td>1980</td>\n",
              "      <td>00:42:11</td>\n",
              "      <td>hard rock</td>\n",
              "      <td>26.1</td>\n",
              "      <td>50</td>\n",
              "      <td>1980-07-25</td>\n",
              "      <td>NaN</td>\n",
              "      <td>9.5</td>\n",
              "    </tr>\n",
              "    <tr>\n",
              "      <th>2</th>\n",
              "      <td>Pink Floyd</td>\n",
              "      <td>The Dark Side of the Moon</td>\n",
              "      <td>1973</td>\n",
              "      <td>00:42:49</td>\n",
              "      <td>progressive rock</td>\n",
              "      <td>24.2</td>\n",
              "      <td>45</td>\n",
              "      <td>1973-03-01</td>\n",
              "      <td>NaN</td>\n",
              "      <td>9.0</td>\n",
              "    </tr>\n",
              "    <tr>\n",
              "      <th>3</th>\n",
              "      <td>Whitney Houston</td>\n",
              "      <td>The Bodyguard</td>\n",
              "      <td>1992</td>\n",
              "      <td>00:57:44</td>\n",
              "      <td>R&amp;B, soul, pop</td>\n",
              "      <td>27.4</td>\n",
              "      <td>44</td>\n",
              "      <td>1992-11-17</td>\n",
              "      <td>Y</td>\n",
              "      <td>8.5</td>\n",
              "    </tr>\n",
              "    <tr>\n",
              "      <th>4</th>\n",
              "      <td>Meat Loaf</td>\n",
              "      <td>Bat Out of Hell</td>\n",
              "      <td>1977</td>\n",
              "      <td>00:46:33</td>\n",
              "      <td>hard rock, progressive rock</td>\n",
              "      <td>20.6</td>\n",
              "      <td>43</td>\n",
              "      <td>1977-10-21</td>\n",
              "      <td>NaN</td>\n",
              "      <td>8.0</td>\n",
              "    </tr>\n",
              "  </tbody>\n",
              "</table>\n",
              "</div>\n",
              "      <button class=\"colab-df-convert\" onclick=\"convertToInteractive('df-9aec06e0-6614-4e31-8c77-9b183c86088d')\"\n",
              "              title=\"Convert this dataframe to an interactive table.\"\n",
              "              style=\"display:none;\">\n",
              "        \n",
              "  <svg xmlns=\"http://www.w3.org/2000/svg\" height=\"24px\"viewBox=\"0 0 24 24\"\n",
              "       width=\"24px\">\n",
              "    <path d=\"M0 0h24v24H0V0z\" fill=\"none\"/>\n",
              "    <path d=\"M18.56 5.44l.94 2.06.94-2.06 2.06-.94-2.06-.94-.94-2.06-.94 2.06-2.06.94zm-11 1L8.5 8.5l.94-2.06 2.06-.94-2.06-.94L8.5 2.5l-.94 2.06-2.06.94zm10 10l.94 2.06.94-2.06 2.06-.94-2.06-.94-.94-2.06-.94 2.06-2.06.94z\"/><path d=\"M17.41 7.96l-1.37-1.37c-.4-.4-.92-.59-1.43-.59-.52 0-1.04.2-1.43.59L10.3 9.45l-7.72 7.72c-.78.78-.78 2.05 0 2.83L4 21.41c.39.39.9.59 1.41.59.51 0 1.02-.2 1.41-.59l7.78-7.78 2.81-2.81c.8-.78.8-2.07 0-2.86zM5.41 20L4 18.59l7.72-7.72 1.47 1.35L5.41 20z\"/>\n",
              "  </svg>\n",
              "      </button>\n",
              "      \n",
              "  <style>\n",
              "    .colab-df-container {\n",
              "      display:flex;\n",
              "      flex-wrap:wrap;\n",
              "      gap: 12px;\n",
              "    }\n",
              "\n",
              "    .colab-df-convert {\n",
              "      background-color: #E8F0FE;\n",
              "      border: none;\n",
              "      border-radius: 50%;\n",
              "      cursor: pointer;\n",
              "      display: none;\n",
              "      fill: #1967D2;\n",
              "      height: 32px;\n",
              "      padding: 0 0 0 0;\n",
              "      width: 32px;\n",
              "    }\n",
              "\n",
              "    .colab-df-convert:hover {\n",
              "      background-color: #E2EBFA;\n",
              "      box-shadow: 0px 1px 2px rgba(60, 64, 67, 0.3), 0px 1px 3px 1px rgba(60, 64, 67, 0.15);\n",
              "      fill: #174EA6;\n",
              "    }\n",
              "\n",
              "    [theme=dark] .colab-df-convert {\n",
              "      background-color: #3B4455;\n",
              "      fill: #D2E3FC;\n",
              "    }\n",
              "\n",
              "    [theme=dark] .colab-df-convert:hover {\n",
              "      background-color: #434B5C;\n",
              "      box-shadow: 0px 1px 3px 1px rgba(0, 0, 0, 0.15);\n",
              "      filter: drop-shadow(0px 1px 2px rgba(0, 0, 0, 0.3));\n",
              "      fill: #FFFFFF;\n",
              "    }\n",
              "  </style>\n",
              "\n",
              "      <script>\n",
              "        const buttonEl =\n",
              "          document.querySelector('#df-9aec06e0-6614-4e31-8c77-9b183c86088d button.colab-df-convert');\n",
              "        buttonEl.style.display =\n",
              "          google.colab.kernel.accessAllowed ? 'block' : 'none';\n",
              "\n",
              "        async function convertToInteractive(key) {\n",
              "          const element = document.querySelector('#df-9aec06e0-6614-4e31-8c77-9b183c86088d');\n",
              "          const dataTable =\n",
              "            await google.colab.kernel.invokeFunction('convertToInteractive',\n",
              "                                                     [key], {});\n",
              "          if (!dataTable) return;\n",
              "\n",
              "          const docLinkHtml = 'Like what you see? Visit the ' +\n",
              "            '<a target=\"_blank\" href=https://colab.research.google.com/notebooks/data_table.ipynb>data table notebook</a>'\n",
              "            + ' to learn more about interactive tables.';\n",
              "          element.innerHTML = '';\n",
              "          dataTable['output_type'] = 'display_data';\n",
              "          await google.colab.output.renderOutput(dataTable, element);\n",
              "          const docLink = document.createElement('div');\n",
              "          docLink.innerHTML = docLinkHtml;\n",
              "          element.appendChild(docLink);\n",
              "        }\n",
              "      </script>\n",
              "    </div>\n",
              "  </div>\n",
              "  "
            ]
          },
          "metadata": {},
          "execution_count": 103
        }
      ]
    },
    {
      "cell_type": "code",
      "source": [
        "#column  as serie\n",
        "s = df[\"Length\"]\n",
        "s"
      ],
      "metadata": {
        "colab": {
          "base_uri": "https://localhost:8080/"
        },
        "id": "JKtjsFbP3A2G",
        "outputId": "5f4cbad3-c88d-4d56-915a-ada166ca6ff6"
      },
      "execution_count": null,
      "outputs": [
        {
          "output_type": "execute_result",
          "data": {
            "text/plain": [
              "0    00:42:19\n",
              "1    00:42:11\n",
              "2    00:42:49\n",
              "3    00:57:44\n",
              "4    00:46:33\n",
              "5    00:43:08\n",
              "6    01:15:54\n",
              "7    00:40:01\n",
              "Name: Length, dtype: object"
            ]
          },
          "metadata": {},
          "execution_count": 107
        }
      ]
    },
    {
      "cell_type": "code",
      "source": [
        "#column as df\n",
        "d = df[[\"Length\"]]\n",
        "d"
      ],
      "metadata": {
        "colab": {
          "base_uri": "https://localhost:8080/",
          "height": 300
        },
        "id": "5Ks2mbnR3A72",
        "outputId": "549a2ea6-7381-4dd7-8c18-e5a15d901f88"
      },
      "execution_count": null,
      "outputs": [
        {
          "output_type": "execute_result",
          "data": {
            "text/plain": [
              "     Length\n",
              "0  00:42:19\n",
              "1  00:42:11\n",
              "2  00:42:49\n",
              "3  00:57:44\n",
              "4  00:46:33\n",
              "5  00:43:08\n",
              "6  01:15:54\n",
              "7  00:40:01"
            ],
            "text/html": [
              "\n",
              "  <div id=\"df-a34120b7-6d53-486a-bade-058b8a88165c\">\n",
              "    <div class=\"colab-df-container\">\n",
              "      <div>\n",
              "<style scoped>\n",
              "    .dataframe tbody tr th:only-of-type {\n",
              "        vertical-align: middle;\n",
              "    }\n",
              "\n",
              "    .dataframe tbody tr th {\n",
              "        vertical-align: top;\n",
              "    }\n",
              "\n",
              "    .dataframe thead th {\n",
              "        text-align: right;\n",
              "    }\n",
              "</style>\n",
              "<table border=\"1\" class=\"dataframe\">\n",
              "  <thead>\n",
              "    <tr style=\"text-align: right;\">\n",
              "      <th></th>\n",
              "      <th>Length</th>\n",
              "    </tr>\n",
              "  </thead>\n",
              "  <tbody>\n",
              "    <tr>\n",
              "      <th>0</th>\n",
              "      <td>00:42:19</td>\n",
              "    </tr>\n",
              "    <tr>\n",
              "      <th>1</th>\n",
              "      <td>00:42:11</td>\n",
              "    </tr>\n",
              "    <tr>\n",
              "      <th>2</th>\n",
              "      <td>00:42:49</td>\n",
              "    </tr>\n",
              "    <tr>\n",
              "      <th>3</th>\n",
              "      <td>00:57:44</td>\n",
              "    </tr>\n",
              "    <tr>\n",
              "      <th>4</th>\n",
              "      <td>00:46:33</td>\n",
              "    </tr>\n",
              "    <tr>\n",
              "      <th>5</th>\n",
              "      <td>00:43:08</td>\n",
              "    </tr>\n",
              "    <tr>\n",
              "      <th>6</th>\n",
              "      <td>01:15:54</td>\n",
              "    </tr>\n",
              "    <tr>\n",
              "      <th>7</th>\n",
              "      <td>00:40:01</td>\n",
              "    </tr>\n",
              "  </tbody>\n",
              "</table>\n",
              "</div>\n",
              "      <button class=\"colab-df-convert\" onclick=\"convertToInteractive('df-a34120b7-6d53-486a-bade-058b8a88165c')\"\n",
              "              title=\"Convert this dataframe to an interactive table.\"\n",
              "              style=\"display:none;\">\n",
              "        \n",
              "  <svg xmlns=\"http://www.w3.org/2000/svg\" height=\"24px\"viewBox=\"0 0 24 24\"\n",
              "       width=\"24px\">\n",
              "    <path d=\"M0 0h24v24H0V0z\" fill=\"none\"/>\n",
              "    <path d=\"M18.56 5.44l.94 2.06.94-2.06 2.06-.94-2.06-.94-.94-2.06-.94 2.06-2.06.94zm-11 1L8.5 8.5l.94-2.06 2.06-.94-2.06-.94L8.5 2.5l-.94 2.06-2.06.94zm10 10l.94 2.06.94-2.06 2.06-.94-2.06-.94-.94-2.06-.94 2.06-2.06.94z\"/><path d=\"M17.41 7.96l-1.37-1.37c-.4-.4-.92-.59-1.43-.59-.52 0-1.04.2-1.43.59L10.3 9.45l-7.72 7.72c-.78.78-.78 2.05 0 2.83L4 21.41c.39.39.9.59 1.41.59.51 0 1.02-.2 1.41-.59l7.78-7.78 2.81-2.81c.8-.78.8-2.07 0-2.86zM5.41 20L4 18.59l7.72-7.72 1.47 1.35L5.41 20z\"/>\n",
              "  </svg>\n",
              "      </button>\n",
              "      \n",
              "  <style>\n",
              "    .colab-df-container {\n",
              "      display:flex;\n",
              "      flex-wrap:wrap;\n",
              "      gap: 12px;\n",
              "    }\n",
              "\n",
              "    .colab-df-convert {\n",
              "      background-color: #E8F0FE;\n",
              "      border: none;\n",
              "      border-radius: 50%;\n",
              "      cursor: pointer;\n",
              "      display: none;\n",
              "      fill: #1967D2;\n",
              "      height: 32px;\n",
              "      padding: 0 0 0 0;\n",
              "      width: 32px;\n",
              "    }\n",
              "\n",
              "    .colab-df-convert:hover {\n",
              "      background-color: #E2EBFA;\n",
              "      box-shadow: 0px 1px 2px rgba(60, 64, 67, 0.3), 0px 1px 3px 1px rgba(60, 64, 67, 0.15);\n",
              "      fill: #174EA6;\n",
              "    }\n",
              "\n",
              "    [theme=dark] .colab-df-convert {\n",
              "      background-color: #3B4455;\n",
              "      fill: #D2E3FC;\n",
              "    }\n",
              "\n",
              "    [theme=dark] .colab-df-convert:hover {\n",
              "      background-color: #434B5C;\n",
              "      box-shadow: 0px 1px 3px 1px rgba(0, 0, 0, 0.15);\n",
              "      filter: drop-shadow(0px 1px 2px rgba(0, 0, 0, 0.3));\n",
              "      fill: #FFFFFF;\n",
              "    }\n",
              "  </style>\n",
              "\n",
              "      <script>\n",
              "        const buttonEl =\n",
              "          document.querySelector('#df-a34120b7-6d53-486a-bade-058b8a88165c button.colab-df-convert');\n",
              "        buttonEl.style.display =\n",
              "          google.colab.kernel.accessAllowed ? 'block' : 'none';\n",
              "\n",
              "        async function convertToInteractive(key) {\n",
              "          const element = document.querySelector('#df-a34120b7-6d53-486a-bade-058b8a88165c');\n",
              "          const dataTable =\n",
              "            await google.colab.kernel.invokeFunction('convertToInteractive',\n",
              "                                                     [key], {});\n",
              "          if (!dataTable) return;\n",
              "\n",
              "          const docLinkHtml = 'Like what you see? Visit the ' +\n",
              "            '<a target=\"_blank\" href=https://colab.research.google.com/notebooks/data_table.ipynb>data table notebook</a>'\n",
              "            + ' to learn more about interactive tables.';\n",
              "          element.innerHTML = '';\n",
              "          dataTable['output_type'] = 'display_data';\n",
              "          await google.colab.output.renderOutput(dataTable, element);\n",
              "          const docLink = document.createElement('div');\n",
              "          docLink.innerHTML = docLinkHtml;\n",
              "          element.appendChild(docLink);\n",
              "        }\n",
              "      </script>\n",
              "    </div>\n",
              "  </div>\n",
              "  "
            ]
          },
          "metadata": {},
          "execution_count": 108
        }
      ]
    },
    {
      "cell_type": "code",
      "source": [
        "type(s)"
      ],
      "metadata": {
        "colab": {
          "base_uri": "https://localhost:8080/"
        },
        "id": "TAsxBbza3A_8",
        "outputId": "274bf236-edb4-4c59-ee08-670c9ecc0a87"
      },
      "execution_count": null,
      "outputs": [
        {
          "output_type": "execute_result",
          "data": {
            "text/plain": [
              "pandas.core.series.Series"
            ]
          },
          "metadata": {},
          "execution_count": 110
        }
      ]
    },
    {
      "cell_type": "code",
      "source": [
        "type(d)"
      ],
      "metadata": {
        "colab": {
          "base_uri": "https://localhost:8080/"
        },
        "id": "3HrdAtab5Nrn",
        "outputId": "0561816f-0d7a-4440-ad08-2a0ffcc29d51"
      },
      "execution_count": null,
      "outputs": [
        {
          "output_type": "execute_result",
          "data": {
            "text/plain": [
              "pandas.core.frame.DataFrame"
            ]
          },
          "metadata": {},
          "execution_count": 111
        }
      ]
    },
    {
      "cell_type": "code",
      "source": [
        "y = df[['Artist','Length','Genre']]\n",
        "y"
      ],
      "metadata": {
        "colab": {
          "base_uri": "https://localhost:8080/",
          "height": 300
        },
        "id": "veDUVXhK5N2y",
        "outputId": "0b1eb467-0dab-4e32-8a3b-21ba39d05ceb"
      },
      "execution_count": null,
      "outputs": [
        {
          "output_type": "execute_result",
          "data": {
            "text/plain": [
              "            Artist    Length                        Genre\n",
              "0  Michael Jackson  00:42:19               pop, rock, R&B\n",
              "1            AC/DC  00:42:11                    hard rock\n",
              "2       Pink Floyd  00:42:49             progressive rock\n",
              "3  Whitney Houston  00:57:44               R&B, soul, pop\n",
              "4        Meat Loaf  00:46:33  hard rock, progressive rock\n",
              "5           Eagles  00:43:08   rock, soft rock, folk rock\n",
              "6         Bee Gees  01:15:54                        disco\n",
              "7    Fleetwood Mac  00:40:01                    soft rock"
            ],
            "text/html": [
              "\n",
              "  <div id=\"df-3c086fdc-367f-4e1b-a327-b2b216be8834\">\n",
              "    <div class=\"colab-df-container\">\n",
              "      <div>\n",
              "<style scoped>\n",
              "    .dataframe tbody tr th:only-of-type {\n",
              "        vertical-align: middle;\n",
              "    }\n",
              "\n",
              "    .dataframe tbody tr th {\n",
              "        vertical-align: top;\n",
              "    }\n",
              "\n",
              "    .dataframe thead th {\n",
              "        text-align: right;\n",
              "    }\n",
              "</style>\n",
              "<table border=\"1\" class=\"dataframe\">\n",
              "  <thead>\n",
              "    <tr style=\"text-align: right;\">\n",
              "      <th></th>\n",
              "      <th>Artist</th>\n",
              "      <th>Length</th>\n",
              "      <th>Genre</th>\n",
              "    </tr>\n",
              "  </thead>\n",
              "  <tbody>\n",
              "    <tr>\n",
              "      <th>0</th>\n",
              "      <td>Michael Jackson</td>\n",
              "      <td>00:42:19</td>\n",
              "      <td>pop, rock, R&amp;B</td>\n",
              "    </tr>\n",
              "    <tr>\n",
              "      <th>1</th>\n",
              "      <td>AC/DC</td>\n",
              "      <td>00:42:11</td>\n",
              "      <td>hard rock</td>\n",
              "    </tr>\n",
              "    <tr>\n",
              "      <th>2</th>\n",
              "      <td>Pink Floyd</td>\n",
              "      <td>00:42:49</td>\n",
              "      <td>progressive rock</td>\n",
              "    </tr>\n",
              "    <tr>\n",
              "      <th>3</th>\n",
              "      <td>Whitney Houston</td>\n",
              "      <td>00:57:44</td>\n",
              "      <td>R&amp;B, soul, pop</td>\n",
              "    </tr>\n",
              "    <tr>\n",
              "      <th>4</th>\n",
              "      <td>Meat Loaf</td>\n",
              "      <td>00:46:33</td>\n",
              "      <td>hard rock, progressive rock</td>\n",
              "    </tr>\n",
              "    <tr>\n",
              "      <th>5</th>\n",
              "      <td>Eagles</td>\n",
              "      <td>00:43:08</td>\n",
              "      <td>rock, soft rock, folk rock</td>\n",
              "    </tr>\n",
              "    <tr>\n",
              "      <th>6</th>\n",
              "      <td>Bee Gees</td>\n",
              "      <td>01:15:54</td>\n",
              "      <td>disco</td>\n",
              "    </tr>\n",
              "    <tr>\n",
              "      <th>7</th>\n",
              "      <td>Fleetwood Mac</td>\n",
              "      <td>00:40:01</td>\n",
              "      <td>soft rock</td>\n",
              "    </tr>\n",
              "  </tbody>\n",
              "</table>\n",
              "</div>\n",
              "      <button class=\"colab-df-convert\" onclick=\"convertToInteractive('df-3c086fdc-367f-4e1b-a327-b2b216be8834')\"\n",
              "              title=\"Convert this dataframe to an interactive table.\"\n",
              "              style=\"display:none;\">\n",
              "        \n",
              "  <svg xmlns=\"http://www.w3.org/2000/svg\" height=\"24px\"viewBox=\"0 0 24 24\"\n",
              "       width=\"24px\">\n",
              "    <path d=\"M0 0h24v24H0V0z\" fill=\"none\"/>\n",
              "    <path d=\"M18.56 5.44l.94 2.06.94-2.06 2.06-.94-2.06-.94-.94-2.06-.94 2.06-2.06.94zm-11 1L8.5 8.5l.94-2.06 2.06-.94-2.06-.94L8.5 2.5l-.94 2.06-2.06.94zm10 10l.94 2.06.94-2.06 2.06-.94-2.06-.94-.94-2.06-.94 2.06-2.06.94z\"/><path d=\"M17.41 7.96l-1.37-1.37c-.4-.4-.92-.59-1.43-.59-.52 0-1.04.2-1.43.59L10.3 9.45l-7.72 7.72c-.78.78-.78 2.05 0 2.83L4 21.41c.39.39.9.59 1.41.59.51 0 1.02-.2 1.41-.59l7.78-7.78 2.81-2.81c.8-.78.8-2.07 0-2.86zM5.41 20L4 18.59l7.72-7.72 1.47 1.35L5.41 20z\"/>\n",
              "  </svg>\n",
              "      </button>\n",
              "      \n",
              "  <style>\n",
              "    .colab-df-container {\n",
              "      display:flex;\n",
              "      flex-wrap:wrap;\n",
              "      gap: 12px;\n",
              "    }\n",
              "\n",
              "    .colab-df-convert {\n",
              "      background-color: #E8F0FE;\n",
              "      border: none;\n",
              "      border-radius: 50%;\n",
              "      cursor: pointer;\n",
              "      display: none;\n",
              "      fill: #1967D2;\n",
              "      height: 32px;\n",
              "      padding: 0 0 0 0;\n",
              "      width: 32px;\n",
              "    }\n",
              "\n",
              "    .colab-df-convert:hover {\n",
              "      background-color: #E2EBFA;\n",
              "      box-shadow: 0px 1px 2px rgba(60, 64, 67, 0.3), 0px 1px 3px 1px rgba(60, 64, 67, 0.15);\n",
              "      fill: #174EA6;\n",
              "    }\n",
              "\n",
              "    [theme=dark] .colab-df-convert {\n",
              "      background-color: #3B4455;\n",
              "      fill: #D2E3FC;\n",
              "    }\n",
              "\n",
              "    [theme=dark] .colab-df-convert:hover {\n",
              "      background-color: #434B5C;\n",
              "      box-shadow: 0px 1px 3px 1px rgba(0, 0, 0, 0.15);\n",
              "      filter: drop-shadow(0px 1px 2px rgba(0, 0, 0, 0.3));\n",
              "      fill: #FFFFFF;\n",
              "    }\n",
              "  </style>\n",
              "\n",
              "      <script>\n",
              "        const buttonEl =\n",
              "          document.querySelector('#df-3c086fdc-367f-4e1b-a327-b2b216be8834 button.colab-df-convert');\n",
              "        buttonEl.style.display =\n",
              "          google.colab.kernel.accessAllowed ? 'block' : 'none';\n",
              "\n",
              "        async function convertToInteractive(key) {\n",
              "          const element = document.querySelector('#df-3c086fdc-367f-4e1b-a327-b2b216be8834');\n",
              "          const dataTable =\n",
              "            await google.colab.kernel.invokeFunction('convertToInteractive',\n",
              "                                                     [key], {});\n",
              "          if (!dataTable) return;\n",
              "\n",
              "          const docLinkHtml = 'Like what you see? Visit the ' +\n",
              "            '<a target=\"_blank\" href=https://colab.research.google.com/notebooks/data_table.ipynb>data table notebook</a>'\n",
              "            + ' to learn more about interactive tables.';\n",
              "          element.innerHTML = '';\n",
              "          dataTable['output_type'] = 'display_data';\n",
              "          await google.colab.output.renderOutput(dataTable, element);\n",
              "          const docLink = document.createElement('div');\n",
              "          docLink.innerHTML = docLinkHtml;\n",
              "          element.appendChild(docLink);\n",
              "        }\n",
              "      </script>\n",
              "    </div>\n",
              "  </div>\n",
              "  "
            ]
          },
          "metadata": {},
          "execution_count": 112
        }
      ]
    },
    {
      "cell_type": "code",
      "source": [
        "#One way to access unique elements is the iloc\n",
        "y.iloc[3,1]"
      ],
      "metadata": {
        "colab": {
          "base_uri": "https://localhost:8080/"
        },
        "id": "pa1fxtZt5OBq",
        "outputId": "8949a89b-0b75-413c-ccc8-06a88c6773ae"
      },
      "execution_count": null,
      "outputs": [
        {
          "output_type": "execute_result",
          "data": {
            "text/plain": [
              "datetime.time(0, 57, 44)"
            ]
          },
          "metadata": {},
          "execution_count": 114
        }
      ]
    },
    {
      "cell_type": "code",
      "source": [
        "#You can access the column using the name as well with loc!\n",
        "df.loc[6,\"Artist\"]"
      ],
      "metadata": {
        "colab": {
          "base_uri": "https://localhost:8080/",
          "height": 35
        },
        "id": "-JAVlRqw3BGe",
        "outputId": "9bf1eee4-fda4-4e93-8b0e-8f18de24f0c5"
      },
      "execution_count": null,
      "outputs": [
        {
          "output_type": "execute_result",
          "data": {
            "text/plain": [
              "'Bee Gees'"
            ],
            "application/vnd.google.colaboratory.intrinsic+json": {
              "type": "string"
            }
          },
          "metadata": {},
          "execution_count": 116
        }
      ]
    },
    {
      "cell_type": "code",
      "source": [
        "#Slicing a dataframe\n",
        "df.iloc[0:2, 0:3]"
      ],
      "metadata": {
        "colab": {
          "base_uri": "https://localhost:8080/",
          "height": 112
        },
        "id": "5lUSwY5u6-R1",
        "outputId": "4c26a68b-42b3-4ea6-d543-743c4c9200ee"
      },
      "execution_count": null,
      "outputs": [
        {
          "output_type": "execute_result",
          "data": {
            "text/plain": [
              "            Artist          Album  Released\n",
              "0  Michael Jackson       Thriller      1982\n",
              "1            AC/DC  Back in Black      1980"
            ],
            "text/html": [
              "\n",
              "  <div id=\"df-3af39140-cf92-47f2-9d88-5cd44a7ebd71\">\n",
              "    <div class=\"colab-df-container\">\n",
              "      <div>\n",
              "<style scoped>\n",
              "    .dataframe tbody tr th:only-of-type {\n",
              "        vertical-align: middle;\n",
              "    }\n",
              "\n",
              "    .dataframe tbody tr th {\n",
              "        vertical-align: top;\n",
              "    }\n",
              "\n",
              "    .dataframe thead th {\n",
              "        text-align: right;\n",
              "    }\n",
              "</style>\n",
              "<table border=\"1\" class=\"dataframe\">\n",
              "  <thead>\n",
              "    <tr style=\"text-align: right;\">\n",
              "      <th></th>\n",
              "      <th>Artist</th>\n",
              "      <th>Album</th>\n",
              "      <th>Released</th>\n",
              "    </tr>\n",
              "  </thead>\n",
              "  <tbody>\n",
              "    <tr>\n",
              "      <th>0</th>\n",
              "      <td>Michael Jackson</td>\n",
              "      <td>Thriller</td>\n",
              "      <td>1982</td>\n",
              "    </tr>\n",
              "    <tr>\n",
              "      <th>1</th>\n",
              "      <td>AC/DC</td>\n",
              "      <td>Back in Black</td>\n",
              "      <td>1980</td>\n",
              "    </tr>\n",
              "  </tbody>\n",
              "</table>\n",
              "</div>\n",
              "      <button class=\"colab-df-convert\" onclick=\"convertToInteractive('df-3af39140-cf92-47f2-9d88-5cd44a7ebd71')\"\n",
              "              title=\"Convert this dataframe to an interactive table.\"\n",
              "              style=\"display:none;\">\n",
              "        \n",
              "  <svg xmlns=\"http://www.w3.org/2000/svg\" height=\"24px\"viewBox=\"0 0 24 24\"\n",
              "       width=\"24px\">\n",
              "    <path d=\"M0 0h24v24H0V0z\" fill=\"none\"/>\n",
              "    <path d=\"M18.56 5.44l.94 2.06.94-2.06 2.06-.94-2.06-.94-.94-2.06-.94 2.06-2.06.94zm-11 1L8.5 8.5l.94-2.06 2.06-.94-2.06-.94L8.5 2.5l-.94 2.06-2.06.94zm10 10l.94 2.06.94-2.06 2.06-.94-2.06-.94-.94-2.06-.94 2.06-2.06.94z\"/><path d=\"M17.41 7.96l-1.37-1.37c-.4-.4-.92-.59-1.43-.59-.52 0-1.04.2-1.43.59L10.3 9.45l-7.72 7.72c-.78.78-.78 2.05 0 2.83L4 21.41c.39.39.9.59 1.41.59.51 0 1.02-.2 1.41-.59l7.78-7.78 2.81-2.81c.8-.78.8-2.07 0-2.86zM5.41 20L4 18.59l7.72-7.72 1.47 1.35L5.41 20z\"/>\n",
              "  </svg>\n",
              "      </button>\n",
              "      \n",
              "  <style>\n",
              "    .colab-df-container {\n",
              "      display:flex;\n",
              "      flex-wrap:wrap;\n",
              "      gap: 12px;\n",
              "    }\n",
              "\n",
              "    .colab-df-convert {\n",
              "      background-color: #E8F0FE;\n",
              "      border: none;\n",
              "      border-radius: 50%;\n",
              "      cursor: pointer;\n",
              "      display: none;\n",
              "      fill: #1967D2;\n",
              "      height: 32px;\n",
              "      padding: 0 0 0 0;\n",
              "      width: 32px;\n",
              "    }\n",
              "\n",
              "    .colab-df-convert:hover {\n",
              "      background-color: #E2EBFA;\n",
              "      box-shadow: 0px 1px 2px rgba(60, 64, 67, 0.3), 0px 1px 3px 1px rgba(60, 64, 67, 0.15);\n",
              "      fill: #174EA6;\n",
              "    }\n",
              "\n",
              "    [theme=dark] .colab-df-convert {\n",
              "      background-color: #3B4455;\n",
              "      fill: #D2E3FC;\n",
              "    }\n",
              "\n",
              "    [theme=dark] .colab-df-convert:hover {\n",
              "      background-color: #434B5C;\n",
              "      box-shadow: 0px 1px 3px 1px rgba(0, 0, 0, 0.15);\n",
              "      filter: drop-shadow(0px 1px 2px rgba(0, 0, 0, 0.3));\n",
              "      fill: #FFFFFF;\n",
              "    }\n",
              "  </style>\n",
              "\n",
              "      <script>\n",
              "        const buttonEl =\n",
              "          document.querySelector('#df-3af39140-cf92-47f2-9d88-5cd44a7ebd71 button.colab-df-convert');\n",
              "        buttonEl.style.display =\n",
              "          google.colab.kernel.accessAllowed ? 'block' : 'none';\n",
              "\n",
              "        async function convertToInteractive(key) {\n",
              "          const element = document.querySelector('#df-3af39140-cf92-47f2-9d88-5cd44a7ebd71');\n",
              "          const dataTable =\n",
              "            await google.colab.kernel.invokeFunction('convertToInteractive',\n",
              "                                                     [key], {});\n",
              "          if (!dataTable) return;\n",
              "\n",
              "          const docLinkHtml = 'Like what you see? Visit the ' +\n",
              "            '<a target=\"_blank\" href=https://colab.research.google.com/notebooks/data_table.ipynb>data table notebook</a>'\n",
              "            + ' to learn more about interactive tables.';\n",
              "          element.innerHTML = '';\n",
              "          dataTable['output_type'] = 'display_data';\n",
              "          await google.colab.output.renderOutput(dataTable, element);\n",
              "          const docLink = document.createElement('div');\n",
              "          docLink.innerHTML = docLinkHtml;\n",
              "          element.appendChild(docLink);\n",
              "        }\n",
              "      </script>\n",
              "    </div>\n",
              "  </div>\n",
              "  "
            ]
          },
          "metadata": {},
          "execution_count": 117
        }
      ]
    },
    {
      "cell_type": "code",
      "source": [
        "# Slicing w/name\n",
        "\n",
        "df.loc[0:2, 'Artist':'Released']"
      ],
      "metadata": {
        "colab": {
          "base_uri": "https://localhost:8080/",
          "height": 143
        },
        "id": "DDX8l-i06-ah",
        "outputId": "e0a96d2b-3ec3-45cd-f474-a287b94796a5"
      },
      "execution_count": null,
      "outputs": [
        {
          "output_type": "execute_result",
          "data": {
            "text/plain": [
              "            Artist                      Album  Released\n",
              "0  Michael Jackson                   Thriller      1982\n",
              "1            AC/DC              Back in Black      1980\n",
              "2       Pink Floyd  The Dark Side of the Moon      1973"
            ],
            "text/html": [
              "\n",
              "  <div id=\"df-d7ba4541-88db-4496-b89a-b4949b6b78ef\">\n",
              "    <div class=\"colab-df-container\">\n",
              "      <div>\n",
              "<style scoped>\n",
              "    .dataframe tbody tr th:only-of-type {\n",
              "        vertical-align: middle;\n",
              "    }\n",
              "\n",
              "    .dataframe tbody tr th {\n",
              "        vertical-align: top;\n",
              "    }\n",
              "\n",
              "    .dataframe thead th {\n",
              "        text-align: right;\n",
              "    }\n",
              "</style>\n",
              "<table border=\"1\" class=\"dataframe\">\n",
              "  <thead>\n",
              "    <tr style=\"text-align: right;\">\n",
              "      <th></th>\n",
              "      <th>Artist</th>\n",
              "      <th>Album</th>\n",
              "      <th>Released</th>\n",
              "    </tr>\n",
              "  </thead>\n",
              "  <tbody>\n",
              "    <tr>\n",
              "      <th>0</th>\n",
              "      <td>Michael Jackson</td>\n",
              "      <td>Thriller</td>\n",
              "      <td>1982</td>\n",
              "    </tr>\n",
              "    <tr>\n",
              "      <th>1</th>\n",
              "      <td>AC/DC</td>\n",
              "      <td>Back in Black</td>\n",
              "      <td>1980</td>\n",
              "    </tr>\n",
              "    <tr>\n",
              "      <th>2</th>\n",
              "      <td>Pink Floyd</td>\n",
              "      <td>The Dark Side of the Moon</td>\n",
              "      <td>1973</td>\n",
              "    </tr>\n",
              "  </tbody>\n",
              "</table>\n",
              "</div>\n",
              "      <button class=\"colab-df-convert\" onclick=\"convertToInteractive('df-d7ba4541-88db-4496-b89a-b4949b6b78ef')\"\n",
              "              title=\"Convert this dataframe to an interactive table.\"\n",
              "              style=\"display:none;\">\n",
              "        \n",
              "  <svg xmlns=\"http://www.w3.org/2000/svg\" height=\"24px\"viewBox=\"0 0 24 24\"\n",
              "       width=\"24px\">\n",
              "    <path d=\"M0 0h24v24H0V0z\" fill=\"none\"/>\n",
              "    <path d=\"M18.56 5.44l.94 2.06.94-2.06 2.06-.94-2.06-.94-.94-2.06-.94 2.06-2.06.94zm-11 1L8.5 8.5l.94-2.06 2.06-.94-2.06-.94L8.5 2.5l-.94 2.06-2.06.94zm10 10l.94 2.06.94-2.06 2.06-.94-2.06-.94-.94-2.06-.94 2.06-2.06.94z\"/><path d=\"M17.41 7.96l-1.37-1.37c-.4-.4-.92-.59-1.43-.59-.52 0-1.04.2-1.43.59L10.3 9.45l-7.72 7.72c-.78.78-.78 2.05 0 2.83L4 21.41c.39.39.9.59 1.41.59.51 0 1.02-.2 1.41-.59l7.78-7.78 2.81-2.81c.8-.78.8-2.07 0-2.86zM5.41 20L4 18.59l7.72-7.72 1.47 1.35L5.41 20z\"/>\n",
              "  </svg>\n",
              "      </button>\n",
              "      \n",
              "  <style>\n",
              "    .colab-df-container {\n",
              "      display:flex;\n",
              "      flex-wrap:wrap;\n",
              "      gap: 12px;\n",
              "    }\n",
              "\n",
              "    .colab-df-convert {\n",
              "      background-color: #E8F0FE;\n",
              "      border: none;\n",
              "      border-radius: 50%;\n",
              "      cursor: pointer;\n",
              "      display: none;\n",
              "      fill: #1967D2;\n",
              "      height: 32px;\n",
              "      padding: 0 0 0 0;\n",
              "      width: 32px;\n",
              "    }\n",
              "\n",
              "    .colab-df-convert:hover {\n",
              "      background-color: #E2EBFA;\n",
              "      box-shadow: 0px 1px 2px rgba(60, 64, 67, 0.3), 0px 1px 3px 1px rgba(60, 64, 67, 0.15);\n",
              "      fill: #174EA6;\n",
              "    }\n",
              "\n",
              "    [theme=dark] .colab-df-convert {\n",
              "      background-color: #3B4455;\n",
              "      fill: #D2E3FC;\n",
              "    }\n",
              "\n",
              "    [theme=dark] .colab-df-convert:hover {\n",
              "      background-color: #434B5C;\n",
              "      box-shadow: 0px 1px 3px 1px rgba(0, 0, 0, 0.15);\n",
              "      filter: drop-shadow(0px 1px 2px rgba(0, 0, 0, 0.3));\n",
              "      fill: #FFFFFF;\n",
              "    }\n",
              "  </style>\n",
              "\n",
              "      <script>\n",
              "        const buttonEl =\n",
              "          document.querySelector('#df-d7ba4541-88db-4496-b89a-b4949b6b78ef button.colab-df-convert');\n",
              "        buttonEl.style.display =\n",
              "          google.colab.kernel.accessAllowed ? 'block' : 'none';\n",
              "\n",
              "        async function convertToInteractive(key) {\n",
              "          const element = document.querySelector('#df-d7ba4541-88db-4496-b89a-b4949b6b78ef');\n",
              "          const dataTable =\n",
              "            await google.colab.kernel.invokeFunction('convertToInteractive',\n",
              "                                                     [key], {});\n",
              "          if (!dataTable) return;\n",
              "\n",
              "          const docLinkHtml = 'Like what you see? Visit the ' +\n",
              "            '<a target=\"_blank\" href=https://colab.research.google.com/notebooks/data_table.ipynb>data table notebook</a>'\n",
              "            + ' to learn more about interactive tables.';\n",
              "          element.innerHTML = '';\n",
              "          dataTable['output_type'] = 'display_data';\n",
              "          await google.colab.output.renderOutput(dataTable, element);\n",
              "          const docLink = document.createElement('div');\n",
              "          docLink.innerHTML = docLinkHtml;\n",
              "          element.appendChild(docLink);\n",
              "        }\n",
              "      </script>\n",
              "    </div>\n",
              "  </div>\n",
              "  "
            ]
          },
          "metadata": {},
          "execution_count": 118
        }
      ]
    },
    {
      "cell_type": "markdown",
      "source": [
        "###Quiz"
      ],
      "metadata": {
        "id": "OoqllWFA8XIx"
      }
    },
    {
      "cell_type": "code",
      "source": [
        "new_index=['a','b','c','d','e','f','g','h']\n",
        "df_new=df\n",
        "df_new.index=new_index\n",
        "df_new.loc['a', 'Artist']\n",
        "df_new.loc['a':'d', 'Artist']"
      ],
      "metadata": {
        "colab": {
          "base_uri": "https://localhost:8080/"
        },
        "id": "qQDyyWuL6-mi",
        "outputId": "f21bb908-50c8-4bcc-ffa8-a768ff2c291a"
      },
      "execution_count": null,
      "outputs": [
        {
          "output_type": "execute_result",
          "data": {
            "text/plain": [
              "a    Michael Jackson\n",
              "b              AC/DC\n",
              "c         Pink Floyd\n",
              "d    Whitney Houston\n",
              "Name: Artist, dtype: object"
            ]
          },
          "metadata": {},
          "execution_count": 121
        }
      ]
    },
    {
      "cell_type": "markdown",
      "source": [
        "![imagen_2022-09-25_223309980.png](data:image/png;base64,iVBORw0KGgoAAAANSUhEUgAAA+MAAAM4CAIAAAAoH6RrAAAgAElEQVR4nOzde1xT15o//k9jEy4GMF4wUrkJXpLy4lZjBbRK5AhqwSnp6VFpxVPUYye236qc6hml01Gc0Vak05qjR0pbtKI90zBjUSgUQ1sFrFEu/mgiyh0btyhGIHKLpr8/uAUIFxUhbZ/3yz9kZ++1114EePaTZ6391C+//AJCCCGEEEKImWGNdgcIIYQQQgghJlCkTgghhBBCiDmiSJ0QQgghhBBzRJE6IYQQQggh5ogidUIIIYQQQswRReqEEEIIIYSYI4rUCSGEEEIIMUcUqRNCCCGEEGKOKFInhBBCCCHEHFGkTgghhBBCiDmiSJ0QQgghhBBzRJE6IYQQQggh5ogidUIIIYQQQswRReqEEEIIIYSYI4rUCSGEEEIIMUcUqRNCCCGEEGKOKFInhBBCCCHEHFGkTgghhBBCiDmiSJ0QQgghhBBzRJE6IYQQQggh5ogidUIIIYQQQswRReqEEEIIIYSYI4rUCSHmqLy8fLS7QAghhIwyitQJIYQQQggxRxSpE0IIIYQQYo6e+uWXX0a7D4QQQgghhJDeKKdOCCGEEEKIOaJInRBijmhGaSfD3evq5KySiubR7sij0DPFBclna+4afjMnIoSQEfX7itQLD4SEhMgKH/awm6mbQkJCDjz0cb8PTOrbg48qU1amfTBCHXpoD5iyMu3gu+XLQkJCNp1knnyHCDFWKTtQHpFZKkmrGu2e9MBkZT31zumn9hUM9CNRp95yRBORenlHXsOT7c2InYgQQkbWqETq7bFdSEjY3pwBskSVx9eEhIT8dkNk3dm9YSEhIW+nPlbo15yzt59GmJObQkJCwkyNXnXympCQMFn+45z4IejOxKyRSiMPm+f3UZf93hqpNFJW9MTOkC8L6SXs5TWvb9v7ZXY1BRWjrC553+mn3jktyaob7Z4MYKKPK8BiS9x4I3TC+qqUE99LdqVPeef0U++cfurf0hd9lJtc/EhDxLPztwGetvB3th3uXo7SiQghZGQ9PWpn5nA4bdnf5EoDFnFNvq7OlDMcDqetrW2EOzYybqbGfJA9DJdm5TVHhGzlBXVDKL/HXyid+qIaQNsPSvVGb0GPY3RlagYQCd0f//RDwn3Gnc8p4jnyR+h8D4fLn87nFPGcjHrXdnZvmFz4+Yehw9hj7rPBge6cji/qa5T5quzPCrOPJQVs3Bmz2Omhm2vO2fvSV8Kk+NDJw9dFMzNt2rTR7oKZsF36l2UjNfHfUJFzdm2qTmFcQ3LfoLiuVRw5f8DN+dg6D9eHSu+wnKUxztLh7WP95bW7a7SL58qDJjzZExFCiBkYvUh9dmBgcUbGmRztomATmaIHhYpTOu6SUNHJ1OyR79uT9oBJfT+hzEsiaZTLH7ctrsDHDcoiVSkCfY02NxddUMLNza2sLOPclXWCWb1fwqw5ghHLPc2K/PzryJE62UMTrP7869U9tqiKcwDh8J7F8YWV0uU9In/d1dT4nbKc/Rs3NR+OX/6QNwVXC4e/i+R3r0V1PuKkLg9wtZ/wySpPsYM1ALRpC364LM3U5ZVVRSRbKl51txzVTlacYxKB8FHtAyGEjJjRi9TvOAmDuBkp35y7Gdw3L9j2Y0ZGGzfUja8aja49aczJvbKf3NZ9Gsp5/7EDdYAv9OaiLDtfLfU1Sp2rC3PACX4xhPPfspz86nWzjLK2VwtzAP4cL/NMcY++B2VFyjY8+dsY7ozQmEOOsg3bUg/uTZ37cNnxsiJlG0aqFmKUlJeXm0daXc/kF8Zm3JZrDQzgZ8+NCPKUehsNvqGVUamO/VAnv96adx8A/Kbyopd5hrt1fVpYuvudkh32DjeivSwLL0SfrEu8h/DFc+VBE5isrCmZrdtXLYl1vCb7skpWrVcbILCxjlrmucW3K2Fcl7zvfERtxyHdDU5wKP/r9Jacy3EKbeI94GlWuDs/9o9eAhuWyZ67jmW7dv2+F84885Jznytljp3U5gGwdziz2ac7d87h+QQtSLPKFpxsyrtcfkzjHuVgdJA1G3UlccfKZdcNFYDf1AmxEc+JJ7B7XDsQu3rZdo8hDymAxpqUk6WykiZFKwD42XMlATO3eOuTj6t3XNEDSMk8/1QmAMBz5i+vuvc4kbAq7j+Ko5shXT7/QIDRT3KbOnpHeRwQu3rJdg9W11n2qZry7oNvwVo285ktEk+BVdd3VqfOuRz3Xf3pRgMD8C1Yy1ztw0MES9tvYAghZESM4oxSjteSlU5Qp56t7vOSLic9u81lZbAXx8RxAHM+KeatlWHtFb8rt8WfLGT6zlZ8wCiPxKx/JSwkJCTkpZXb/jujrE9NcHslt4ly7aHMHXygLfxqr7S9F2Evr9kan3FVN9D+Xa4kbDpcJnhjq8SBqR6WxS2miwI50BWojLtbmJvRhgDvhV5zHMBcKDJ+qfonZRs4omd7VFwMOqSFB0JCXj9eDeiuZsRveTksJCQkZFd2f1esSd0UFhImTVC379B7PJnUt0NC9isBXVlm/Lau0761N7XPGOquZsRv7dzjlTVrXu/6l6TufVZddkxISEivyQ9tOXtCTHw382VhnRsLD4SEhGxKvQkAzHd7178sPa4BrsjWdFaV936H3FQmvbe+fQjCXlmz7bDSxNtviLjeq1Z7A+qkVKOreaCrPp8av3XNypdCTLy7bmbvXRcmTWYAtSyys4tdsxFuqjOOxEgjX+4cU2nMEaX5zuX9FWjK+yJryolamdbgascW27GYWt3G5NyIrFqjfZhj/6OJrmxlLNhiO7Z4LPKuayX/OLtb1dqjpdrm/OLzS5PrEu/1Pkdefk7EB6UbK/UYy3IF1I1N0SfOR19sGqRrdXcTj5wVpmoTW1liC+C+IeWKRnigoKKjcMVQcfp7nxO1svoxyzwm7PO1FbP0inq9ovGBJc8q3NlUzWHtjTQtAGwXC/uWuIzzmxZtBUCffEnTc4SYLR+URmvgasPiA3nX6xZ98H0yM8AKLEMYUqYgYvdlyeWOMB1AXq1Ofd8aVUzijQeWLADgW7DEdu0Dzu59Bpaj+FkWANmlyrtGm+8qmTgAVhOWClnGZ6kYwxLbsYUwJF6uEb6fm9fxC6S14J9nhanaxMaOfvL0hsQrTErZ/f4vjRBCht/o5dQBOIqCXRIS0nKqX3bqETZqczKUcForckKfWX4PmOzdm/bmajmOosDlfA7QplFmH9yWnRK6Uyb17vrr06xOit56vAzcZwNWvjCH36IqvJCw6V9Lg2cMU8+bq+U7Nib8BLeFKzctdEfVuXNp2fFvXSj9zwSpr+my+w66Qlms/J5o67vL+QCDYanBHyP09kfqd4XqBklnqbpa+UMbRHO8rJwcg/hJR3KKtKH8joyVtugSAwR6dw3FEIcUgOZOTVHCuzHyO5NFgcv5uDmeb/JaNdm73pGpbUP37F0nGGAwylTyA/sTztiIFgaHcoA2RnkmW/ZWYbXRGDKnNq0/oMaM4HXb5vEtcefy57KUsjauW+Cied4+c/p8JsAVzBZAmVOoRkBXIVCz8lwuAKizlczy7rpzdX52m6nPFSwcxeu2OsnfSyp0CN60ft54AMB4V6M9auSbEjO0XoGBERKhJXPhjDw7JWZ9ifTw+6H8Mf1fbP9480MD9xdm5xZWrxV0/BRoMmLfS7rj4hWwYuU8Zw5zWSE/lREfXd2WEB86GeA4iaNinL6OScrnB/8/6bz2b+uk9vxoW86RrfG5Y72fD133ZyG/rVRx6nh2csy/3tuT9Ia36bteMqCW/Evhlw1gWRx7W7yKzwLQcu28JKEuOfMnicg+3A4AwHKO+vODpTxHgV17yNiUd+R7/2LDjvPlW4QCo0IRbdQXEE7n5y6bLrCBpVV3rldxpcHP0127Yua4p4H7TOKHl9bWIu5cafRszwE/+GrafcXi2FvzV021AAx383PEJxoKtEzyFWwXAoby5LOtDFj71gRtmcUCgPrL2F2TaLCMipjf0fNeNLoUALD2n25h4lWWo79bMYqhKLvNwKG7Y7WtmO+pXeY4jgU0lu7eX7LjXmvEP4uXvuU57hGHlEn8TJNsAN+Br4jyEdiwAH2L5tYNni2sRGe2d3zC4L9gTo869Z599Zlnv/Qik3a9TlGPzottyC1qAuDjOcWH1X0WP8+ZHfU8Bm3KoVxJpVaaWpX/ijNQk5ZvAFj7Xg/uGEDo71YzLXyasUoIGVGjGqnDSRzunbBfnvHTynXPdm+tPiMvhPemRU5o6x2pM6f27s3VOr0cv39tdxC4TilbF5P67gHv5G0B7RvVx3YeL2sTrD0c/3J78BMY/Cdp9Veb1n8yPP1WH9ua8BNfErd/3bNcAJgrCn45LEkqPf6ezPvLrQFW/R2nK/x8b2pb8K6tgcNauMBxEwjwnbKwBIEiAEBlYU4DBLMFXIDrG8A9Ij+Xrwtun7nbrFL9BIjmeHV2cohDCgA4d+ADeG/+fOvC/uMHXaHsnb05CIz5sGeU31fZ8QT2usNfSZy6Atw/yje9npD6v8pI30AugAeF8sPqNltJfPw6Qfs+c0UC7vr1R26Of2Fl8LMmmuR7zeFDrbxSDd/OWz91YU4bP3ARL/uM8aRbprRYB9tgb5feLfDcRCI39gWg0Nbda66o73WqT2UHv5ccP7fj2gKXS8T718RkJqVeC103q8/eQ2Hl5u6G7DLm5gN0DIVj8N7jEl7XW2RuYKBP/JqYjKRUdehaAXhuorlu7ItAPs/dVyTqUTPDCfhL0lebedyOIRWJFgW6b1mTcFKeE+Ed+GsLMMyg9KU1t7CBAcQBwvaYEoDldKHU5WxaZZOiuCG8s7JinMs0o6jU2s+Ti+IG3Gm5C/R4Czk5y9d5mIpfubGvzBzX/sv4aX7EQu7af+qg0VX0OrwPcYBw1dT2qJo1ztdNml6wth75mjoIJ+B2Y74BAHvK+M70uJ21KwA0qWsAU5E6c7s9g23BszF5NpblWBZgwP2en9GweBvbw3QANu5bQm8cONHAXK/LbcRSE+0MYUivVcq0ANixrzwn6GiBbeng4Nq3sQE4PBPOY9K0TWmXG8Ln2wJAY3VaJQC21M8ZAKp/TtYC4Ma+0ll2z+KF/2GCT0JdwU83CuDsAxZYgMGQW/Jz1Iz2C2SPc3J8qF4QQsjjG+X11HmiQG/oUrON1++rVmZVQxQcYCKYVaceU8NWsunPPXK1XNG6jQvR9t1X2Tc7djuXqQUnNPKlHpl6p2UvBw5Lp5tzvv5Ky1kUGfmsUS/GuAUvEaAt+9zFfvPkurOyd08hdNs60cAh7MPje83hAzlFHRUUTNEFpithPF0UyIFSWdTRrauFOYCbT9cADnFI22n1c7duGjhMl76b2iCQvr81YOKgveaErjYK0wE4BIhnAUpVafuXt2tK24AXRAKjfZxmeQG6wpJ+CpNcvANse1T7FOZmtHFEwX+cw4dSoewsIGlQX7gCzgsigelWBjQrcuXcnkO1MBDQqfrr0hBw2ACqmdvdbfJ6vvm5vvMCAF0VM3h9lW1XmA4AGMMPeMENUJdq+j2C9I8paF/BvKoy7sT5zn+qtHoAuNGs79zNcPe6OvHT7EW704XbTj/1zumnkk2vvhnlLzSZZoa9rdDoIw9Lyz7lHP0QuxoXjFtYGafCJ9r4sgDob9zpLESpb6oAAPYwJ4UnWhmXylhO5foDgP6G6UcUDD6kzHVdAQAW19fBZAtDxJfMswaQWNBRAHO38JYMgP2kZQ4AcLemQQHgaX1ayvnunuToAKDZ0AIALquCLPhASs5l3o7Mjf+rVtfrTZ+KEEKepNHNqQO8wNCF8YWZGTlR3h2p6J8yjldyAlcHmIhmb5aqGoDF3oLeZQYcL5EI3ylVV9tCJ3M6dlvoLey1m5VQ+Cyyf3rsPl8tzAHGc3RF55U9tt+zAMDcuWM6EabN3vtB9tjle9YNXB7zaFy8A2yT5AUqBgJ++/qMtpKOhHF7bUzuOWVzQIBVe5E611vY2cMhDmnnxsD5/RdRPGBS//3dVK3bOll86JD+xAZ4946U+Y7uwJXBj7zX0t/tkED0Akd+qjN9/kCt/KEN/t5Cl/EBtklyZVHbogAO0FZ0QQkEej3K0ikmKmaecXqUiP+hjGFzADTqdMBDv3vGcABd22A1z2bIDGaU6luaAUBRrVX0nU3TwVCRpfDPbGUAAd82SsgVuFq3XK6SFJuI6qyeHsHMCGvaqqDKA5mt0UcUNzy5U6BXX2tIBFzdHCX9LArKn2gBtAKt2kbARDrc0HLPAADW7CGs/aJnTN+tDGFI21P2E62mDH6WgYzznBCV2pR4vTatFqvsGxQFTQCinndr//ltaX4AAPdb4/Jb+2mA5Rq0oIB/ed9JJq5eL8srl+WVh8+emfiy+7jf1wMDCSGjbLQjdXBELwRyvss+d3FTwHwOAHVOho4THPy8qYCQqS4DuLYmYhUuj4+uKJmpLgM4dmP7NMFzdAUeO1LX1pS2AUx6fEz6kI95wKTGxiunrft8/cOUCzcUyo/lGKVq+QEREm/T+TA3oS/k7aXq7KILSnBe7EoYt8fc7dXb2qJLDDihoumdxw1xSDvP4tRfPt22TXlwk/ynNkwUCoeaCeOO7bdMqL3N8XwO1MXq6gfeXan36itFAEfg0m9e313ghVOda1ZeO5fRgMAAEQcc0QsceWbH7UpZiRIQzelnvvLAeH3fVo+rTdcAwN3RqI5FW5b9zSnFuaKae7o7TMPDzGZoYwrTMzJys9W3Wu9otL/NZxGMnPb6B2x5JWjfbFOl2wAaVXGZrQywRbJg3/Od8ytu16B45HrZD5Zr0Py0Owrfix3BqMDGOjbUXRrgaDqvD8CBG46GFDTlXmtd6tvneg01uWUAIHYc328L3frL3A9hSNt/2BtbbwxW/DMIu5mrZtUkXmmVX65bJfo57ToA6/CuX6DtZ7Hjl29/rv+6Gjbf47l9HoZY5lriV1Wx1fqUiyU3xrBzJX2XzSGEkCdl1CN1cJ4PC7XNlqdnr58fzGvO+fqUjvui2Lv/yXlt+v5SIJ0eoA3gsvv5MzBMBBuPx7841Gpz3dmEhJ/a+CJGflhmtJkpAqBRHD9YzTEZhTfXnDtpvCaIwCm8v0i9IwVeWILAMYU5QIBRwpjrO88byux8tVRwR/WTiU8bBh/SQTVkyDMFocv5GSflOw+KEjYOUqM+JFYBkVGCnINJGzfppKvmOY3TVV+Qf55czXlWGunfb7jM9ZgjaL9YX4H6XIYOgfNmcwB4+wdzTmUUqhHgW12Yq4Ob98gtJz8wrbpIA8zqvAkynuAbvHKe83iAPd5V+1Xk3kEfLKD7KWHr3+Rl4Ar8QyVLhHxLYNzk8UV7pZ+VPemL+I2a6OMEVEJRzmB2P8FZVYMMACx8Xbvf8s3NA6x8MnJaVJekFw3hQSL5YvshHWDvFjFVk3IduxWqKG+fnsu/GCoU1/Y1A2Cveq7nvXhtg6oN/M6fyJbqhhQAsHA1HWUPPqT8qVwftBY0N+Rr4PNYBTAW/t62/CsNKcU/q63qEgG+0EHc+VlBx1nqGwrq4Wpyfm03liV/pnTj9KWZimlZrXkVdxg40xK3hJARM/qROsYI5gVx5SnZF7TBgcXnstv4kYv7qSZ4xskNUNffawN6RWo6LQOAP358+24CQN3Qt6ZXp+1RdQ2Lfu4H2lvrD8/BHVBrGxox5AWtdfV32gBGmZra97UGdcZJtekofHJo/DehQzxFe4SaU6QOQXZbr4QxzytgFgoLVMy8O0pA4GFUEzvEIR2cYN2heImDbk7zmphT78q8krfOH4ZYnb88/oB+0/pP5PHvyQFweN6Bm2XrFrkN1PRkrzkOUBeoGIwtzNV1z50VeAcgNTtfLXUqvaAB92WhmfytZX74phBwmtdRVKP7TtZ3gi9QOITRVB//D3kZRJs+3RVsNEmAKfm1Lvoy2qUvAGzFL/B8KrUFF1U7nLmxz3euNHK/qeLKLSsPZz6AiVbh0KZAX3FbD3s2AGgKduSYRUFzQb42D4hiD31NItvwJRP8EuryajWL9rd2P/momclTlGz5vpUB/DynRfSOnnWy9Brf0I61X+JO6wDw3ex9Tb/vhjCkblMixtYV3NPv+Ocl/461XwwtTGVu40TxdFuAyx8P1CK3uvauYcLAhSiW3k7RJ4ujNfXHrjUBiPJ06a7bmT492r4uorZJ+tklQcdZABhatIy6kevjZAvUFRS2uno4jOv1R/LpR1rjiRBCHpUZROqAYLGEn5IkP1OI/Gy4rAvosyJHh4le81yg7iy5NqJT5igBgXAGBwAmOrpzoD5fqH7QYzIiHpSqeq4l0x5zl9Yw8O0RtpWq+6wOacxdKEKq8oec6j85OQ3tlzZ/efw3y/tuLpSFbEudJR2ep9ZPdhfaQq0+dw66Ps8f5XvN4eNIaXY+owN/jofRDcYQh3Rw7m4OALii9TtC87elfhAjdBtitfpA2opkWz9hQnd9JX2ISbhO3v7cpK8K1Vc4FzQQRXQeaSWatxDZuYXqmdVqcEJ9n3ht+ZBoUvcmqsEJjAzpqB0uVSsBt+ClPde3vFlTOmhTHVMOwoJ7zuVlaiihPrjux+h08Zz5y6vulh7eMt9z4fn63fLziadYQssxMDxQNRoY8HLfd+YD4DtFOGhSNIYdn2eetmNbGR6oGg1iX154vjZlVK7EiI8vz++yNjH9fKJRnZ7fVF50mHe4Sz/P7pk+J+2VHMlXDYraukUf9v4Ux8/N+diq3g8o9XGwbsm7zMu57GfDqmg0MABYFnHLZ/ZXITP4kLKcpZKf077QKjSMcFd318MXzxVPB2DhO9Oaf6WJuVIu+PdK4dMGhVv7k49MYTmKn1XhYsNuFWA1QeJt/EHrhFWvOio+qknUMMJd6X52bCug+Z4+7z7CF8+VOwHQpiWX7ECBwIY9hYX2TgKQivqvvSOEkCfAPKbGuASEuqD62LuyfHiHi/uZ7wTASfxHEact+0BioXHCXKdMOpwLzsKXA9srfcd4i8N4aEg9fKpHapw5lZTRq263PfuendPjyTU18qRTA9b32gZIlvNQmRSbWKjr9UyZtlEsDBaIXuDgWmrqNROzHp18A7hQyv9PDduAnksTDm1Ih47rLd0h4bWpE+JSH/15QJ1UuRla8PmTHi4rLPAN5KDoQqpKDe953fN3OV4iETQXvspWmprMamz8eAegXFXWPMA+j+1BG3NeJt0gU7fxQt+Tdk2gHj+eD9SUlhl9Nx5osz/r/Zin8eP5QJmqzOj9ZjueD+BqabXRsOuuJg3yZjZj5eXD8mCwx2TttyKwYLVD7FQWT29Q1OsVjQZXe+6+xc90voMmhP/F89gstoCFvHp9hcEyesXcYytclg5SUPHkGXQVdZjSJxWTd10rOfRj+1orprDGzZ5/Zrun3JcbbsPq+DXyNCvcZcKx1XNz/+LR94lIkqAFp9+aFsvvCNP9pk4489cFXSswmjLokMLSw//MX90PuFj4tfefxRJP5UXN6PghGRfwvGKx7VILMK0GRSsrnDdAoSPLZ669GED3MupG+J6f/O25037c8LHIq9cr6vUVY1hRs/hSj/YT2Yv9uOE2LG2jXlGvV9yDcCpP/pcFPR56SgghT55Z5NQBp4AlgoSD6jZ4B4oGKinhLdq6U71u26ltq4pEgUHzvC2ZwoKc7PPVmBy6c2P3cjGCFVtDv9uWenD9mouBgbO9+S2qwgvZOTcDQxfXyI0zZ5MDX16UsOtMwvrXCwOXzvO2ZFTqCxnf3QleHao9YqJQpRPHe328tHS9LGXbqixBQKA7FwB0NeeVqpuBO7+Rej/uaDwioVcATmW3gRvg2+dmZ7ookCNPbV/mpecrQxzShzBrXfwbqvUHZZsOOz7mA3e8l6/zzpQlbAhL6N7G4bp4ha6RRs7tP7El8A5Aas7ZHMxa52X0buJ6zBFAlpPbYzl5U5wCljolfZK9N7pt5fKQ8doLnOelgf19zjNkNT8cl2k6BqPtpupCUZm2GbByW7l3b6RX9zA7LZIITsiyP9ioU0vEnlyd+oIiPYd5YV3ks7IkoxDcaX6o05GE7D2b2iLCQnh3LowJkC4SBS/nZZ9M2ripeuWLYneUnsvNzs4fu+6N0LKDA7yZf+cmrIpetmqQfdh8D5/tHtje3+tWjqted+zVSNR2h6jur9y3v+9u8nB+UNAvQX22evj/8v7AnTTZoPFuhoL/Pev7o6H7gUrt6kt2f1i6415TWnHD0gEiThvH8BWO4f2+3Lfzgu2bBf2OjwmDDSmACTOl/zpTavo1a0HQ/NO9x62fQXZ67sz7fbd2suEvfYm/9CWTr9n6vbRAbvolQggZOWYSqYP/Qoj3QXXhwtDBngnE9d54/PPZSbLkb7I/U2a01y6/8a8rX/Tu8YRIrrc06fM5iR/KsrKPKzNgxfNeuC7+P4LHf1faI1IHN2Bz0q7J+z9PL8r4TJnB4fIFAdKP1gXzlTFHUgdau3oMP/T9ZK+z8oSUb3JOqtsAcLh8gWjln0P7+RR2JHAEQgGy1bbB8/o+gmeMd8BiTuqpNpFX32Ty0Ib0YfBf3Lruh/Wyk3sTnh/soa0D0JWlHklVPeDyvUQil45GdJVKpVp5/L31pX9N2rWon/eKldccEbKVbYLAno8umiwSz4L6SsczoQbg9NL+PQ/2/v1ETtL+HI4tX+LxiFfQ42p+ykjtXHeIY8sfPyMwcsnLIfPdeL0GeXLorn2chMTPs1NkyhRweN6Ba+N3LXYrPZiAEqPdHCX797btPXA857P4HA6X/5I3wPFe//ddY/cnnMpJ2p8NDtfJNzTm00gRUhUHh6H/5FelMk1pACw2Lp7Zo8zabrrYtRTF0LaZRSU9IYSQQT31yy+/jHYfCOmLSd2yXlYTuOuTTaJeuT9d9q6X9+Y8Kz0eFzqsj3ol5DejKu7fi6ObWdtXLYj1NipJ1xREfKRJNrA/eXtx1GNPIxmSMuWif9QqYHEsOmjV0FagIeVReiYAACAASURBVIQQYsxccuqE9HBTqfipDS8G9g7TAXB54wE8wGMvLUnIb5VzxMJr+9JbdydnK36wldizAb36mu50o4EBopZ4P/kwvS553/kDzZ1zTO0niClMJ4SQR0KROjFLVlwugNIy5kHvIhztdxnZRssakt8qM3hG6a8YP1Csnlwky2KOaRqirwOAwIa9zJMftcTDbwJ7BDowzhJ5tQYAS134sa/RTyshhDwiqn4h5qmt8GDktpNajqMo9EWx92QugDtV585l5xRV6uArPbwr9JHL6MmvAkXqhBBCCEXqxHwx548n/W+GUs3o2gCAw+M7zgwICQsN9aUM3W8fReqEEEIIReqEEEIIIYSYI/N48hEhhBBCCCGkJ4rUCSHmyDyeUUoIIYSMJorUCSGEEEIIMUcUqRNCCCGEEGKOaEYpIYQQQggh5ohy6oQQQgghhJgjitQJIeaIZpQSQgghoxOp6yrLmLZROfPDyJeFhIRsOsmMdj8IIYQQQsjv0dOjcM4rCWveluuelR6PC+U9XkvMyU1rDqqNNnC4kx0FAWFrVgS72T5e04QQQgghhIyq0YjUJ7t7WUHl7jh2mNpzmhvqNbn9v7qaH3KUKfHKU8dD3zsg9eUOtYnmnL0vfSVMig+dPEx9IoQ8nmnTpo12FwghhJBRNhqROi8w5n8Dh7E9rzCp1LfzizegU8rWxaSm7jkuPr5OMGZoTVwtzAGEw9gnQgghhBBCHs9vcEYpV7Ru4yIOGlIVxUM9pKxIaf5l84T8rvzOZpSqjkZGRiapTLxSfDQyMvLokH+b/RrVX/r03T1fl7Y8egu3vt0VGbkr67aJti9+9u7ek6X6R2/7MTyoSt/z7qHzt0bl5ISQ34bRiNRvpm4KCQk5UNi1ofBASIhUzgBaZVLMhpfDQkJCQsJejtyWcP7RZnNy3Ga4AW3MbZ02c1tISMi2TG2ffXTZMSEhIdsyrmbvXRcmTWYAtSwypINR3wDgpjLpvfUd3XplzbbDSuZBn/YayjL+e9uaVzr6vv69pOxKXd+rjlcCurKM/9628qWQkJCQkJdWSvekljU80lUSQh5T8dHIyMjITSdKjX6ib327KzLyqKmQmTwp925Xakqrbj1MNK2/cChyZ9YQQuB7t8o11x6u7ceh+fodo9sq/d0bFVUqTdMInZwQ8ls0GtUvJpWV5qRsSvq8xs0/MNgLgE6VmS1/b73qjcPxy/mP1uR4Wy7PIzTwQGF2iqJ6scTJ+DVtToYS8A2cM8lpfFSM09cxSfn84P8nndc+xXWSc/eeNfJNiRlar8DACInQkrlwRp6dErO+RHr4/VB+Z2mN7qeErX+Tl4Er8A8W2bV3/vjeDfKMjYf3vNij86XFctl/J2RYiQIXh3KANo0y+zuZtLh6zyGp95CL6gkhw+lOeuKpF/5rucNo9wPWlpzR7sLocAje+Unwwx1yTX0RcO+91UTqyWHJrk+WPGrHHtptVdFNuHR9aen1+j+SRuzkhJDfJLOJ1JGdcCJ41xfxoq41W14Tx78ek3EsVb18neDhmtKpi9SAwN0JsAoIe5GbnZKhrJE4OXbvoVVmF4IT+GIgj8cRzXVjXwTyee6+IlGfGaXqU9nB7yXHz+2IowOXS8T718RkJqVeC103CwDQXJj0H/IyiDZ9uit4Yudh61fK39mYcODd4x6HV3b/2kbZlwmctYe/frn7rmFlyqY1h1PlP0Z6L6JQnZBuIzWj1C/oD6qslMT0uTFLTE0or7984tAnWap6PdvGYfbyDav/4Gzda4/io5Ef3NvwnlfRPxLzbujZU/xe+38bFkwBcCtrZ3Se374N1vL9R/I0MzYc3OJnPWCDDuPu5R38W+J5jd7Swe/VNzfMN3HzYHS4u//qDa/PmQTg1re7ovNmb/2XevnhrNJGWM9YsuWtJW3fxn2cVtqkZzvMjdq83m9Sz0k7TRVZRz6RX7zepAfbzlUoWbt5wdQe7YNt7bBwQ8yrXv33WXU0ci/+etDvalxcWin+EHPwT+5oqspKOiS/pGnSsx18wqLWh7lbAw/qi748lPi9qr4FbJtJ0+e//uafhMbDeOvbXdFf4LW4mKCJHdey849NJw6mq+r17Cl+K/6yOsjVePemos/e/fg7PXA0OvIoELQ16bVJAOAy9rZ873u9jrqVtTP6KF7b927QJDRVfXvk0MmLmkY9LO2cBZINby/oMcR3ik4cTsxS1+vBtp44fcHaN1cIrPsbcxNjtfDWnl1Hq4DSDyKzAPdX98X84dbRyL1Z4q1JkUIAxoNjJwiKWr/Ca3zn5Q9yyYSQ3y8zqlMXRKwUGS+tyBUFvgA0qEpvPlw71Znxh3PBEYXNmwwAgsUSPqqPpxsv5sicSysEJ2CezxAyWLMiV841jqG5ooWBgE5V0lGZo8uVpzbAe+Pm7jAdwBgnyZsr+ag+fqpnIQ0nNPKlHsl9foBYACjVpQ9ziYSQ4dLk/oeoBTal8k9MlFLo1Udj4rJuea7Y/PbmqKUOqi92xX1rsuDiYuKBi87/8ubmN1Z4teZ9uvuoqrPkuuqbvbuOaJznBwXNdbYerMGq/zl60Tls87atrz13L++TXUeLe5ds6NVHY+JyrUO37Tuwb9vycYWyd7v3KZPvT9G/EPXm5ldns69+vSf6rU+vz14t3fy6eJLm/KGj53sVYFSlf3Q0z2LB5j0H9+3aLPEUTJrY1X76z+6SDW9v3hwZNFvgMmiflZ+9uydnrGhhUJinA3ArK37XCY1ww66DB/e8Kaz7ete+rFtAk/LIxxmVwpU79x34r22vhrg7jxskCC2T7/pE47nqzc1vSIS6vKMfpVf1eNla+Kc3w5wAJ8nOAwcPHljRuRjA94n/uPXcG9ti3l7h1dr3KKAiPe6LPOv5m//rwL6db0u8Zkya1OPlprwvPk6/Lnxt176De7at7uxmf2NuYqymLNj2Zz8Afm8cPHjg4JaFPZvHraz4XUcLxwWt3bz57ddE97L27zqq6vq2DHLJhJDfL/PJqfPnePWucuE7DimZXvS1TPYjAKC+RpmvYhraOJNDd24N7Fis3SUg1CUpIeucOkrQsRRMTU7qFXDDwwKsHqlbzzgZd6tUrQTcRB59loZ38Q6wTZLnq6vh3R2b+3sLey1HM9nRHVCDENJDeXn5iKTV790b47VitV+u7MTRHNHmADujl5oupmXVTw7b+ecg5zGAj5B9/Y2Pv/xG9YfX+qwTpZ/+L6uXzLUDvITsqjc+yjp/9TWhJwDo6x1Wxm32sxtSg3qBJGqpnzUgnLHhxoW9WedVr3l49e6P24qwuQ5jgbFzlwR9d1F+6dprHu1Hs4NWvbZgBgCHJT/knbix4HXpEuEYQKBXKz4uuq7pWStyr6kR4NmNs7eeNEa4wEnY3b7NkhjpEvcxALy8htDnesPsmH0r3Nt/rZV9Lb/K9n8rbDoXwPSwkNlZh/OKbgeJmu7qAY7dpEk21pPmOvSpWemLHfSXN5fMAODlUH+xKFl17Y7EebzRy9bW1mwA1tY21tY9jtoQNAOA+4ravIt9jkJLUxMAm3EONpMgWODc+8+L/l6jHuCM402ytpnkN8V9wDF3MTVWsOaOBTCWa21t0+eays7Ir+pnv/GmZK41AC9+k2rbCfn5MKHYbiiXTAj53TKfSJ3HHULcbFL1+dTq9v9xuHwXr5X/uk4y34nbHRA7icO9E/anfv1jpMCfA6D6x4xqcCUvDOk2gDd24Ly7tqYCwPjxJkpXeHwH4MqdO0B3pM4dpDlCyMiznrMy6uzFQ58dv+izwWiSSmWpGpjr7tzxy4Tt7OqMnErNbQgn9m7BgWfXuZO7M/J+vtmZdXbydO8O/gdrcKJdR9w5ZtIUJ0Bz6xZglJitLFUD+hPvbjzRvW1GdxcmdgZ2bDbgNKWj3MXSeizQ1NJrdSthyJ9nKw+f+NtfvnYPWLEyfIG7XVf3BO49sgmD9dnbs2v/+qprTWj6/qO3vu8+3B2A3dyVS7L3pH/4Ru4UryV/ei3McxJ7kPVzu68FLDYAGAbef2hHzQiJek556Mu/rU1z9//TSom/u12Pbtj5/3HJD++n79+Y6+CzZMXKMK/J7P7H3ORYDaS+6loTnN27alqmOAuBrJqfAbvHuGRCyG+f+UTqjy70P7/pXk/dFN780MADhdk/KDf5B3CgzvhnNVzWBc8axi7odLTKIyG/YnZ+r0qy3jlxJOWFbWb++LP5m5PWeg2+22AmBbz5kacm79sT8rRPd+Wkhv1tn8Tt8VsF4Lzi/Z19Kv7dV+z6ZFFxVupXJ77+MDr9uQ1xb/nZmTz6iRozye+tj7yu56V/KU//ZFfu/4Vte19iHGpbz1ix8x+LVIrUE199vf+d9NlvxL05F4DJMafFgQghI8SM6tSfIKuAsBe5+C41WwtcOZfRAO9wsdPghw0Fz9GdA2h1ur4vaRkN4DCePsAk5BGM9DNKJy+JCneo//bQictd1eEu7gLgamlVxxqO+qqKKrBdHPpUugHQaOs7dyqtAttlyiQTOw3aYO2tjlZaqkrLwHZ2mNT38EJ1ad9VYh+NjYNf+OZ98Rtm62+pym8Bz0xx7dv+QwyCnfN0a1Rdvlpv8myTPIJef++TnS9O0l8q/XmYruARWE/1k2zZ99H62frbqsq+6/eOmST8w+s7/74zbLL+YsnP/Y+5ybEaSPvglFZ0VqbfqFIB7g4m3yeEENLt9xGpA4IlK51QmK3Uqs9l6OAdKDL1d+aRCL0COGCyL1b3fuHqhZwGcHwFw3RLQAh5shxejFoyvr7octdcPuvZS4PsbqZ//FlWUUFRXtqhIzl6h9BFvaeaAABUSR/JzxcVnU8/9EWefvyC50zXYg/WYLH8SFpeUUFe+uEjebBe8Nx0E4c3pn8kSy+qvnWrWpX37adZVx/tWkuzDn79fZmmqfFWVWHRNbDH2YwF7EQLvdiN6R/J0vMKiorOZ336belDDQLcFklmsFVJcUfPlmoaNaUF38u/vFgP1F84ceLboqrbTU03VBev3sV467GP1utu48ZNAqrzfiguLS2oMn1n0NfVrEOnvi+90dR0u0r50zWwx421MH65/uKXJ7IKqm41NmnUF1V3YGcztv8xNzlWwDi7SYAy9/vSMpXqZs8JwW6LJDPYFz/7WH6+qKjg+6N/l2vYfksCKFInhAzit1D9MiSOAaGzEmRnkx1/1nEWhQb2DNTHj+cDZaqyttDJD11Gznk+LHRitvxIfKp/fGjXil8PquX/kDNwinzRexg6T8jvz0jNKDUyxl0SFfT9B1ldC3KwBa/t2sI+9MmJ/Wf1bBuH2a/uXP0Hk8uuTwr78wu3/u/jr2/o2VP8Nmx6TWhp+gwDNsgOenub0/mPP/5So7d08Fv75mse7L6H79lmd+iLrz+OOdGxuuJDLmHbyZrdmnfiv+Sf6sG2cRD+cXOUyBqAXcCGGMOJI1/KD13Sw9JO+PK2hxkEAJOCtu0ce+To8S92ZX3SsSDjEgA2qPri4/Qv9ADbTuC/4R2Jcz/HDxl7dvgGv6rErz/YlW4Xts3HeUi1NNbsprwTe/7nUz3Y1lOFki1Rfj3mfbKtUXXkUPrRFsDSThiwYdtyZ/Q/5ibHClODNiwvikv7dNcFa6/IPcIeVUCTgjbFIOmQ/JP9X+vZdoKgze+v8KKVGAkhg3nql19+Gelz3kzdFClTv7jnm40dUWzhgZBtpwTSpPjQntWNzMlNaw6i7/aeO6gHrVNvp83ctnJ/IcAJfPerrf49I/Ia+fp1CdUct4CIsBDenQtjAqSLnJAvC/m3VMEbn/d+9NLN1E2RMhhv16Ru2iBTgyvwDxXP5evUhReyc9QN8DZ+8lGfq+5UKAvZlmpiOyG/a6MQqT+a4qORH2QF/TXpNY/R7gkhhJDfnN9NTr19Xun+wmzb0LDn+yTOHSX797btPXA857P4HA6X/9JDBs0OofFfCDM+SzieI5d91wYO18lXsnWNJNCFHmZECCGEEEIe0Wjk1EdLjXz9uoQ7L8d/tfYRPzAmhJDeKKdOCCHkifkdRerqwy9vShm/LuGwxHG0u0IIIYQQQshgfi9rv0CTeviUjiNaKaYwnZBfg/Ly8tHuAiGEEDLKfuN16roieerN8dxKhfyUkoFA+kbgsK3OSAghhBBCyJP0G4/U9TcLj+9XtoHD8wreunFTYH9rixFCCCGEEGJmfkd16oQQQgghhPyK/G7q1AkhhBBCCPlVoUidEGKOaEYpIYQQQpE6IYQQQggh5ogidUIIIYQQQswRzSglhBBCCCHEHFFOnRBCCCGEEHNEkTohxBzRjFJCCCGEInVCCCGEEELMEUXqhBBCCCGEmCOaUUoIIYQQQog5opw6IYQQQggh5ogidUKIOaIZpYQQQghF6oQQQgghhJgjitQJIYQQQggxRzSjlBBCCCGEEHNEOXVCCCGEEELMEUXqhBBzRDNKCSGEEIrUCSGEEEIIMUcUqRNCCCGEEGKOaEYpIYQQQggh5ohy6oQQQgghhJgjitQJIeaIZpQSQgghFKkTQgghhBBijihSJ4QQQgghxBzRjFJCCCGEEELMEeXUCSGEEEIIMUcUqRNCzBHNKCWEEEIoUieEEEIIIcQcUaROCCGEEEKIOaIZpYQQQgghhJgjyqkTQgghhBBijihSJ4SYI5pRSgghhFCkTgghZsJw97o6Oaukonm0O9LIpGUVKDRNo92P/pl/DwkhZDhQpE4IIaOktkDyzumn3slKrm3/ulJ2oDwis1SSVjW6/So4fWlZpmbRPy4XdGyoS953+ql3Tkuy6ka1X9369LA/pbvfOf3UO6d3F49ItwghZLg9PdodIIQQE6ZNm/bkT1KXvO98RK3RBhZLPNF66fPTogIcx41CHmOijytQwZa48Z7wifpceKfY1cu2e8DVmeuar3OdznN9wv14ZCPSQ/3da+rEb2vTbrQqWgHAdSxb7DYpaomH3wT2EzztIzDUJn+kjNBYHNssXsVnwaCrUKrjzt5OqzVUAGCxxA520mWe4W7c/lsYyiF6Jr8wNuO2XGtgAAGPKw32kPpO6HiRKZDs1+Q6OOS+5eNKOUBChg9F6oQQ0slgUNTqFKmX9+XWKv76nGCkAw7bpX9ZZg6rcY3zW1DuN9qdGJCJHtZfXru7Rrt4rjxoguljHoqhNi2xMOqanjHaVnFPn3hZk3iZkS5/7kCA/TCcZZgwissRGiydL1zFZwEa2e6CjY1GLxsMiutaxT/Oxq5esN3D2lQDQzmkteCf3y+92D0gaq1u44nzKVdnnl7hbgmA77Vv/q1pZzXRWc/IF5vR4BDya0eROiHEHJWXl49IWh0AwrvCu/tNFZcuRcgb8uoYWV7DgQDbkenAaAkfrrjWDFScYxKB8OFprLXgn5eWXTMACJ/tvi90mqsVGzC0aGtS/qmKKDPITl6aYtdf1Dvi2koOZLWCxd0S5AAAcIgKrVScY0vDnxU7WANAmyb57wURGsOOVPUqj+dMfQoxhEM0xTsu6hmwtkvmxD4/AdAzP54Plzco8q/Jnpu2ZToLYLkGO2/PKd2tKFEstBdzRuz6CfmNo0idEEI6PW3t+rzXjktnl1VCVlFrFKn3+Nzfz54bEeQp9TaqUWmrzfuh/FihtqN44GlWlPCZLcs9BDbGaXk9k39pR2pd4j3gaVaU97TYF8ZY9jh9R1GKUQBduvudkh0THMr/Or0l53KcQtt+bLg7P/aPXkaN9+ie61i2a9evduHMMy85P+wwMFlZUzJbYe9wI9qH3+9eg41JXYnsy5pj11vz7gOAnz1X4u0YJZ7Wu6yotkCyT5MCi2PRQas6UrGtik+zFl0BwD0Tu6Az5usYHOny+QcCbHv0sLkm+bh6xxU9gJTM809lAgA8Z/7yqnvnOViWFk3qs4U9BnClj8CqnyvTFO/INwAIDxIZpYdZljznVX/hjfv72WWVPaLe9s5Il88/IKyNO3pNdt1QAfhNnRAb8Zy4V51MXYnsyypZtV5tgOtYi6WeLrHL3bsGpL2d7auWxDpe69pNYGMdtcxzi2+/N1R3f9TsNsBntou483Isvf3l3kZ7cBxWBVVGHNFC28oArgAMmsT9BWtvs7e/MjfW13Yoh1RcqksD4OIY/Xx7T9j85wNkVRm+Fw37cq5Jp8+0BMCZLvEt332xIfnHBvH83/hdLiEjhqrJCCHEBB+rrhirKe+LrCknamVag6sdW2zHYmp1G5NzI7KMCr3Ly6WZdbJaA9+OLbZj+8GQeLlGuP98QVvXHoaKrO99TtQl3gMAwRhD4sVSnxO1LUPpSt3dxCNnhanaxFaW2AK4b0i5ohEeKKgwdLZ8+nufE7Wy+jHLPCbs87UVs/SKer2i8YElzyrcuf/S5Mcy2JjUXo74oHRjZWvFGJbYji0ei7xaXfTZ2oq+LdlPXmoHoDX3WkPHFkNN3tX2/+nyrnZcJNpq82sBWPhP7xMCVjGJNx5YsgCAb8ES27HFdmzxWOMQeUz+6e+FqdrT940G8MNLnQPYG6PSpgFg2UoX9q3isF0qnuADQFunqO7xgrykePdHJdHXDXwbFh/Iu1636IPvk5nuc7QU5/rvLd1YqW+xYovt2PzWVlleieCjgl7dyMvPifigdGOlHmNZroC6sSn6xPnoi/2tclOX9mMTAInQsZ8dAKClRQ8APIuO+67bN9NqAYN+t8rUZAVThzD1egCwtRzXvQvLR2gHgKnQqo228IHEH8sYEEKGB+XUCSHmaMRKX3q431RxqSi2EgArwrMj9GnJvxR+2QCWxbG3xav4LAAt185LEuqSM3+SiOzD7QAAs4THVuumzHIY1/47tbl0x56S3fe0xy63+sy2AID64t2ZrQzg5zkzbZX7OBbQWCP7x+WNQ+pW0+4rFsfemr9qqgVguJufIz7RUKBlkq9guxAwlCefbWXA2rcmaMssFgDUX8bumkSDZVTE/I7uDbdBx4S5XJtsAKY6qt/y7Ijt2moLGEsfE9khB99ZRfjRICvr/BCj7LbcgHA37t0ynbykZruHMwBc1R4DYMfz6xs8zxKd2d6RcfdfMMdUPY8+mel/AHszVGhaAcCJ52uyhGPGxKWoK4BeUVYX5dR9LuaKNj/AUxvqOI4FNJbu3l+y415rxD+Ll7aPQFtJ7BfaPGDVYtGxIHsAaK6K+7A4WqPZneP2iVEGWnGlwc/TXbti5ringftM4oeX1tYi7lxp9GxPE59vdNzAWPs495d3M7QwJbGndQArNlTQUfoy8ZkIJyZXMyba22GIh1i2v7F73lR0RPPNhu4bzhm8CGjjahtUbeBTAQwhw4Fy6oSQ37uUzPNPvXP6qXdOP/Vv2dPkDXlgSZc/t2V6+6/H1tzCBgYQB7RP1wMAy+lCqQuAJkVxZxoYtgKPzjAdgNW0ZW4AUHFX177hbnFdIgCWbewrndUONo7SEF7/tSU9iAOEq6ZaAABY43zdpHYAkK+pA4DbjfkGAOwp4zt/n9tZuwJAk7pmyBfe/m9fwdBSoUMYkzEAgDptbp2+4yCOvY+T6YoIn5l2fABlt9uXXKy40lAAlr/YUcxCwZXb7Wn4gpJ6BvCZNfHRFnsZaAB701a0J5p75I+NsNg8KwBoedBrOy86tHPJIBv3LaG2fADX63IbAaDlMrPbANjxY4M6bzWsnKNesAaQ+P9V3+3REDf2lZkd76Wn+RELuQCg0Zn4OAIA01QAwM5WYNPrhSrZ7sxFuzP9/y3dan95ig1P/pf53YX1LPvwjUtu/OfiLT1K7Qc6RDDDlg9AVZms6fyG1qljT+t694djJ7AD0FpBSXVChgnl1Akh5mgkZ5T2xJVvnx9u15XFYAraFzevqow70V3uUFEPADeaO6MWg65CWSL7sa6g/oGq0dA3SqmoaQL6pGmdbSXQyobQJ7Grce7TwsrC6KuJNr4spBj0N+4YYN+eU2+qAAA2/0mVCg8+Jvy5LrE/lOy4p1u2N1PA5+1Y7B4utLfsLzXUnohtbsivho9TXV6JHuD6OD+DGWpc0ebVwtVek3/FAEAyc6AajwEMNIDDZaKV8eqEllO5/mhIgf6GFrCBuqoJAAwNySfOd09OuKMHgCZ9jyIoe1uh0ZvE0nLAFSEbWhUALFh9Su71d+v1is4v1Lfr0/LKBfa9Jk48xCGW3jPjflBGaFojPsyMtWFPwQNVo8HVwUJ8r1XRo5H2sdUzDSCEDAuK1Akhv3cdMzgNtcn7lRG1usQfmPDQrsBO39IMAIpqba+65G4dq1kDLNaqGbxwJzvBRL3idM3u+u5dWu4D6JOmtbGc8vi9Z01bFVR5ILM1+ojihid3CvTqaw2JgKubo8RpkEMfde2XIYyJlfv2zVyf9OLo/FY1o404ouTbcONeE61yMbVeCucZsUt5XKW+oKYBvBu5tYADT8ixgJMFrrTmXmtYZXWnoB4A12/GCHwOzHO1B2qBhpa7gIm0ukGvbQaAKVYDxtATbQRAV8za0mwAgMamHfkj81xV9+3vu28HYGi9y/wsTy1Ze7kmsUyX/zd/n36LUgY8hGW/auNz406oY1VNeY16rQU7YrFHrEON6+etsLcy+qCjc/QIIcOEInVCCAEAsOxXLZ9wIKEu7awqWcTvrOtggQUYsOWVoH2zTWdi7+b9FKEBWNzT2+cv7chZ1jFZPUpPOsp82/QtQHdKtU2vHY5+uwbNT7uj8L3YGpffCkBgYx0b6i4NcDRdvDEcZxx0TADAhr/0Ff7S8IaCvOLYdG1Koy7i0I/j/ha41ETpvK3vDAtUtsrKavdZ1MkAsdtEPoAZPHEmIyv5ed9YrQyAywTThePDjOXqYIHiVlRr89tgYrXBq7fTAIDt4zjgZxa3G9VA1ycbHW+AWdOaXxdYDnDUsGNZjHOYFvXnVvWO8jjjiROPcMjT/KWv8pca7ViRqmYAH9fxRkVcnbVDhJBhQnXqhBBzNDqlL9M9Y2cBaN1yorizgmWijxMAEbMQnAAAIABJREFUKMr7LbxVVzQBwERb3+7Sgtbm1h77TJlsAQBV9WrjOXnl9T0rBx5Ri+qS9KIhPEj0y/vLfnl/mSomcPv8J/qM1cHHpNvTtj7z/eUxM7dbAYamgn5K5/kzeGIANxrTqpoA1tJZDgDgNHGpFVBVn1LTDCB8xpQndu/RszMi+ygAhgbZd32iTkNt8jd1BQB4E8S9PrKobVB1L/WDluqGFACwcOUDgKujNdDnDfD4bC3EAFoNzUPbvaW1dfCdhnhIc2niRb3x3GsAwAM8wJOsvCLkd4cidUII6WItftFxFQuMpmZfx7p4tuIXeD5AwUXVjh+NJiDeb6oormoPVPn2FgDQ2HyjvcQF+opM1Y76Hu3yfe2jADTXxabW3G2P1e4zHTHfYyvI1+YBPPaY4WhsKAYfk7vVpQWMqQivv7857UF53d20nw1g2fm7tW919J8ONOvkJXqAvXTGAIU6XP54AMitrr37+KGwnYf0eRaAlCyl5J8lFR2zEfQtmvLEhEsRGvRYR6Wbbsc/SzvO3lgad1oHgC/k+3MAYJzIMdYKaK6THlEz97sO0bdoygseJwnNt/YBUK+r6LpJqCtJzCpRa40Gv602LbkyDgDYPq62AGCoTTmQPuXfMuOKm4Z6SA+GFka9Y1/J7mb4eEyXTjf6prbV5deh6/6EEPL4qPqFEGKORm1Gqb1HbACTfFYfl3pJ8ux8PytYenjLfM+F5+t3y88nnmIJLcfA0D5tlJf7vjMfcPW2X6WoSW7W+r6bLh47Bi16hd4i1tNix2Wj0MfOQ+rHnM7Tp+RcTvmxWGwFVaPByo0bBV3iY3fZx5fnd1mbmH4+Mb17o99UXnSYd7jJuvDHNuiYtFyt9M0swdMs8dgxAJrv6fPuA2MnLJ3VX5OO/tOLcbkp8Tr4nvZ+HbEfS+BqjctNKbWAla3vQGX3Fr4zrflXmpgr5YJ/rxQ+bVC4GT/56GGxfF6ae+aeMqJYn3KxNOViaa9XpcufM/GAUnsL1+IS3rYSPxtWRfusYpZFXMj0jloXjvuWP9YqvtAqVOVTdlSKbcYAD240GtQGxK6e5tN36ckh4tj72pejVpd31SD2YAHAg6a0TM3azFIAAhv2uGZ9XueNwarF3lHt8y9u/3ys2sDAEF2o2eLhPqRDgLwvTkdVsKewOroNwHWqg3yVe49inqp6BXpPiiWEPA7KqRNCiDGWa/C0WCuguWHLyfIWALD2WxFYsNohdiqLpzco6vWKRoOrPXff4mcE7UfYeyZucNjCY/HvGxT1+uZJE878dcH2F3jins36vDRPEcqLGgvcNyiax0j8Zuav8wl3eez+GnQVdZjSJ+uSd10rOfRjWr2pQ4bBIGMybgY/dirbDwZFvV5Rr2csLKR+7je2zzW1nno7ls+sjoc0RczqrqYYN31cOACAP32iz4AdGhfwvGKx7VILMK0GRSsrnPd4y7uweOLVQeq/OO5zsRB3tuQ61kLq65C7NehAgKnIevwzsremxU5lMY0GBvCbOuHMXxd0rWIJwNLD/8xfBcc8rcXs9mExtFhZSH0dlj7iejbtJoi9LQDIVZ11RRNddiyeILVn+z0NdaM+7z74FqxwF/vTby041rVA5MTJS+0BFju2fT31oRwCWFqxtI16Rb1BzWKJp/KOrZ5b/paPa483nqGgQFsALBVMoZQ6IcPlqV9++WW0+0AIIb2N3iqNvy6GAnmG748GP0/3tBUzuxd0ry/Z/WHpjnuQLp/f8Tgh8sQwWVlTMlth73Aj2mcUItRmdfR/lMfB9szO+Sbmv46ktpId75buhvVp0/OGCSGPgnLqhBBzRGH60FSmKQ2AxcbFRmE6ALvpYlcA0Lbp+zmQ/FZYzZSKLWBoiMvQjGo/DBUZVbsNWBowk8J0QoYRReqEEPLrNcbSAoBepem5Srem6IAKAFs88xGWSye/LizXIM9jDkg7q0pmhndlmYfBFO3I0fMdHA4scxh8Z0LIkFH1CyHEHFH1yxAx2Vk+6a0M4DfVVmLPBvTqa7rTjQYGiFoi+iTwkecqkqEa5eoXQshvGq39Qgghv2L8QLF6cpEsizmmaYi+DgACG/YyT37UEg+/CQM+RJMQQojZo5w6IcQcUU6dEEIIoUidEEIIIYQQc0QzSgkhhBBCCDFHFKkTQsxReXn5aHeBEEII+f/Zu/+4qMq8f/yvRo/gIA6oQzCpiILGrF8IpV0Gb8NFbIM22pu520hD7sRv4U127yqZPRTv/Yo+sgLroblSN9hXURd3d/hutsJuTuySG8MmivBhh5QRGLWBQIIRGKBT0/cPfsMg/oRTvp6P/ohzrnOd97ngge9z8b6uGWfM1ImIiIiIpIiZOhERERGRFHFFKRERERGRFHFOnYiIiIhIipipE5EUcUUpERERM3UiIiIiIilipk5EREREJEVcUUpEREREJEWcUyciIiIikiJm6kQkRVxRSkRExEydiGjcGbPj4+MPGh2cqciOj4/PrhjziMaQ9cyBbbuOmzpvvYfGk6nx8an6qw76Lnl/2+sfmMRb7/s2fGvO37Uto7hxXG5ORD8MzNSJ6F5VkR0fHx//6xzTt/3HGk+mxsdnO0qZ6W5pv1prMZkbbyabFj/LiN+uv4EUuL2x2lJ1c33fDsvxTQNeq8SWuhqz0WIbo5sT0Q/RxPEOgIjIgblz547Rnb7Kz/rzI689qRqj241M7jxpvEMYH6qfbc/82c1dUlVZAvgOPepg6kkVmZoZeauB3bSrxrIvMafvS+fANe8eHLObE9EPEjN1IrqXaSJWGPW5WfkhKZH3OzhtLc/JyNQbraLgqgp+MnH1Cm/5kBYV2fFvtif+JrDs3SxDnSh4aeL+OzHMC0CjfnuyQZOWKNftPmSwzE/cv1Ejv26HKrd2w/5Xs4otorNK8+z6xKUOXh4GXO4bujpxzY+VABpPpiYbgl/5hVX3nt7UCvn8yI0vRX59Mn1vnskmCqqQhA3Pa5QTBvVjq9EfytSVXLGJEBQ+au3aDWEzB/UPQa5alpjybODIMRuz41/Hy/s1F9LT80xYkbL/aV/YzPqDGbozFpsoqIKiE56P9pUD31rLjmVkFRqtnRBclX5L16x/Wj1wGBtPpiYfRlx6SsSMnmfZ/pQtZ3++0SoKXprYF1ZH+Axsbit7f9vev4tAdnJ8NhDxysE4JQDMcbmqe/03Q65q1G9PzkZc2rYIJWzmk4cyPiixtIpwVnj7axN/FTZoiL8qy3kvS19pFSHIZ/iFrV0f6y8facwdjNWyxl2p2WbA9Ga8HvB9Ni1lRWN2/Ov68FcOxqsBDBwchX9EwvOxgdN6H3+URyaiexczdSKSourq6jGZVrf5rkgQi3frMvXBWyKUg8+Jldkp6YWTlsZuWKy01X3yu8Op6XgtZYVyWCclWe+I2qfWa2D55FjOgZ0uyrQ4tTMAmP/yemqbXL00Qu3jLR+tQ/MfsktitBuWKSynMrIzU13c98QtFIbFc9rv2c1pIQprcc6efduy5b1tLup254bFJayPvmrIOnx8V3K+24+0q5Oivy7POVCQkR0QuGHJwMzPnL8n2+Ae+cquaKVYaywxK2f09a/H4tjEpSp5m8kknzNqzKff31YIVeiyCK8AFdCofys1pzNsfWqKH6p0v92bmiZP2xbhcvrQ3r/WBj+3XbtYsP7LWAa3UZLQi7rUzEDtyvWPwfzxYV32HqXfW1rv/tNy9dPro6u36aDdvilCCUEONAJAYda7wbHrNms7q/IP5Qy7CqjJTz9sUEa98lqUUrxiLKlRDv5G2gyH9+ZfCV6Tqn1YsJZV9IQ50pg7GCsv9ebnTOv2GzTr9q/+EeDcG1ePRv1bqdmX/KLXxvo6tZTnZu9OFV/ZGdfzyjLKIxPRvYuZOhHdy9rbJwTGrtYU7cvJ/vThDUsUA07ZSvL01vujtz8X4T0BCFILV9btPfYX44o49dBORL9frI4MUQCBasG8bo+++EKcOgAARKvqmfQNGsUNdSj6axOiNHJAPT+x7rPX9cXGuIWBQ+OZFxsdonIBXEIiI/5eojtTFbew+2ohYmVc2HwAqshPDDl1YWuSItUTAH+xsmBv2RXL4FqRdlsr4K5w85ArJ6jDZqv7+3eNTEmK9J0AIDDwBmK22oNT0mJ9uyfsLx7XXRBCX4r2mwLAL/qxYP17hrKrEQ/bWkRgkkKpdJUrQ1TDalaGEyJeWB85H0CgylpSdtRY9ZXWe9qA03K5XAAgl7vK5YOuSoyYD8A3tsFQMuwqdNpsAFzdVK5K+Id5+w/9Jra3isAkN3el3FWp8fK97pjPcTRWkE9xAeAyRS53HfZMFz/WXRCD163XhsgBBHrajJtzdMXR6nDFjTwyEd2zmKkT0b1O/uNnEk6VZLz/u5KgxAETmbWmSiDE17unbkTw9vHGp7WWq1DPGNqDyl3R28jXG4YvvuydTJ0d4Nuf/I/W4QxFT945Qek1G7A0NgID5n1rTZWAmLPtxZz+Y/P7Q5jRm9gJAjDbq6fcxVnuAtg6vx4cr/qx54JPv5fz6gvHfZfEPhMT5qvoC8/fd1CdzGgxPxTQ195qrrLBVrjnpcL+y30BKEKeifzbrvy31xV5BUY+HRcdoBQGl+IM0/8skAkAYL9++xu7av5jCYtPZxx7dW2eb+jTz2hDfRWDwlCEPhX5yRv5u18sUgVFxj4THXi/MPKYOxyr67Gaq2zw9u2rafHyVgP6y18Aitt4ZCL64WOmTkRSNHYrSgFAoXlWq9+Ucyj3kc2OqtUlZOmGg2sDR282GuWS9XsCLIaTObq8A6mffhj9app23u33CsA79o3twyr+fWNTM5dX6D/8Y87xt5PzFyemv6RROLz6rpqg1Ly0J/CKIf+YLj8ztehP0Zvf0A5MteXzY7e/u9xY8GHOH4/v3pQfvC59fQgAh2POzYGIaIxwl0YiIuD+yIQYlfVkRk5534Z+c3z9gQsmc88ejqK5xgxhjsrdwdWWZmtvI5MZwhyv4bXsN9BhQ2NPL51m00UI3irl8MvPVQ7cU/K2uKo0MRvS3koMFhuN1Y3AA14+w/u/iUFQePvJYS6/YHV4N+XCiDW/ydz+c6V4xvTFHXqCWyCfqdFuTNvzfLB41VjbPOz0BKV6xZrtv90efb9Ycv6Lkcfc4VhdT/fgmGp6d2ysMxsBX5XDnxMion7M1IlIisb+M0pVP0+InGYtKzf3HpAHR0Uovszf+76+rLTMkJdx6FNR9cRytaOCB+PBPbrisrLi/IzDBnFa2GLHtdijdVihO5RnKCs15L93yAB52GI/B5e35u/Zl192qbHxktFw8oD+wq09q0m//3jhRYuttdF8rqwKgpurC6B4eFmg0Jq/Z1++obSsrFh/4KTppgYB85Zr5wvGg+nZp0yWVouptFB3rMQKWD/LyTlZZr5qs9UZSy60YJrc5dai7ufmpgQuGT6pMJlKzY7fDIa7oM/4c6Gpzma7aj79ryoIbi5OA09bS47l6EvNja02S2WJ8SsoXF1GHnOHYwW4KZTA6aJC00Wj8cvBe7jPW66dL5S8v1dXXFZWWpj9W51F0EQuYaZORKNg9QsREQBggq82IaLwTX3fB9UI/nGpG4WMzJzdp0TBVRX87PbVKxxuu66Mfu6Rxj/tPV4nCl6axF/3bPwy3HU7FCJ+tXl28d69xyyis0qzdv2QjV+6L9+1WZFx+PjelJye3RWHLou8QXKhy5Dzmu6ACMFVpX5qQ8LDcgCKJYkp9pxDx3QZZ0Q4K9T/sflmBgGAMmLzdpdD2b87nKrP7NmQMRKAK8yH9+YfFgFB4R+auOn2dzURgmMSNeas42+m5iuiNwd531AtjVywGXJ2/eGACEE+U63dmKAZtO5TkMN8KCM/uxNwVqiXJG5+0hsjj7nDscLMiMQny9LzDqR+Jg+M36UeVAWkjPh1Cg5m6DJ3HxcFhX/EhjdiA7kTIxGN5r7vvvtuvGMgIhpqrHZpvG0V2fFv6iNePhi3cLwjISKiHxxWvxCRFH0/0nQiIqK7iZk6EREREZEUsfqFiKToe1P9QkREdNdwTp2IiIiISIqYqRMRERERSRGrX4iIiIiIpIhz6kREREREUsRMnYikaOw/o5SIiEhqmKkTEREREUkRM3UiIiIiIiniilIiIiIiIininDoRERERkRQxUyciKeKKUiIiImbqRERERERSxEydiIiIiEiKuKKUiIiIiEiKOKdORERERCRFzNSJSIq4opSIiIiZOhERERGRFDFTJyIiIiKSIq4oJSIiIiKSIs6pExERERFJETN1IpIiriglIiJipk5EREREJEXM1ImIiIiIpIgrSomIiIiIpIhz6kREREREUsRMnYikiCtKiYiImKkTEREREUkRM3UiIiIiIiniilIiIiIiIininDoRERERkRQxUyciKeKKUiIiImbqRERERERSxEydiIiIiEiKuKKUiIiIiEiKOKdORERERCRFzNSJSIq4opSIiIiZOhERERGRFDFTJyIiIiKSImbqRCRFc+fOHe8QaCCxvqL06KnLLfbxDcPecqXyqP58Tcf4hkFENEYmjncARETfY/V6vddHXfBQ1SUHeY53MHfQ0Odqqtx4yHIUliSZ4p0lU8cvrtp971RvtSPI6nxW6w0AFUX3HWoG3IveCNWMX1hERHcJM3UikqLq6uq7P63edDSteFUDYh4N0UVMv8v3ukkNpdo0S+6AA55OslAv91U/Wxgzb8o4xOOuCHW9fLTDKdT7Lqfpwx68L4KiN0I1mBHkA9QI2nnudzcMIiJpYKZORPQ9UN9lz61tyn23MCos6MTjqrG+vcw7KcU7aazvOtzUqBce54eAENG9g5k6EZFkOR1JjljpAQDoqM87Vvq40Z5XeD7vEVWU6zhHdpcNeHAionsYM3UikiJprCgVWy6ZdPr6ozW2gi4A8HefkvSzhUmLhpXKyAU0nU8/Ur3vir0G0MycvmPV4vDpwp2MZbJnlHZWktG8D7ZSM6IW9h63t1V+Wp5e0JzVDshk4SpFUvRDMXPk/RdaLXn/uJh7tu1Eq70e8HQStIu8tz6xwHPgr/9vmgpyy7eesxm+gY+LPOmJgJgJQ25v2rnp/FZgx+rHt3TfuqLovkPNMREP6zRduR+Y0ozd1zrFLFmwNXyWm2xAzx9WpJ9ty+sCAI1CmNx7Jkb7aNKDNzsKN1awNMqY2FsuVuw78cURi73S3t1gysqf+K36iafzzYZDRHSXce8XIqKRdBT8qXrt5zYjZOEKIdxV1tzc9mJO8aq/NQ1taKvf+KYp2QIfV5knYLjStPzNwqP1d2mfFJmzU+//2huO7ilUf9ic1SELVwjhLjBeadb+tnBnha2vdUv5+ccLr2W1Q60QwhUyd1HcZzAFvVNejwGdvFO8vMRm+AaYKHPusCXnFG8tu6FQci+c37q7XFtuq3eS+ctQ096V/lH5qhOW3p4tWenFyw1tZyfJtyyanrZQPrlVLLCKxk74z3L3n3ZnhmOo0cak01gc9e7lrVfsnZOFcIUQLtgLrlxb+8+GzrsTDhHR7eCcOhFJ0ZisKB3V1Jhf+hfhAY1nd2psr/moYK6+62hR7Y6fTvcZ2LChC0sDmh+f5SYDWk07d5/f2t616vcVUS8FuN2pWDrq83SX9wFwcQ+f13OsJv/cKgvg4l60KVQzGYC95VSh/4e2rX8oj1KHBMkAwG3Jj866w1/t4dw9M1Nfqt1tybXUn7gUkDAbAFo+/dcqCwDZjpVLtzw0BbC3XDyT8G7DDUV16VqWSlX9aqDPJBnsbQWHTy2vsOd9Wlv6hCoIgLF2axMweXrelp5gEk79zf1DW73Sc8fqOzcyg406JqVnmw1AUPDCs7/07rnGaqnsmH6X4iEiuh2cUyciGpnn3N40HYDMJ2B6DABrV/2QZjL3Fx/vLflw9d34xFRPAFeailpv8/Zdq9JO3LfpxH2bTtz3P2ceN9rhMuXECz8O6vnNbSk4JwLY+PhiTU9Nicxt6dzkyUBHc8HFvtg8ghb2pukAPB/QTgcg1l/r/vpa0f+xAfBUz9340JSeTuYtTg64wQiFHTFBPpNkACCbEr7MIxyA3VbZAAD19bZ6AK5OXr13d3N3AoArbZU3/uCbTty36YRWP+zvGI6NPibOEwGg9FJDZWvvHz0UKv/+7zIRkYRwTp2IaGRN1UdPXtZd7KprFw3fjNxsxmSfAfMezjOnhOJaLsS6ZuAOLv2c492cuLC/BLz1q1IrANSUl6ab+hqJZwHA3tnVe+CbJsPfq46cu1bZLha0D+/0auklAND6eQ2o0pb5+8hRbhveepgp6tkDvnKWDZyZ9vSUe6KrvrWrzg5PGQC0NHcBgMLpbu09fwNjErRMtfKc5WhDgzo1P2qOR9LPF0TNHscd4omIroeZOhFJkQRKX9BZURR+qNkA+CimrAyYnvzgFDezZfmnN5K/duubtx6oZ2lmr+tvctJ7trtkpdaiu6JOmN2bqneIdQCA3M+bHG1A3t3GtPON81vbgYlC0oPTV/q4+7heO3q0Iau/hR12APBSDMpW3RROwI0/6QjUvumq06ssTdrdp5JmCvi6I89oA5AU7uczypW3uvfLjYyJZ9CRlxXhH5h2fi7m1TbkvdPg4zH9SMKPNe78IzMRSQ4zdSIih8z7/tBsAKKWBJx4clbPsYlNuIlMXfC8U3O1noFbf1Kf+09x7e/LwjcE9czfT5jgDABC5ouPJsx2fF1pXtXWdsDdw/jyw/49v+9NhqMDa9BlkAF2NHd2Af0VIJ2d4h0IW+ax8r8W1r1ekdxwLbmhe5cVd93jAXfxw5tuYEwAYPrchDVzE75uKDjxr53/tBU0NIXu+exsSkgQc3Uikhhm6kQkReO/orThq6IOAAidN6vv2Ij5a8M149fwnNTb7NK1XABw8nFQ5OG75Q3fLTcdjSwoas7G09XpDZathbOP/HQ6AExXLJp8+WiHaDBfS3Bcv9FUWWMHgFnu/n2/7L8Wmwe1Ufh7AhYUVNcjuHeFJeyV1bc9oQ4AXaW5xuRWpyMbwld6jkkWPPqYDDDJI/zfPcI1pdrdltz2tsqrCOIO7kQkMZxAICJyZIarPwCgprE3s201pZ9oG6F12778yy32Qc0853ksmjRC81sw2T/5Z06ewNG/VhR0dB/yXrXUCUDWic+yLg4I7OvmSqOlBQDcfbpTz69sPTtG2tsMv69NH9Tv9PDFcgClJVX7+jqxlKWdvSNbTF7OO2sHJkD49k70diNGHRPUV52vtDp443IeuoU8EdH445w6Ed3rcj8qvu+jwYcCFnz37CztoqqdZ+1Z+UVF/xC8ZN/WWO2eAe4bK5rThyWxQSp5p6Hc/dNyjausptVeD0DmlP7kgju78Z9nmHpHcena5rbkP5iKVvs6A57hATrjae2VrrXvFu50EXwmAt+IBe2Ah6pOrQJkQcHumopmw5XLQf/zhdp5Qke7aHBy3/Fg89bP+7t1WzL3nb9XvNja9eK7hekugs83YkEXkubJcfH2p9VnRS2q2nrWtur1j1b1HZsoS1A/sFEb4D/5OhfeutHGBDX/NIWWmzydZGrnCcC3da32SsBzjmf4yJ+kREQ0XjinTkRSJIEVpU5BvwwpCpZrJqKyVTR2Toh5NCBv5eKo+Q6aaiPCTrw0d4dnT5qumTn945fD7ny9h0y16gn3IKC0oird2AUAMo+YF8OqtR5JHjK0iwVWsaBDFj5zauayB7pfEpzVIXkrpye4oL7LXtD6rbuvyrghZGPA4DJxmXdScoAuQK6ZiJp2scZ5yjsrQ99ZqUy6/YBbG2q+EYYuHv3GnlV+Ofz9ipbb79+h0cbE/yGPJA+Zu2gvsIoFVjtc5DueCKhMXMj91IlIgu777rvvxjsGIiL6wbGb01MrkttlO2KXbFnUVzIutpw9HZXTbID8RMpPo+7gFpZERD9EnFMnIimqrq4e7xDo9nz+RVo74OGZsGjgyk7B7SGPcAD4tvPrcQqMiOj7g5k6ERHdBYLMC0BrW03HwKNijb42C4C7exDrwomIRsMVpUREdBf4+W1VNWkt10JT8xN83f3lgK0jr8ZW0AVMlOueCxrtw4+IiIh16kREdJfYm0sLKvcZrCd69sORhbs6h//EO2HZXE9OExER3QBm6kREREREUsQ6dSKSIq4oJSIiYqZORERERCRFzNSJiIiIiKSIdepERERERFLEOXUiIiIiIilipk5EUsQVpURERMzUiYiIiIikiJk6EREREZEUcUUpEREREZEUcU6diIiIiEiKmKkTkRRxRSkREREzdSIiIiIiKWKmTkREREQkRczUiUiK5s6dO94hjCVjdnx8/EGjgzMV2fHx8dkVYx7RGLKeObBt13FT56330HgyNT4+VX/VQd8l7297/QOTeOt934Zvzfm7tmUUN47LzYnoh4GZOhHdqyqy4+Pj43+dY/q2/1jjydT4+GxHKTPdLe1Xay0mc+PNZNPiZxnx2/U3kAK3N1Zbqm6u79thOb5pwGuV2FJXYzZabGN0cyL6IZo43gEQETlQXV09RtPqX+Vn/fmR155UjcW9rkvuPGm8Qxgfqp9tz/zZzV1SVVkC+A496mDqSRWZmhl5q4HdtKvGsi8xp+9L58A17x4cs5sT0Q8SM3UiupdpIlYY9blZ+SEpkfc7OG0tz8nI1ButouCqCn4ycfUKb/mQFhXZ8W+2J/4msOzdLEOdKHhp4v47McwLQKN+e7JBk5Yo1+0+ZLDMT9y/USO/bocqt3bD/lezii2is0rz7PrEpQ5eHgZc7hu6OnHNj5UAGk+mJhuCX/mFVfee3tQK+fzIjS9Ffn0yfW+eySYKqpCEDc9rlBMG9WOr0R/K1JVcsYkQFD5q7doNYTMH9Q9BrlqWmPJs4MgxG7PjX8fL+zUX0tPzTFiRsv9pX9jM+oMZujMWmyiogqITno/2lQPfWsuOZWQVGq2dEFyVfkvXrH83s2IeAAAgAElEQVRaPXAYG0+mJh9GXHpKxIyeZ9n+lC1nf77RKgpemtgXVkf4DGxuK3t/296/i0B2cnw2EPHKwTglAMxxuap7/TdDrmrUb0/ORlzatgglbOaThzI+KLG0inBWePtrE38VNmiIvyrLeS9LX2kVIchn+IWtXR/rLx9pzB2M1bLGXanZZsD0Zrwe8H02LWVFY3b86/rwVw7GqwEMHByFf0TC87GB03off5RHJqJ7FzN1IrqX2XxXJIjFu3WZ+uAtEcrB58TK7JT0wklLYzcsVtrqPvnd4dR0vJayQjmsk5Ksd0TtU+s1sHxyLOfAThdlWpzaGQDMf3k9tU2uXhqh9vGWj9ah+Q/ZJTHaDcsUllMZ2ZmpLu574hYKw+I57ffs5rQQhbU4Z8++bdny3jYXdbtzw+IS1kdfNWQdPr4rOd/tR9rVSdFfl+ccKMjIDgjcsGRg5mfO35NtcI98ZVe0Uqw1lpiVM/r612NxbOJSlbzNZJLPGTXm0+9vK4QqdFmEV4AKaNS/lZrTGbY+NcUPVbrf7k1Nk6dti3A5fWjvX2uDn9uuXSxY/2Usg9soSehFXWpmoHbl+sdg/viwLnuP0u8trXf/abn66fXR1dt00G7fFKGEIAcaAaAw693g2HWbtZ1V+Ydyhl0F1OSnHzYoo155LUopXjGW1CgHfyNthsN7868Er0nVPixYyyp6whxpzB2MlZd683OmdfsNmnX7V/8IcO6Nq0ej/q3U7Et+0WtjfZ1aynOzd6eKr+yM63llGeWRiejexUydiKRorFaUtrdPCIxdrSnal5P96cMbligGnLKV5Omt90dvfy7CewIQpBaurNt77C/GFXHqoZ2Ifr9YHRmiAALVgnndHn3xhTh1AACIVtUz6Rs0ihvqUPTXJkRp5IB6fmLdZ6/ri41xCwOHxjMvNjpE5QK4hERG/L1Ed6YqbmH31ULEyriw+QBUkZ8YcurC1iRFqicA/mJlwd6yK5bBtSLttlbAXeHmIVdOUIfNVvf37xqZkhTpOwFAYOANxGy1B6ekxfp2T9hfPK67IIS+FO03BYBf9GPB+vcMZVcjHra1iMAkhVLpKleGqIbVrAwnRLywPnI+gECVtaTsqLHqK633tAGn5XK5AEAud5XLB12VGDEfgG9sg6Fk2FXotNkAuLqpXJXwD/P2H/pNbG8VgUlu7kq5q1Lj5XvdMZ/jaKwgn+ICwGWKXO467Jkufqy7IAavW68NkQMI9LQZN+foiqPV4YobeWQiumcxUyeie538x88knCrJeP93JUGJAyYya02VQIivd0/diODt441Pay1XoZ4xtAeVu6K3ka83DF982TuZOjvAtz/5H63DGYqevHOC0ms2YGlsBAbM+9aaKgExZ9uLOf3H5veHMKM3sRMEYLZXT7mLs9wFsHV+PThe9WPPBZ9+L+fVF477Lol9JibMV9EXnr/voDqZ0WJ+KKCvvdVcZYOtcM9Lhf2X+wJQhDwT+bdd+W+vK/IKjHw6LjpAKQwuxRmm/1kgEwDAfv32N3bV/McSFp/OOPbq2jzf0Kef0Yb6KgaFoQh9KvKTN/J3v1ikCoqMfSY68H5h5DF3OFbXYzVX2eDt21fT4uWtBvSXvwAUt/HIRPTDx0ydiKRo7FaUAoBC86xWvynnUO4jmx1Vq0vI0g0H1waO3mw0yiXr9wRYDCdzdHkHUj/9MPrVNO282+8VgHfsG9uHVfz7xqZmLq/Qf/jHnONvJ+cvTkx/SaNwePVdNUGpeWlP4BVD/jFdfmZq0Z+iN7+hHZhqy+fHbn93ubHgw5w/Ht+9KT94Xfr6EAAOx5ybAxHRGOEujUREwP2RCTEq68mMnPK+Df3m+PoDF0zmnj0cRXONGcIclbuDqy3N1t5GJjOEOV7Da9lvoMOGxp5eOs2mixC8Vcrhl5+rHLin5G1xVWliNqS9lRgsNhqrG4EHvHyG938Tg6Dw9pPDXH7B6vBuyoURa36Tuf3nSvGM6Ys79AS3QD5To92Ytuf5YPGqsbZ52OkJSvWKNdt/uz36frHk/Bcjj7nDsbqe7sEx1fTu2FhnNgK+Koc/J0RE/ZipExEBgOrnCZHTrGXl5t4D8uCoCMWX+Xvf15eVlhnyMg59KqqeWK52VPBgPLhHV1xWVpyfcdggTgtb7LgWe7QOK3SH8gxlpYb89w4ZIA9b7Ofg8tb8Pfvyyy41Nl4yGk4e0F+4tWc16fcfL7xosbU2ms+VVUFwc3UBFA8vCxRa8/fsyzeUlpUV6w+cNN3UIGDecu18wXgwPfuUydJqMZUW6o6VWAHrZzk5J8vMV222OmPJhRZMk7vcWtT93NyUwCXDJxUmU6nZ8ZvBcBf0GX8uNNXZbFfNp/9VBcHNxWngaWvJsRx9qbmx1WapLDF+BYWry8hj7nCsADeFEjhdVGi6aDR+OXgP93nLtfOFkvf36orLykoLs3+rswiayCXM1IloFKx+ISIpGofPKJ3gq02IKHxT3/dBNYJ/XOpGISMzZ/cpUXBVBT+7ffUKh9uuK6Ofe6TxT3uP14mClybx1z0bvwx33Q6FiF9tnl28d+8xi+is0qxdP2Tjl+7Ld21WZBw+vjclp2d3xaHLIm+QXOgy5LymOyBCcFWpn9qQ8LAcgGJJYoo959AxXcYZEc4K9X9svplBAKCM2Lzd5VD27w6n6jN7NmSMBOAK8+G9+YdFQFD4hyZuuv1dTYTgmESNOev4m6n5iujNQd43VEsjF2yGnF1/OCBCkM9UazcmaAat+xTkMB/KyM/uBJwV6iWJm5/0xshj7nCsMDMi8cmy9LwDqZ/JA+N3qQdVASkjfp2Cgxm6zN3HRUHhH7HhjdhA7sRIRKO577vvvhvvGIiIvrcqsuPf1Ee8fDBu4XhHQkREPzisfiEiKaqurh7vEIiIiMYZM3UiIiIiIili9QsRSdHY7tJIREQkRczUiYiIiIikiNUvRERERERSxEydiKSIK0qJiIiYqRMRERERSREzdSIiIiIiKeKKUiIiIiIiKeKcOhERERGRFDFTJyIp4opSIiIiZupERERERFLETJ2IiIiISIq4opSIiIiISIo4p05EREREJEXM1IlIiriilIiIiJk6EREREZEUMVMnIiIiIpIiriglIiIiIpIizqkTEREREUkRM3UikiKuKCUiImKmTkREREQkRczUiYiIiIikiCtKiYiIiIikiHPqRERERERSxEydiKSIK0qJiIiYqRMRERERSREzdSIiIiIiKeKKUiIiIiIiKeKcOhERERGRFDFTJyIp4opSIiIiZupERERERFLETJ2IiIiISIq4opSIiIiISIo4p05EREREJEXM1IlIiriilIiIiJk6EREREZEUMVMnIiIiIpIiriglIiIiIpIizqkTEd05rfV5+tICi220dmJ9RenRU5db7GMR1MjsLVcqj+rP13SMbxjXIf0IiYjuImbqRCRF39MVpaUnzjz+kWX5u+Wl12/XVLnxkGXVh+VbDdfGJrAR1O57p3rVRyZtnrnnQEXRfZtO3LepyDCuYQ0wLMKRSC5yIqI7YOJ4B0BENA46Swon/74Nk6ef/X9CggYcr9frvT7qAqZ8vCMsfNLo7Yfw8Z7ic7bNx8/d5/q3d1eEul4+2uEU6j31th5jVBVF9x1qdnDcQ1WXHOSJGUE+QI2gned+d8O4dWMSob2r/lxF2j+aiupFwzcA4O/qFL7wgY0RC3xcJTafVV+66m3L0Rmq6g1BPjIA9paLFVl/rc+6JFbagYmymJkzkp9ZrHEfOeyGUm2aJXfY4R2rH9+ysPcLe7Phg/IdZ9vyugCZLGq2x464oKCeobDXfFQwV9+18tGHj0R43PkHJKLBmKkT0b3IecH0JLTt67h29hKCZvcdbio41wUAaDNcsIcv7Et37KWftwGAt8L/ut26acKqNYMPWcvX7rzc/GiILmJ6/0GZd1KKd9JtP8Vtmxr1wuPSXqvkIMKWU39z//DbI8kRK+9Iothh3rev4sWGQccqW7sqDdX7/nk57T//beOD8jtxmzui6ehhy1G7kPnLQB8ZYG/IyzqXUCXW953/xp5b25D7esGRX4Wv9BwhWW/oGJ6mD7lL7p5iraX3K7s9r7Y+77VC3a9+GuMBQOYToc48U7r2o/LHF458FyK6Q5ipE5EUzZ079+7ewNUjdLp5X5NYevkaZvdObLfWFTUAMnjaoTt/ectC797W9UYzACQteMD5Ju9T84/6LCDmToV9i9yL3gjVjN7se6Fe9w8b4HSHemvKfbfixQZAJmyMWLD1kVluk2SA2GmpTs82bW0Sk//fIq/rZL1jq/OscWMDPB+ctWq2DABkU9wnf1s/0SntPxYmBXg6TwSs53e+bdra3rXxL1Ux/7ngej+rPX9UcXyXJAsgczryUthKlYBv6o++c2aVxZb058qoNf7OAGSqVT+7uDXn2uh3IaLbxkydiO5NHv6+MjTZ953/Im3J1O5so/N80z4gaP7U0M+v7fv8ag28e4pYmq4WWAE4hfp15/SmnZvOb/VQ1SUHOp/7LPmDpqx2xDwaoouY3lM8050GdVw++rvKrZ+LAHI/Kr7vIwBAwILvnvXt6WFAyUH3hVtWRu6YVbXvmHnfJbHSDn9XecLjARsXDZiM/6ap4MOK9O6yBECjECb3nonRPpr04M0OQtPRtOJVDT3Bj9jK3lb5aXl6QXNWOyCThasUSdEPxczpm2m2t1ys2HfiiyMWe6W9u8GUlT/xW/UTz8E5nN1wOD+0HJ4BC+qe9e05dunM8nfqC4DwpUEfP6HqOVhR5HWoub6n0GhQhJ21pVuPWNKtALpWpZ1YBWBI2cZkmXPH5VydKc1oM3wDHxenmCULdkTMGimb7MlKIdsS+287Hup7IsFZtWDLy87OqRXJg7Le7mDkJ1LCQi/2fN8xUZbw0NwdMQs8B/1zKtafPbfjr1d1zfZ6QOMxZVVEQNJDfQU83f1MLdoV4nOut5lMFq5y37Jqcfh0YYRgr+X941o9ZGmhfcmxXLNyaXPXFLe+HwLFgoQll7d+1FV/1dYCeAKwnt+6x7SzwykzMTxhtgxAfb0NADxdHabpQFfRuWv1QNAiv5UqAQAmeq78peeRt+vzPq8vaPWPcgUA54dmJ39QkWy05FkXxChGiJeI7gRJzBMQEQ0xBitKgxYoPAGYrZU9B3pKXMIDZgcpAGuzobciorOm+SgAhbtmYLlFQ8fZiuKoo01Z7SPcwFyfVfetswwAPJ1k4QohXCGEu4yUhwGA4eynq940vVgrwkXmA1S22pJzipNLeneSsVuy0ouXG9rOTpJvWTQ9baF8cqtYYBWNnfCf5e4/7RbHYRT2hqN7CtUfNmd1yMIVQrgLjFeatb8t3FnRE1WnsTjq3ctbr9g7JwvhCiFcsBdcubb2nw2dQzuSBT04BUB91dW+5bb1F5oLAAAF57/sK+GoqWmrBzz9ZgxfD1BZ2lhql3WnmP6uQveQug1MkSe1pb1Rri23tUyW+ctQ096V/lG59kPLsJ56nq3UeK0egLtHwkPDSlxk3gnhcgD1xvqirweesBWcKI462pTVJQt3Ar6xZ5WYgt4prenfxsdmOKz3ymnY12z3UQjhCll9Q9uLR4tW6QdX2KBDd6gwKKdhnxVqF8BuL7jStPzNooKRdrlpuHjkCiBThM4f8A+3bECaPtDECT3/c7lpZyvwTVfehUHLFTwnjvSvf32pGQCi5s/qP6aaET4ZgK3oYu9DymaF+gGwHTndNEI/RHRncE6diO5V891XoTm9v1T9clEVAHn4Am8vsxH/7Co4f22lx1QAlaY2AEEPzhi8TrQ54TDUfp5Fj/v5u8J58rC1oQ8+/PGWninh0LAfX2/SulfB59c0Ab7NsQvcJgLf1Ge9fWZtA9L/YUoODvAEYKzd2gRMnp63JSRIBgAJp/7m/qGtXum5Y3WA2x0YEQdq8s+tsgAu7kWbQjWTAdhbThX6f2jb+ofyKHVIkAylZ5sNQFDwwrO/7C0WsloqO6YPj6d3bUBbZT2CPAFcO3uhC5iSNK9t38WWs62IcgXQZDgvAlj14KxhHSDo3x/9eEn3gkinrS84qlO3dhWoVNWvBvpMksHeVnD41PIKe96ntaVPqBytA75a8wUABM2f4XAFsJufWwxsuWgzmBCu7j+eftb2zgthRfOmAPaWc8VRR5sNFsvOT+dlLp0KoPPsmZhyO2ROfcXinVXF2v9tOvrRv7QPewyYgRbTjbIdsUu3LJoKAJYz2rfrc+1tWcVN4T918KPSeelaLoDZU/2vN8N2rcjYBSDKz6NnynyeR5qiOa1Tvmphz4x+TX0XAPzrvHpzZfffQKJmz0j6xY+iVHIAsIvNHQAEn2kDbzPFyxXoQOXVZqA7NlnQg1NQ3pZ7qaET01kAQ3T3cE6diO5Vkx4InwNALLjYBACXruZ1AB5ui1x7ptuz/s+lFgCwnL0IAOHew+oFZnvr/u/FGtVUN9epzndm3mPKjl8u6Jkknui5atkUALC01QAA6utt9QBcnbx6f3O7uTsBwJW2yuE9DdIcuunEfQP+21lxg/FYCs6JADY+vljTM3crc1s6N3ky0NFccBEAuh+89FJDZWvvhKtC5e/pqI7c1SvUA0BX0cVrAPD1FwW1wJzpSfOdAFvB+S6gd6kA5OELbq0SXdgRE+QzqaeMO3yZRzgAu62ywWHjazVNAOCjmOK4MxfBq/t/Bm977xkwJ2le9yUyt4cW71AD/T8tPdUj4UvUfdXtzn7qpDkAbAUVgzflfHDOxkW9L3iqhd3FS0e/cLRXD1BX1wUgfNa0kV/J7DX6z5KuAC7uO1b0/qxO9t245fG61J/G9AUzWeYJ1HfZK7sfym7Pq214/O3eP5Jcba0EANnk0bJvZ48p4QDqbHWjNCSi28I5dSKSoru+ohQApvr7OqG262hNQ9ZPp7dcaC4Awhfc74ne6fbaprNfI7y1u0jdQe6YEKq+wzPZHlPVA7aGdHYeVCrj6Sn3RFd9a1edHd15V0tzFwAonEaoOb5trV+VWgGgprw03dR3VDwLAPbOLgAIWqZaec5ytKFBnZofNccj6ecLomaPtPXkdM0CAQ1iz9qAC81HgPBZ0/zndYWj/sjnl9OCfbuXCnS/L92SKerZA75ylt2NPzWEeg7cMtJJPdMJxi40dzUDbr3VIzDXpudc6mtUYwWAug5xYD8xsz0G5MNOkyfhOuqtIgC3ySO9wNhbzhWv+qirXuZ05IWQoJG7CtL+rCZKdO7px95Zf37H/1bvbLVv/UN51MLr7UA6VPfYWrvqgVH2JCWi28BMnYjuXT4+U4LQVXqhuRLX6i50AbKoB1VA93R7dXptm+GCPbSz+Sgc546TRyz2vTvUvumq06ssTdrdp5JmCvi6I89oA5AU7jdaqnSre790iN0zprmfN424tZ9n0JGXFeEfmHZ+LubVNuS90+DjMf1Iwo8dbunt8+DUoFNNpd1rA85b64EX56kw0xYuqy+ouloKX5ht6Htfuuum+kwHmlBjbest6hisvfvxZc7Xnd/3nOEEdPXmrGJnBwAUXGouuHS9q+4oe0vJp1G/v2aQOWUmho62U43MuT/dlzl7+u94ypp3oKm0o62yAUEzXP0BwN4xbJ3BUD0tiejuYqZORFJUXV09FtPq82ZoZU2ldlulpcFYC8gUofO6T0wN/b/kqLUV1NRHtbdh7HLH65J5rPyvhXWvVyQ3XEtu6N5lxV33eEDMvBGKN27fhAnOACBkvvhowuyRm02fm7BmbsLXDQUn/rXzn7aChqbQPZ+dTekpph+ke8A72irrLR2f24EpGl9ANksz/zw+v3b2UsNkk73/femum+HzANCE0gsD9vkZoKWqJRcA5EHew84NUH914F82ZJABdmz8ZURa8J3aSvL6+tP0nn0Vb9Y0Jx+gZ5mvTHCfDHSINV/ZMbvv+9dW1woA/jMG/DGhp06GiO4u1qkT0T1MNkszH0DX2X9cNQCY796XXLotcIsBCi5eKqjHGOaO19dVmmtMbnU6siHyuzce/25X5Mcvhd7FNB3AdMWiyQBEg/naqG0xySP833/68a9UMQDa2yqvOmrTO+DGqqulVmDO9EWTADgtWiAHxNILX5xtGvi+dLfJNMHTgwA0N2Sdsw092WHaV2AD4Kn2DB1cTJJ7aeDONl3GS10A4CX3AoAZ3R+kVVBdjzvKUyEAaOnoGnzYXvPpqajfXzO4TDnxq/BbSdMBfNVVAwAT3CYD6N7UBXkXLvc3sFwt6ADgpFYNyBm6y9zvXuUVEQFgpk5E97buHBGlVdcKhnywkcf9UQqgvinNglFnVUc2xXMaABRdamixj9Z2dJfzztqBCRC+vf2+boz3qqVOALJOfJZ1sa3/8NfNlUZLCwCgvup8pVUcfqXzhOHH0DfglaVNRUDMfK/uOnI3P7cYoOhcUykGvS854ObsAwBdZ2vaRm50wx5U75gDwL4z5x/JenPL13YAsHe1XKrcuef81nZA5pT+mN/Q1ZWf16af6767veXcma2fA8CWh+Y6A8DU8Efcg4DSEuPWfw7YwfAbW02F+XaSdy8vJwAFjdYBLwn2mr8VLv+gzeAy9eOXlkY5LHrpMKXvPOGV8rfc+u6fv8u5/19FqaXvtUTstFRuPdZUCng+6Bnuir63l9KzVUctIgB8U3/09/V5AGZ6RA3YbKfzyrVc9L2fENHdwuoXIpKiMVlRCgBu89xiYMu1igM+2KibatGDZfinvR59U7+3wGnRArnn57b6z6v9/6dWPdFeMK/7k49uzayoRVVbz9pWvf7Rqr5jE2UJ6gc2agP8He6rfds8wwN0xtPaK11r3y3c6SL4TAS+EQvaAQ9VnVoFoOafptByk6eTTO08Afi2rtVeCXjO8QwfYVPKnq0Pr9gAp+SA3kYe00InW3IbujDqB8H2LCFAuq4w7yPBrUN8fOWATz66aVOjngvI/N/ytVfE9I8q0j8avCeOTEj7Twdl3zEq4Z2jhVt/LwufYC/oAgBPlSrhoZ5aF+eFD+1b9I+Ys+JOXXHWn2Vq5wmwf2tstdfDveiN4fsH3Sjn2VNj0JZ7obnUDk13RMbi0HxbPYD2a8tfyx/SvucDoS42JFsB2I5UNMd4Tge6Kg1mrcE8tHcX99xn/HuG/cGAfQGFoeVdq94e8GMmczryy4UDl+dWmm0YuiiWiO48zqkT0b3Nc1pod4475ION+j4aacDU7y1wW/KTgkenRjmhvste0CWLcb+N2uXWhppvhKHl1N/Ys8ovh79f0XLr/V6XzCPmxbBqrUeShwztYoFVLOiQhc+cmrnsge4x8X/II8lD5i7aC6xigdUOF/mOJwIqExeOOGLdf6zAkAHvKboY9r403NSo5wKOPCj4y1DZKtY7OXneZvnP5FkJLz1aF+u5caag6Z288neVbwybW70lYuODwz4RCfD5t5Cif3dPcLIXdAETZQnBvqUvBvn0/3Mq18T+tHS1asfM3mFptft4TEl79IHbWoLpMVvrAditRRd6/zpjx+iT9LOmb3EFJvbtp66KeWJ6koesb1N2f1f5jkf967aEavrf9OSalUuNT7gnuAAAZLKoOR4fvxw26I3Fbi4otwNClHr0Twkgottx33fffTfeMRARDTVGK0q/R+zm9NSK5HbZjtglW/o24YbYcvZ0VE6zAfITKT+NusWdDekG9XyOVcyjITfyOVZ3XGdJoc/v26D2rfnPBeM7k9159pRPzjXM8a78r5FfyYjoTuCcOhHR98HnX6S1Ax6eCYsGTjkLbg95hAPAt51fj3Ah/VA4L/JP90C90Xzk0h1Y9HDr7JYjf71WD2HHz+/05wkQ0TDM1ImIvg8EmReA1raajoFHxRp9bRYAd/cgliH84Mk8Vj6rWikT1/6+rGbccnV7TYFxazNWPvpQwmymEER3HatfiIi+F5py3y7WWoCJsgRfd385YOvIq7EVdAET5bqXwmJG+bwbun3jXP1CRPcg7v1CRPS9MD3mpdCzBZX7DNYTnzdlAZDJwl3lO8K8E5bN9eTvciKiHyLOqRORFHFFKREREf9aSkREREQkRczUiYiIiIikiNUvRERERERSxDl1IiIiIiIpYqZORFJUXV093iEQERGNM2bqRERERERSxEydiIiIiEiKuKKUiIiIiEiKOKdORERERCRFzNSJSIq4opSIiIiZOhERERGRFDFTJyIiIiKSIq4oJSIiIiKSIs6pExGNO2N2fHz8QaODMxXZ8fHx2RVjHtEYsp45sG3XcVPnrffQeDI1Pj5Vf9VB3yXvb3v9A5N4633fhm/N+bu2ZRQ3jsvNieiHgZk6EUnRWKworciOj4+P/3WO6dv+Y40nU+Pjsx2lzHS3tF+ttZjMjTeTTYufZcRv199ACtzeWG2purm+b4fl+KYBr1ViS12N2WixjdHNieiHaOJ4B0BENK6+ys/68yOvPaka7zggd5403iGMD9XPtmf+7OYuqaosAXyHHnUw9aSKTM2MvNXAbtpVY9mXmNP3pXPgmncPjtnNiegHiZk6Ed3LNBErjPrcrPyQlMj7HZy2ludkZOqNVlFwVQU/mbh6hbd8SIuK7Pg32xN/E1j2bpahThS8NHH/nRjmBaBRvz3ZoElLlOt2HzJY5ifu36iRX7dDlVu7Yf+rWcUW0VmleXZ94lIHLw8DLvcNXZ245sdKAI0nU5MNwa/8wqp7T29qhXx+5MaXIr8+mb43z2QTBVVIwobnNcoJg/qx1egPZepKrthECAoftXbthrCZg/qHIFctS0x5NnDkmI3Z8a/j5f2aC+npeSasSNn/tC9sZv3BDN0Zi00UVEHRCc9H+8qBb61lxzKyCo3WTgiuSr+la9Y/rR44jI0nU5MPIy49JWJGz7Nsf8qWsz/faBUFL03sC6sjfAY2t5W9v23v30UgOzk+G4h45WCcEgDmuFzVvf6bIVc16rcnZyMubVuEEjbzycWfxk0AACAASURBVEMZH5RYWkU4K7z9tYm/Chs0xF+V5byXpa+0ihDkM/zC1q6P9ZePNOYOxmpZ467UbDNgejNeD/g+m5ayojE7/nV9+CsH49UABg6Owj8i4fnYwGm9jz/KIxPRvYuZOhFJ0dy5c8fkPjbfFQli8W5dpj54S4Ry8DmxMjslvXDS0tgNi5W2uk9+dzg1Ha+lrFAO66Qk6x1R+9R6DSyfHMs5sNNFmRandgYA819eT22Tq5dGqH285aN1aP5DdkmMdsMyheVURnZmqov7nriFwrB4Tvs9uzktRGEtztmzb1u2vLfNRd3u3LC4hPXRVw1Zh4/vSs53+5F2dVL01+U5BwoysgMCNywZmPmZ8/dkG9wjX9kVrRRrjSVm5Yy+/vVYHJu4VCVvM5nkc0aN+fT72wqhCl0W4RWgAhr1b6XmdIatT03xQ5Xut3tT0+Rp2yJcTh/a+9fa4Oe2axcL1n8Zy+A2ShJ6UZeaGahduf4xmD8+rMveo/R7S+vdf1qufnp9dPU2HbTbN0UoIciBRgAozHo3OHbdZm1nVf6hnGFXATX56YcNyqhXXotSileMJTXKwd9Im+Hw3vwrwWtStQ8L1rKKnjBHGnMHY+Wl3vycad1+g2bd/tU/Apx74+rRqH8rNfuSX/TaWF+nlvLc7N2p4is743peWUZ5ZCK6dzFTJ6J7WXv7hMDY1ZqifTnZnz68YYliwClbSZ7een/09ucivCcAQWrhyrq9x/5iXBGnHtqJ6PeL1ZEhCiBQLZjX7dEXX4hTBwCAaFU9k75Bo7ihDkV/bUKURg6o5yfWffa6vtgYtzBwaDzzYqNDVC6AS0hkxN9LdGeq4hZ2Xy1ErIwLmw9AFfmJIacubE1SpHoC4C9WFuwtu2IZXCvSbmsF3BVuHnLlBHXYbHV//66RKUmRvhMABAbeQMxWe3BKWqxv94T9xeO6C0LoS9F+UwD4RT8WrH/PUHY14mFbiwhMUiiVrnJliGpYzcpwQsQL6yPnAwhUWUvKjhqrvtJ6TxtwWi6XCwDkcle5fNBViRHzAfjGNhhKhl2FTpsNgKubylUJ/zBv/6HfxPZWEZjk5q6Uuyo1Xr7XHfM5jsYK8ikuAFymyOWuw57p4se6C2LwuvXaEDmAQE+bcXOOrjhaHa64kUcmonsWM3UikqLq6uqxmlaH/MfPJJwqyXj/dyVBiQMmMmtNlUCIr3dP3Yjg7eONT2stV6GeMbQHlbuit5GvNwxffNk7mTo7wLc/+R+twxmKnrxzgtJrNmBpbAQGzPvWmioBMWfbizn9x+b3hzCjN7ETBGC2V0+5i7PcBbB1fj04XvVjzwWffi/n1ReO+y6JfSYmzFfRF56/76A6mdFifiigr73VXGWDrXDPS4X9l/sCUIQ8E/m3XflvryvyCox8Oi46QCkMLsUZpv9ZIBMAwH799jd21fzHEhafzjj26to839Cnn9GG+ioGhaEIfSrykzfyd79YpAqKjH0mOvB+YeQxdzhW12M1V9ng7dtX0+LlrQb0l78AFLfxyET0w8dMnYhIoXlWq9+Ucyj3kc2OqtUlZOmGg2sDR282GuWS9XsCLIaTObq8A6mffhj9app23u33CsA79o3twyr+fWNTM5dX6D/8Y87xt5PzFyemv6RROLz6rpqg1Ly0J/CKIf+YLj8ztehP0Zvf0A5MteXzY7e/u9xY8GHOH4/v3pQfvC59fQgAh2POzYGIaIxwl0YiIuD+yIQYlfVkRk5534Z+c3z9gQsmc88ejqK5xgxhjsrdwdWWZmtvI5MZwhyv4bXsN9BhQ2NPL51m00UI3irl8MvPVQ7cU/K2uKo0MRvS3koMFhuN1Y3AA14+w/u/iUFQePvJYS6/YHV4N+XCiDW/ydz+c6V4xvTFHXqCWyCfqdFuTNvzfLB41VjbPOz0BKV6xZrtv90efb9Ycv6Lkcfc4VhdT/fgmGp6d2ysMxsBX5XDnxMion7M1IlIisas9KWP6ucJkdOsZeXm3gPy4KgIxZf5e9/Xl5WWGfIyDn0qqp5YrnZU8GA8uEdXXFZWnJ9x2CBOC1vsuBZ7tA4rdIfyDGWlhvz3DhkgD1vs5+Dy1vw9+/LLLjU2XjIaTh7QX7i1ZzXp9x8vvGixtTaaz5VVQXBzdQEUDy8LFFrz9+zLN5SWlRXrD5w03dQgYN5y7XzBeDA9+5TJ0moxlRbqjpVYAetnOTkny8xXbbY6Y8mFFkyTu9xa1P3c3JTAJcMnFSZTqdnxm8FwF/QZfy401dlsV82n/1UFwc3FaeBpa8mxHH2pubHVZqksMX4FhavLyGPucKwAN4USOF1UaLpoNH45eA/3ecu184WS9/fqisvKSguzf6uzCJrIJczUiWgUrH4hIgIATPDVJkQUvqnv+6AawT8udaOQkZmz+5QouKqCn92+eoXDbdeV0c890vinvcfrRMFLk/jrno1fhrtuh0LErzbPLt6795hFdFZp1q4fsvFL9+W7NisyDh/fm5LTs7vi0GWRN0gudBlyXtMdECG4qtRPbUh4WA5AsSQxxZ5z6Jgu44wIZ4X6PzbfzCAAUEZs3u5yKPt3h1P1mT0bMkYCcIX58N78wyIgKPxDEzfd/q4mQnBMosacdfzN1HxF9OYg7xuqpZELNkPOrj8cECHIZ6q1GxM0g9Z9CnKYD2XkZ3cCzgr1ksTNT3pj5DF3OFaYGZH4ZFl63oHUz+SB8bvUg6qAlBG/TsHBDF3m7uOioPCP2PBGbCB3YiSi0dz33XffjXcMRERDjeWK0ttSkR3/pj7i5YNxC8c7EiIi+sFh9QsRERERkRQxUyciIiIikiJWvxARERERSRHn1ImIiIiIpIiZOhFJUXV19XiHQERENM6YqRMRERERSREzdSIiIiIiKeKKUiIiIiIiKeKcOhERERGRFDFTJyIp4opSIiIiZupERERERFLETJ2IiIiISIq4opSIiIiISIo4p05EREREJEXM1IlIiriilIiIiJk6EREREZEUMVMnIiIiIpIiriglIiIiIpIizqkTEREREUkRM3UikiKuKCUiImKmTkREREQkRczUiYiIiIikiCtKiYiIiIikiHPqRERERERSxEydiKSIK0qJiIiYqRMRERERSREzdSIiIiIiKeKKUiIiIiIiKeKcOhERERGRFDFTJyIp4opSIiIiZupERERERFLETJ2IiIiISIq4opSIiIiISIo4p05EREREJEXM1IlIiriilIiIiJk6EREREZEUMVMnIiIiIpIiriglIiIiIpIizqkTEf3/7N1/XJPX3T/+l8EIRCBEhIZUQRRFGA8QqptAnTXSWnHae7B1VmrdStvZG9t7VabdLfazFbynHegeVlbbSju1Urot7G69gWppOmsltiK/viwRjSCgMQUxRCAQo+n3jwDyI/zwJ9G+no/+Ua7rXOec6wT1fZ28z7mIiIgcESN1InJEXFFKRETESJ2I6PvA2nJOk1NUXdsxXMGrzaqisrwzhrvRqaFY9FVlOUcaWqyj3REiotEzdrQ7QER0D9MXFfkeMsNHdiElQjranRnS2aydNalWRBhdShP8hyinP1IWfcgMtORvWhDnfte6N0CzZt1eXQ50yQLxzhgP3EtDTUR02zBSJyJHNHXq1DvfSHNOxrHERsQ/NlcR63Xnmxshs/K9ooUnEfGj0L4hdVdvMXNqx7PBLsOX72diRABQK0yYJhm6eekksVzQWDvRM/gOh+mqD/KjK+0c7/o4JOJo94acDudof4872w8iIgfGSJ2IyKE4RwaJcNJUdvJiLfwDeg431isaAQCnDGVWRPWkLlobVKcAQO4/9ESzR9yvl/Tb6qvlyBeSA9f2p8Su8Ol1dPqcz7fc6j3cBgL/5E3+yaPdCyKi0cVInYgcUU1NzV2ZVndEntM842HKM17WtCKge2K75XRLHiAVQG81Fp9B1PTu0ueMSisAkTzI+Qbb0Su+MgE3etXtFhb03dOBo9wHIiJHxUidiGgwlpZ6raJIn1NrUpoBIFjilrwoNDlyQKqMSIjm6sz9NVnnrLVA1CSv9MSH5F7Cm2xWOiHaVZfXYVJWm+Nm2yJpc2m1CRAkznDJPGkqOKlbN11mK6s/Y1AC8PGMtMX0VcVj9hriH5urkAtU/yhfV25SXXXenxK7wqdPqk/n2bLU/bpMIwBzYkZ+IgAg/ZklG0O7agAkxW9ERwHdWTcexVvmBpSXpx+8qDBY9QKBXCbZ2O8eWxvyPtZmqE2qq4BAIHd36j7hvG71/LgbTi/Sbl5fndrTq8H0alTqLFgS9OC6hLBg1+6z1jbN0crMfxnzW616QOosWBLgE/94cJxMdKO9ISIaFdz7hYhoMB3K/6157qRJDYFcLJS7CwyGtjW5xxK/aO5f0KRf9ydtig4B7gIpoDrXvPBPh3P0N71ryeTo6QCgrNN3HehKcRHFzfOQA8rqb7tPmNW1ZgDyoAd6577k6RtVOceiS0yqq/Yb0JQ1lVkFtkuC3YVysVAuFnoONXXTodh7OCK3McuIkPGA1ao817zwT8XKnp1kOqpT/1iZUGnST/DIiPTKmCGsNVqURkvtVWHENInvHUp515clbq5MqDTVOgnkYmEIrNmVDSFvFKu6emUu+9uRkAOG7FZrgFgoFwskFmv2SX3emUEGhYjI8XBOnYgckWOkvnjEPxlcjAejpLaJbWvtIeXUInNO8dn0BV4BvQs2mjEvzLBksqcAaNVu3lad2m5O/FtV3MthnjfTriBiphsq266nqp+5qLACU7wip7vHueqVjS3FRsSLAZxXnQIgiJsp61NBVU08hOvmByX/eKIEYz0HBMoRP33s85iyhAxdHpxTf903T90+S6ZakL583sZIDwDQnUj4sz7P2pZ9rFm+wAuA/mjD5qvApMmlXbdslf/tYGSJ1TN4asaTQ201cwv02e/rcqyICgtSPh3oAsBqyNtVnHDWkHygrvRJf6ChoNQKCDKeXbRupm1aytJSr++UcokqEd0zOKdORDQ46dTuMB2AICDMKx6A0azvV0wgWWML0wG4B65b6iEFcK65uPUmm3UJ8koGYDSUNQNA7cnLZUD8DF/Prul2k7LqMgDUG2xJ6hH9gmErEpbOzVgyNcDdw9P9NmV6zJyyLrI7xpWFJs8EgJzzXduu1+rNADBB1P1kIvCdIARQVn+p/1j1U1k9Zn1+r/+KVSPsT/35HAMAt/QnA7t2whFI4h/1igDK/n2hDAAEEACwFlef796UXejpN1k6boQNEBGNPs6pE5EjcpQVpc01OZ81KM6YL7RbBsskAYCJrgG95j1cJrlF43IeLBcMwM0lfrj7RHvVZTWbi2vN8V5tqmoLIIyb4QXANt2eVX0+I8ajxZakPsUrsn/06ZEYdZtnjuP9fHptDens2rfFAKkzKs24ZGoBbHPqFy5ZAGCCy019qzC8lobLSgBjLQV5x8p6jna2AUCHtRMApqyIrdl5yJx3tDLva03ynMnJ8sBg8c0uHiAiGg2M1ImI7OusKpbvNaiAALHbijCvlJlunnW6hUdNI67Aor888GDXQsluzv03SeziExwoQLN1v/Z8RpCpuBFw9Yj0A7qm29uyThnKrOaOWjO65tr7cbrL35hKY6akH61OPdeQsNMYN1EIU1vWSSsEwp3zglyGvvJm937p7LgGAFfNmaXmQYoIAmLnl0krMz7WZxotWaqaLFVN/Oyg7J8FevLrZCK6RzBSJyKyqy7r7wYVEBcTlv/E5K5jY5txA5G68FYyoiOCxNKvDfo6Y+2ZtixAOn1ihO2Eu598Ul3WuTb1ufP6U+iZax9lroEbf22qzWrIrr+srAfGCuKn+Oz+xSy51x0Lim1by4ilNRsfChi0kFAa+lBGqDVdfzr7H3Xp9Za8kuoLTsLiId/SSkTkOBipE5EjGv3Ul8ZLxR0AED1tcs+xzk7LIIUvq6+gJwG6s/5yHgA4B9h5GVHgxjcCN46kAzMkiTBkNl/OO2UGkDizpxse0SHOOGdWHmuE9fpc+2hrzsttyBZ4FP9hXpTr8KVvnXSSWwTMZcbLZUYEiIcuK3CRBiWvmR53SDm1yKyqvaTHMK+JIiJyEPwKkIjInonuwQCA2qauRZNo1Wbmtw1Sui2rsKFr2WJ3Mek0nwHp4zdi3IPyKQDMBact/V5sJJ0hkQPK0uYcAP7i4Jur39MlAADMpbWD3dSNaKzfrwPGCXH1pvemvEHTp6f4ADAlv39C09rTqLXToCurt2UdNZeV61oGri4Y6zTgEBGRg+KcOhE5oru5ojTv0LExh/oeCgv67unJCZGnN5daswuLi78S+gqu1Rqt0jDJuipD5oBYNEIm6lRVSo5WRrkLalutegAC58wngm5tMaVHcKAzzpqVxl4vNrLxmxjnqrftZZ4c9OAwieCDGfegfEpN5llkKg4XHBJ6dliWrBjyHUND8/FLlOnydM3RaYU9x6TOwoTIqelP3KG8cK8VT09W7mjI1ulD0gqjxEJXoKPdorqK+MfmKvwAGApyqlNRFuwu9BUA1mvqViuA5DlTOKFORPcKzqkTEdnlHPHk3OLZoqix0LRa1J1O8Y+FFax4KG6GnaIJsfPzX56aLu0K06MmeX3+2/krpLf6F2xAgJstN73fi416Xo0EOEdPv+lceI+4X4XtnykMFkDTatE7O0vdbr6raL54YaywXwSsN1uyVNVx/6y7hXqHJA3b/buH8qPc4sdDZXvRkpMgaaY0OdR2Jz7yKLd4d4Gh1aI0WpTtCJkkUfx6/s4Y7qdORPeMMd99991o94GIqD9H2aWRRsJYteaPdVlw3r9m3opJ3Vk6VnNt0ZHoIrPe1av0D3MjRrWDRET3KM6pE5EjYph+D9GX6rOsQOiU62E6AIFzQJhXNADz3cpcJyK67zBSJyKiW+IyzgkA9K21vWNya5uqSJ8HSGd63eSaVyKi7z1mvxCRI2L2y73kSs3mP2pS2yF1FiZM9wgYB8OlNuU5s+oqpO6SvJTou7NvIxHR/YeROhE5Ikbq95gOfcGn1dmVbXntAICxAvkEUfy8oMQ5Ur4QlIjopjFSJyJHxEidiIiIkToRERERkSPit5JERERERI6IkToROaKamprR7gIREdEoY6ROREREROSIGKkTERERETkiriglIiIiInJEnFMnIiIiInJEjNSJyBFxRSkREREjdSIiIiIiR8RInYiIiIjIEXFFKRERERGRI+KcOhERERGRI2KkTkSOiCtKiYiIGKkTEY069b5Vq1btUds5U7Vv1apV+6rueo/uIuOJ917b8om28+ZraPosbdWqtKKLduouef+1rR9rLTdf9y24Vle45bVdx5pGpXEiuj8wUiei76uqfatWrVr1Sq722vVjTZ+lrVq1z17ITHdK+8WzOm1d041E05Zvdq16vWgEIXB7U43u9I3VfSt0n6zv9VhlablQW6fWme5S40R0Pxo72h0gIrJj6tSpd6mlS4XZ//fjPz4hu0vNDU7kMm60uzA6ZIte373oxi45rSkBAvsftTP1JFuctnvxzXbshl1UV3yLKT0/uoQ/+/aeu9Y4Ed2XGKkT0fdZVOyj6qK87MK5mxY/YOe0sTJ31+4itdEidJfNfmL1M4/6i/qVqNq36k/tq38fXvF2tuqCRegbtfK/Vs/3BdBU9HqKKipjtUixba9KN2P1W+uiRENWKPNsV731u+xjOouLLOrpl1bPs/Pw0OvywOhnVj/7Q28ATZ+lpahmb/gPo+KdIm0rRDMWr3t58ZXPMt8s0JosQtncpLUvRHk79anHVFu0d7ei5JzJAqE4ICThubXzJ/WpH0KR7JHVm54OH7zP6n2rtuK3b0Wdysws0OLRTW/9IhCmuqI9uxQndCaLUBaxLOmFZYEi4Jqx4qNd2YfVxk4I3b2nz3v2pV+E9B7Gps/SUj7AysxNsRO77uX1n5ty3ypUGy1C36jlv34mNqB3cVPF+6+9+S8LsC9l1T4gdsOeld4AMGX8RcXW3/e7qqno9ZR9WJnxWqw3THWf7d31cYmu1QIXsX9wwurfzO8zxJcqct/JLtIYLRCKJk6f/9xLy4NFg425nbF6pGlL2r46QPunVUVA4NMZmx5t2rdqa5F8w55VIQB6D444ODbpheXhE7pvf5hbJqLvL0bqROSIampq7sq0uinw0STLsW2K3UWzN8Z69z1n0ezblHl43Lzlax/yNl348sMP0jLxx02Peg+opCR7pyXh5y9FQfflR7nvbR7vnbEyxAUA6j7dmtYmCpkXGxLgLxquwrq/7yuJT1j7iFh3ZNe+3WnjJTtWhgoH9Of49KdfzZgrNh7L3ZH12j5Rd5kzim1581cmvbTsoir7g0+2pBR6/iDhmeRlVypz31Pu2hcWvjamd+RXV7hjn0qyeMOWZd6Ws+qSOu+JPfUX4aHlq+fJRG1arWjKsH0+/v5rhyGLfiTWN0wGNBVtT8vtnP9S2qbpOK34y5tpGaKM12LHH9/75sGzs3/1esJDQuO/1RXwHCYIPaNI2x2esOKlx1H3+QeKfTu8p29P8L9+WhTyi5eW1bymQMLr62O9IRQBTQBwOPvt2ctffDWh83Th3twBVwG1hZkfqLzjNvwxzttyTl1S6933gzSpPniz8NzsZ9MS5giNFVVd3RxszO2MlW/Iq7/SvviWKurFt575AeDS3a8uTUXb0/bVT1/23PJA55bKvH3b0iwbNq/semQZ5paJ6PuLkToRfZ+1tzuFL38mqjgrd9/ROWtjxL1OmUoKiowPLHv9V7H+TkBEiPDci29+9Kn60ZUh/SuxTP+PZxbPFQPhIcK6F3cUHTu1MiQMACxG2VOZa6PEI6rQEpyQFBclAkJmrL7wzdaiY+qVoeH9+zNt+bK5svHA+LmLY/9VojhxemWo7Wph7IqV82cAkC3+UpV7Yf6zyYtDnIBgi0b5ZsU5Xd9ckXZTKyARe/qIvJ1C5vuFXK/fffGm5MWBTgDCw0fQZ6N19qaM5YG2CfsznyhOCaNfXjbdDcD0ZY/PLnpHVXExdo6pxQKME3t7u4u858oG5KwMJIz99UuLZwAIlxlLKnLUpy8l+E/odVokEgkBiETuIlGfq1bHzgAQuLxRVTLgKnSaTADcPWXu3gie7x/c/0Nsb7UA4zwl3iJ37yjfwCHHfIq9sYLIbTyA8W4ikfuAezrzueKUZfaLLyXMFQEIl5rUr+Yqji0LkYtHcstE9L3FSJ2Ivu9EP3wq6UjJrvc/LIlY3Wsi86xWA8wN9O/KGxH6B/jj6FndRYRM7F+DTCLuLhToD9X5b7snU/3CAq8H/8NVOFHcFXc6efv6AbqmJqDXvO9ZrQaw5L62Jvf6sRnXuzCxO7ATCgE/3650FxfReMDUeaVvf0Me/9Xs4+/k/u7XnwTGLH8qfn6guKd7wYF98mSG6/OssJ7yxrrTJpgO73j58PXLAwGI5z61+IsthX9+sdg3fPEvVi4L8xb2TcUZ4Pq9QCAEAOvQ5Ud21YzHkx46vuuj3z1XEBj9i6cSogPFfbohjv754i/fKNy2plgWsXj5U8vCHxAOPuZ2x2ooxrrTJvgH9uS0+PqHAEUN5wHxLdwyEd3/GKkTkSO6eytKAUAc9XRC0frcvXk/ftVetroDmbd2z3PhwxcbjnfMSzvCdKrPchUF76UdPbDsdxkJ0269VgD+y994fUDGf+DytN0Lq4oO/CP3kz+nFD60OvPlKLHdq+8oJ++ol3eEn1MVfqQo3J1W/L/LXn0joXeoLZqx/PW3F6qVB3L/8cm29YWzX8x8aS4Au2POzYGI6C7hLo1ERMADi5PiZcbPduVW9mzoNyUwGDilrevaw9FSV1sH4RSZxM7VOoOxu5C2DsIpvgNz2UdQYWNTVy2dddozEPrLvAdeXq7pvafkLXGXRcWvzdi+eralSV3TBDzoGzCw/hsYBLH/dBHqKk8Z7bbmHRr77O93v/4Tb8sJ7fnbdAc3QTQpKmFdxo4XZlsuqs8aBpx28g559NnX//L6sgcsJdXnBx9zu2M1FNvgaGu7d2y8UKcGAmV2f0+IiK5jpE5Ejujuv6NU9pOkxROMFZV13QdEs+Nixd8Wvvl+UUVZhapg196jFtnShSH2Eh7Ue3YojlVUHCvc9YHKMmH+Q/ZzsYersEqxt0BVUaYqfGevCqL5D023c3lr4Y6swor6pqZ6teqz94pO3dy9aove+uTwGZ2ptamuvOI0hJ7u4wHxnEfCha2FO7IKVWUVFceK3vtMe0ODgGkLE2YI1Xsy9x3R6lp12rLDio9KjIDxm9zczyrqLppMF9Qlp1owQTT+5np9naenN1Cv+rJKqy2rs/9kMNCpol3/d1h7wWS6WHf836ch9Bzv3Pu0seSj3KKyuqZWk05Tor4Esfv4wcfc7lgBnmJv4HjxYe0Ztfrbvnu4T1uYMENY8v6bimMVFWWH9/1FoRNGLY5hpE5Ew2D2CxERAMApMCEp9vCfinpeVCMMXpm2Trhrd+62Ixahu2z2068/86jdbde9l/3qx03/++YnFyxC36jVr3Rt/DLQkBUKY3/zqt+xN9/8SGdxkUU991K/jV9sl295Vbzrg0/e3JTbtbti/2WRIyQSmlW5f1S8Z4HQXRby87VJc0QAxDGrN1lz936k2HXCAhdxyM9evZFBAOAd++rr4/fu+/CDtKLdXRsyLgbgjroP3iz8wAIIxcHRq9ff+q4mwtnxq6Pqsj/5U1qheNmrEf4jyqURCU2q3C1/f88CoWhSSMK6pKg+6z6FItTt3VW4rxNwEYfErH71CX8MPuZ2xwqTYlc/UZFZ8F7aN6LwVVtC+mQBece+sgl7dil2b/vEIhQHx659Y3k4d2IkouGM+e6770a7D0RE/d2tXRpvWdW+VX8qiv3tnpWho90TIiK67zD7hYgc0b0RphMREd1JjNSJiIiIiBwRs1+IyBHdM9kvREREdwzn1ImIiIiIHBEjdSIiIiIiR8TsFyIiIiIi4DrAVAAAIABJREFUR8Q5dSIiIiIiR8RInYgc0d1/RykREZGjYaROREREROSIGKkTERERETkiriglIiIiInJEnFMnIiIiInJEjNSJyBFxRSkREREjdSIiIiIiR8RInYiIiIjIEXFFKRERERGRI+KcOhERERGRI2KkTkSOiCtKiYiIGKkTERERETkiRupERERERI6IK0qJiIiIiBwR59SJiIiIiBwRI3UickRcUUpERMRInYiIiIjIETFSJyIiIiJyRFxRSkRERETkiDinTkRERETkiBipE5Ej4opSIiIiRupERERERI6IkToRERERkSPiilIiIiIiIkfEOXUiIiIiIkfESJ2IHBFXlBIRETFSJyIiIiJyRIzUiYiIiIgcEVeUEhERERE5Is6pExERERE5IkbqROSIuKKUiIiIkToRERERkSNipE5E5Ags+qqynCMNLdbR7sg9gyNGRPc/RupE5IimTp062l24s/RFRWPW54/JKNPbfm7WrNurSzxQmaq6PLodu2eMeMT6D/W9orEsYX3+mPVFOY2j3RMiGj1jR7sDRESjpTkn41hiI+Ifm6uI9RrlvkjE0e4NOR3O0f4ed7ahxrKEDF1e7yMCgXyiKG7W5MRHpkrvoX8T7vCIqT7Ij67scyRKLFryI/+ke2uUhtNZVSzfa+gMDSp+JtCl3zlrXWZaVUo7EBb03dOBQ1VytjLzk/PZ56y1QMB4UdJjwRujpLZT+qIi30PmwS6Mf2yuItZVtfdwdBXSn5m/MVR063dEdJ+5j/6+IaL7SE1NzX0/rd6HwD95k3/yqDRttSob25SHNCnKut0v/Chpyg1GS8bK5zY3GO7+046dEbOW/e1gZIm4+I3oqDvQoMpoUh3S7KwyFr8cEXB/fCF9RZv5d4NK4Pb5zweE6TCpctQp7cPX0akulv/VoOr+sbbdlPrPE8qG4Pwnpw6osz9fVyEgivr5lHXqmtS/n5BPmxflOnhp3YFXd7tteG2BBMC35QdycxUVtq9JpOHP/Ocrj/gNvKJ85wuan7zz1JShyus/fnXPhNQN89yG6ug1w/Hs1DT14+/8eam036mLx9/9U9bRJuAaxgUseH7NqjkTR3b24tHtr79b0YbxM1Zt+u0CqVP38Y7yrP9pSEgb0BB9XzFSJyL6HnLenxK7wgcAcNVUe1KT9U99ZqvpuV3Frr+Rr5DeQBxa+5U+G4i/Q928IVdOK0pvd9J6z3TyVVPtiROJissqnS5F6Tf6X8LcDrWf1aR2IG7edPmA+LizqnxdpTXCVVDWMfSQ6vd/bFABUWFBBSsCPQXWlvJjcTkGZYl2/9wpSX4CaWzsd7EDLjp9LPrdZpXAI36OBwC4BifPa8g8fDldqc9fMliAqj+Q+c2i1DQJgLaj27epH1675a//BQC41nb8rTWvtG3Z/pO+13YcPahZ9NSaYcpLf/Kffi9nHY3YEDNIrN526sD2bUq/F3+2QN024Fx51uvKWa/99Xlb/P3tF1tfzxJuTZ7lOuzZti/eVs76w19fkaDt+PZN/5y2/WddTw71/8wdl7iFYTr1YKRORDQEi760PF15saCx+5t9eWByzGTP3qGsUVfw1Zm80rb8VqsekDoLEyL9U5cG9cmRuNqszKtMLTepriJgvCh5aVi8U7+GtJvXV6cC6c8s2RgKAKgqHrPXEB87RxFlzvtYm6G2XescHxOUKu/dAYu+tDz94EWFwaoHAsYLA3raDQn6/Kf+w9/iWFFA6EMZ07SSN6pT282Jf6uKeznM03bqSqPqy5r95Qbb7WOsICnkwXVPhAa7CwCgoyHnQ03qSQuAvEPHxhwC0BPaWlrqtYoifU6tSWkGgGCJW/Ki0ORIuwGuVfVBYXQlpGFBF3qyLOpPLNypVwLyeRGfL5V1Hawq9t1r0Lt6lf5hbkSfEbO2lH+TrGjOsQIwRK/PB9DnaQSASOhi0GZ9WJNVb9FYEewuSlo6a90syfDj0zNKP4rJrC6MrkLeqQstsV6ewAhu05Zh5VG8ZW5AeffHJBDIZZKNiQ/JvYS9GrDoS0+kHmjObgfGCpJmTU3/sdOAdBSzXq3e/2Wz4pxZdRUAoiZJUpaExU/riTGtLWeqsvLP79dZNVZAIJDL3Fb8aHrij6R2pretdXnfWABR0o9l/U91aNP/blCN98qPaltS1Cd3paX0SMLfLtdOlOavfShYANSfzzEAEKUsDfQUABB4znoovbxoodqSdbwhyc/ur59ZebRZBcTFTJOP6zoU8LA06XBD9jdnyxZLI+w+J/77wIGgFe/YPi63mFe2xlw/5eQ2J+l5ZfIX9T95qve8+pWSr/SPrfIbtryTX0IiXvm0PuZndmblcVaR/vdxz2dsn+ZWnoX+kXr9p++2/XxrTM80+QMLkuO/Sj9imPWYZJiz1zTlnQ8/LwEAt8iH/XIrDD/zkwAwfLHn/NJXVtgbAfq+uj++wCOi+41jpL6YVB8U+eY2ZjVaawWC4LGobTelHqgM3lFW22uesaWyesnhy9ntCBEL5WKBxGLJUmkjdlZeX79obczZeWxhiUl1FRgrcOkwpeQeS60YUQ/yTlWnbqtMqDTpnQXBAtS2mzMPVSbm63qqrs0/HJHbmGV0WhLqlRHpIRdYlEaLsvWai8Q13n/IL/T7cQ1ct9RDCuBcY0HPEsaamuRDzVmNVqlYKBcLo2DNrmwI2Xas7AoAoE6ffeGaiwAApM4CuVgoFwvl423RZ4fyf2ueO2lSQyAXC+XuAoOhbU3uscQvmu21LYiY6QZAf/piWfch/SmDEgCgrP62ZyRra9v0gHT6xIj+NRiKj1/Wdz+iRNl6IhZ69n4cMumTt1avOWvxdBcEAJpWU0pOcUqJ6QaGCIIAmTMAmCydXUdGeJsdir22jwkh4wGrVXmueeGfipUdPQWstUWHI3Kbs9sBINjJml2ijcht7EQ/+v1/16WcNeudbUMN1TlDwttHNqu7gulO9bG4txtSz1k7XYVysVAutCrPXX7u64H1AADU5zM6AB/PaHG/E5cL3q/e3CFI/3mEb6ul3zmN+rLSitpGQ9lFAGhpuKwE4OUZcb0S58jpIgBl2ku1dtvVVWWq0f8JQfyg3AfoaC5Q253Cv3K04PiCx4Lt1gcAruPddJcu9Tlk+KLQ8PiPB5mb7lt+3I+WzTp4UGO35JSELRuXTrP/J0lf8ZXfw7P7nHOLfFh4pLxt2LMX9fUPSLrOOU32exBmALhSvl8565nBJvfpe4pz6kRE9nWWnoivtAKC9OUxGyM9AEBXuebthiydbk3+A/ndE72eMT8olSA4xMcWs0JflrBNl6fT59eHJfkBQMvRfyfqAAjSV8zbOMsNsLacOZH09sh29Ki/nC2T1fwuPGCcANY25QdHFlZZC46eLVsqiwBgrck5YtZDkPHL2HUzBQBgrMTmhmyrS1LivPj+EdgwXKZLEnA5C2a1zgofAQDMDNn/TJvvTJmn7d+KDm3qlurN7Yb9leaI2c6YOefzjV2rcqPn/7BvQohH/JPBxXgwSuoMALDWHlJOLTLnFJ9NX+AVMLDpIK9ktGV1tGn0iJACuFx6ygy4JU9ryzrTUtqKOHcAzapqC4DEmZMHVOAV9/xjcVXFY/YaAEnmRnt56o3m2rBAw/Igz7HAVX32n08814jMr7Qps8NGnGlgKj1jBgAf9+5LRniblky1IH35vO7fohMJf9bnWduyjzXLF3gBgLFq8yGz/noOCdDakPV25Zp+7Qv8k351LU4yOVhsexwyqfYejq6yph6rWRcS7AKUlRpUQMTs0NInuyezjTpNh5envZuxPfZEBEzod/v6L75JOou4eeEbQ5xVA7KJImZ5xamba2U+URMBwNB+DQC8XXx7lfEUOwMmNHfogQGftVmlbCwAIsImx/X5/fSKChKi0aKs1W8MHTDHf01dfmbB0in2bsOmo71tpl+fGzF884XTotTBvjLpV94peE749vKzzwcP0YQd+npL4Jx+iUMeEmnVUS0WzBrmrD1nFbkuK7Y8cEN9oPsf59SJyBE5wDtKLyuPXdYD0pCp6yK7dxeRhaXHigAUlNT3zP5C4BMR2h2mA5A+mOAFwKLv2jzwcvH/Z4Ktnlm2yTKB57SHUsJG2A1henxEwDgBAAjc5I/4yAFYTRpbnH+xtdQKQOg7obt5sSgAAEyahhu/Y/eueEtz0dB9yCM4tDtMB+A6dck0AKhtGZCwO5B0anf8CkAQEOYVD8Botr9VortvtA8Ac/GZywBw5bzyLDDFK3mGM2BSVpsBoPVCcSMAkTzI2W4dw3FLfzKo617GShMfcQMAXZv9ed+BrhjK8r9ecwYANob2elQY4W3OnNLrtyg0eSYA5JzvGueWquZsAAKP9CcDu/Ka3CcnPy4Z+AjhOWVqd5gOQBQV5gYAlzpbAAAuYwGgrL5R09odYYtlwVK7w2WubbIAkPv3bURftu6gGTLZziUDwmVbE6Fz8/9niXpNmG1Nrb7RDADjhMMuHu1irM6utALCZHn/Nay+vs4AlE1GO98ANGiOzwi0l5vSxXDkgH7BnN53Uv/5J5LFg05ODyzvP2X8N1WGQYoP4mKDVjhuwFFpV8rP0GcnSv2+NXT9KbrWUG9wc4Phi731S5dP1ux99ZfP/vKF1a/u+fcI/pTR9wDn1ImI7LpYVg8ACdN9e4cUntM942HK62jTNCKia0Vms+pfp/eXX9a0W5R29sqwW48gOECEypGkXriF9I5QXAR95kcnukcKkGe1XLjUPQtuNNUCgFB6W7YutLbVHq/O+rq5zHhN3Wq9sf3Im2tyPmtQnDFfaLfYkqqH1DWlmlV9PiPGw+WUYT8gnzwheJpZDv3+kw0ZswM7q5uzAPh4Rrrf1L34eIT0CpxcXISDF+2lsnrM+ureB6LCglIje8W+I7vNeD+fXp++s2vfEK62wQQAfpLI3sf9PRJgyOpT0NpyrlpxSJ9zofNCq1UzIE8k4hHZinJdTmNjSFph3BSf5J8ExfkN9nvQpr8EABKXXvdibczJ1eXAef/y8DuzuY21rOh8NoBJ0oQBDwJdn8ilzhag/yPKpUvjpwz8IqWb7sDrH4e/sqNPoH78C7+HMwYGyoOVh0QW2FCqB0a8bgHAtVs46xQ8yyWrom1BjBvaipWX5r0wrjRHGb4qre7DV8b+51/f88O1+g/Xf6h54/ng/gta6HuHkToRkV1WWAHAV9w31ukXwXRoN79RndoOjBUmz/RaESAJcL+ck9OYPVw9XRkCt0gwdUXs2Z2HzCl7lRfC3Hxh0Zy+nA0ETJucMMQM5GBaOy8AACKlXgBgbczZcTxRBwgEK2ZI4v3EwRMtyvyGzcbha7Lt0q0CAsRuK8K8Uma6edbpFh4d6n4DZnpEHGkuqzNqAFQb9cCaaTJMMskFeuXpi2UIRJ0JgDzogdHZFmOsQC4VJ8mDVoReT/K5idu0q9MW4nu49HkMc++TUgJYa4uU0YfMeiBY6pEU4hYcIOqsrEuo6pVKLo3Y/1ux/GPt5pOWgrONBTsbA3y89if9MEoykrjbWptfnqhD8hM/HPnmP1IfZ8CMK5ZOYPhp9SunFcetgCDjsVA7CTkTXeNhyBt4HGgz6McNFrC2lWf9v6PyP2zx613g5MGD4cvesbvho93yACZMcOscdN93+4aOoYeJsN0W/Prh7f/9y3fbxklCn9rwX62K9eNWvCHVvH/m4Tg/AHDyWxCj/6IBN5iQQ/chRupE5IgcYEWp0MUV6MAF42WgV5DdaW3pVais4HRqOyDxUf92TnDXX6haVZ+3SgogAKwwdJqB6/OXnZ391+rdFEFA7LyCS8rIEnNmqRlAsLsofWlgcsxku6nJQ2spb8oCAFGEPwC0qP6dqAMEbvkb58XZNntBs75oJFk1dVl/N6iAuJiw/Ce6p0LHNmPoEHbaxARBc1lHm0av6zhpBdyiAgHB5KgZ1Th5ubS+0VVrBQRxM+1nZdwpQ73056Zu0x5b1kr/ePeKpU82Rqs685BZD6xLmJ/xo660Dv3FBlT1rctratKzU5OuNCrz/735a5OysTl6xzelm+ba31Clt+aq1CMWAFkfH8n6uO+pyuox66vtviBMMt4JAJo6L/RKSW8xmgHAy7XfM1XtZ3WbrYDEJ36mvd5c7LAbpgOwdAySB9J25sP/yfX7w5alfX8pNF8enxPz/MjL36SJkwMtZwYc1dfXYfKwZwFMjHllR9eONG1HtmrjXnjKCeWd5uvPJE6XLl0CGKl/7zFPnYjILqktYFWcvtA7cbal7rISgKtbsA+AZo1tF5jJkuCeeY9+ARbEwVIAUNb0Th6xampueUIdANCpPpFcYo2PnfPdG0u+e2OJetOCjfP6biI5Qh3aLKUtn14mdwcATa0JACZ6RLr3VGfuGMm0Y+Ol4g4AiJ52PWNh+CcTweSoGQDM6tMXy4zAFK/IcQCcI4NEgKXs1PnSZkAgjp52Y7d1B93cbdrj+4AzANQZ+yS01BiVvQvVXc4CAOfIgOvZ1x2DbXY+zkf+0wWf/0YWD6C9TXNxYAk36QQAtgdIAMC1a/a3iBmS53TPeADNLWXXv2kxl542AZA+6N5nOekVbc43FgDrHg0euKQYAK5eA4AJLgMfMiWywCsDk0mu1Sv+591xLw4Iu69pvlIvWPSDEZe3uXQJEybY7dfg/P1ctGc6+h67bNCHhgQOf7ZPhz8s9Fv1yI0k3tD3CSN1InJEDrCi1Dn6h5IIQK+uySzvntLTVaYWmQBEhflGAIAkwJaqfsmkt4VM1jbV385m9qnHS/6QCEBZyemsMz31VGTcpnf02Lb7kAhvIZu1o1nz9bGEtOrUdkDgnBUXZJvWlfo4A0Brx4Wu9GtL7SF1av/Ul66Ar7i+saXnhia627bTq23qfmZp1WbmD7s8zhaUQ1PWXAzEz/C1RWy2WLC4vLkMwAzJUHPDHs5yAGgrPXtbvq8Yzk3eph3SSJ8kAB3N6Qcauobxqj7n0+ay3oUmusYDgKX2Yvfd6cpSj/a5U/3pao3Rzr272PntcA7wFgIou9C9oaRPhOKNJd/1/a/Ytu45LOi7N5bYJtQ7q44t+e/8kJ2VXRuV+kxLnATAlHFA22IFYG0pP5GqBiBImd3na7GWrxtSOwBXr8RI+y/BrW3oACD3FtvJopkwof1s3y9zrukPbPrLlV+mJgxIX7/y9SflD8f0T/4avLxNm0E/+YEbjdQl4VH1X5X0+cQNxw5a5tlWjg999jr9/+Vc+VmCLRvH2cW555nkSrvzDT870P2I2S9E9H13/a09PcKCvns60CV0VlbkV/GlltScw6l/E8idrLa320hlsv1dbxQSRMyWRFUZVOcaIv7f+RAXp452i8pZkj7TkHryemWeMVN3/qtqTat5zduHM8cLA65alGYkTxPhzG2YVo+IlERVGrILj2UXXj8YNUmSsmxW/BT7IREAwJyYkZ/Y95DU3S0rKTq++1VBAbN8VigbcjoMka8Vysc7odOitDinhzmnVvaeV3eODBJJT5r0J2uC/9/ZkLFW5bSg756enBB5enOpNbuwuPgroa/gWq3RKg2TrKsyZA75eNK1WvecCXBOCetOtPCZEO2qy2s0A0gOenCoZOhJE+PG65XtljV/ObRfLGhpFaau7fXmo9tOcJO3aYc4NDlKn6+y5B2tzPu6Su4KdavVdZpbEtquL3iQ+iXKdHk6a+pfD+WLha7Wa+pWqzxSEl96Pbe79mttdKVW6iwIcXECrl1otWoA6RSp3N77pgIC3KRHDMrqb/VLZSNP/S8rby64CtQ3qi4iwAeAR/yTshV/1uVUVksqry+9jQqbntw7xcVal600AYj74ZRBnrUuaxosAOQB9voyOXjOKU095nTF39f0B36/VZ+Y9vyMgZu7XDl+VP/4M30D9aHKd9Fqvg35yQ3vY+635Hm3DVlfzNiwwLa1YoPi9f2TV+2SjORsl7ajeyrkLzzRtfg1OGraO/+qT1jhh2v1R09Mm/WLG+0R3YcYqRMRDUYUtXxB2Yyud5QqryLYXZT4SJ93lLqEzC1Y8U3Kx83Z7Va9BXEzZOqfhwdUH0k92WsuTeCfnCLwVWgz1CZVuwVit50JYcnTziOtLstusyNnbatthu9YoO+uI6pzhoRdX+f/bkHcCLZUlzoLon0lCT+eGh/Sa69JAD5h2auv+X6o32+wKo3WqElenyc+JG+vVFb22QPGM+ZHyo4TKYcvF5it+muCeIkz4Bzx5NxiQfm6cpOq1WJwFiY+Fpoq9yn9a1HmSQzF54E4sS7PCIglUdcj7MnR06tQCcA5evqQO9oI/Ne9bMG+01nnrCqjNdjd2dPumsLb5mZv0w5BxE8fVk4sz1Qastutyg5hctT09Cd8incdyT7bU8Yr/tdh+z/UpJ+yqIyWgPGilOVh6yLN2WeuR+rBs3yS9ReVF61KsxW2RQuPDL5oIcRnjcCQ2thSbMTIt94PDvGQV13u2U8dsC1jFUV/VGd7+WvPe3x7P1N1lp7NaAcEHuseHeShwHg27ywg8IiaYS+QdwqZNe3d4w1P+U0GAEPh1qwqvTRzzdG+paYt375pbvmnhsfX9t2SfKjyj0kA4JrmeMWch/tvXz8CrrOS0/Hhthd+WXsFwLiARf/5ZvIs15GdBQBocg/4PbPlevD+g6deOJH+wmr9lSvSBetSufELARjz3XffjXYfiIjoJljLFAcjv7ZGhQUWLA+6vuu5sXrzn7Wp7Uh+Yt7OmNuyWSPdl6y1B4qmHrHEzX8of8nobKjTozb/0NTDlqgfhRYn+NstcKU0a02J/J0XBn9N6S24Urz1Fd1TWT+7if2SiO445qkTEd2jzhYctwLOax7rFaYDEE+XBwCA4cpdSdeme5UgIHbqRlcUHKlWdgxf+g7q0GQdsUDglh5nP0wHMC4yYWl1zhc3+G6iEbmmP6DAiscZppODYqRORI7IAVaUOj4nF2cAFrWub767rmKnGoBQHmQvPZmoh2tg6s8lUda2lL9rb2Ljl9vEpFKczbQK0p+eIx8qW0m6dN0PD755+2N1/f/9WR33wqCvMyUabcx+ISJHVFNT4wBbqjs6/RdFEYVmPRA1ySPBRwhYNKfb8luteiBp8ZzdC+7cakoiIrobGKkTkSNipD4y1hZ1RVaRfr+u693ywe7C6ADvpMWhUV7C0e4bERHdKkbqRERERESOiHnqRERERESOiJE6ETkiriglIiJipE5ERERE5IgYqRMREREROSKuKCUiIiIickScUyciIiIickSM1InIEXFFKRERESN1IiIiIiJHxEidiIiIiMgRcUUpEREREZEj4pw6EREREZEjYqRORI6IK0qJiIgYqRMREREROSJG6kREREREjogrSomIiIiIHBHn1ImIiIiIHBEjdSJyRFxRSkRExEidiOgOqy/c+vtdqouj3Q0H1lbxbvKyx7NKB5y4pnn3yVcPGoYrdvc1HEx7+vFXPtYPOGE4+N8/e/ffwxYjIhqRsaPdASKiUVK1b9Wfirr+XyiShcYufyYhfMLtqPncJykbjc/uWRkCALA0Xzhdqw5sBSbeQp2XKnLfyS7SGC2AUBwy+z8SkuSBwtvR2dHWduYf6RtUkjn2BufK158cCFqUIxmm2F1mOLL9ld1Xgv3snWtQKrSLXvnBcMWIiEaGc+pE5IimTp16dxoKiV+79jdrV/9ijrDqk21pudprt6HOJk1FU68fhRHP7t6zIyHgFmq8ps1N21b47YOLn1u79jfPLgtGXQvuizAduHj0H9WLdr6xKsRj4Lkrx48ejVkc4zZMsbvriuYfh9w2ZG1YJLNzsv7rg3hyUfBwxYiIRohz6kT0vSabFh4eCiA8xKXp5d2HS84uD5ym3rdqK377VtSpzMwCLR7d9NYvAk2awr0fF5ZojBYIRTNiV7+4vGv2/Zqx4qNd2YfVxk4I3WXzX9i08Nstr31QB2i3rioCAldmborV71v1p6LY3+5ZGQoAptqivbsVJedMFgjFoctf/W2sDDBW5u7aXaQ2WoTugdHPrH72h959emk4e/oSAp9+NmGeN4DwiPnLek6Z6or27FKc0JksEIpDlv9uQ6xv74NCcXBs0gtdvW36LC1FFZXx6/GK7dmqCyGrd66NcrffdJ9OBoQkPLd2/iTUfZySVuCf9MZLUeLb9wFMXLRhIwB7+SGXj356JObxNeOGKXaXjQt+Pi0YQLmdc5qDf8OiTL/hihERjRQjdSJyRDU1NXdtWt3mSucVwFvs1vXj8fdfOwxZ9COxvmEyACJ34bgZCa+umiO2HFdsf2/bzokZr8V6w6L+cNO2zzD7F6t/7CtqqdWO9xfJZryaVPvirqNRq3c+Ew4IRX3Dy4tFmZv31fnGrvxNmKe5SWOaIgMsmn2bMo9Pf/rVjLli47HcHVmv7RPtWBnaa9LczdNbiJJvVHVzl/m79+51U9H2tH21sthVa8PcTE2a9ik+3Qfrpy97bnmgc0tl3r5taZYNm1eGiAAA9Z9u3dIimjE/NjTQ332wpnWFO/apJIs3bFnmbTmrLqnztuWcXLtiuWa5cx9BP4ZjBzU/WZXmetcavGX//upgYMK7k0e7G0R0H2GkTkTfa7ozFRUWtNR+fqBAK5yxcvYDXceN1tmbMpYHOnWXmxT77CTb/81PePxzVc6FJsC7teTTz4yiRZteigsEgIhwAIBI7AxgvNhdJBrQnPZzhdYS8mzKyvliAAgHAFNJQZFx2vJlc2XjgfFzF8f+q0Rx4vTK0JDrl7nMTvjVbO37itdeKQyMWf5U/PxA26z2mc8Vpywhz61bOU8MABHXD85+8aWEuSIA4VKT+tVcxbFlIXIxAFhaZD/LXBtju96kst80TK2AROzpI/J2Cpnv19UT//gde+JvdcBHrF6Zp130UvBda++WXTlacCDwkT2S0e4HEd1PGKkT0feaOm+bGoCLOCTm2Zd+Mf960smssOthOmCqPZz70YEScXCWAAAgAElEQVTy2iZjp+3AdAA4p1UD0aGBI27NeFZrgl9YSJ/skbNaDWDJfW1N7vVjM/pf6R3zUkaYTvVZrqLgvbR/KWa/uOmlud7GutMm+IfN6FOd7WBgQPdjgq9/CFDUcB6wFfMPC+opP1jTIY//avbxd3J/9+tP+jwY3E0Nxw9eSUj9wV1v96Z1HP/qSMzSNQzUieh2YqRORI7orqW+9KSPD+ViUebv9+nClq97IzZQLGz6LC3lg9vdj3lr9zwXPkwZd1lU/NqoJ3SFm3+Xu/tT9dyVD96xpr1jXtrR82Bw9MCy32UkTLstjY2U5uCHiNt2D+2b0lb86dF5j79yD+XqENG9gHu/EBENR39BC0QvWhwoFgLQ1Wm7jj/g6w8cr9IOdW0fYpm/EPWVamPvg1MCg4FyzUi3nXGShYd7wwIAYt8pQtRVnupTndh/ugh12lpT188X6tRAoMx7QEXDNe0ui4pfm7F99WxLk7qmyV6JO+aa5qtDgQkL76FA3XD0c83SuJhxo90PIrrPMFInIkfkWO8odRWKgOPFKl2rTl3w5r5j3Ws9J8yJDROaDu54s0BVUVah+uy9olMA4OnpDRz/8ohWq1E3dfapKSQqVgz1vox9h8sqKsoOKz4qMUI0Oy5W3Fq4I6uwor6pqV7dU891Vfte3LxL8VlXK7sONAnDAh8EMCMqdgLUezL3HamoKKs4nJdbcgmYtjBhhrDk/TcVxyoqyg7v+4tCJ4xaHGM3Uh+saW3RW58cPqMztTbVlVechtDTfTyAuryXVz23TWW0V9PtVaE8ELjgh/dQIsm3X32qXfTwzNHuBhHdd5j9QkQ0nGnL1j1xOrNg1++OCmVzkzZs9N/6e1u4Ko56cdOVj/bm5u0qsW2SuB4AZI+uXlaVWbg7rcQ9fOXrIfP7VLU8bZ0wO6fwvT8XQSiSzVu9GBAGr9zyqnjXB5+8uSm3a1fEfgsppcFznHKLPlJ9YgFcxCHytX/8RbgYgFPg8k1rhXtzC3dvK4JQNGn+6kcBeMe+sgl7dil2b/vEIhQHx659Y3n4wMWtAAZtWiQ0q3L/qHjPAqG7LOTna5PmiADAaZzQ6Q5t4y5d+udPr/8UmfxJ5AiKjapZaz6d1fPDA0u3/20ExYiIbtCY7777brT7QETU393fpZGIiMjRMFInIiIiInJEzFMnIiIiInJEjNSJyBE51opSIiKi0cBInYiIiIjIETFSJyIiIiJyRFxRSkRERETkiDinTkRERETkiBipE5Ej4opSIiIiRupERERERI6IkToRERERkSPiilIiIiIiIkfEOXUiIiIiIkfESJ2IHBFXlBIRETFSJyIiIiJyRIzUiYiIiIgcEVeUEhERERE5Is6pExERERE5IkbqROSIuKKUiIiIkToRERERkSNipE5ERERE5Ii4opSIiIiIyBFxTp2IiIiIyBExUiciR8QVpURERIzUiYiIiIgcESN1IiIiIiJHxBWlRERERESOiHPqRERERESOiJE6ETkiriglIiJipE5ERERE5IgYqRMREREROSKuKCUiIiIickScUyciIiIickSM1InIEXFFKRERESN1IiIiIiJHxEidiIiIiMgRcUUpEREREZEj4pw6EREREZEjYqRORI6IK0qJiIgYqRMREREROSJG6kREREREjogrSomIiIiIHBHn1ImIiIiIHBEjdSJyRN/vFaXWlnOanKLq2o7R7kh/Fn1VWc6RhhbraHfkHnW1WVVUlnfGMNr9uHe06guKypQ602j3g2jUMFInIrq7qorHrM8fs75YNWiJs1k7axIPaRMK6u5it0agWbNury7xQGWq6vLQBfVFRWPW54/JKNPfnY6NgCN0SX+kLPqQLuHt8oLW0evEPaUs/8SSQ7qFb1eWDVNQu3l9/pj1+Zur7kq3bh/VB/lj1ueP+UA72h0hxzV2tDtARDQKOksOu/6tDa5epX+YG9HruL6oyPeQGXD7PH2+fNzw5e+MiREBQK0wYZrkjjd1QyTiaPeGnA7naH+P0e7KndFcnf2xLltrUl0FgGB3UVykd+LcoAgv4W2pXjpJLBc01k70DHa/LfUNSvVBfnRlnyMB44XyyV7xjwXFTXK7s23fVgH+bgGlbQHTJQF3pPrmnIxjiY29DggE8omi+HlBiXOknvfNTKa1MWfH8USd8/618hVSAdD391wgkMvEyctmxU8RDVmJQfVxZXppW4EZEAji/HzSV0ZEuPcaI2ub5mhV1lcGhcGqBwLGO8eFTUl/IrBrGPVlCdt0xTJZ8csRAffNwN4tjNSJyBFNnTr1jtbvEuSVjLasjsul9Yjw6zncrCw3AwDaVKes8tCef1KsZSfbAMBfHHxHu9XFI+7XSxxxsb/AP3mTf3LfYy1HvpAcuLY/JXaFz+h06nbpVB9bsrdZ2SuxR9Nq0hyu02Bi/hLp7Wlj+pzPt9yemm5Ubbsl+6Q++6ReHjpV8XTwDYah1rK/HYwsERe/ER11h/o3CM+o+TX9mjRWPre5wfDYXEWs1+1vz2pVNrYpFSf2nw5SPh3ocvsbGAV6ZWWiDnHzQlZIBYCp7J/FCSpzbc9pq1V5zqD8y+H0Z+ZvDB0sWG/O23EsQXf9koKz+oI/Hlb8ZkG87U+9virl3brMXt8U1babs1TVirrWrtBcGp4xr2nqEV1K0YOKx4b6m0L/8avvum3YtFACoO3sF4q//uOL+nYAcJu8KGnDU+EDnzP1B36zZ8IfN8SMa6s/ong374uGNgAY77fo+bVPzbJNKbSVZ/2PZmnaU35OQ47UxePvvp6mXvjO9if6/3k3HH9361tH9QCujZu88Pm1iXMkTiM523bmH1vTChoA6YJ1qat+cL3z+o83KSZvSo4chxFgpE5E30vuPtFedVnNlrKGy/DrniFuvVDcCAggtUJR3bAx1L+7tF5dBwDJQQ/eH/943z56xVcmwHm0u3HrmvMKmpVWSGXSgl+FRYiFsJpb9Hrl142eD9+mMP3uCwv67ulAAIC106BXfqZeU2JWVtXE5QhvLAy9clpR6ihLE2q/0mcD8be1zvieuP+KoezgibgjZlVldWbV1I2h9/7075XqnUVmCNzWxcoAAC6e7ugQCNfFBqX+eLLnOAGu6HL+Upaos6Ye0KwIfcjudxedpepkHSBw3v/y/BUyIa7qc3aeSNSZkv9PE/dssAsAsYvEigAfr90rwuQyEWBpKT0el2tQ6XTZ5SHpkc6AIGCR/8aj2s3KauUjPvLBAtRvD2wtWfRamgQAzirS9497fm3WKttfz9fqFevXZD3zTnJ434sbjn764MPbXVH/j/Q9wuc3bF/lZouSGxSvvJSFXcmzXAG3WasWH9zwUX3WCj/Y13bm4+1bv/T7zycWqNsGnCvNSv3XrPR3n7fF3/p/bU19R7j9xVnjhj17SrGtZcVf3wvGNb1ifdbR9A0xrrZrju6pkL/wxIjCdDBSJyLHVFNTc4en1X2CAwVotmZVn8+I8bBFLZ3VzVlAxAyP6JOXs05erIV/179bzReVRgDO0dN7ZX00V2d91LD/nFl1FRgrSAp5cN0TocHXvw7Wbl5fneoju5AS7lL+TcrHzdntvQKCfjq0m9+oTm1HVJhtJq/rS/nr5auKx+w1xMfOUUSZ8z7WZqhNqqsIGO8cHxOUKp/ca37Uoi8tTz94sfsLaGFAz9/xIUGf/9S/V5NW1QeF0ZWQhgVd6ArmgPoTC3fqlYB8XsTnS2VdB6uKffca9F1pP9rN66tTgfRnlmwMRefZstT9ukwjAHNiRn4igO5TXURCF4M268OarHqLxopgd1HS0lnrZg2e0mM169Xq/V82K2yjCkRNkqQsCYuf1jMXpd28vjrVS1bz2+mdRyszlYbsdmCsID5Qmv7z8ODe38VfbVbmVaaW2wZKlLw0LH7o6TQYahsBYE3sQxFiAIDA2VPmH9970IbsXsuRLyQHTAPzo2oPHJp6xAIf2YWUCGlV8Zi9BkDSPTlt+6A9irfMDSjv/uAEArlMsjHxIXnvlJvWhp7PHQKB3L3nZpzXrZ4fN/zkssBFIot7Uvr5BGX0IbOq8nTWyanrZnYPl1FX8NWZvNK2/FarHpA6CxMi/VOXBknHArC2lH+TrGjOsQIwRK/PtzXa9RXK8J9XL41lCRm6vJ5rAcCsfK9o4Un0TTbr+uVPfmLezhiPrmw02+h1NOR8qEk9aQGQd+jYmEMAej+NABC4OJs0R8r7/GI8FRHsOuz4dBsniVgalqk+ntjc61n9SqPqy5r95YaCRmst7P1hH+kfT6C1IefvmvRTFo0VwRKP1CcjAgZGYUN9HACAq83KA1VZlW157YAtzyTIK2lReITEznNFy9e6zVZEzJ4i7xoEQUBstOZHLp49nR8nWxF7NnGvAQazHggAYNVlbyt77qJw45Nz0yM9AHNx+WU9EBE5fYVMCABjpSuelO7/s77gpF7ZGhznDrgGblwrXefu1v34J/SMDFqjPKZqhOZSW9eT/LjpCZE1m0su53x9WT7Pfvqc5uMDIcvf6foLYkrClo29zjn5Jby06Je5x6+Ex/SOcOuPHAxZ+M44wO9nWzb1rmtywiuLfvlhyZVZ88YBcJv3lDz5w6M/7Y6V+6r/R3qO8PltmdPcSrP29I/U6w9mt63YGtMziS59JPlnX6Z/YZi1SDLMWX2VZtbDqwDASRoTo1ecQkw4AGhyD/g9s2XkqY33/vMiEdFNiQgSSwHUGTVdB7pSXORhfhFiwGhQdSewdtYacgCIJVHdX9t2VhVHb9WuOWtWXUWwM3DVml3ZELJZmaPvO/XY2FFadSwupzm7ffB+dNRl7ugK0wtWDDXTmXeqOnVbZUKlSe8sCP7/2bv/uCbPe3/8r0VjIAIhIjTEH4ACSuYXhWprYM420nbiqT0HttZCrV3pWnuw/W5KV3vEbqfqVltwfVhZbSft1MroNvic1o9QLaZ1VmIrJcJhwR/ITxtTFEMAAzF69/NHAgQIv/yZta/nwz8k931f93X/gLyv635f1y1C3SVb9oHK1H29z6Tr9h2KyW/OsYxZMisgK9ZPI7JrLXZt+1UvuXdSSL/gSRQz0weA6fSFnrF6plNmLQBAe/KbnmGXdXUdJkARMXFgdn61/rxeEDk6nKN8xRqZWCMT+7tGHlZT+uaTq+rt/r6iMKC63ZqRV5pRNsQ8HqY9fzNm1NtMErFGJtaMh+6sOfntw5sMtj5rtbTm7jqs2mvOtYk0EuCKUHjCqNqmr+s590Jz3raji8qsjkaUV6c1I/9oZsXguwUAsZc3AJTWGQdfZ6jq+UcHpAHoNGtPuN4DDYVldgBpd08fvGe+s2CX48JBNd6RjdCy6PVSbc/MP50nM39fmVxpNU3wy4oNyIoU11nsWou97oo4Zro8eBQp76KwhFkb5QCErLLeuZVaK08uOdSWewkqmVgjE8nt9hxdTcy2ShMAmEuPtZm6r6la1n2Vxwx/QvoLuiNRBsBWerp7OLLQpDvl+F+H7lT3SbvcXN6M/q1ihwZT7rmrXiIAUEhEjppoxrsOIRhTvu+Qaq953xWXG+ONr+pG9zwgKGwSAOg77c4PamvTD7TkNAsKmVgjE6sh5FY2qbYc1V/us9lwv55AZ82mLZWpJ+zVAhQSUZe5LfXtw9tM/YdADHk5ALQUbju6SNdR2Ok4AyJcsuWUm7TfuD2WlqIvrACSVVNcPpT6+7qL/URw/vG58E1RMyDYNxkcfwFN+gYASIx0KUQ5UeMNwFp6pvvk9obpfXj1tpBFMSqZAsj94oz7Ud2dRz4qv/eBH7pdBgDw9pGbLl50/eRq9f5P52lmu1993HjX1adqHjJ/XDqgw9yx7Kevrn/IbfsS+Kbi8yk/mtdnmc+8ePHn5R3DLjUZbYrueFwxZSquOgrcm9e1LDl00KMciH3qRPR9FSlPhTm7N1W9qfQ0AKlmRkhwgwFf2LQn21KC/ABU13QAiJk50dnFfvnkxvfNOkAdHV60bIb/WOCKqfAdfXK9LfU9vfrFO12GTJnT3ocqQlG6JCLKF17eA4IPoTnv7aqMFiiUyj0p4cNkDze25SqVtS/NDhsngtChff/woiqh6Ei9/kFlDAChNu+wzQRR1hMJzu5SSyU2NeUKXmmpC5Jk/QvrztTvqDYhRgGgrfyUDfBJn96Rc6a1vB2JvgBadCftAFJnTum/PRDzH/cfjHd2lGY+4y5PvdlWFx1u7j5FuW989VQzsj+vyZgb7T5sFYWk/fxqonxKlMwRvlh1uw7FVQmZR2vXqKJc4gDrphOSPc8vSJksAYTW8iOa/Da92ZR3AutUANB65J+pRgCijSkL1s3xAYTWM1+lvd3sbpc9piTNPZlx2F50WL/I9E3Ww7NiZANGkQ5dPdmMFFVTrkHYU9m0ZmZ3T/zpc3s6AUiT5gwxBteebRBtXLZgXawfABi/Sn7DVCh05B5t0dwbAMB0pGnTFWDylPLno/0BQND8dX9smeAfNS3r4ZDBi3VLERspwheC6ev2OkcHKuAf/8NyOaJUQV4ug/8KjaZ9jdFpUwMSf3F/YvejgOx1ffPUR3q9HJSxMyvwhZBzpnlbvB8AnLlQICBpuk/rmY7eDuxT5j3o0yruNXPewXXOHve4hXe5ezxlzzMNdWOMiNBU3gAASUHdl2ymas/jHcEzlc5WaGdN5qsnN10y76m0xcx1yfsa+tcTgn7v6cxLLjkksJuOlCZ+2D92HPJyAM2Ne4wApAUv3ev8pRZspjMtXhHu/nY4mz3SmJAh/rIIeoMFgGJmgHMQzsRJqVNNpcYxGXOUACDYzZ0AxGETXAvxCfYFOlF9wQy4e6Zj+VrbDECsmeGy1PEnt7nNcBmKgakf1cfP/PjBwdJTAKCz41J4VJ8/HSc+P3b3j34xyOOyy5cuhc/sXV0+O77jvYrLi+JHmnTi8HXj5ch5/TbxmaioKK3BojnDLHWj48iu45qnHhxVHdinTkSe6GaPKAWAcZM0oQDs2jMtANB4oagTCPKP9XV2t+f+b2MrABjLzwCAJsT5R7/1mHGTAIj8Nj48w/nlPVaRlDopDYC5ufBM371MDSn4xZ1qpZ+/r5+Xa9+ICF6CWbvrq1QjFEpl6aqRTIkg3pgUEzZOBAAiH809QRoAgrXaEYJeaC8XAIiDe75QZdIwALBWN7krzDc4LgiArfRMGwBc/lpbD4QGpEdKAKv2pA3oTtyHVDPj2jLRfVxPUeo9PgBg7KgbfAP/0GlRvSGyVB3tAwAXu1r7rqaJV6VMdlRJ5B87PV0GAOXGFgBAW+n/WgEoVNPWzPFxrjP9zozooasqClsy7+AssQLQnjbGbjqg2lJaeGZAFDVU9SRx0X4KQP/Pc/rufkZ9pVkPKFRKzdA93zND18R2x4XKWekzASDva+e063UmGwBMkPp3VzV4ghiAvvHiNcw4Geyof0tn77aioJhZ3XEhAMWk5AAAdtMwU3ECI75eDs6nWGecj3HqTrTpIYrTTNGIoD9xwXFX6E9aTK6t4lEa8sYYgU5T0fvVGy0AxImzetoKflGzlL0Pi7ynLZkOAHWt/W6PIX890aT9pwAgccEsZw4JxIr4WRkDGyRDX44xY7wAoKu0qvugRBJFhNJ/QDEAYLLqAcj8hphrqKvqaHqZAJEkJ3GGV3cFklYtPve7+9c4BpheaK8GAJH3yEc2CM157zXlAurY8FSly+fjZFEyALY6dzdu44ljURFDBerVBz6dHefa5Lp8pOj4Aw8MMsj/avX+T2fHuy68Y0r4F8cNIz0GJ7OxZtzAloBi6vSrwy9VKCWm7ncnmJq+GScFTvxl76QV93Z+uvn5J5548ulfbfnUdHX4OrBPnYi+t/yiwiWot+XVNefeG9B6yqwFNDPuUKC776e+pfwyNO2OJPXeaLWuyQoAU+V9Bu7LFJqAptwWobShZU1EbzdSWpzK/ZfoRG/zvmOLDAK8/QqfcZeu6oaPyvWLzEvUp+SJvrEiFAr2cxcFBDn61K11ACBWuO/PDVDPEKPZ7szUP2XeA2imTIiabtPAtOdEU9bccEfivqP1ci2C/FQup8jLa9i5DoXWsycLDpjyznWdaxeqB09a0IS5fv9LvPu0Iy7oGwEgOSLYJbQQRYVJUTnkC3REcs3jCXWm07mFDdn19mqTOfntQ5qIkB1ps7obUcNUz2vO1IwPqzI6zdpTQsxMEYQGbaUAYNXciKGDnKSpQS4rSLz7driFKSSotOGitRVw9Kmfu2gHgAle7m+t0brSovvs9J7jbdWX7Noh0rTcGOn1curzFMvxuMYnJmQSIqtxwqxrRliQsfyEACB5hptnOCMx5I0xqN6s924p989J6ylJ6Kg7djLnixa95aqhXRi8dTTkr2eLpbwTgEgT6dopHBAVJkJz3xM39OUICF8V/XVepZD94dE9H0tWLZyW9uNQxbhBWvltNi0AiWjQRH2jPu19sw6ijY/FJd2ouZuEDl2eswNiz8PT+t75jivivhF48eL4qZMGLbWjPGfzxRXbXP/mdh77vF7zqPs7peP4W5svPr5tTp8jV0wNMZnbgNHMMWsbMpIeeqliVtSZskbMnIqrjZ8emf6jh0x7f3t52X/57v/dlz/63Z9f9EHH4c2bD87ZcP8wKevsUyciT3Rr3lEaFuYTA+CUudqZ+yFKnKkEerrbO3SnBGeSuku02nUFAODXL04aA3cPYb3HDvJn9oIx9bAdADo7tGduxCsYRdNSEiQKCBm7tBn5R7PzDz+1tSkXCJs+JXmQjqqwmX4xcGbqO/oyNdOVmCzTiJz569UNVvS0Xm46oa5EG7W19qkT1nPePml3K/elhBfMuoaJzAUIABAs6/OF7C8bSdQm8lLMSP/P+2s3zjs4VxIGaE83pP6fhpFWTzRF80NRbxb4qXN7OgHvgETVdX3VKuJDN44HzjYlbzucnX80+11tcpkAkXjbghnXMBPROYsdAIK8nZ3WnTWbNh2NO9CScxFRYQE7Hgw/mBKUNqKSRn+9up9i6ZvanI9rlHLVOIlqqsSZv95+UW8B4KOOvD3BiUIiSgoN2vf8wj0J3XGr0Jy39dC0AlO28apikjzz/mkHU6asG5BLNryrV7sAQBzcd9vgfklWw18OqTplQW1yQIoEJpst80B18MslGSVNXaOvUVf9V6lbjXmCaN3D8wefnxGY6BsFAELnSPYhmLW7DsdVCgqlQvvMwOeE8rBB2wMd5m/GuemfdjDu3fgWfrkq3jUhvKP0Y/NDGrd/20wfbvzjmF+mL+iXeT5hgqKjY5QvfpYMORJ96KWITP7FuD898eQTT6f/8fKTj04p3fnlgpQ59uOfyzWOI/GJ00woN1wesgywT52IvtemT0wWtegFa7Wx2VAPiGRx0x0L/OL+Pynqrdo6U+KlDvSNVr28RYCAtq7uPk4HW6e7cXSDEuA9WXkwomXRp7bM94+pf7NQM/IZKtwThSUsKLqojS2zZZfbAET5Sjc+GJ4eP2XQnlfH4Xd2VJuMnScEwEcdDoimqCNP4kRbeWOzd43Q23q52doN2QdsJmBN8sKsu51fsaYLTRj1WydFEAECzF021+kju7rsQ2zT37ggzcOag94l0w7bdZXn9MkhMSOqnihmfpCmzKStatYJ07wqzXogJjo45jrDTu/wdc9Y63KachvbtI3AWFFSaNCOR+ZoAkZfbnc3f0zYBMf9rC86nXkJkAcZXpgX5YwIanR5Q+f0A7i26+UXGylBvS3nTHOWpCUH0Eyf6HiEpTlgyjn5ddZ4cw6A0ICRTTN9www6KRPQqvtnqhEQ+exbtyDRORCzxVTiNp9sSM6slf7xbmdnnw71EV0OkU/Y3fP33G3POV2d82FTZrM9+0Bll7fMmf0/Ml31X6VtN+UJPWM5BicSy72BTnvdRQFTe265jnPtABA10aU/WDBrdx1dZBCc6XxuAkznDEvu2DsG66+4cGTzq43L/pDet5rmIwft977gpjfafHjzhqZlW1YNfVQjJVeGX64f8Kmp8cyYKcMuBXym/3TDn38KALja+Jf1E1I2yHGho2Ncd7XHiMeZTBeBobtC2KdORN9joinqSAC28s8v6ABEynuCKv8Z/kmA9kyj1oR+0WpUiBQAGs3lrp0hlgs6CwBRXMgIX8jit2dVjOaB6D1KQOhIfVs/yhkq3OgyfJVeJiQlzPv2tSXfvrbEsP7edQumDDVKtfvwDacv6C09EZIkdoYUsOtPfV3e4tp6ucka2nIAQBIb1vsN2y+OGRmZY9CZttY1T0Gorh3tgwtRcLAEAGzCKKo3dVKKHBDM2hOOvGRxunq0gz4HainMb8oV+ZX+95JvX1vy7e8WF/znPM21vDZVqNOezuqES61aqh233RR5VE9cddludr95X9d0vRSRcg2Ac+1FDdbeX6upExO9gQZLYVMngKTI4BuT1XMjVNdZAWCiX2zvfCmjbJM7BPioRADsugbXzI82fZ1rA3JUl0PsHxG9LuPe0lkiADluQ2A/iQaATejXj9x14mjydlMexFlPLhwmTAeAKXERAFB0yqV9Yryg7QQgUSm7T4vQXPSno4sMgnp6SOnzg6XzXcVVDJKPJ58SdvnywGSStmM5rxzXbEzvX03zl5/6PXjvgEC941hOZoVm87Nuj+riRZNiwmhfrzx16rhTZ/p1e3dcMM2ODB9+qWt9P9vZuPjRqGHminWPkToReaJbMaIU6I5KoT/dpu33YiPHpHKmliwjAGmMS7jlFT1pozcgtGX+tabVEZlcMRXu+ToXwHi5ZqRx7RiIAFFQSsqUFBFMRmOmdgQdmUPSl5t1gFw88m8D5+FX61tKXSIk/wj/JKD0eIsefVovbvh7hQGArbzO/fRnozDROwkA7HUXumMXoz7zyGg6wp0CNHdKAejLTuf0DAk1VmQN/e6e5sqMPx4rPG1qvexYTegyncz+pAM9c2KMtHqK5B9JAZR/2VjaCcgDNNf/QE84xWIAACAASURBVMIx3cc4Ma5ca2NOsLUaa3P/VBJ3wGbqM86vOxvhotU5v6jQoftrfXa/zR0BHzrK612O99qulyMob2kt+lpwaQROiYsAOjsKTtoBcWLkEG1dH8UEAChtbG69Je9iUgRJAKC985wj5w32ugOGTMs1lBSaGCsCkFuiL2pxnCWh9XhV1lnXdUZwOdqNutPNXQOOXeE2y04hjQFg6ahziSW7qkqX/LmlCJIdK3+0Zqa7pBehuXBbcfB/HciucjRuReq5ATGAvvx0ntEOAFdMeX81FQGYHJQY1LPJsSVnBLVqWtEvZg06OP5yS3kLAEmYuz7kCRMuNX7d96OO4zmZ2jkvp88bEF43HvxI/uP+k650lOe8+Nmcjc/O83H/J9BsujRhwmgfXU6c/aOmz4/1+fNmPnLQ/qNYn+GX9ug8nvfZnBWObBxvH5/L3b8mnZc6FBMmDFcFZr8Q0fea/3T/JFgLLfYBUzg7J5UzYcDj+HHha37WrH3frK08Ka88qfYV1TnGmYkke565a9SpDkHRucss1XlteQe+Uik161TX/r7PmFi5utKcW3w0t7j3Q/VkecbSOUmh7vNQ/SP8k2AtPGsFJBnR3RFS0IQ4b2Nhsw3DvpZ13CRNaG12PbILDhUdEPt32pekuLz5aFQUU1OVxkKjkPnnA/tkYm/hqqFd0MTKk8rNhaMsyT9+2rbPqla121a9fSh7vDjsil1rQ/p0KYYaD3C1rr45+08DGkvj5YWPzPAaTfX8owPS9lpzDW0A0n4UcW1zmPQR5Nh1S9yG3uuqkIiTY6dtfGjImT0rT/7g1yf7fZakjsp9qGecnyhmrlxdZdadbYr5zdcqrzGdl+w6iXzjTHPmCZdtJk9MHG/SXrKv+uOBPTJRa7s4c3VCyjVerylxEVWotOaehSI6SO2svHO8b2Ez4O0XO9T8H5LYGVLFCavpRG3Ub+pVYwXtdNc3H914YXOCUrRNeZ3m2JeLNePHoMuutUs2RksyK0fbry6KeSA0/XhtTmfHks0HonzF/p12nSBJDxXrets/I7gcnd9k/clYCKhlYm8AVxyjTkUZd7qboHtcUGxQLZo7dKcEjeN9qy2Vabscr02wPfXHT5/qu7ozC+jC13saBROEjOPGNbPCAWBmdE70obhKW+obB1J7D0iy5+FZjra9/q/Hks8CgM5QK1/bb4hRz3u+gAaLFv0HmveYOnNe9YlGzOu+/B3Hc36zV7V2ffzEges2HvtU9cDWPqV0lOesL1atX9v7EqL+vqkxTFetGGTh4KY++LTPr976dPrqexVjAKCx8JW/TFnR/X6moZd2V/f/5I9LfdXZPPGb8yPzO0c65sX7oKPs847Yp4dN9WKfOhF5olszohQAFBPiHL0sA6Zwdk4q5+5xvNesuIMvhG8LlajHQtcuQCJKi55iWKdJUVzLH1WvOXfmRIsAIfNvX+lGOeCpl9BR14LgAd0vurPm5O1fFA3WC+h8H02/w3c+73b/Apo+/BJ/Hr1npjhKhOp2u0kiUVx7cmhA0jPOonQWe53glbFs/p5loYnXMHpPFJKeEV0QLVWPRd0le52Xz7aUuG0pgelDbDIxNPP+gPQgUVT3BYzyla5ZGH5uXZzae5TVk81Imen439DTqI9Yy4VzY8X9eiFNNnuO7mSic7Tr8NQy6ZqF0wzr7i/4j2muwb2Xan5RSkDaeJhsgrb9qjxcaVg9f01036soClnz/IysyaIwQGcRMF7i741rvV7OV26h7yT9jsc4GOQdW6784+/W3u+XKIHJJmhtoiT5tbdsRyQoOnelco1cpLgiaC32zsCAgy8sXPdjueYaipJFbXthxrZQ5y9L60R5wcq4bff5uR7v8JfD/460aKlmPHQWu9Zi19pESaFBB19MWON2PnUEaOZIABQYuhNXnANbhzTxjsQgQCTeOKfneZBUnbLA8KA8bTwAQCRKDA06+MLCnj93zkH2wxD0erMeSIwKdp+WHTVn+pFjjd0/Hd/98v6mMzszn3jiyT7/dv4TOLF//2zNnD4R+fGdv93fdGrn2l/0W39n94vtYK444jNv9jWMgBg3O33z/aac9CeeePKJJ1Y8/Sf7im1Pzxk3sqUAYP5059cPPjqz52f5A8/e9WXm0088+cSLR+5KXzT8u0p/8O23346+2kREN1dtbe2tSoD5bhD0BftjvxB6X8bkYDm56Y2azEvOd7PfzgrStbFUrfp9Qw4ke1Yt6J4pHBBsdSWH40psJu+A8v+eP3RoS99rndUZ/12bDb+DryzQ3Npxuv1dPpn5cs0mSPe9dO8gzbnLx7etOnbvO78Y4jWl166xIP0viqwX46934P5twD51IqLvgPqiYwIgWXW/S5gOQBahCQMA8+VrSPim289UbsoRgFmhvWE6AJEkLDogDt2jXYkG4z0jXSOB0Ja933hb6yHU7W/YJCAxfsbgT13GzfnZg4b8T0c0oHmUOo4VfB7/6L9imA5G6kTkmdihPkpjvCQA7AZj31RsY8U2A/q/05v+dXg5ppg2tfeZGkjo0JWYCl3fAE/knigsIXqPEkWHDXmm29euM1VkHrErlMptS4YcYX3Hgy/O3b/t4I2O1TuO79zt8/QjQw2A8GTMfiEi+i4wfVoSU2wzAerJfslBYsBefbpjX7tgAtIWz9tx7416AyHdWpdrN/2+OvMSFBJxcoRf2DiYL3Zoz9p0V6DwlRdm9KTRE9F3EyN1IvJEzFMfPaHVUJFTYtpjdL7XPcpXHBcWmLZ4lvpa5t4mj9FpKvr4ZG5lR6Hj3fJjRZoJ0qQFM1LnKYaa+IWIvhMYqRORJ2KkTkRExPY4EREREZEnYp86EREREZEnYp86EREREZEnYqRORJ7o1r2jlIiIyFMxUiciIiIi8kSM1ImIiIiIPBFHlBIREREReSL2qRMREREReSJG6kTkiTiilIiIiJE6EREREZEnYqROREREROSJOKKUiIiIiMgTsU+diIiIiMgTMVInIk/EEaVERESM1ImIiIiIPBEjdSIiIiIiT8RInYg80bRp0253FW6cxuLNv92uu3C7q+HBOir+lL70JznlAxZcrf7Tw2v3m4db7dZr2r/hsZ/86kPTgAXm/f/10z/9c9jViIhGZOztrgAR0W1StXvF6yXO/4ulylkJyx5Pnj3hRpR89qOMdZYndy5XAQDsLedO1xnC24GJ11HmxYr8d3JLqi12QCxTzf335DRNuPhGVPZ26zjz940v6uTz3J2cy198tHfGA3nyYVa7xcyH//CrHZejprpb1qQtqHngVz8cbjUiopFhnzoReaJbNqJUlbR69S9Xr3xknrjqoy0b8muu3oAyz1dXnHf5URzz5I6dW5PDrqPEqzX5G7YUfzNp8VOrV//yyaVRaGjFdyJMBy4c+fvJB7a9tkLlN3DZ5WNHjsQvjvcZZrVb63L13w/4vJjz4gNKNwsbv9iPhx+IGm41IqIRYp86EX2vKafPnj0LwGyV1/nndxwqq18WPt2we8VmvPCW+lR2dlEN7lv/1iPh1uriXR8Wl1Vb7BBLIxNWPrvM2ft+1VLxwfbcQwZLF8S+yoVPr1/0zasvv98A1GxeUQKEL89en2DaveL1koQXdi6fBQDWupJdOwrKzlrtEMtmLVv7QoISsFTmb99RYrDYxb7hcY+vfPKuwD61NNefvojwx55MXhAIYHbMwqU9i6wNJTu3F3xltNohlqmWvfRiQrDrh2JZVELa087anv9kQ4ZOnfXM+II/5OrOqVZuW632db/rPpUMUyU/tXrhZDR8mLGhKCTttefUsht3ASY+8OI6AO7yQ9qOfHw4/ierxg2z2i02LuoXG6IAHHezrHr/X/FA9tThViMiGilG6kREAHC56zIQKPNx/njsvZcPQRl3T0JwtBKA1Fc8LjJ57Yp5Mvuxgj+8u2XbxKyXEwJhN/xl/ZZPMPeRlT8OlrbW1YwPkSoj16bVPbv9iHrltsdnA2Jp3/DyQkn2pt0NwQnLfxntbztfbQ1VAvbq3euzj0U8tjZrvsxyNH9rzsu7pVuXz3LpNPfxDxSj7Etdw/ylIb6utT5f8ocNu+uUCStWR/tYz1dfCg3q/rAxYulTy8IlrZWFu7dssL+4ablKCgBo/Hjzq63SyIUJs8JDfAfbtbF4626dfPGLry4NtNcbyhoCHTknVy/br9pv3iXox3x0f/W/rdjgfct2eN3++fn+8OQ/Tbnd1SCi7xBG6kTkiW7ZiFLjmYoKO1rrDu4tqhFHLp97h/NzizB3fday8DHd601OeHKy438Lk39yUJd37jwQ2F728ScW6QPrn0sMB4CY2QAAqUwCYLzMVyodsLuagwU1dtWTGcsXygBgNgBYy4pKLNOXLZ2vHA+Mn7844bOygq9OL5+l6t3Ma27yz+fWvFfw8q+Kw+OXPZq0MNzRq33mYMEpu+qpNcsXyAAgpvfDuc8+lzxfCmC2wmpYm19wdKlKIwMAe6vyp9mr4x3bW3Xudw1rOyCX+QdJA8eoFk511iQkaevOpOs94SPWqC2seeC5qFu2v+t2+UjR3vB7dspvdz2I6LuEkToRfa8ZCrcYAHjJVPFPPvfIwt6kkznRvWE6YK07lP/B3uN15y1djg8iAOBsjQGImxU+4r1Z6musmBqt6pM9Ul9TDdjzX16V3/tZZP8tA+Ofy4o26j7JLyh6d8NnBXOfXf/c/EBLw2krQqIj+xTn+DA8rLuZEByiAkqavgYcq4VEz+hZf7Bdq37y87nH3sl/6ZmP+jQMbqWmY/svJ2f+8Jbv95p1Hvv8cPyDqxioE9GNxEidiDxRbW3trelW70kfH8qFkuzf7jZGL1vzWkK4THz+kw0Z79/oeixYvfOp2cOs46tUJ61WP2Qs3vRS/o6PDfOXT7ppuw6Mf25rT8PgyN6lL2UlT78hOxup6v1/QeKWf6F5UzpKPz6y4Ce/+hfK1SGifwWc+4WIaDimczVA3AOLw2ViAMaGGufndwSHAMeqaobatg+ZMkSMxkqDxfXD0PAo4Hj1SKedGaOcPTsQdgCQBYeK0VB5qk9xspAIKRpq6qzOn881GIBwZeCAgobbta9SnbQ66w8r59rPG2rPu1vjprla/fmB8ORF/0KBuvnIweoHE+PH3e56ENF3DCN1IqLheIulwLFSnbHdaCh6c/fR7rGeE+YlRIut+7e+WaSr0FfoPnm35BQA+PsHAsf+cbimptpwvqtPSSp1ggyG3Vm7D+krKvSHCj4os0A6NzFB1l68Nae4ovH8+UZDTzm9qnY/u2l7wSfOvWzfe14cHT4JQKQ6YQIMO7N3H66o0FccKswvuwhMX5QcKS57782CoxUV+kO7/1hgFKsXx7uN1AfbdU3JWx8dOmO0tp9vOF5xGmJ/3/EAGgqfX/HUFp3FXUk3VoV2b/i9d/0LJZJ88/nHNQ/8aObtrgYRfecw+4WIPJFnvaN0+tI1D53OLtr+0hGxcn7ai+tCNv/WEa7K1M+uv/zBrvzC7WWOSRJ/DQDK+1Yurcou3rGhzHf28ldUC/sUtWzDGnFuXvG7b5RALFUuWLkYEEctf3WtbPv7H725Pt85K2K/gZSKqHlj8ks+0H1kB7xkKs3q3z8yWwZgTPiy9avFu/KLd2wpgVg6eeHK+wAEJvxqPXZuL9ix5SO7WBaVsPq1ZbMHDm4FMOiupWKbLv/3Be/aIfZVqn62Om2eFADGjBOPuUnTuCsefOPj3p9i0z+KHcFqt9WcVR/P6fnhjgf/8NcRrEZENEo/+Pbbb293HYiIiIiIqD9mvxCRJ7pl7yglIiLyWIzUiYiIiIg8ESN1IiIiIiJPxDx1IiIiIiJPxD51IiIiIiJPxEidiDwRR5QSERExUiciIiIi8kSM1ImIiIiIPBFHlBIREREReSL2qRMREREReSJG6kTkiTiilIiIiJE6EREREZEnYqROREREROSJOKKUiIiIiMgTsU+diIiIiMgTMVInIk/EEaVERESM1ImIiIiIPBEjdSIiIiIiT8QRpUREREREnoh96kREREREnoiROhF5Io4oJSIiYqROREREROSJGKkTEREREXkijiglIiIiIvJE7FMnIiIiIvJEjNSJyBNxRCkREREjdSIiIiIiT8RInYiIiIjIE3FEKRERERGRJ2KfOhERERGRJ2KkTkSeiCNKiYiIGKkTEREREXkiRupERERERJ6II0qJiIiIiDwR+9SJiIiIiDwRI3Ui8kQcUUpERMRInYiIiIjIEzFSJyIiIiLyRBxRSkRERETkidinTkRERETkiRipE5En4ohSIiIiRupERERERJ6IkToRERERkSdipE5EnmjatGm3uwrU7UqLrkRfeMZ8u+tBg7sV10hoPVudV3KyrvNm7oSI+hp7uytARPQvzFRSEnzAhiDluYwYxe2uzI2ie39fXCUQPePbx8IBmA7r4w7YgNZ96+9N9L3dlfvOuSG30C25RvU522ozBcRYvMqTQ27SPoioH0bqROSJamtrb363ekte1tHUZiTdP78gIeAm72uUmvXJWcZCSPZkJKQE3ea6KCbLNKLmuon+UTc7TK8q/cGuvr3CY0UahU/K3RHJ8xT+38NnwFWlwbvMJvgc3LhQM67/Qn1BcewXAiZPMT8ffUuu0cSYMKBOnDxdfvP2AfTc/C5EIs1EaeKcKan3TFMwbKHvGd7yREQ0pIh5B1+9Tbu+ImjPtmnPfpV5wG/PqniNfHTReuvhT+V7r3pCa+caqSZleJszOjsKj7Vp4v36LBIatJUCgPQ7Q/1xa66RX+IzS27PG1gEQdvcoT1QnaFt2PH03Wmh0tFtbql8alOT2QMb5EQj8D3soyAiIk8mL31tybeOfxvjDMkBSWNham9btPWobnQZ0qaCz603qYq3iGiK5ociADkVja39Fp06t6cTgE/SPD83G34XSPZkdN8Gv7u39nHFGl/givWp7aV5JmFUBdV9bsq9SXUkuvnYp05EnsgzRpTaWxtrCkpMeXVWrQ0AouQ+6Q/MSo8d0DMnFaPlZPae2pyzQh2gnhywMfVOTYD45tZO6Kg+Upn9mWVfu2ByX7eR1b+9Ke9v1RtP2asFRMn9Mh+OCev3zeBMSpGXvhanBtCdWr0uZfHGKadzPmjIabRXC4jylaYtiV7jWviVFu3equzyjiIbAKhlYu/uJUnJ96fPHMExjpNH3T2/IESf+oYx75I5fW9D+cPdGdIWY9HnZwrLOxyHr5CIk2NDMh+c4ciO6KrXZ+4xZlsA2FKz9qUCADY+vmTdLECwmQyGPf9oKThr010BAPVkecaS6KTpPoOf6mE3qdn065OZAcraFyK6jlRma825l4CxoqRwxcafzY7ydekUu9KiLazMPG7VXUHYeGn6g9FJY4Y4flFMjDymrEVff760HS4J6IK+0qwHFCpFnCMrZsA1ArrvEEdlRCKNUpa+dE6So0PakVcjkpf+Lk7trJ0xd5P+KQsgU9SuuzPMWULNpv86mSmIsn6xeE3EgGyxqtIf7DInJcwrUNsKP6zJMjgOSpIUPyNTM8UlW8luKj++cf+FArNgAsLGi3tvMNWMg/8xgpT3sdKwWXdmTa+Rv3Yy85It9a9Vic9H+4/k0nQ25f2lOvOEHUDhgaM/OACgdwDG0LcQkYdgnzoR0WA6tf9T+9QJqwEijUys8RWZzR2r8o+mftrSf0Wrac3rNRlGhPmKFIDubMui1w+NtudvdITmvK2HVHvNue2CaawoSoRqc8eq/KNx79d0jar+nTWbtlSmnrBXC1BIRF3mttS3D28zjaiNoSs/kvp6zap6O8aLwoDqdmtG/tGMsu5ubMGYm310ka6jfJx0XWxA1iypd7tda7EbuhA1RR41YTQHq4jZuEAMQF/+ta77pLZWnlxyqC33ElQysUYmktvtObqamG2VJgBAtf68XhA5BmhG+Yo1MrFGJvZ3RmCmPX8zZtTbTBKxRibWjIfurDn57cObDLbBazCyTVpac3cdVu0159pEGglwRSg8YVRt09f13AhCc962o4vKrLorwFiRV6c1I/9oZsWQxx4xNV0GwFpU2db7oVBbVC4ASIsO9Rpsw547pFPkqLPhrDn5j4c2VVkBIFKeCkCwlJ7pXr/5myILAMBi1jV3f3jWohUAkSxu+qAVLDx1MnNLZXKl1SQRRYlQd8mWfaAydZ+xpx51+w7F5DfnWMYsmRWQFeunEdm1Fru2/aqX3DspZPDW0UDe4Wse9FMAONtc1FPDoS9Ngyn33FUvEQAoJCLHbaAZ77y9h76FiDwEW45E5IluyYjSYfklPRxViklqhQQAINQd0E4rseWV1m+8NyDMdcVmGxZEm5dM8RcB7TWbtgzo+bvR6oqPpxoBkWTPqgUpkyWA0Gr4MvXPLUWVJzPLlFlzpSOrv6DfezrzEiCS7Hl+YYpSDNhNR0oTP+wYSR20J9rU0eHmZTP8xwJXTLlvfPVUM7I/r8mYG60AYKjPbAG8A4rWzY8RAUDa4U/le62mQMXGx0d9WsIi/WIOtegFa10z1AoA8I//YbkcUaogRxwGkz55i7HQaNrXGJ02FTH/cf/BeOeo3Mxn+uapi0LSfn41UT4lSuaI2Ky6XYfiqoTMo7VrVFHuA9+RbmLddEKy5/nuK1J+RJPfpjeb8k5gnQoAWo/8M9UIQLQxZcG6OT6A0Hrmq7S3m93tsodSM6cKh+w5X9VvjO8+b4bmbQIgki+ZIxlsM+cdMl5e+us4tTcAofXwoai91sy/VSaq5seMm6QJrc2uF0rrmtdEBAFoPd1aCKRP98k501F6ui0lyA+A6ZRZCyBSHjNEt15jW65SWfvS7LBxIggd2vcPL6oSio7U6x9UxgAQavMO20wQZT2RsGamCAAsldjUlCt4paUuSJINeegDeEXIk9GWA5vBKCBIBAx3aWbOO7jO+SggbuFd/fLUh76FiDwE+9SJiAanmNYd5gIQhUUHJAGw2Pr3uonkq5Z0P+737en5ayltv0nVaij80g4gccGslMmO6on8VXdtnCsCkP1lbW9O8zD1b9L+U3CWo3QEOmJF/KyMkY6/9Nn48AxnR/VYReo9PgBg7KgDAJhMVhMAX0lw9/eMv1wCAGc7qkd9vIBMEgYAtroLPUcTFDOrO8YCoJiUHADAbmpzs3U//qHTugM7AFJ1tA8AXOzqnws++k008areKxI7PV0GAOVGx0OMttL/tQJQqKatmePjXGf6nRnRw9Q2LCYgEcDZFq2jzxuC7rjZBMTETlIP+h1u1B63A1iz5E61M+VI5L9gWoY30GnWngHgFxspAVBY09wKALbyk1ZAmviAPAXIOfl1FwC0lZ+yAUifMWnQnnsAEG9Migkb54ibfTT3BGkACNZqRwPkQnu5AEAcPKG7rjJpGABYq5uGOXA3fL2CAQDVF3rnCLqGq+l0HbcQ0S3DPnUiosG11OZ90lRwxnbukt2RBeveRO8wl5jJa7JPHNoKYT9nBm7GrHktlvJOACJNpOsE3KKYSB+UtaG+rRpQj6T+7ssJiAoToXkEqTtBfiqXqQO9vPrkzCgUUgVspnbbOQEKEQC0mm0AIJPcmInnr7ToPju953hb9SW79tKothRaz54sOGDKO9d1rl2oHlGO0kg30YQpXX6SePfp8r6gbwSA5Ihgl8BXFBUmReWQI1+VoalBpqJma1FlW9ICP1w+va8KgCg1esqgm7Rf1FsAoK5Sn13T86m9HACELhsAKCLlmgMmbX1L+WVoxjbpTgEyv6jQiRpZU94ps16A+srX2noAkriIoQet+qhce6C9RH0emEz0jRWhULCfu9jdC26x1gGAWHFjhsJew9Xsdu23ENGtw0idiDyRB6S+oKuqVLPLrAPCZD4p0QEZM338G4yLjox8OhG3nXM1m359MrP3x2uaMf3q1S4AEAf3Sx4Y22dw4vD1H6ScYJkYGCJpe2RU4dnKY6nGluQth9Mni3G5s8hgBZCuiQgbdtuBLLY6AJCEOc5VZ82m105mXgLGitNnBqSEycN82/LymkcwxYdQV6KNO2AzAVEKvzSVT1SYtKuyIbnKfkM3cV8OBAAIlvUJUf1lEmDomyog8W4p9lpz9fVZC6K9qppzBcBbrpk5+FPxTvs5AEDhiZbCwdaZOjHR26TttOoboMGFAgGK6fIwKFQhQKWl9AzUsGgByOTq65njUjQtJaF+2wFbxi7tuWifYNirT7flAmHTpyRfQ4ZJe5fjuGIVjjyW67g0134LEd1SjNSJiNxqyPmbWQckxkfve6i783JsC0YRqd+oXsMBvMXBAGA/ZwFcoqiuLtcAZQT1HzPGCwCETpdRqAA6O2/EWFhRUMp/zjq3uSqjuS2j2TH3iLxg6ClWBiXo9WY9AG+fqCAA0BedzrwEyIMML8yLcn6P1ejyhk74BgC0G7IP2EzAmuSFWXc7a2K60ISqG7qJeyKIAAHmLhvQ29ne96q55x8dkLbXmnu2uajZpqhsMwGauVNjhtjAeWXFO1bdP3jK9ZS4iCpUCqV1zUm2Nj2wJnwSIIqZ6YPKjqITxiRJhx6ImTnxWlpWvURhCQuKLmpjy2zZ5TYAUb7SjQ+Gp8dPuYYhHK3Hz+cAgDTGMWHMdVyaa7+FiG4tRupE5Ilu/4jS5oulnQAQN703x2DQoKq5zXAZiu5UkK7GtkIAkIS5yfMIX/da+LrrrJvvhBhZAyyC9pRpTUTPPoTqWisAhPpFjbD+AT4qESDYdQ1taVN7WhVt+rrR9ha7ZdMXGjLaJXtWa1IU1zcmylSRVS4ASLwrNAYAWqod06lMkUf1fIldtpsH2bqPhrYcAJDEhvU2GIZpmVzDJu7JohSAEdpaE+b2TE3YfdWG2TQ0KbQpt95Wero2+AQAccqdyqHWD5DFejfldfa7sv04g/JCkym1ww5INTMkALxmBKSjI6fpG52XDUDyjMFzbEamy/BVepmQlDCv4P7rewFVZ02O1pHor9Q4bBG08gAAIABJREFUksqu/dJcxy1EdGtxRCkRkTsTfaMAAHXnu7++22uy9w02KUpHTnFTq9BnNcX0oNgBb4C/QZRL7pYAKDpclWd0RNVCq+HLzDIBQPrsqf4jrX9oYqwIQG6Jvqilu5zjVVlnb0glm4rKBWAMxFevtQSh65JJt+/QojeMeQIwXr7xPkezRO7Mgblodc6EKXTo/lqf3W9rfy/HINTyOpejnuidBAD2ugvdrRGjPvPIkC2Ta9jEvQDNnVIA+rLTOWe6q2R0NkKG46e5ywdAzmdNWgGQB2iGDNSBkNQFEgC5+77MPeNy+JfN1QZjz1BLrxkB6QDOtRR9AwT5xzrCX9/guCDgm5aCcwB81JHXGyfoy806QC4eat74YXS2VH9xNHnDScc8RTmJM5yJ/iO6ND6KCQBQ2tjc2numR3YLEXkA9qkT0fdd7ytRekTP+PaxKcmxpzeVC7nFpaWfi4NFV+ssgiJavqbKnD0gsopRSrt0lfIjlWpfUV27YAIgkmQ/NOO6p2jsfWtPD8frexSa6ALDseSzttQ3DqyRiMKuCs7XvkTPyHK8dl40kvqLYh4ITT9em9PZsWTzgShfsX+nXSdI0kPFuvrr71afkhh7OrPcmrr5QO8hjBWlqSatSY6O8h5iQ3Pcr/f1+ygsKKjgmTtjxnVXe65cXWXWnW2K+c3XKq8xnZfsOol840xz5gmXbZwTESK74FDRAbF/p31JypJ1s6amKo2FRiHzzwf2ycTewlVDu6CJlSeVmwfN51aMfpNB+MdP2/ZZ1ap226q3D2WPF4ddsWttSJ8uxZnhu9W9ohXr/l6zyWLXAknzQofNSOm5Q556+9Amx8uGrti1l4Ag5TlVd5jvGxwX1JDTbM0FkhZM7X46ExAVJsIXtsJOIDTg+lubMbFydaU5t/hobnHvh+rJ8oye1zC55+bmV/j65KTFJfV0zY/o0khiZ0gVJ6ymE7VRv6lXjRW002d8+1j4iG4hIg/APnUi8kQeMKJUEvPw/NK5UvVYVLfbDV1jku6PLkq5MzHSzarJCQv3PT9to8IZpqsnBxx8YeH1pnwMTRSUtGqh4UF5mq8INkF3Beogn23L5pc+Ft49r8jI6i+L2vbCjG2h4igRqtvtrRPlBSvjtt3nN1QO9Ai1N9ddEfcPKK8IuZVNmveqhp9BDwAQNl6cNlOxb9WC2ox5MS5v+vRSzS9KCUgbD5NN0LZflYcrDavnr4nulwHvl/jz6D0znYdmkkgUPgACkp5xfqiz2OsEr4xl8/csC00camLva9hkEKKQ9IzogmipeizqLtnrvHy2pcRtSwlMH8m240I1zre6SlPnDXhLrpt9BSWtWlibHJQeJMIlu9Zi13aKNJP9dtwzyaUBGaCe4ZydMzGyt8yYGTJH1J4UGXy9rU2ho64FwQN6BXVnzcnbv3C+a2k4CokoKTRgz+Pz6tYtTFK6TjE0okvjH3+39n6/RAlMNkFrEyXJJRjpLUR0+/3g22+/vd11ICKi7xahIXtDVcYl0cZl8etie/Kk7a3lxxLzzTpI962/N/FmzF9JnkXQF+yP/UJQR4cXLeueeh+A5eSmN2oyLyH9oQXb4m/SsGui7wj2qRORJ6qtrb3dVaDrcOLrrEtAkCIt1jUOE/vPCdIAwNWuy7epYnRL1RcdEwDJqvtdwnQAsghNGACYL9+QsctE32WM1ImI6EYTi4IBtHfUdbp+aq8rqc8FIJfHjCB9g/71jfGSALAbjH0T8Y0V2wwAxJoZvA+IhsHsFyLyRLd/lka6Li2FbxxNNgJjRWnh8igpYO0sqrNqbcBYacHzC5NuahI/eQzTpyUxxTYToJ7slxwkBuzVpzv2tQsmIG3xvB33Xt+8jUTfA4zUiYjoJhDMem11js6yzzkZjkjj66W5OyTtnmkKzjr2PSK0GipySkx7jEK1AABRvuK4sMC0xbPUAeLhtiUiRupERERERB6Jzx+JyBNxRCkREREjdSIiIiIiT8RInYiIiIjIEzFPnYiIiIjIE7FPnYiIiIjIEzFSJyJPxBGlREREjNSJiIiIiDwRI3UiIiIiIk/EEaVERERERJ6IfepERERERJ6IkToReSKOKCUiImKkTkRERETkiRipExERERF5IkbqROSJpk2bdrurcCsZdq9YsWKnwc2Sqt0rVqzYXXXLa3QLWb569+VXP6rpuvYSzn+yYcWKDSUX3JRd9t7Lmz+ssV972dfhakPxqy9vP3r+tuyciL4bGKkT0fdV1e4VK1as+FV+zdXez85/smHFit3uQma6WS5dqDfWNJwfTTRt/3L7ildKRhACXzpfazw9urKvh/GjX7s0q+yt5+oaDEbrLdo5EX0Xjb3dFSAicqO2tvYWdatfLM79vz/+/UPKW7GvIUm9xt3uKtweygde2fHA6DY5XV0GhPf/1E3Xk3Lxhh2Lr7Vio3bBUPENQnt+9Jr95Ns7b9nOieg7iZE6EX2fqRPuM5QU5hbPX7/4DjeLLZX523eUGCx2sa9y7kMrH78vRNpvjardK16/tPK3syveztWds4uD1cv//5ULgwGcL3klQ6fOWikt2LJLZ4xc+dYatXTIApX+l3RvvZR71Gj3Uqofe27lAjeNB5fNw+MeX/nkXYEAzn+yIUM398V/txS8U1LTDmnk4jXPL778SfabRTVWu1g5P2310+rAMX3KsdaV7NpRUHbWaodYFqZKfmr1wsl9yodYqrxn5frHZg9eZ8PuFZvxwlvqU9nZRTW4b/1bj4TD2lCyc3vBV0arXayMWZr29NJwKXDVUvHB9txDBksXxL6BEQuefO4RletpPP/Jhoz3sTx7fcJE57G88jNr/lvFBotdHKxe9szjCWGuq1sr3nv5zc/swO6MFbuBhBd3Lg8EgNDxFwo2/7bfVudLXsnYjeVZLycEwtrwya7tH5YZ2+3wkoVEJa/85cI+p/hiRf47uSXVFjvE0okRC596blmUdLBz7uZc3XP+1Q27G4Ca11eUAOGPZa2/7/zuFZtLNC/uXKEC4HpyZFEJaU8vmz2h+/CHOWQi+v5ipE5E32fW8PvS7Ee3FOwombsuIbDvMnv17vXZh8YtWLb6zkDruX/85f0N2fj9+vsCBxRSlrvNnvyz59Qw/uOD/Hc3jQ/MWq7yAoCGjzdv6JCqFiSowkKkwxXY8LfdZUnJq++RGQ9v371jw3j51uWzxAPqcyzisbVZ82WWo/lbc17eLe1e50zBlsKFy9OeW3pBl/v+R69mFPv/MPnx9KWXK/Pf1W7fHT17dbxr5NdQvHW3Tr74xVeXBtrrDWUNgRN7yi/BnctWLlBKO2pqpKHD1vnYey8fgjLunoTgaCVwvuQPG/K7Fj63YX0EThf88c0NWdKslxPGH9v15v76uT9/JflOseWfhgr4DxOEninYsGN2cspzP0HDwfcLdm8NjPhDckjvYqnqkeeW1r5cgORXfp0QCLEUOA8Ah3Lfnrvs2bXJXaeLd+UP2AqoK85+XxeY+OLvEwPtZw1ldYF9L6RV9/6bxWfnPrkheZ7YUlHlrOZg59zNuQpWrf15zbNv6dTPvvX4DwGv7no5nS/5w4bdjRFLn1oWLmmtLNy9ZYP9xU3LnU2WYQ6ZiL6/GKkTkSe6VSNKL10aM3vZ4+rSnPzdR+atjpe5LLKWFZVY7lj6ys8TQsYAMSrx2Wff/OBjw33LVf0LsUf8++OL58uA2Spxw7NbS46eWq6KBgC7Rflo9mq1bEQF2qOS0xLVUkAVufLcl5tLjhqWz5rdvz7Tly2drxwPjJ+/OOGzsoKvTi+f5dhanJCyfGEkAOXif+jyzy18Mn2xagwQZa/Wvllx1tg3V+SStR2Qy/yDpIFjVAunqnrL9128Pn1x+BgAs2ePoM4WYe76rGXhjg77Mx8VnBLHPb80wgdAxNKfzC15R1dxIWGetdUOjJMFBvpKA+crB+SsDCROeOa5xZEAZistZRV5htMXk0MmuCyWSqViAFKpr1TaZ6uVCZEAwpc168oGbIUuqxWAr7/SNxBRC0Oi+l/ES+12YJy/PFDqG6gODh/ynIe6O1eQ+owHMN5HKvUdcExnDhacss999rnk+VIAsxVWw9r8gqNLVRrZSA6ZiL63GKkT0fed9K5H0w6XbX/vL2UxK106MutrqoH54SHOvBFxSFgIjtQbL0A1sX8JSrmse6XwEOi+/qa7M3VqdHhv8D9cgRNlzrhzTGDwVMB4/jzg0u9bX1MN2PNfXpXf+1lkbxUmdgd2YjEwNdiZ7uIlHQ9Yuy73ra/qJz+fe+yd/Jee+Sg8ftmjSQvDZT3ViwrvkyczXJ3nRPesb2k4bYX10NbnD/VuHg5ANv/RxZ++WvzGs6XBsxc/snxpdKC4byrOAL3HApEYAISh1x/ZVpE/Sbvz2PYPXnqqKDzukUeT48Jlfaohi/vZ4n+8VrxlVakyZvGyR5fOvkM8+Dl3e66GYmk4bUVIeE9OS3CICihp+hqQXcchE9F3HyN1IvJEt25EKQDI1I8ll/w6f1fhj9e6y1b3IAtW73xq9vCrDScw/rmt0UbdJ/kFRe9uOLJ36UtZydOvv1QAIctee2VAxn/4sg07FlWV7P17/kdvZBTfuTL7ebXM7dY31ZhA9fNbZ5/VFX9QULxjQ+n/LF37WrJrqC2NXPbK24sM2r35f/9oy6+L5z6b/dx8AG7POScHIqJbhLM0EhEBdyxOS1JaPtmeX9kzoV9oeBRwqqbBOYejvaGuAeJQpdzN1kazpXulmgaIQ4MH5rKPoMDm885SuhpqzkAcogwcuPnxatc5Ja+Lr1KdtDrrDyvn2s8bas8Dk4LDBpY/ipMgC4mQoqHylMXt3gJnJTz52x2v/Fug/auar2/QEVwD6WR18pqsrU/PtV8w1JsHLB4TqLrvyVf++MrSO+xlJ78e/Jy7PVdDcZycmrruGRvPNRiAcKXb+4SIqBcjdSIiAFD+W9riCZaKyobuD6RzExNk3xS/+V5Jhb5CV7R91xG78sFFKncJD4adWwuOVlQcLd7+vs4+YeGd7nOxhyuwqmBXka5Cryt+Z5cO0oV3RrjZvL14a05xReP5840G3Sfvlpy6tmOtKXnro0NnjNb28w3HK05D7O87HpDNu2e2uL14a06xTl9RcbTk3U9qRnUSMH1RcqTYsDN79+EaY7uxRn+o4IMyC2D5Mj//k4qGC1brOUPZqVZMkI6/tlr38vcPBBp1/6iqqdE3uG8ZDHSqZPv/PVRzzmq90HDsn6ch9h8vcV1sKfsgv0TfcL7daqwuM1yEzHf84Ofc7bkC/GWBwLHSQzVnDIZv+s7hPn1RcqS47L03C45WVOgP7f5jgVGsXhzPSJ2IhsHsFyLyRLfhHaVjwpPTEg69XtLzohpx1PINa8Tbd+RvOWwX+yrnPvbK4/e5nXY9cOnPf3z+f9786JxdHKxe+SvnxC8DDVmgOOGXa6ceffPND4x2L6X6qef6Tfzi2PzVtbLt73/05vp85+yK/YdFjpBUbNPl/77gXTvEvkrVz1anzZMCkMWvXC/k7/qgYPtXdnjJVD9dO5qTACAwYe0r43ft/sv7G0p2OCdkXAzAFw3vv1n8vh0Qy6LiVv76+mc1Ec9NWqluyP3o9Q3FsqVrY0JGlEsjFVt1+a/+7V07xNLJquQ1aeo+4z7FUjTs2l68uwvwkqniV659KASDn3O35wqTE1Y+VJFd9O6GL6WzV7yq6pMFFJjwq/XYub1gx5aP7GJZVMLq15bN5kyMRDScH3z77be3uw5ERP+yqnaveL0k4YWdy2fd7poQEdF3DrNfiMgT1dbW3u4qEBER3WaM1ImIiIiIPBGzX4jIE93aWRqJiIg8ESN1IiIiIiJPxOwXIiIiIiJPxEidiDwRR5QSERExUiciIiIi8kSM1ImIiIiIPBFHlBIREREReSL2qRMREREReSJG6kTkiTiilIiIiJE6EREREZEnYqROREREROSJOKKUiIiIiMgTsU+diIiIiMgTMVInIk/EEaVERESM1ImIiIiIPBEjdSIiIiIiT8QRpUREREREnoh96kREREREnoiROhF5Io4oJSIiYqROREREROSJGKkTEREREXkijiglIiIiIvJE7FMnIiIiIvJEjNSJyBNxRCkREREjdSIiIiIiT8RInYiIiIjIE3FEKRERERGRJ2KfOhERERGRJ2KkTkSeiCNKiYiIGKkTEREREXkiRupERERERJ6II0qJiIiIiDwR+9SJiIiIiDwRI3Ui8kQcUUpERMRInYiIiIjIEzFSJyIiIiLyRBxRSkRERETkidinTkR0s9lNVfq8w02twu2uiIcSWs9W55WcrOu83RUhIvIwjNSJyBN9p0aUtlSv2WVM3VuZqWu73VXxTPU522pTD9QkFzXc7poQEXmWsbe7AkREt0tLXtbR1GaXD0QizURp4t3T0uKn+N/Afgy5LM63Ka9TEhfid+MKHRnBZjpelfV5S6nJrrsCAFG+Es2sSWsSZoT5ek5PzcSYMKBOnDxdfrtrQkTkWZinTkSeqLa2dtq0aTd5JwMi9W6KAIX2hTujPCeUvTadDTk5VavcHSBE4qwnfrRmpvRWV0loyP7vqoyIGd8+Fn6rdz1Cxr1rd/i8+PK9/RsNncdzfrEWqz9Oj+2/xfFtT1f/2zuPhg61vunDtTsnZL64wGeoXV81H8vN3GD4yTtvPKjot+jCsT+9nnPkPHAV48Lu/cWqFfP+X3v3HtfUle4N/GcwChEMVEGICqIBS4YPiMVWoNYR0ypOpXOgc4patKPWsQft26JVO14+c0RPtQd0XpXRtuKMYhV7CnMqFbzEOFQhTkW5vDSpGrlpYxQRUYzALun7RwC5BG+lGMff969kr7XXWtmJ8uyVZ60MfLDSa7kbV39WVId+vrNWfjDB3a7N8P7rYnRCp46IyMZwTp2IbNEvH6bfFfXK2HTlAAD40VR2+vSM9JuaamOy5uaWsB6fAu9O1RmflCy4CojEi5QjV7w01LmPCBDqDaVJqfoV1cLiv+V5vBc+3b1Hb0fqCysTbToZ3ZiZ9O2kFQmd5vbrClMyMdbPyhl3cg/pJk1bcJ/67q/+h+e7yblBS8O6iNXrzmVu3KD2fOf1Cdq6zp0nr1aPWvW3ty3x95Vj61cni9fHjXK4b2ndsU/Uo/7zb++7oO7UxpV/H7HxdU9Lk5V/T+szYx3DdCLb96RPGRERdZ/eEu8XAlcMA4DksrZz0YLxzKkFH2V7LDnQa8mB0MSc5MKa5pLvT45ecqDXkmNZt9q1VJ+f02vJgV7L8jRmAPq1Sw70WnJgbUmbGuY63fG8uf95oNeSA72WZU/clJdRbmouKsnzuHuuhSFl7YFeSw70Wnu67G4L+rXLDvRakp103spLqT+jjTMAEC2PeTFR6eXcx/K/vdheNnL5B/6J/QBzw6KD5+ubq1sbIaDZfaDXkgPRqup2R6vPJv/lsGLZgV5LDgz/T9WCv+vbrZT9sVr995xoy+uyVEgrKKgxw1yj+UI1+oubRgDFZy2lvRILjABQvSexc0eC8cypBYnZw5vbOba245Jc/dolB3qtLyhreyX/mB29o0B3q009S2lC83vnsTJ77o7TWQYTrPouM3Pk9E7T6ag7szNT9nb0UCtnNOafML4S5nnf+nae0TOw52Cl9X7L09f8D6YnbpwV6NKnU2Hlwc/qfhcX1jpNPmhCXNT1tOM19y9t0hXWvzjGBQAcR7/oqSlqPqfm2M4fpk571vpYiMimMFInIlv02FeUBjmIWx6aNLtVHmlXk2vM3lJxuFRkvFq3YE/eDNVVAPD1mOEAwJRR2Ha16E31t3UAgkYPDrH6v6z56p5NOYrMmpQ7onCpOLwftJdqov+Ss7bEBAC+LjMAmGvzLrTUv3olqxYAUFujab2DuFSrNgMiaegIKx0UaG8aAbi4zRnVKcVF5DUnXALAqDXmNT7ENQFQX5IXul6/oFyodxCHS8XuDQ3JmrN+mwrKmmPj6owtJydq6jIsr0sqwu2G5DNG9RWg5of08+bm7P/ellJxuFTcRT8t1/yquUwk8uuNstumFZnFbTpqUX0jZddxRWZNSoMovC/woznje4NiS2u1hoIvjisya1JuNb93LoI55XtjxoUfrXXamJt1asIrnSbO607t/Nrz7desTkDXHMuumfyS+4PU7/NC5KhDh3RWX+6w6HXLp46wPt1uLDrh+WJwuzLH0S+KjxfW3bf0mrFykEtzmd1Qz8FoAIDGws/Vo2Z2NblPRLaF2S9ERC1+NJWdLlpTDkA0I6B5RrT+zOmoYjNEfT9vyRWpP38y+rPqPYe/ix7jFiX1inr+7OIcIaWgPHFcgLPlnFuVWZZGgrys9lOWXTjDAPRzyVsSGuIAwHzjeI5fpmnF/xRPUYwN6jM4fFhpUrk5r+zqIh83ADfO38gA4kY4Jl+oyzt/c7pbfwDGczVqAL4uQVZuBq6V/QAAQb4Dva0NwNnHOQqmDNRp9AhXPPD1aTy7ZneNBpj+ypjPlW4AcKci6c8liw2Gtbkjto/rj6uVnxsASNI/nBAlBQCYG4wXqu19RIB/4nJ/ze4DocWAwufoPfPUm685RGtiwpaP7g8AhuIFn1xMNhgWHBh0YKqsTV3T2u/7fv7uuOlD+gLmG2dyw9NuFtQY93yP5QoAF7POmAFR4uxJi561XCbhRqWx3t1aXlOTtvDChKkd0s1Rl7s13XPuOnc7GDufUvPtMbtJK1werL6d35jAjYXlb/t17OLejJWCfIxD+2P9XdxLcvWYMOo+pdaUp6fZT1836KHGQESPDefUiehpl3H4ZHMyxh+PDU+/qYEo7rXnFvlY/ntsyCu8aQTCwxStKd32Poq4YQBM6pKbALyDBkwBcKlaXdvc4I3iqmQALm5RPlY7NKgLBQCLfvNcSHOMJXIeN3yxA3CnRn0BQP/Rvn0BZOiv3gCAhjNnTYBkyiSX6UDy2R/qAeDmmXMNAOJGDra30sXNsmoA8JZ2MXPaT+xhefAwW7zXFxvXmgGp+xpLmA7AwWvOSxIAKf+v8gYAOzt7AKjPK2nJYxH1dfeROT9EJwBuqk/eNALuiuGLRreE1LKANUoJgKz8yoL2tcPDFNOH9LV05jx6RJwUAM4YLAMQQQTAnHf2h5bMGbGz51D3zikmAC7qTvnKO+Sx1BzdmOn3XrtbgzYqj+53iWg3OX3v+l7D+n1bUmO9rCvXLurFnYfr7un1AKUD3T2v1DSnvTddrKxxdETNsV2VU2OG6nYte2v2W/PmL9v5Xae0eCKyJZxTJyJb1JMrSttzTF8+LkraOothLLDs8V1RnpR2N8m4rBYALt8RAEDmM2eIMeuSKav4ZtS4/sBN9WkTgKgxw6zOZ+PW9YJaACgrLkjStx4VzgCAub4BANx9XcIPG9Xl1WcaEd77ouYcIO3vN2xguPTinnM1BWaE/PiDuhxA31Cfnlv2qqswAYD55p60k3dvD64LAGAS6gEMkC8I+GFPsTnpq5OfH+y7YPzwOS8Nc+/zsFNC1woqASDax6PtTUjz9wB36nRXEeR293i4d9u4uK9D37ZNDZuuLN1yuCEjtzjjn7q4MUPjwuV+XaXcXL/eb1j7VPQrmetzX1y6qquFl5Wnjnm+mNjngevDRSa/eMYIPMxmlE0/o9TOb5R9clHdhDBH1OWpr4+b1+fMHnXgrISKve/3/o+/7fBEU+XeJXt1H7/tZ3fPdojo8WGkTkRPu+a9X8xX92w4NeNqXco3xqi7k6JC/R0AUFfWqLtYDQj0Dw+S4JIp5Z8X1owLcq8tz7oEQDJjzADr1e8IlwEAGd9XZ3TVpOfAKQ5G9R1TQQXCcS3dDPcRLt5wV3gBxbV5FxCCWjUAqUuIm9Xz+3sPAKpRVlsHWBvGbcsYRPZ9rRR2pf6OGQBumVac6WJFJiQh08eV+pSs+Lp6T0PDisO6FSr9IqXfGuVQaxP/XTFbZvo9pO1vQh7lO2CRt3J8gXtx4lfGpFohWVOarCmNCh6Z8rq88375dTXGPm0D1iZj5v/VTv3j0i7D6u8PHQqM/NThgesDeOYZR8ut2IO7dwx9nwjbccIfXtz4x7c+q+vj4j9t6f+5lb6kz/SP3XV/vfDiFE8AsPOcEGY8dhEPmZBDRD2HkToR2aIe2U+9PZHb9NcGbPmsOuu4ds8Y95ZcFxFEgBmL/l2ZGNxlVOv8gvuizNKkq9Xqq5hytjoFwDDXcGkXtZtTRMTbF7wyx7OLOhga6lOCYnNe2dWohpsFwCL5YEAU9KwjiuuyvjdE9a0rAIKetZ6GDgz0HgxUo+DctTJ4da5jSXwHJF0k0ltUl7VPtba3/MV4dvid2X5dRt4iR+8Xxn7+gpB8Xpf81cUVV4Wkw8X1DtKH2fJSbO8A3MHl2ptAm7PqzTceuIm2rbn7P5fob15jPJ/yZcWaSiEj/+xlO3FedMdXLtxplwdi/Pqzyn97f2rX6y5135waE/b2g9d/RAOHyoULnY4aKysw9L6lAAaGvb8pzPKw7vh6/ZR50+xQWN9w957E7vr16wAjdSJbxUidiKiFT8CaZ49N/L5hUVpJ+HsB7gAwMMgTKIe61IjgrqPaPsOnKEqTtA0HvrvorDMBWD7Wp8vk7AHS0Q4X99wRNBU353h2Fb82B+UZRuOMOgGQhI/sC8B+5IA41CVfvKKxbwAQPdLaxoEAIAoJHhBUXF1QczWl0LSmw/Yvd/TJahMAd4V7aHPuRvMNSbvguPGa9lq787yHSnDGhIpanRnWlrG2JXb2CVi+WB6+Kye0xJxcdvVhInX3IK8SfI/085cTw/q33hLcqLipBuDg6Gf9a4R7E9m7j4xb4DPlsHq4qkFTdt0Irw5JKi4yeWN567PC9K2nTsgWnNrapkbd9et2b51ywIiYjSsnGk9oJ0ya98D1X3EBgOvX8cwzDzlyL0/7QxfuwL3tstGbNUZ/hfz+pW006fZme87qvFNrla79AAAYt0lEQVQ8Edk2RupERK0k4a8OnX7u4h7DxcR8eWKwBOgf/pJLUHlNQb52hZfjmhdaMkl+NJV9X+Xg3xrt9Q0fOyBIW72noty7HBD1D/e/R1qJ14xx5xcfbkg58G2IbOyc1s35Gmt0+jseiub1l81B+eXqLBPg5jzaCQDg5BHqVpF8pTq9DwDHEN+u4+VnFWuGHf9NuXlt2on6ay2/fGRuuHGpNHlv6YrbgKhv8pSRLXFw8w1Jsub8ohee8+4NmOs0X5Subb/e1HnM0DWHz664Ux23S5fxpp978x8Qod5wUdd7eJAbcMugMfYOGuFm335c7r2bn7tLxYCAizW6H+HX5d+fvqHPuwR9X1OgLU0qHLx8lCMAGIpXqEwAQgI8grq+sp1UFxQ2ePvLnDv01dta1sgzz9z+x0XA8paOiju4P659ufGr99OHbrT85mhj3qeFL067O6N+v/oWdTXGoYMeNlJ3CQyp3JtfF9bm901rTh4Sxi11vH9pm8F8vafx9ZWedgDQ175vY0uCe+Ptvg9970BEPYiROhHZose2otTNf02Ycc9xISnzdPSvxoU4wN5/VPLoE1FnhLXpJ1O+Fins7WBu0t4yG+GS93GbeVlfjxkO1QXam2uBoNGe4VZ3F2nhHh6Qrj0Vfalh7ic5a/uJvXsDPwrq24Cb7LKiJUXeEpRfNaUAUeM8Wzoa4Octwj8bMu4AwwaMvlcv/af8PmD7Z8VzLwlJh0uSDrf/TaPefbfMDI26OzndP/wll5DyGs1V4/A/HgiRioy15jJR3+XPmtd+L9w9q4980e+uqnfXqLWlHivKw53sgKbLt8w6M9bMHB7kBty5kviZIQMIkYod0PKiIFr8XHN2hfez/UOOV2tqripWZYc7QOvgXrA4qPMCzNZrvmJPzoovROF2ZrVloa1M9vm/3Stfp5OarD1nV6DAz0nsIYLljQMQN2aYlVWfQ/3GnNNVYkyXGUl3NZ7KNU6e+QAV29Prrihefej8GM/fvO24NPmY79IJlq0VL6av/nzorG0uD1LarC53Z1H4vNeaPy5+ISM+/Udl9HRPNFXmnh4x6o2HHRER9Rzu0khE1JbIe9LwNQ7AnZuLviqtBwBJSMyEgpmyNUNELoJZXSuob5m93RwTXxnc7jdyRF5RwZZNRbrcRr1NZbeoBeNLo93i3ES4LahrBfUdUfiQ/tt/PbhNzsyAkJGWBsVTfO+uCg0aKbVEmVG+HvfZ/dBh6Jx3X7kc475oiDikzbSM37Chl1cr455tlxJj7z82a7pbnIvIHdDUmt2HDDj6wfg1z3cMK+39Q49+4Pd5gCRcbFbXCupac71D37jRsimWNBznQXMCJOH9oKkV1LWCukEUNczt6FJly5aXgM/zWdMHzOkH/GhW34ZioH0X+e6SkJgJBTFucW4i7x/N6gb4OUnWTA3QvRvk/XB/tdzCQxyjnEQ1twR1raC+DcUQl/Q/jLeeimOnGDXixKmLD9DqzdyDNZNffNgtyZt0p4rGjHqEjHCHUXFrJhm3zntr1ltvzXprXkrjrM1xoxwerBQAoEvL9JzZ5qdXfzVt3o9/mTf/rbfe/kvj7Gnc+IXIlvX66aefHvcYiIg6egwrSv/1mctU6tDDDUZgTsSY7RMeJd37X1vjmeQF+eGfzuv0M6Xd0nje+vcN05Jff+iZeCJ6mnFOnYjoKSHyVo7PU/Z1B1KyTy/Ivfq4x2Nz+oyOnnp2z7GH/G2iB9JkzEzH9MkM04no4TBSJyJ6eoi9XwnNCBAB5uSvTq/I/yVi0iea+9RFzx/a3P2xuvHrP2unzAvr9j0ciehfHbNfiIiIiIhsEefUiYiIiIhsESN1IrJFpaWlj3sIREREjxkjdSIiIiIiW8RInYiIiIjIFnFFKRERERGRLeKcOhERERGRLWKkTkS2iCtKiYiIGKkTEREREdkiRupERERERLaIK0qJiIiIiGwR59SJiIiIiGwRI3UiskVcUUpERMRInYiIiIjIFjFSJyIiIiKyRVxRSkRERERkizinTkT08zRVZK9bte1k1eMex89Xm//XVeu/0guPexxERGTR+3EPgIjIitLS0uHDh/+yfZSkzvpvVfNjsUTmr4yZGR34zMO3I9y4XFah9TV16+CAa0Xpu9NUJQaTALGTq09odOxvQ2SS7u1DyN86N1ueuPJlVwDA7apSw/lbVQLk4u7th4iIHgkjdSJ6qimi4id7wnTtdPa+/RsShJWJMXK7h2zCPnD2Jzu7d1SCLu3DpOwb0kDlG5F+A1Gl0xxUb/vwlH7p2lhFNwbrTed1pwF563NZRML2iO5rnoiIfiZG6kT0VJONCAz0BxCosK96d3tOfnmMfAQA1Banbduu0tYKYid56Mz5s593rT2+/t3tN2LWfRThAQCoz9/2h81Fk1Zund6YOmu9KnzpzlkKAKYy1a7t6fmXTIK9LHDqnPmvyiUw7F/yYbr3wu3vBIsBU+6Gdz4tco36KPE1GQD9vncSjo9fuSXmbsAMg2p3dpX9+PiE2YGWuDwoJNR/x6IkVeo/Jn40RQZoU2etL3+zdS5c23YAMFWodm5LP20wCWJZUOSceZFyCdBUW7RvW0qOtrYeYidXn3GzF04R0v60OUcAdi+etRsIX7pzlqtq9eJUxCauUrqi7SliyZDg6Lkzld4SwPJdBOLXeWq2pOVfMsFJrpz3bkyAFACuF6V9mqLS1QoQSwb6jJ+7MMavm78FICJ6qjBPnYhs0S+e+tJJY30j4Cp1BABBl7oyKU8ydVnilsRlrzkXJq9KLRGkAWMVMHxTYLDUF4rzNZCMD5a3a+WaKmltmsFv/uotWz+ar7jxvwlJR6oAmeI5CU7rzjcBELTFRRInSVWRtgoADNrTJvxK7tW2kStFmktwfXlyYJsoVxIwOWIQDJqi+6XDV6k2JqQZFPMTtm5dt1BRvT8hUVUFmE7t2nyoXDFtdeKWj5a9OVnu5SyRKGIWRHoBXr9bvXXL1q1vKNq3I2j3rtygrhr1enz8e3MiB2lT1yaprrSW5mz+09F+k+cvfG/2eEd99qZdmlsATJrdm7MvKWITEreuWzZzstzLmWE6EdHPwkidiJ5qhgtFRQVFmiM7Nu/Ti31fCh4EwJSfpaodERE5VtYP/WRjI5RDTKrT5yEd81IADLlFBgAQigrzMSjiJd92remPpuvFoZFTfZwBZ3lkxHPQa4qqAPmvQsVCkf6yJeFEMv61CNcLxfpbwHVt0RUEBija5YVXXasA5B6u7Ucq8/IFKq/dJ1K/cDT9nDj0t5E+joCjT+TkYFzQFF2DYLohAH2krq5OMvlYZfRYGezEEieJGBD3lUicJBL79u3cyj94pNZ1ysLZLwcGBoVEzJsZAn3aEW1LseDz5qLYcYGBQeNjp4+HUKS/BEC4fUsA+ji7uEo85CEvR4d4POSbQURE7TH7hYhsUU+sKAUAaDM2WMJPr1dXboqSSwCgXK8DhLRVC9Lu1vMFIAkeF4Lkb4ouR8hcivK/FWRRwbJ2jdWW600w5Wx+N+fusRGW1uUKqIrO1UY2FOcJgXPGyYV96boyBNfr9ZDHjuy2uefaivMmmHI2tR2BHIB07LSIY+uy//xOnkdgxBuxkQGu4nun41/Sa4HQ1rl+ey+5JzSlhiooLDcQMhdpc5FIDAhoAiAN/V3ENx9nb1iQJwuKiJkWGTiIC1OJiH4WRupE9FRTfrAz1r9KtfbD1ELtjeZIHQAwLn7n3MAOlcUBwSFizTcFBuWg/HxBFh0kQ2eeMYkJER3mw+EkDxiB1LPn9bfyTSMme9n74Dmk6PQvoQiDIhQD21d2HegF6C9XAW3bN1ScAzwHdmwZQJPQfl9Fr5iPV0cM6lBJHpOwfWKJKvPLtP1/Xpz93Pykd0Ok6GYS35jVn0zUqjPTvty/YUl28DtJC8d2eydERE8RZr8QEbkq50bLL6Vv/tqSgz5M7gcU6vRNnSraBwY/LzbkF+WU5AsjJgZ3zO6QDpNLUFmsrbXShSLQFWX6fEOVa6DCFWKfkXLTWY1GbxIHyDvG+4MCQ4ag6sjBojYbP5qKD2ZfgSwksDVSN1xv6eZyRWtWitTLR4KK4nNWRgDA1V85+0/bV7/qKpzW/9D15QCAIXIFoNVXND+tr9BXQuwls3Kf0IGdq+Ll2av/sjpykJB/9j6dEBHRvTFSJyJb1NMrSgdFTJsiNWSkZF8BIAmeopTeyt6UnF1UWVVVqdUc2aE6Z6knDg4dL75w9OB3gmLCmM5hq3xitFysTU1MzblgMF3WFx1PT/u2OWiW+QdLruTkfCcJ9pcBkPoGul5Qqc4h2NenUzMy5ZsRrvU5G5avTzuiKSrQqPZsWLUpRxgYERtuieqdBw6B6cje9JNFRQU5qZ/sv9GaZjJiYrSvWLszKfW43nDLoC/ISd+XXwvUfpuWdqSo4prJdFmbf+4GnpH0A+Do7ApUfPuN9oK+qLJ9cO8UPPllaVXW5h1HiooKNNmf7tIIssiJHVaddlCbvy9NVVBRdctk0OVrr0Pq1O/B3wEiIuqM2S9ERAAgf22+8vj69O2q4GVKV7/Ydcuk23bv37wyTYBY6q2I9mup5xeidFJlX1FMDbCW1zFQuTKh346de1NXq3Y071TYskH5YHkgsjX1yoBhAIAhimCn9OxbgYF+VpK5xX4xiev80nenqfZtyxYAwHXcwo9+H+zanFwui3h3fsXGlP1bN4id5Mp5K2OPrNrRfKqrctnqfrtS9+5OUG1v3pAxAoATKnZvzt4tAGKpX+j8JdFeAOyDo+eFVOzav351tvTVZZs8274isWJaQrxoW8qXG3LqxZIhwbF/mqkccu9LKJagYte27NR6wF6qCJu/7DWve59ARET31uunn3563GMgIuqox1aUPgFM+rSP1mVf9opdu1LZMfuciIj+lTH7hYjItknkMR/GK530qcsT2uxoTkRE//o4p05Etohz6kRERIzUiYiIiIhsEbNfiIiIiIhsESN1IrJFpaWlj3sIREREjxkjdSIiIiIiW8RInYiIiIjIFnFFKRERERGRLeKcOhERERGRLWKkTkS2iCtKiYiIGKkTEREREdkiRupERERERLaIK0qJiIiIiGwR59SJiIiIiGwRI3UiskVcUUpERMRInYiIiIjIFjFSJyIiIiKyRVxRSkRERERkizinTkT0M5Skzpo1K7XESknVkYRZsxJU13p8SE+yuqLP4iInJ5/pVNCk++zflx2quV+1nnfxUMKbk9//ytipoObQH1//7LuWZ02Vh1ZPm/xeZud6Pa3rkdQcXvb6p7qWanWF2+MiJycX9uzorHryPhVE3af34x4AEZEVpaWlw4cP/2X7KEmd9d+q5sdiicxfGTMzOvCZX7bPbnC9KO3TFJWuVgDEUkXwb6PnhMvFj3tQ3aHuwpdrlmpcxgy0Utb4z/2ZIyftcblPtR5Wc3zj+9sb/TytlV1Up+snvf8rAMC13I2LPmv09+rRwVl1r5FUqjP0k97zA4C6C+n/tfSEyxgb+Nfw5H0qiLoX59SJ6KmmiIqPfy9+/htjxCX7NySk6ZseoQ2J2KHbx9WFJn1awobsK4Mj5sbHvzc70g8VN/AvEaYD13K/PDtpy8ezFP07lzWeys0NiwhzvE+1ntWo+/Kw49LkpZNkVgor/3kI/z7Jz1Lvfw86LtmydOLQHh5gJ/ccycVThzBt0rMAUHP8S+3ELRtnKlx6eICdPXGfCqLuxjl1InqqyUYEBvoDCFTYV727PSe/PEY+Qps6az0+2BpyLikpS4+XV259Q46m2qJ921JytLX1YsmQ4Oi5M5XektY2pLc125alaC4LYo+Q2P8zf7xHp27anu4bOmfu7OBBAKpUqxdrXlgaWZ2+Ta03QSKfsmjRy43ZmzZnnzMJ9rKQmfHzw1zbtVNTfv465G/Ojh7nCiAwaHxka5GpQrVzW/ppg0mAWKqI+XCp0qPtQbHUTzlnXozlS4OqIwmLNSGJf+iXvjFFc1kxf0t8iBNqi9O2bVdpawWxkzx05vzZz7sCbafwxZKBPuPnLozxk1R8tTghy2vOxwtDpN33TgyctHQ5AGvpITdzDx4Pm7ygz32q9bA+fm8n+AGwlh+iO/QFJiV5Ntebm+AH4PFnZdxrJLpDe6HcYBmxS8TSlQCu9OTYuvDEfSqIuhvn1InIFv3iqS+dNNY3Aq5Sx+anp/66al1uvzG/VkYGyABBu3flBnXVqNfj49+bEzlIm7o2SXU3jqlI35nv9dv4pctigxs0O9amaus7tC1o967ccEoSuSRxa9KyaKfCzQl36+j/Z0O6+aX5cfGxz4v1X617d/EOQ9DMhe/NVroYNJ+mam61b8nR2VWMim81FR2Oo0q1MSH1tDh0Vnz8e/Njxj43zK3lYKGzcm58/HuxY26rNiSkak0tZ1QeXL8uxeA1XvlyiJcTBF3qyqQ8ydRliVsSl73mXJi8KrVEAEya3ZuzLyliExK3rls2c7Lcy1kCAE2NQpPw86/5A6o5eUj3amRYj31x8fN9d+KQPDr8sc+hP7gm3YnD8uiJVvN4bNST96kgeiScUyeip5rhQlGRgBtlRzOz9GLf2OBBzcdrzcErE2PkdgCAW5qDR2pdX1s9+2UvAIF+4ooFm9OOaJVvKgAAgiJqTsRYCaBQzLmc/9+qk+diFQFt+riVf/BIrfyNyFC3fkC/0N8oj55OP62PVfgDAOyVM6eNl9sBsohvctMMobMXTlEAUAg6VXJRxVWEOLVpyj44+vfB+r+mr3o/Wx4WMy1qvNwyq33haPo5QTF3Uew4KQAE3T0Y/M7C6LESAIHuJu2ytPSTkYpwKQAIN2SvJ8WHWc43abJUtSNiIsfK+gH9xkYo/5Gffvp8rP/g27cEoI+zi6vEyTXEQ24ZhVfUpp1R3fs+3EOlOkM/aaFfj/X3szXmZmXKf73z8aeOPLDGf+7PlE94kkb85H0qiB4RI3UiskU9saIUAKDN2KAFYC9VhM1e+Mb4u7kmowKaw3QAl/RaIFTesg7P3kvuCU2poQoKS31XaUsmjLuHF/DDlSqgTdbKJb0WEPatemff3WOK1kduA6WWjuzEYsBL1nyiWNIPMAl3Og7YNWxhYoBBcyQtPWtHwj/Sg99ZuXCsa23FeRO8AnzbJaNYDspbs3Q8vBSA6uIPgKWaV8DI1vrleh0gpK1akHb3fF8A0tDfRXzzcfaGBXmyoIiYaZGBg3o8K/7iqUON0St+1dPdPro7p04cD5u64AkKey0J3+8/QSN+8j4VRI+KkToRPdWUH+yM9e+JjsYv2jk74P7VHoiTLCQqPuQ1Q/baD9O2H9SOjR3cLc2Oi985N7DDMYlvzOpPJmrVmWlf7t+wJDv4naSFY7sxOf3+dIf2YsqGJygtoy7vYO64ye8/QVkZbRO+nxBP3KeC6JExT52I6H6GyBWAVl/R/LS+Ql8JcevsN2CoqbU8EEr1eoiHebh2Pv1Uib6bR2UnCwx0hQAAUo9hYlQUn6ttWy718pGgQl/Wkpl+uUILyGWunRoCMEzuBxTqrG99Y+eqeHn26r+sjhwk5J/9oVtfw/08efnTNblHdVOnhD1BYe+Tl/D95H0qiB4d59SJyBb1/IrSe3EKnvyydH3W5h1Osc8NNBmO79UIsuiJdxNYtBm7ssUvyWD4Zp8GTsrn5FZOLzq0abPznMjnZajSnz95e9jvlR1qPZCS1He+uq18PlA+UGK6djo7s0ocIB8MwDdE+Ywqe2dSKqIDHHGjTNfv1zHBIyZG+6pS/7o5HZPlfW8UZ6QbxCELw6xG6pLgKUrpuuxNydI5vw2WoUp/9uRtr9lK39r8fdk3fEMC5a5CRb72OqRO/QBUZLy7KmvY/KT47tz7xaoi9ROWP33lxEH9pHnPPu5hPATjiSz9pLefqITvJ+5TQfQzMFInIrovsWJaQrxoW8qXG3LqxZIhwbF/mqkc0lqojF/kqdmyOe2yIPYImb0kVmHf+fR1S523pWZtXrVPgL3Uyy9agUfi7jfGLk21T7NfAOylivD4j94IlAKwk8esjBfvSsvevkEFsWTI+PkvA3BVvr8SO7elb9+wXxBL/ZTxH8cESqw3LPaLXbdMum33/s0r0wSIpd6KaD8AYgkqdm3LTq23pPLPX/aaFwDY9RHb/UIJ6+5T/3zw7rPRcftHP0C1x2rUgoOjWp8Mmrrxiy7qjY47aP219Lh2I3Gf+ucvrVcbNHWjrVzjJ+9TQdRdev3000+PewxERB312IpSIiIim8U8dSIiIiIiW8RInYiIiIjIFjH7hYiIiIjIFnFOnYiIiIjIFjFSJyJbVFpa+riHQERE9JgxUiciIiIiskWM1ImIiIiIbBFXlBIRERER2SLOqRMRERER2SJG6kRki7iilIiIiJE6EREREZEtYqRORERERGSLuKKUiIiIiMgWcU6diIiIiMgWMVInIlvEFaVERET/H47MSgWyIs4DAAAAAElFTkSuQmCC)"
      ],
      "metadata": {
        "id": "lV3cvZem2gEf"
      }
    }
  ]
}
