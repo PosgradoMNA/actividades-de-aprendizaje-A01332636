{
  "nbformat": 4,
  "nbformat_minor": 0,
  "metadata": {
    "colab": {
      "provenance": [],
      "toc_visible": true,
      "authorship_tag": "ABX9TyOnVfQHIqmM3jmfxAU3cxpD",
      "include_colab_link": true
    },
    "kernelspec": {
      "name": "python3",
      "display_name": "Python 3"
    },
    "language_info": {
      "name": "python"
    }
  },
  "cells": [
    {
      "cell_type": "markdown",
      "metadata": {
        "id": "view-in-github",
        "colab_type": "text"
      },
      "source": [
        "<a href=\"https://colab.research.google.com/github/PosgradoMNA/actividades-de-aprendizaje-A01332636/blob/main/M%C3%B3dulo_4_Python_for_Data_Science_(IBM).ipynb\" target=\"_parent\"><img src=\"https://colab.research.google.com/assets/colab-badge.svg\" alt=\"Open In Colab\"/></a>"
      ]
    },
    {
      "cell_type": "markdown",
      "source": [
        "#Módulo 4"
      ],
      "metadata": {
        "id": "bNtFSBMZdork"
      }
    },
    {
      "cell_type": "markdown",
      "source": [
        "##Reading Files"
      ],
      "metadata": {
        "id": "XB8xK2eadq6z"
      }
    },
    {
      "cell_type": "markdown",
      "source": [
        "###Download Data"
      ],
      "metadata": {
        "id": "JzXeAArsqaUJ"
      }
    },
    {
      "cell_type": "code",
      "source": [
        "!pip install pyodide.http"
      ],
      "metadata": {
        "colab": {
          "base_uri": "https://localhost:8080/"
        },
        "id": "VTgEdHw4qphz",
        "outputId": "c928feaf-271a-47d1-fffb-b13d12995042"
      },
      "execution_count": 21,
      "outputs": [
        {
          "output_type": "stream",
          "name": "stdout",
          "text": [
            "Looking in indexes: https://pypi.org/simple, https://us-python.pkg.dev/colab-wheels/public/simple/\n",
            "Collecting pyodide.http\n",
            "  Downloading pyodide_http-0.0.8-py3-none-any.whl (4.9 kB)\n",
            "Installing collected packages: pyodide.http\n",
            "Successfully installed pyodide.http-0.0.8\n"
          ]
        }
      ]
    },
    {
      "cell_type": "code",
      "source": [
        "import urllib.request\n",
        "url = 'https://cf-courses-data.s3.us.cloud-object-storage.appdomain.cloud/IBMDeveloperSkillsNetwork-PY0101EN-SkillsNetwork/labs/Module%204/data/example1.txt'\n",
        "filename = 'Example1.txt'\n",
        "urllib.request.urlretrieve(url, filename)\n",
        "!wget -O /resources/data/Example1.txt https://cf-courses-data.s3.us.cloud-object-storage.appdomain.cloud/IBMDeveloperSkillsNetwork-PY0101EN-SkillsNetwork/labs/Module%204/data/example1.txt"
      ],
      "metadata": {
        "colab": {
          "base_uri": "https://localhost:8080/"
        },
        "id": "jBrR59sRsA7Y",
        "outputId": "2648e6e0-7b3c-4577-9d0c-55f67b790b0f"
      },
      "execution_count": 27,
      "outputs": [
        {
          "output_type": "stream",
          "name": "stdout",
          "text": [
            "/resources/data/Example1.txt: No such file or directory\n"
          ]
        }
      ]
    },
    {
      "cell_type": "code",
      "source": [
        "from pyodide.https import pyfetch\n",
        "import pandas as pd\n",
        "\n",
        "filename = \"https://cf-courses-data.s3.us.cloud-object-storage.appdomain.cloud/IBMDeveloperSkillsNetwork-PY0101EN-SkillsNetwork/labs/Module%204/data/example1.txt\"\n",
        "\n",
        "async def download(url, filename):\n",
        "    response = await pyfetch(url)\n",
        "    if response.status == 200:\n",
        "        with open(filename, \"wb\") as f:\n",
        "            f.write(await response.bytes())\n",
        "\n",
        "\n",
        "await download(filename, \"Example1.txt\")"
      ],
      "metadata": {
        "colab": {
          "base_uri": "https://localhost:8080/",
          "height": 373
        },
        "id": "RfHTjks1qZhz",
        "outputId": "e8df8df2-b92b-4e60-a207-6192bcd6be56"
      },
      "execution_count": 28,
      "outputs": [
        {
          "output_type": "error",
          "ename": "ModuleNotFoundError",
          "evalue": "ignored",
          "traceback": [
            "\u001b[0;31m---------------------------------------------------------------------------\u001b[0m",
            "\u001b[0;31mModuleNotFoundError\u001b[0m                       Traceback (most recent call last)",
            "\u001b[0;32m<ipython-input-28-f0b537b72ccf>\u001b[0m in \u001b[0;36masync-def-wrapper\u001b[0;34m()\u001b[0m\n\u001b[1;32m      2\u001b[0m \u001b[0;32mimport\u001b[0m \u001b[0mpandas\u001b[0m \u001b[0;32mas\u001b[0m \u001b[0mpd\u001b[0m\u001b[0;34m\u001b[0m\u001b[0;34m\u001b[0m\u001b[0m\n\u001b[1;32m      3\u001b[0m \u001b[0;34m\u001b[0m\u001b[0m\n\u001b[0;32m----> 4\u001b[0;31m \u001b[0mfilename\u001b[0m \u001b[0;34m=\u001b[0m \u001b[0;34m\"https://cf-courses-data.s3.us.cloud-object-storage.appdomain.cloud/IBMDeveloperSkillsNetwork-PY0101EN-SkillsNetwork/labs/Module%204/data/example1.txt\"\u001b[0m\u001b[0;34m\u001b[0m\u001b[0;34m\u001b[0m\u001b[0m\n\u001b[0m\u001b[1;32m      5\u001b[0m \u001b[0;34m\u001b[0m\u001b[0m\n\u001b[1;32m      6\u001b[0m \u001b[0;32masync\u001b[0m \u001b[0;32mdef\u001b[0m \u001b[0mdownload\u001b[0m\u001b[0;34m(\u001b[0m\u001b[0murl\u001b[0m\u001b[0;34m,\u001b[0m \u001b[0mfilename\u001b[0m\u001b[0;34m)\u001b[0m\u001b[0;34m:\u001b[0m\u001b[0;34m\u001b[0m\u001b[0;34m\u001b[0m\u001b[0m\n",
            "\u001b[0;31mModuleNotFoundError\u001b[0m: No module named 'pyodide'",
            "",
            "\u001b[0;31m---------------------------------------------------------------------------\u001b[0;32m\nNOTE: If your import is failing due to a missing package, you can\nmanually install dependencies using either !pip or !apt.\n\nTo view examples of installing some common dependencies, click the\n\"Open Examples\" button below.\n\u001b[0;31m---------------------------------------------------------------------------\u001b[0m\n"
          ],
          "errorDetails": {
            "actions": [
              {
                "action": "open_url",
                "actionText": "Open Examples",
                "url": "/notebooks/snippets/importing_libraries.ipynb"
              }
            ]
          }
        }
      ]
    },
    {
      "cell_type": "markdown",
      "source": [
        "###Reading text files"
      ],
      "metadata": {
        "id": "PSucNL1LsNQZ"
      }
    },
    {
      "cell_type": "code",
      "source": [
        "doc= \"document.txt\"\n",
        "file = open(doc, \"r\")"
      ],
      "metadata": {
        "id": "XjBvKRN7eE82"
      },
      "execution_count": 1,
      "outputs": []
    },
    {
      "cell_type": "code",
      "source": [
        "file.name"
      ],
      "metadata": {
        "colab": {
          "base_uri": "https://localhost:8080/",
          "height": 35
        },
        "id": "ZI81GV_GpyIz",
        "outputId": "d44ae5c6-3750-4c1b-8309-ae7c3a426fbf"
      },
      "execution_count": 2,
      "outputs": [
        {
          "output_type": "execute_result",
          "data": {
            "text/plain": [
              "'document.txt'"
            ],
            "application/vnd.google.colaboratory.intrinsic+json": {
              "type": "string"
            }
          },
          "metadata": {},
          "execution_count": 2
        }
      ]
    },
    {
      "cell_type": "code",
      "source": [
        "file.mode"
      ],
      "metadata": {
        "colab": {
          "base_uri": "https://localhost:8080/",
          "height": 35
        },
        "id": "wn879_rqp2t9",
        "outputId": "68a4f5f0-ae5f-4ade-f475-5564afda678a"
      },
      "execution_count": 3,
      "outputs": [
        {
          "output_type": "execute_result",
          "data": {
            "text/plain": [
              "'r'"
            ],
            "application/vnd.google.colaboratory.intrinsic+json": {
              "type": "string"
            }
          },
          "metadata": {},
          "execution_count": 3
        }
      ]
    },
    {
      "cell_type": "code",
      "source": [
        "fileContent= file.read()\n",
        "fileContent"
      ],
      "metadata": {
        "colab": {
          "base_uri": "https://localhost:8080/",
          "height": 122
        },
        "id": "Y6QE52VPp50R",
        "outputId": "ed41a205-c770-480d-c3bd-b9cc2691375c"
      },
      "execution_count": 4,
      "outputs": [
        {
          "output_type": "execute_result",
          "data": {
            "text/plain": [
              "'A text file (sometimes spelled textfile; an old alternative name is flatfile) is a kind of computer file that is structured as a sequence of lines of electronic text. A text file exists stored as data within a computer file system. In operating systems such as CP/M and MS-DOS, where the operating system does not keep track of the file size in bytes, the end of a text file is denoted by placing one or more special characters, known as an end-of-file marker, as padding after the last line in a text file. On modern operating systems such as Microsoft Windows and Unix-like systems, text files do not contain any special EOF character, because file systems on those operating systems keep track of the file size in bytes. Most text files need to have end-of-line delimiters, which are done in a few different ways depending on operating system. Some operating systems with record-orientated file systems may not use new line delimiters and will primarily store text files with lines separated as fixed or variable length records.\\n\\n\"Text file\" refers to a type of container, while plain text refers to a type of content.\\n\\nAt a generic level of description, there are two kinds of computer files: text files and binary files.[1]'"
            ],
            "application/vnd.google.colaboratory.intrinsic+json": {
              "type": "string"
            }
          },
          "metadata": {},
          "execution_count": 4
        }
      ]
    },
    {
      "cell_type": "code",
      "source": [
        "print(fileContent)"
      ],
      "metadata": {
        "colab": {
          "base_uri": "https://localhost:8080/"
        },
        "id": "0uJbC4rep-D9",
        "outputId": "42f429f7-7a67-4d18-d182-57a893a2bc4c"
      },
      "execution_count": 5,
      "outputs": [
        {
          "output_type": "stream",
          "name": "stdout",
          "text": [
            "A text file (sometimes spelled textfile; an old alternative name is flatfile) is a kind of computer file that is structured as a sequence of lines of electronic text. A text file exists stored as data within a computer file system. In operating systems such as CP/M and MS-DOS, where the operating system does not keep track of the file size in bytes, the end of a text file is denoted by placing one or more special characters, known as an end-of-file marker, as padding after the last line in a text file. On modern operating systems such as Microsoft Windows and Unix-like systems, text files do not contain any special EOF character, because file systems on those operating systems keep track of the file size in bytes. Most text files need to have end-of-line delimiters, which are done in a few different ways depending on operating system. Some operating systems with record-orientated file systems may not use new line delimiters and will primarily store text files with lines separated as fixed or variable length records.\n",
            "\n",
            "\"Text file\" refers to a type of container, while plain text refers to a type of content.\n",
            "\n",
            "At a generic level of description, there are two kinds of computer files: text files and binary files.[1]\n"
          ]
        }
      ]
    },
    {
      "cell_type": "code",
      "source": [
        "file.close()"
      ],
      "metadata": {
        "id": "OOvUIlNAqE9O"
      },
      "execution_count": 7,
      "outputs": []
    },
    {
      "cell_type": "markdown",
      "source": [
        "###A better way to poen a file"
      ],
      "metadata": {
        "id": "y_coSjzbsS49"
      }
    },
    {
      "cell_type": "code",
      "source": [
        "with open(doc, \"r\") as file:\n",
        "    FileContent = file.read()\n",
        "    print(FileContent)"
      ],
      "metadata": {
        "colab": {
          "base_uri": "https://localhost:8080/"
        },
        "id": "WLNWYvmosSPu",
        "outputId": "92471ba2-7f53-4506-c80a-3a6be67e1523"
      },
      "execution_count": 30,
      "outputs": [
        {
          "output_type": "stream",
          "name": "stdout",
          "text": [
            "A text file (sometimes spelled textfile; an old alternative name is flatfile) is a kind of computer file that is structured as a sequence of lines of electronic text. A text file exists stored as data within a computer file system. In operating systems such as CP/M and MS-DOS, where the operating system does not keep track of the file size in bytes, the end of a text file is denoted by placing one or more special characters, known as an end-of-file marker, as padding after the last line in a text file. On modern operating systems such as Microsoft Windows and Unix-like systems, text files do not contain any special EOF character, because file systems on those operating systems keep track of the file size in bytes. Most text files need to have end-of-line delimiters, which are done in a few different ways depending on operating system. Some operating systems with record-orientated file systems may not use new line delimiters and will primarily store text files with lines separated as fixed or variable length records.\n",
            "\n",
            "\"Text file\" refers to a type of container, while plain text refers to a type of content.\n",
            "\n",
            "At a generic level of description, there are two kinds of computer files: text files and binary files.[1]\n"
          ]
        }
      ]
    },
    {
      "cell_type": "code",
      "source": [
        "file.closed"
      ],
      "metadata": {
        "colab": {
          "base_uri": "https://localhost:8080/"
        },
        "id": "gkLOykmosj38",
        "outputId": "18800cd2-b05e-4cd1-8309-54381012c41d"
      },
      "execution_count": 31,
      "outputs": [
        {
          "output_type": "execute_result",
          "data": {
            "text/plain": [
              "True"
            ]
          },
          "metadata": {},
          "execution_count": 31
        }
      ]
    },
    {
      "cell_type": "code",
      "source": [
        "print(fileContent)"
      ],
      "metadata": {
        "colab": {
          "base_uri": "https://localhost:8080/"
        },
        "id": "Y8STsnX3smyR",
        "outputId": "8619ff21-bde5-49b0-871a-9a872289a881"
      },
      "execution_count": 32,
      "outputs": [
        {
          "output_type": "stream",
          "name": "stdout",
          "text": [
            "A text file (sometimes spelled textfile; an old alternative name is flatfile) is a kind of computer file that is structured as a sequence of lines of electronic text. A text file exists stored as data within a computer file system. In operating systems such as CP/M and MS-DOS, where the operating system does not keep track of the file size in bytes, the end of a text file is denoted by placing one or more special characters, known as an end-of-file marker, as padding after the last line in a text file. On modern operating systems such as Microsoft Windows and Unix-like systems, text files do not contain any special EOF character, because file systems on those operating systems keep track of the file size in bytes. Most text files need to have end-of-line delimiters, which are done in a few different ways depending on operating system. Some operating systems with record-orientated file systems may not use new line delimiters and will primarily store text files with lines separated as fixed or variable length records.\n",
            "\n",
            "\"Text file\" refers to a type of container, while plain text refers to a type of content.\n",
            "\n",
            "At a generic level of description, there are two kinds of computer files: text files and binary files.[1]\n"
          ]
        }
      ]
    },
    {
      "cell_type": "code",
      "source": [
        "with open(doc, \"r\") as file:\n",
        "    print(file.read(6))"
      ],
      "metadata": {
        "colab": {
          "base_uri": "https://localhost:8080/"
        },
        "id": "lHTgshu9s0Y5",
        "outputId": "b6698b70-908f-498b-dd69-d60695d85227"
      },
      "execution_count": 36,
      "outputs": [
        {
          "output_type": "stream",
          "name": "stdout",
          "text": [
            "A text\n"
          ]
        }
      ]
    },
    {
      "cell_type": "code",
      "source": [
        "with open(doc, \"r\") as file:\n",
        "    print(file.read(6))\n",
        "    print(file.read(9))\n",
        "    print(file.read(10))\n",
        "    print(file.read(15))"
      ],
      "metadata": {
        "colab": {
          "base_uri": "https://localhost:8080/"
        },
        "id": "YzGW0H6Xs6b0",
        "outputId": "adc53e96-f8c1-4bca-f28e-32afa21ff0f9"
      },
      "execution_count": 37,
      "outputs": [
        {
          "output_type": "stream",
          "name": "stdout",
          "text": [
            "A text\n",
            " file (so\n",
            "metimes sp\n",
            "elled textfile;\n"
          ]
        }
      ]
    },
    {
      "cell_type": "markdown",
      "source": [
        "##Writing Files"
      ],
      "metadata": {
        "id": "9QdTE5fkdwW1"
      }
    },
    {
      "cell_type": "markdown",
      "source": [
        "##Loading Data with Pandas"
      ],
      "metadata": {
        "id": "tYUdirtbd4I-"
      }
    },
    {
      "cell_type": "markdown",
      "source": [
        "##Working with and Saving Data with Pandas"
      ],
      "metadata": {
        "id": "wMz6GqYbd-ZQ"
      }
    },
    {
      "cell_type": "markdown",
      "source": [
        "##Loading Data and Viewing Data"
      ],
      "metadata": {
        "id": "Ec25Yw6deC5X"
      }
    }
  ]
}