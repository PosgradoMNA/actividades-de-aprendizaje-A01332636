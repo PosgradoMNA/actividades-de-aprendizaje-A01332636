{
  "nbformat": 4,
  "nbformat_minor": 0,
  "metadata": {
    "colab": {
      "provenance": [],
      "authorship_tag": "ABX9TyOU/RYxUEkuAebMoZiY6hfC",
      "include_colab_link": true
    },
    "kernelspec": {
      "name": "python3",
      "display_name": "Python 3"
    },
    "language_info": {
      "name": "python"
    }
  },
  "cells": [
    {
      "cell_type": "markdown",
      "metadata": {
        "id": "view-in-github",
        "colab_type": "text"
      },
      "source": [
        "<a href=\"https://colab.research.google.com/github/PosgradoMNA/actividades-de-aprendizaje-A01332636/blob/main/M%C3%B3dulo_2.ipynb\" target=\"_parent\"><img src=\"https://colab.research.google.com/assets/colab-badge.svg\" alt=\"Open In Colab\"/></a>"
      ]
    },
    {
      "cell_type": "markdown",
      "source": [
        "# Módulo 2"
      ],
      "metadata": {
        "id": "kIGknK6vgqXP"
      }
    },
    {
      "cell_type": "markdown",
      "source": [
        "##Tuple"
      ],
      "metadata": {
        "id": "_HU5b6yPJ2Wk"
      }
    },
    {
      "cell_type": "code",
      "source": [
        "A=(0,\"Estefania\",2.0,3)\n",
        "A"
      ],
      "metadata": {
        "colab": {
          "base_uri": "https://localhost:8080/"
        },
        "id": "3Nqc0YUPJxRI",
        "outputId": "7f81ca29-1026-4042-9f23-d79195369a06"
      },
      "execution_count": null,
      "outputs": [
        {
          "output_type": "execute_result",
          "data": {
            "text/plain": [
              "(0, 'Estefania', 2.0, 3)"
            ]
          },
          "metadata": {},
          "execution_count": 1
        }
      ]
    },
    {
      "cell_type": "code",
      "source": [
        "type(A)"
      ],
      "metadata": {
        "colab": {
          "base_uri": "https://localhost:8080/"
        },
        "id": "zjNymcWTLdVK",
        "outputId": "0998d912-5883-4574-9450-00a0331a84e4"
      },
      "execution_count": null,
      "outputs": [
        {
          "output_type": "execute_result",
          "data": {
            "text/plain": [
              "tuple"
            ]
          },
          "metadata": {},
          "execution_count": 2
        }
      ]
    },
    {
      "cell_type": "code",
      "source": [
        "#First two elements\n",
        "A[0:2]"
      ],
      "metadata": {
        "colab": {
          "base_uri": "https://localhost:8080/"
        },
        "id": "A-IjieTVKNpK",
        "outputId": "e5d2d186-5eb2-4678-e031-9ec902767875"
      },
      "execution_count": null,
      "outputs": [
        {
          "output_type": "execute_result",
          "data": {
            "text/plain": [
              "(0, 'Estefania')"
            ]
          },
          "metadata": {},
          "execution_count": 3
        }
      ]
    },
    {
      "cell_type": "markdown",
      "source": [
        "###Indexing"
      ],
      "metadata": {
        "id": "PN2vg595Lhjo"
      }
    },
    {
      "cell_type": "code",
      "source": [
        "print(A[0])\n",
        "print(A[1])\n",
        "print(A[2])"
      ],
      "metadata": {
        "colab": {
          "base_uri": "https://localhost:8080/"
        },
        "id": "MZ5g2XZwLiwG",
        "outputId": "a9a68d19-1dec-4b36-91e1-57f337e3f743"
      },
      "execution_count": null,
      "outputs": [
        {
          "output_type": "stream",
          "name": "stdout",
          "text": [
            "0\n",
            "Estefania\n",
            "2.0\n"
          ]
        }
      ]
    },
    {
      "cell_type": "code",
      "source": [
        "#Last element with negative\n",
        "A[-1]"
      ],
      "metadata": {
        "colab": {
          "base_uri": "https://localhost:8080/"
        },
        "id": "1yWVB3ueLL2J",
        "outputId": "15aa01d2-6169-4047-8e45-d93e90d2b6a2"
      },
      "execution_count": null,
      "outputs": [
        {
          "output_type": "execute_result",
          "data": {
            "text/plain": [
              "3"
            ]
          },
          "metadata": {},
          "execution_count": 5
        }
      ]
    },
    {
      "cell_type": "markdown",
      "source": [
        "###Concatenate"
      ],
      "metadata": {
        "id": "WdE2GYr4L5vQ"
      }
    },
    {
      "cell_type": "code",
      "source": [
        "A = A + (\"Abigail\", 27)\n",
        "A"
      ],
      "metadata": {
        "colab": {
          "base_uri": "https://localhost:8080/"
        },
        "id": "08A0v4RvLy5J",
        "outputId": "e4848c1e-1d71-42a0-826a-906d3ed104c6"
      },
      "execution_count": null,
      "outputs": [
        {
          "output_type": "execute_result",
          "data": {
            "text/plain": [
              "(0, 'Estefania', 2.0, 3, 'Abigail', 27)"
            ]
          },
          "metadata": {},
          "execution_count": 6
        }
      ]
    },
    {
      "cell_type": "markdown",
      "source": [
        "###Slicing"
      ],
      "metadata": {
        "id": "6Drpb9h9MFpk"
      }
    },
    {
      "cell_type": "code",
      "source": [
        "print(len(A))\n",
        "print(A[0:2])\n",
        "print(A[2:4])\n",
        "print(A[4:6])"
      ],
      "metadata": {
        "colab": {
          "base_uri": "https://localhost:8080/"
        },
        "id": "xZiAXcRKMLG8",
        "outputId": "aba89fa0-4cf3-4f9a-91ea-6eae3f405a7a"
      },
      "execution_count": null,
      "outputs": [
        {
          "output_type": "stream",
          "name": "stdout",
          "text": [
            "6\n",
            "(0, 'Estefania')\n",
            "(2.0, 3)\n",
            "('Abigail', 27)\n"
          ]
        }
      ]
    },
    {
      "cell_type": "markdown",
      "source": [
        "###Sorting"
      ],
      "metadata": {
        "id": "zIjHPt65MccU"
      }
    },
    {
      "cell_type": "code",
      "source": [
        "grades = (2,4,2,4,8,1,7)\n",
        "gradesSorted = sorted(grades)\n",
        "gradesSorted"
      ],
      "metadata": {
        "colab": {
          "base_uri": "https://localhost:8080/"
        },
        "id": "fnJc1KrDMf0F",
        "outputId": "a682c1f9-a920-471e-c65d-9a8d99cd261a"
      },
      "execution_count": null,
      "outputs": [
        {
          "output_type": "execute_result",
          "data": {
            "text/plain": [
              "[1, 2, 2, 4, 4, 7, 8]"
            ]
          },
          "metadata": {},
          "execution_count": 8
        }
      ]
    },
    {
      "cell_type": "markdown",
      "source": [
        "###Nested Tuple"
      ],
      "metadata": {
        "id": "zwfQiY2wMwL9"
      }
    },
    {
      "cell_type": "code",
      "source": [
        "Nested = (1,2,(\"hi\", \"bye\"), (9,1),(\"Abigail\",(27, \"december\")))\n",
        "Nested"
      ],
      "metadata": {
        "colab": {
          "base_uri": "https://localhost:8080/"
        },
        "id": "mZEvf51nM1Dr",
        "outputId": "04dba224-f614-4b20-d648-29748958a276"
      },
      "execution_count": null,
      "outputs": [
        {
          "output_type": "execute_result",
          "data": {
            "text/plain": [
              "(1, 2, ('hi', 'bye'), (9, 1), ('Abigail', (27, 'december')))"
            ]
          },
          "metadata": {},
          "execution_count": 9
        }
      ]
    },
    {
      "cell_type": "code",
      "source": [
        "print(\"Element 0 of Tuple: \", Nested[0])\n",
        "print(\"Element 1 of Tuple: \", Nested[1])\n",
        "print(\"Element 2 of Tuple: \", Nested[2])\n",
        "print(\"Element 3 of Tuple: \", Nested[3])\n",
        "print(\"Element 4 of Tuple: \", Nested[4])"
      ],
      "metadata": {
        "colab": {
          "base_uri": "https://localhost:8080/"
        },
        "id": "2vxvqboWNIfy",
        "outputId": "821cde7f-8889-4cd8-d55f-9cba0334c2e6"
      },
      "execution_count": null,
      "outputs": [
        {
          "output_type": "stream",
          "name": "stdout",
          "text": [
            "Element 0 of Tuple:  1\n",
            "Element 1 of Tuple:  2\n",
            "Element 2 of Tuple:  ('hi', 'bye')\n",
            "Element 3 of Tuple:  (9, 1)\n",
            "Element 4 of Tuple:  ('Abigail', (27, 'december'))\n"
          ]
        }
      ]
    },
    {
      "cell_type": "code",
      "source": [
        "print(\"Element 2, 0 of Tuple: \",   Nested[2][0])\n",
        "print(\"Element 2, 1 of Tuple: \",   Nested[2][1])\n",
        "print(\"Element 3, 0 of Tuple: \",   Nested[3][0])\n",
        "print(\"Element 3, 1 of Tuple: \",   Nested[3][1])\n",
        "print(\"Element 4, 0 of Tuple: \",   Nested[4][0])\n",
        "print(\"Element 4, 1 of Tuple: \",   Nested[4][1][1])"
      ],
      "metadata": {
        "colab": {
          "base_uri": "https://localhost:8080/"
        },
        "id": "EpUE9kLfNawg",
        "outputId": "baa2194e-6b64-4011-9778-19df9fabe291"
      },
      "execution_count": null,
      "outputs": [
        {
          "output_type": "stream",
          "name": "stdout",
          "text": [
            "Element 2, 0 of Tuple:  hi\n",
            "Element 2, 1 of Tuple:  bye\n",
            "Element 3, 0 of Tuple:  9\n",
            "Element 3, 1 of Tuple:  1\n",
            "Element 4, 0 of Tuple:  Abigail\n",
            "Element 4, 1 of Tuple:  december\n"
          ]
        }
      ]
    },
    {
      "cell_type": "code",
      "source": [
        "#Even string with a third index\n",
        "print(\"Element 2, 0, 0 of Tuple: \",   Nested[2][0][0])\n",
        "print(\"Element 2, 0, 1 of Tuple: \",   Nested[2][0][1])"
      ],
      "metadata": {
        "colab": {
          "base_uri": "https://localhost:8080/"
        },
        "id": "2PcC0dOANvbq",
        "outputId": "dae3a2e9-fe0f-4326-ae28-e6507fb5cc2e"
      },
      "execution_count": null,
      "outputs": [
        {
          "output_type": "stream",
          "name": "stdout",
          "text": [
            "Element 2, 0, 0 of Tuple:  h\n",
            "Element 2, 0, 1 of Tuple:  i\n"
          ]
        }
      ]
    },
    {
      "cell_type": "code",
      "source": [
        "#Index\n",
        "Nested.index(2)"
      ],
      "metadata": {
        "colab": {
          "base_uri": "https://localhost:8080/"
        },
        "id": "YUedTG3JOp4m",
        "outputId": "1afc60e7-889a-41d8-ce5b-c32f502d86db"
      },
      "execution_count": null,
      "outputs": [
        {
          "output_type": "execute_result",
          "data": {
            "text/plain": [
              "1"
            ]
          },
          "metadata": {},
          "execution_count": 13
        }
      ]
    },
    {
      "cell_type": "markdown",
      "source": [
        "##Lists"
      ],
      "metadata": {
        "id": "l7o27oZ_KSSN"
      }
    },
    {
      "cell_type": "code",
      "source": [
        "B=[\"a\",\"b\", \"c\"]"
      ],
      "metadata": {
        "id": "lAOIH-16KQnW"
      },
      "execution_count": null,
      "outputs": []
    },
    {
      "cell_type": "code",
      "source": [
        "# First two elements\n",
        "B[0:2]"
      ],
      "metadata": {
        "colab": {
          "base_uri": "https://localhost:8080/"
        },
        "id": "4To56aIbKY-4",
        "outputId": "ef5643e7-a350-403e-fc50-4f00e05ea33b"
      },
      "execution_count": null,
      "outputs": [
        {
          "output_type": "execute_result",
          "data": {
            "text/plain": [
              "['a', 'b']"
            ]
          },
          "metadata": {},
          "execution_count": 15
        }
      ]
    },
    {
      "cell_type": "code",
      "source": [
        "#Change one element to uppercase\n",
        "B[0] = B[0].upper()\n",
        "B"
      ],
      "metadata": {
        "colab": {
          "base_uri": "https://localhost:8080/"
        },
        "id": "CM34DWDJKb3_",
        "outputId": "1688a335-cf2c-43f2-c697-d507c5120db0"
      },
      "execution_count": null,
      "outputs": [
        {
          "output_type": "execute_result",
          "data": {
            "text/plain": [
              "['A', 'b', 'c']"
            ]
          },
          "metadata": {},
          "execution_count": 16
        }
      ]
    },
    {
      "cell_type": "markdown",
      "source": [
        "###Extend"
      ],
      "metadata": {
        "id": "IA0PnOesQfr-"
      }
    },
    {
      "cell_type": "code",
      "source": [
        "#extend takes exactly one argument\n",
        "B.extend(\"d\")\n",
        "B"
      ],
      "metadata": {
        "colab": {
          "base_uri": "https://localhost:8080/"
        },
        "id": "gzvbhGh9Kye0",
        "outputId": "637d222a-8f66-4f0d-cb8a-dd2bdfda64e7"
      },
      "execution_count": null,
      "outputs": [
        {
          "output_type": "execute_result",
          "data": {
            "text/plain": [
              "['A', 'b', 'c', 'd']"
            ]
          },
          "metadata": {},
          "execution_count": 17
        }
      ]
    },
    {
      "cell_type": "markdown",
      "source": [
        "###Append"
      ],
      "metadata": {
        "id": "IlovrtjMQhoL"
      }
    },
    {
      "cell_type": "code",
      "source": [
        "#one new element\n",
        "B.append([10,2])\n",
        "B"
      ],
      "metadata": {
        "colab": {
          "base_uri": "https://localhost:8080/"
        },
        "id": "KyzaCNM_P3_X",
        "outputId": "1a92f496-a438-4b4c-fce3-fd2daa1f23da"
      },
      "execution_count": null,
      "outputs": [
        {
          "output_type": "execute_result",
          "data": {
            "text/plain": [
              "['A', 'b', 'c', 'd', [10, 2]]"
            ]
          },
          "metadata": {},
          "execution_count": 18
        }
      ]
    },
    {
      "cell_type": "markdown",
      "source": [
        "###Changing the list elements"
      ],
      "metadata": {
        "id": "5NufrZnNRAgw"
      }
    },
    {
      "cell_type": "code",
      "source": [
        "B=[\"a\",\"b\", \"c\"]\n",
        "print(\"Before change: \", B)\n",
        "B[0]=\"New Year\"\n",
        "print(\"After change: \", B)"
      ],
      "metadata": {
        "colab": {
          "base_uri": "https://localhost:8080/"
        },
        "id": "dsbIpV6hQDa2",
        "outputId": "32a14617-ea45-4f2f-f263-8f5e798dae80"
      },
      "execution_count": null,
      "outputs": [
        {
          "output_type": "stream",
          "name": "stdout",
          "text": [
            "Before change:  ['a', 'b', 'c']\n",
            "After change:  ['New Year', 'b', 'c']\n"
          ]
        }
      ]
    },
    {
      "cell_type": "code",
      "source": [
        "print('Before change:', B)\n",
        "del(B[1])\n",
        "print('After change:', B)"
      ],
      "metadata": {
        "colab": {
          "base_uri": "https://localhost:8080/"
        },
        "id": "_MmCT9PJQreU",
        "outputId": "0116668f-854a-4fb7-b86f-bcdf47a2c1c2"
      },
      "execution_count": null,
      "outputs": [
        {
          "output_type": "stream",
          "name": "stdout",
          "text": [
            "Before change: ['New Year', 'b', 'c']\n",
            "After change: ['New Year', 'c']\n"
          ]
        }
      ]
    },
    {
      "cell_type": "markdown",
      "source": [
        "###Split"
      ],
      "metadata": {
        "id": "0OI1GMNVRVbv"
      }
    },
    {
      "cell_type": "code",
      "source": [
        "print(\"New Year\".split())\n",
        "print(\"New,Year\".split(\",\"))"
      ],
      "metadata": {
        "colab": {
          "base_uri": "https://localhost:8080/"
        },
        "id": "ZNz3N7XTRJrl",
        "outputId": "d88c1851-cf70-4ee7-ffe6-3919ade8aa8d"
      },
      "execution_count": null,
      "outputs": [
        {
          "output_type": "stream",
          "name": "stdout",
          "text": [
            "['New', 'Year']\n",
            "['New', 'Year']\n"
          ]
        }
      ]
    },
    {
      "cell_type": "markdown",
      "source": [
        "###Copy and Clone"
      ],
      "metadata": {
        "id": "ZarpHJP1RZdo"
      }
    },
    {
      "cell_type": "code",
      "source": [
        "A = [\"Estefania\", 27, 1994]\n",
        "B = A\n",
        "print(\"A:\", A)\n",
        "print(\"B:\", B)"
      ],
      "metadata": {
        "colab": {
          "base_uri": "https://localhost:8080/"
        },
        "id": "aQ1m5cPXRSll",
        "outputId": "4b62f59d-03d3-4ea7-cbb7-6caf7a073042"
      },
      "execution_count": null,
      "outputs": [
        {
          "output_type": "stream",
          "name": "stdout",
          "text": [
            "A: ['Estefania', 27, 1994]\n",
            "B: ['Estefania', 27, 1994]\n"
          ]
        }
      ]
    },
    {
      "cell_type": "code",
      "source": [
        "print('B[0]:', B[0])\n",
        "A[0] = \"Abigail\"\n",
        "print('B[0]:', B[0])"
      ],
      "metadata": {
        "colab": {
          "base_uri": "https://localhost:8080/"
        },
        "id": "xKL_GIx9Rojs",
        "outputId": "e378a2e5-dc8e-4736-dd97-04c31f1410fe"
      },
      "execution_count": null,
      "outputs": [
        {
          "output_type": "stream",
          "name": "stdout",
          "text": [
            "B[0]: Estefania\n",
            "B[0]: Abigail\n"
          ]
        }
      ]
    },
    {
      "cell_type": "code",
      "source": [
        "B = A[:]\n",
        "B"
      ],
      "metadata": {
        "colab": {
          "base_uri": "https://localhost:8080/"
        },
        "id": "hZxKyOuZR9D2",
        "outputId": "7944be00-52b4-4cbb-b437-0930bf9cc657"
      },
      "execution_count": null,
      "outputs": [
        {
          "output_type": "execute_result",
          "data": {
            "text/plain": [
              "['Abigail', 27, 1994]"
            ]
          },
          "metadata": {},
          "execution_count": 24
        }
      ]
    },
    {
      "cell_type": "markdown",
      "source": [
        "###Concatenate"
      ],
      "metadata": {
        "id": "AeLBDJVZSxOq"
      }
    },
    {
      "cell_type": "code",
      "source": [
        "C = [\"New Year\", 2022]\n",
        "D =  A+B+C\n",
        "D"
      ],
      "metadata": {
        "colab": {
          "base_uri": "https://localhost:8080/"
        },
        "id": "MEflZ4COSKtK",
        "outputId": "be2e778b-22ba-4ff1-cfe4-ec4d9127ee71"
      },
      "execution_count": null,
      "outputs": [
        {
          "output_type": "execute_result",
          "data": {
            "text/plain": [
              "['Abigail', 27, 1994, 'Abigail', 27, 1994, 'New Year', 2022]"
            ]
          },
          "metadata": {},
          "execution_count": 25
        }
      ]
    },
    {
      "cell_type": "markdown",
      "source": [
        "##Sets"
      ],
      "metadata": {
        "id": "XBRlbS8eTHsz"
      }
    },
    {
      "cell_type": "code",
      "source": [
        "#List to set\n",
        "A = set([\"A\", \"B\", \"C\", \"A\", \"B\", \"C\"])\n",
        "A"
      ],
      "metadata": {
        "colab": {
          "base_uri": "https://localhost:8080/"
        },
        "id": "fdHS_h6xStQW",
        "outputId": "3b11b91a-5cda-4ff7-b21e-c0e37372ca11"
      },
      "execution_count": null,
      "outputs": [
        {
          "output_type": "execute_result",
          "data": {
            "text/plain": [
              "{'A', 'B', 'C'}"
            ]
          },
          "metadata": {},
          "execution_count": 26
        }
      ]
    },
    {
      "cell_type": "code",
      "source": [
        "#Add element\n",
        "A.add(\"D\")\n",
        "A"
      ],
      "metadata": {
        "colab": {
          "base_uri": "https://localhost:8080/"
        },
        "id": "zu_C7J2LUU3z",
        "outputId": "69cf27f0-8feb-4f71-bef7-f68fb55c1785"
      },
      "execution_count": null,
      "outputs": [
        {
          "output_type": "execute_result",
          "data": {
            "text/plain": [
              "{'A', 'B', 'C', 'D'}"
            ]
          },
          "metadata": {},
          "execution_count": 27
        }
      ]
    },
    {
      "cell_type": "markdown",
      "source": [
        "###Intersection"
      ],
      "metadata": {
        "id": "hZuoaKuEUpFA"
      }
    },
    {
      "cell_type": "code",
      "source": [
        "B = set([\"A\", \"B\", \"X\", \"Y\", \"Z\"])\n",
        "print(\"With &: \",A&B)\n",
        "#or\n",
        "print(\"With .intersection: \",A.intersection(B))"
      ],
      "metadata": {
        "colab": {
          "base_uri": "https://localhost:8080/"
        },
        "id": "_qy7FWXdUfmW",
        "outputId": "697afe1a-1a19-4d15-f8ee-876446f281b6"
      },
      "execution_count": null,
      "outputs": [
        {
          "output_type": "stream",
          "name": "stdout",
          "text": [
            "With &:  {'A', 'B'}\n",
            "With .intersection:  {'A', 'B'}\n"
          ]
        }
      ]
    },
    {
      "cell_type": "markdown",
      "source": [
        "###Difference"
      ],
      "metadata": {
        "id": "CgO7p1ZmVzi5"
      }
    },
    {
      "cell_type": "code",
      "source": [
        "print(\"Difference of A: \", A.difference(B))\n",
        "print(\"Difference of B: \", B.difference(A))"
      ],
      "metadata": {
        "colab": {
          "base_uri": "https://localhost:8080/"
        },
        "id": "ZQ9ILN3iUy2_",
        "outputId": "5e2fc542-3aa4-4f78-c54d-f3fbca39839c"
      },
      "execution_count": null,
      "outputs": [
        {
          "output_type": "stream",
          "name": "stdout",
          "text": [
            "Difference of A:  {'C', 'D'}\n",
            "Difference of B:  {'Y', 'X', 'Z'}\n"
          ]
        }
      ]
    },
    {
      "cell_type": "markdown",
      "source": [
        "###Union"
      ],
      "metadata": {
        "id": "Wj6wSSKeWKqe"
      }
    },
    {
      "cell_type": "code",
      "source": [
        "C=A.union(B)\n",
        "C"
      ],
      "metadata": {
        "colab": {
          "base_uri": "https://localhost:8080/"
        },
        "id": "SidE5TOOV3sK",
        "outputId": "252f2d92-431c-4235-8228-dc9b2ee6fc74"
      },
      "execution_count": null,
      "outputs": [
        {
          "output_type": "execute_result",
          "data": {
            "text/plain": [
              "{'A', 'B', 'C', 'D', 'X', 'Y', 'Z'}"
            ]
          },
          "metadata": {},
          "execution_count": 30
        }
      ]
    },
    {
      "cell_type": "markdown",
      "source": [
        "###Supersets ans subsets"
      ],
      "metadata": {
        "id": "oZEGJUPcXfXf"
      }
    },
    {
      "cell_type": "code",
      "source": [
        "set(C).issuperset(A)"
      ],
      "metadata": {
        "colab": {
          "base_uri": "https://localhost:8080/"
        },
        "id": "t4PtvgVhWO0A",
        "outputId": "fb2214fc-3081-426c-a099-60a9d1bc0ea2"
      },
      "execution_count": null,
      "outputs": [
        {
          "output_type": "execute_result",
          "data": {
            "text/plain": [
              "True"
            ]
          },
          "metadata": {},
          "execution_count": 31
        }
      ]
    },
    {
      "cell_type": "code",
      "source": [
        "A.issubset(C)"
      ],
      "metadata": {
        "colab": {
          "base_uri": "https://localhost:8080/"
        },
        "id": "mioXC2mJWcMG",
        "outputId": "49f2f941-59ef-4c0b-f381-b37fb237d4ab"
      },
      "execution_count": null,
      "outputs": [
        {
          "output_type": "execute_result",
          "data": {
            "text/plain": [
              "True"
            ]
          },
          "metadata": {},
          "execution_count": 32
        }
      ]
    },
    {
      "cell_type": "code",
      "source": [
        "set({\"A\", \"Z\"}).issubset(C)"
      ],
      "metadata": {
        "colab": {
          "base_uri": "https://localhost:8080/"
        },
        "id": "19pUWVsKWoTH",
        "outputId": "2bac3678-9498-44dd-aa63-2ec70e2b24ee"
      },
      "execution_count": null,
      "outputs": [
        {
          "output_type": "execute_result",
          "data": {
            "text/plain": [
              "True"
            ]
          },
          "metadata": {},
          "execution_count": 33
        }
      ]
    },
    {
      "cell_type": "markdown",
      "source": [
        "##Dictionaries"
      ],
      "metadata": {
        "id": "xbP4X1vhXp4B"
      }
    },
    {
      "cell_type": "code",
      "source": [
        "A={\"Name\": \"Estefania\", \"Age\":27, \"Nickname\":\"Aby\"}\n",
        "print(type(A))\n",
        "A"
      ],
      "metadata": {
        "colab": {
          "base_uri": "https://localhost:8080/"
        },
        "id": "ixVJ4ebFWx2Z",
        "outputId": "5227fa4a-dfbc-4193-aba6-a80ed89dae96"
      },
      "execution_count": null,
      "outputs": [
        {
          "output_type": "stream",
          "name": "stdout",
          "text": [
            "<class 'dict'>\n"
          ]
        },
        {
          "output_type": "execute_result",
          "data": {
            "text/plain": [
              "{'Name': 'Estefania', 'Age': 27, 'Nickname': 'Aby'}"
            ]
          },
          "metadata": {},
          "execution_count": 34
        }
      ]
    },
    {
      "cell_type": "markdown",
      "source": [
        "###Using Keys and Values"
      ],
      "metadata": {
        "id": "grZs214zcGGv"
      }
    },
    {
      "cell_type": "code",
      "source": [
        "A[\"Name\"]"
      ],
      "metadata": {
        "colab": {
          "base_uri": "https://localhost:8080/",
          "height": 35
        },
        "id": "E1RJa1_uYiL5",
        "outputId": "d62f020e-2385-4d01-bb03-25c71e9b36fc"
      },
      "execution_count": null,
      "outputs": [
        {
          "output_type": "execute_result",
          "data": {
            "text/plain": [
              "'Estefania'"
            ],
            "application/vnd.google.colaboratory.intrinsic+json": {
              "type": "string"
            }
          },
          "metadata": {},
          "execution_count": 35
        }
      ]
    },
    {
      "cell_type": "code",
      "source": [
        "A.keys()"
      ],
      "metadata": {
        "colab": {
          "base_uri": "https://localhost:8080/"
        },
        "id": "SEvpoAdrYs19",
        "outputId": "cc84b3a7-56be-496e-a379-e2177f08394c"
      },
      "execution_count": null,
      "outputs": [
        {
          "output_type": "execute_result",
          "data": {
            "text/plain": [
              "dict_keys(['Name', 'Age', 'Nickname'])"
            ]
          },
          "metadata": {},
          "execution_count": 36
        }
      ]
    },
    {
      "cell_type": "code",
      "source": [
        "A.values()"
      ],
      "metadata": {
        "colab": {
          "base_uri": "https://localhost:8080/"
        },
        "id": "1-RrqdLyZCI2",
        "outputId": "e42ff0d2-4c9a-4684-8f90-904a2430cc35"
      },
      "execution_count": null,
      "outputs": [
        {
          "output_type": "execute_result",
          "data": {
            "text/plain": [
              "dict_values(['Estefania', 27, 'Aby'])"
            ]
          },
          "metadata": {},
          "execution_count": 37
        }
      ]
    },
    {
      "cell_type": "markdown",
      "source": [
        "###Add and delete"
      ],
      "metadata": {
        "id": "oA9gEl5ScLaQ"
      }
    },
    {
      "cell_type": "code",
      "source": [
        "A[\"Year\"]=1994\n",
        "A"
      ],
      "metadata": {
        "colab": {
          "base_uri": "https://localhost:8080/"
        },
        "id": "SJAjUUPpaxof",
        "outputId": "5617ab54-7598-4035-a758-5994641b677c"
      },
      "execution_count": null,
      "outputs": [
        {
          "output_type": "execute_result",
          "data": {
            "text/plain": [
              "{'Name': 'Estefania', 'Age': 27, 'Nickname': 'Aby', 'Year': 1994}"
            ]
          },
          "metadata": {},
          "execution_count": 38
        }
      ]
    },
    {
      "cell_type": "code",
      "source": [
        "del(A[\"Year\"])\n",
        "A"
      ],
      "metadata": {
        "colab": {
          "base_uri": "https://localhost:8080/"
        },
        "id": "vNEredBZa6aR",
        "outputId": "886c661e-b13e-4a52-a2b6-de47a472d1a8"
      },
      "execution_count": null,
      "outputs": [
        {
          "output_type": "execute_result",
          "data": {
            "text/plain": [
              "{'Name': 'Estefania', 'Age': 27, 'Nickname': 'Aby'}"
            ]
          },
          "metadata": {},
          "execution_count": 39
        }
      ]
    },
    {
      "cell_type": "markdown",
      "source": [
        "###Key in Dictionary"
      ],
      "metadata": {
        "id": "RYJg__bbcOT_"
      }
    },
    {
      "cell_type": "code",
      "source": [
        "\"Name\" in A"
      ],
      "metadata": {
        "colab": {
          "base_uri": "https://localhost:8080/"
        },
        "id": "SudOT7HpbAN1",
        "outputId": "4d78eb74-94fe-4efd-cdbb-7676c9018994"
      },
      "execution_count": null,
      "outputs": [
        {
          "output_type": "execute_result",
          "data": {
            "text/plain": [
              "True"
            ]
          },
          "metadata": {},
          "execution_count": 40
        }
      ]
    }
  ]
}