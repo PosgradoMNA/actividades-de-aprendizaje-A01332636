{
  "nbformat": 4,
  "nbformat_minor": 0,
  "metadata": {
    "colab": {
      "provenance": [],
      "authorship_tag": "ABX9TyOU/RYxUEkuAebMoZiY6hfC",
      "include_colab_link": true
    },
    "kernelspec": {
      "name": "python3",
      "display_name": "Python 3"
    },
    "language_info": {
      "name": "python"
    }
  },
  "cells": [
    {
      "cell_type": "markdown",
      "metadata": {
        "id": "view-in-github",
        "colab_type": "text"
      },
      "source": [
        "<a href=\"https://colab.research.google.com/github/PosgradoMNA/actividades-de-aprendizaje-A01332636/blob/main/M%C3%B3dulo_2.ipynb\" target=\"_parent\"><img src=\"https://colab.research.google.com/assets/colab-badge.svg\" alt=\"Open In Colab\"/></a>"
      ]
    },
    {
      "cell_type": "markdown",
      "source": [
        "# Módulo 2"
      ],
      "metadata": {
        "id": "kIGknK6vgqXP"
      }
    },
    {
      "cell_type": "markdown",
      "source": [
        "##Tuple"
      ],
      "metadata": {
        "id": "_HU5b6yPJ2Wk"
      }
    },
    {
      "cell_type": "code",
      "source": [
        "A=(0,\"Estefania\",2.0,3)\n",
        "A"
      ],
      "metadata": {
        "colab": {
          "base_uri": "https://localhost:8080/"
        },
        "id": "3Nqc0YUPJxRI",
        "outputId": "10a33019-4c3b-4def-f933-a1edb69f5d0d"
      },
      "execution_count": 1,
      "outputs": [
        {
          "output_type": "execute_result",
          "data": {
            "text/plain": [
              "(0, 'Estefania', 2.0, 3)"
            ]
          },
          "metadata": {},
          "execution_count": 1
        }
      ]
    },
    {
      "cell_type": "code",
      "source": [
        "type(A)"
      ],
      "metadata": {
        "colab": {
          "base_uri": "https://localhost:8080/"
        },
        "id": "zjNymcWTLdVK",
        "outputId": "192e07af-dcfe-41d5-ffa1-94321cbc6aea"
      },
      "execution_count": 2,
      "outputs": [
        {
          "output_type": "execute_result",
          "data": {
            "text/plain": [
              "tuple"
            ]
          },
          "metadata": {},
          "execution_count": 2
        }
      ]
    },
    {
      "cell_type": "code",
      "source": [
        "#First two elements\n",
        "A[0:2]"
      ],
      "metadata": {
        "colab": {
          "base_uri": "https://localhost:8080/"
        },
        "id": "A-IjieTVKNpK",
        "outputId": "0ab5e22a-5200-4ca1-c6be-59d43c8923f9"
      },
      "execution_count": 3,
      "outputs": [
        {
          "output_type": "execute_result",
          "data": {
            "text/plain": [
              "(0, 'Estefania')"
            ]
          },
          "metadata": {},
          "execution_count": 3
        }
      ]
    },
    {
      "cell_type": "markdown",
      "source": [
        "###Indexing"
      ],
      "metadata": {
        "id": "PN2vg595Lhjo"
      }
    },
    {
      "cell_type": "code",
      "source": [
        "print(A[0])\n",
        "print(A[1])\n",
        "print(A[2])"
      ],
      "metadata": {
        "colab": {
          "base_uri": "https://localhost:8080/"
        },
        "id": "MZ5g2XZwLiwG",
        "outputId": "0cd77d8b-7110-4242-d641-89c583528172"
      },
      "execution_count": 4,
      "outputs": [
        {
          "output_type": "stream",
          "name": "stdout",
          "text": [
            "0\n",
            "Estefania\n",
            "2.0\n"
          ]
        }
      ]
    },
    {
      "cell_type": "code",
      "source": [
        "#Last element with negative\n",
        "A[-1]"
      ],
      "metadata": {
        "colab": {
          "base_uri": "https://localhost:8080/"
        },
        "id": "1yWVB3ueLL2J",
        "outputId": "8c7536f9-42ac-4156-88b5-42b763284769"
      },
      "execution_count": 5,
      "outputs": [
        {
          "output_type": "execute_result",
          "data": {
            "text/plain": [
              "3"
            ]
          },
          "metadata": {},
          "execution_count": 5
        }
      ]
    },
    {
      "cell_type": "markdown",
      "source": [
        "###Concatenate"
      ],
      "metadata": {
        "id": "WdE2GYr4L5vQ"
      }
    },
    {
      "cell_type": "code",
      "source": [
        "A = A + (\"Abigail\", 27)\n",
        "A"
      ],
      "metadata": {
        "colab": {
          "base_uri": "https://localhost:8080/"
        },
        "id": "08A0v4RvLy5J",
        "outputId": "572dd08d-c0a3-473a-91fd-9e17e05c9ca9"
      },
      "execution_count": 6,
      "outputs": [
        {
          "output_type": "execute_result",
          "data": {
            "text/plain": [
              "(0, 'Estefania', 2.0, 3, 'Abigail', 27)"
            ]
          },
          "metadata": {},
          "execution_count": 6
        }
      ]
    },
    {
      "cell_type": "markdown",
      "source": [
        "###Slicing"
      ],
      "metadata": {
        "id": "6Drpb9h9MFpk"
      }
    },
    {
      "cell_type": "code",
      "source": [
        "print(len(A))\n",
        "print(A[0:2])\n",
        "print(A[2:4])\n",
        "print(A[4:6])"
      ],
      "metadata": {
        "colab": {
          "base_uri": "https://localhost:8080/"
        },
        "id": "xZiAXcRKMLG8",
        "outputId": "4e5d0c18-ede8-493f-f52b-b935443e578c"
      },
      "execution_count": 7,
      "outputs": [
        {
          "output_type": "stream",
          "name": "stdout",
          "text": [
            "6\n",
            "(0, 'Estefania')\n",
            "(2.0, 3)\n",
            "('Abigail', 27)\n"
          ]
        }
      ]
    },
    {
      "cell_type": "markdown",
      "source": [
        "###Sorting"
      ],
      "metadata": {
        "id": "zIjHPt65MccU"
      }
    },
    {
      "cell_type": "code",
      "source": [
        "grades = (2,4,2,4,8,1,7)\n",
        "gradesSorted = sorted(grades)\n",
        "gradesSorted"
      ],
      "metadata": {
        "colab": {
          "base_uri": "https://localhost:8080/"
        },
        "id": "fnJc1KrDMf0F",
        "outputId": "cbf82e31-aacf-4469-f828-8ac24a3d1fac"
      },
      "execution_count": 8,
      "outputs": [
        {
          "output_type": "execute_result",
          "data": {
            "text/plain": [
              "[1, 2, 2, 4, 4, 7, 8]"
            ]
          },
          "metadata": {},
          "execution_count": 8
        }
      ]
    },
    {
      "cell_type": "markdown",
      "source": [
        "###Nested Tuple"
      ],
      "metadata": {
        "id": "zwfQiY2wMwL9"
      }
    },
    {
      "cell_type": "code",
      "source": [
        "Nested = (1,2,(\"hi\", \"bye\"), (9,1),(\"Abigail\",(27, \"december\")))\n",
        "Nested"
      ],
      "metadata": {
        "colab": {
          "base_uri": "https://localhost:8080/"
        },
        "id": "mZEvf51nM1Dr",
        "outputId": "9821ed41-816b-486b-f531-686e08195b16"
      },
      "execution_count": 9,
      "outputs": [
        {
          "output_type": "execute_result",
          "data": {
            "text/plain": [
              "(1, 2, ('hi', 'bye'), (9, 1), ('Abigail', (27, 'december')))"
            ]
          },
          "metadata": {},
          "execution_count": 9
        }
      ]
    },
    {
      "cell_type": "code",
      "source": [
        "print(\"Element 0 of Tuple: \", Nested[0])\n",
        "print(\"Element 1 of Tuple: \", Nested[1])\n",
        "print(\"Element 2 of Tuple: \", Nested[2])\n",
        "print(\"Element 3 of Tuple: \", Nested[3])\n",
        "print(\"Element 4 of Tuple: \", Nested[4])"
      ],
      "metadata": {
        "colab": {
          "base_uri": "https://localhost:8080/"
        },
        "id": "2vxvqboWNIfy",
        "outputId": "5f105342-86f7-4ec3-b83c-224e24fbdd8c"
      },
      "execution_count": 10,
      "outputs": [
        {
          "output_type": "stream",
          "name": "stdout",
          "text": [
            "Element 0 of Tuple:  1\n",
            "Element 1 of Tuple:  2\n",
            "Element 2 of Tuple:  ('hi', 'bye')\n",
            "Element 3 of Tuple:  (9, 1)\n",
            "Element 4 of Tuple:  ('Abigail', (27, 'december'))\n"
          ]
        }
      ]
    },
    {
      "cell_type": "code",
      "source": [
        "print(\"Element 2, 0 of Tuple: \",   Nested[2][0])\n",
        "print(\"Element 2, 1 of Tuple: \",   Nested[2][1])\n",
        "print(\"Element 3, 0 of Tuple: \",   Nested[3][0])\n",
        "print(\"Element 3, 1 of Tuple: \",   Nested[3][1])\n",
        "print(\"Element 4, 0 of Tuple: \",   Nested[4][0])\n",
        "print(\"Element 4, 1 of Tuple: \",   Nested[4][1][1])"
      ],
      "metadata": {
        "colab": {
          "base_uri": "https://localhost:8080/"
        },
        "id": "EpUE9kLfNawg",
        "outputId": "0ab9b076-3719-4c09-b482-772f74addfb0"
      },
      "execution_count": 11,
      "outputs": [
        {
          "output_type": "stream",
          "name": "stdout",
          "text": [
            "Element 2, 0 of Tuple:  hi\n",
            "Element 2, 1 of Tuple:  bye\n",
            "Element 3, 0 of Tuple:  9\n",
            "Element 3, 1 of Tuple:  1\n",
            "Element 4, 0 of Tuple:  Abigail\n",
            "Element 4, 1 of Tuple:  december\n"
          ]
        }
      ]
    },
    {
      "cell_type": "code",
      "source": [
        "#Even string with a third index\n",
        "print(\"Element 2, 0, 0 of Tuple: \",   Nested[2][0][0])\n",
        "print(\"Element 2, 0, 1 of Tuple: \",   Nested[2][0][1])"
      ],
      "metadata": {
        "colab": {
          "base_uri": "https://localhost:8080/"
        },
        "id": "2PcC0dOANvbq",
        "outputId": "720f054f-1627-4d67-95bb-6e76c810571d"
      },
      "execution_count": 12,
      "outputs": [
        {
          "output_type": "stream",
          "name": "stdout",
          "text": [
            "Element 2, 0, 0 of Tuple:  h\n",
            "Element 2, 0, 1 of Tuple:  i\n"
          ]
        }
      ]
    },
    {
      "cell_type": "code",
      "source": [
        "#Index\n",
        "Nested.index(2)"
      ],
      "metadata": {
        "colab": {
          "base_uri": "https://localhost:8080/"
        },
        "id": "YUedTG3JOp4m",
        "outputId": "2cbc5d29-2090-46b8-999b-ad9bb874c557"
      },
      "execution_count": 13,
      "outputs": [
        {
          "output_type": "execute_result",
          "data": {
            "text/plain": [
              "1"
            ]
          },
          "metadata": {},
          "execution_count": 13
        }
      ]
    },
    {
      "cell_type": "markdown",
      "source": [
        "##Lists"
      ],
      "metadata": {
        "id": "l7o27oZ_KSSN"
      }
    },
    {
      "cell_type": "code",
      "source": [
        "B=[\"a\",\"b\", \"c\"]"
      ],
      "metadata": {
        "id": "lAOIH-16KQnW"
      },
      "execution_count": 14,
      "outputs": []
    },
    {
      "cell_type": "code",
      "source": [
        "# First two elements\n",
        "B[0:2]"
      ],
      "metadata": {
        "colab": {
          "base_uri": "https://localhost:8080/"
        },
        "id": "4To56aIbKY-4",
        "outputId": "99be3735-b154-4d8a-e31c-55876893dcde"
      },
      "execution_count": 15,
      "outputs": [
        {
          "output_type": "execute_result",
          "data": {
            "text/plain": [
              "['a', 'b']"
            ]
          },
          "metadata": {},
          "execution_count": 15
        }
      ]
    },
    {
      "cell_type": "code",
      "source": [
        "#Change one element to uppercase\n",
        "B[0] = B[0].upper()\n",
        "B"
      ],
      "metadata": {
        "colab": {
          "base_uri": "https://localhost:8080/"
        },
        "id": "CM34DWDJKb3_",
        "outputId": "045afbee-198d-465a-c2a0-4c2181a2ab75"
      },
      "execution_count": 16,
      "outputs": [
        {
          "output_type": "execute_result",
          "data": {
            "text/plain": [
              "['A', 'b', 'c']"
            ]
          },
          "metadata": {},
          "execution_count": 16
        }
      ]
    },
    {
      "cell_type": "markdown",
      "source": [
        "###Extend"
      ],
      "metadata": {
        "id": "IA0PnOesQfr-"
      }
    },
    {
      "cell_type": "code",
      "source": [
        "#extend takes exactly one argument\n",
        "B.extend(\"d\")\n",
        "B"
      ],
      "metadata": {
        "colab": {
          "base_uri": "https://localhost:8080/"
        },
        "id": "gzvbhGh9Kye0",
        "outputId": "31dee194-a673-456a-a85f-b87bc36548ed"
      },
      "execution_count": 17,
      "outputs": [
        {
          "output_type": "execute_result",
          "data": {
            "text/plain": [
              "['A', 'b', 'c', 'd']"
            ]
          },
          "metadata": {},
          "execution_count": 17
        }
      ]
    },
    {
      "cell_type": "markdown",
      "source": [
        "###Append"
      ],
      "metadata": {
        "id": "IlovrtjMQhoL"
      }
    },
    {
      "cell_type": "code",
      "source": [
        "#one new element\n",
        "B.append([10,2])\n",
        "B"
      ],
      "metadata": {
        "colab": {
          "base_uri": "https://localhost:8080/"
        },
        "id": "KyzaCNM_P3_X",
        "outputId": "c2ccf1ba-c175-46ba-b094-c7b0c0123dbf"
      },
      "execution_count": 18,
      "outputs": [
        {
          "output_type": "execute_result",
          "data": {
            "text/plain": [
              "['A', 'b', 'c', 'd', [10, 2]]"
            ]
          },
          "metadata": {},
          "execution_count": 18
        }
      ]
    },
    {
      "cell_type": "markdown",
      "source": [
        "###Changing the list elements"
      ],
      "metadata": {
        "id": "5NufrZnNRAgw"
      }
    },
    {
      "cell_type": "code",
      "source": [
        "B=[\"a\",\"b\", \"c\"]\n",
        "print(\"Before change: \", B)\n",
        "B[0]=\"New Year\"\n",
        "print(\"After change: \", B)"
      ],
      "metadata": {
        "colab": {
          "base_uri": "https://localhost:8080/"
        },
        "id": "dsbIpV6hQDa2",
        "outputId": "bc9d554e-b7e9-4242-faed-0602247308a9"
      },
      "execution_count": 19,
      "outputs": [
        {
          "output_type": "stream",
          "name": "stdout",
          "text": [
            "Before change:  ['a', 'b', 'c']\n",
            "After change:  ['New Year', 'b', 'c']\n"
          ]
        }
      ]
    },
    {
      "cell_type": "code",
      "source": [
        "print('Before change:', B)\n",
        "del(B[1])\n",
        "print('After change:', B)"
      ],
      "metadata": {
        "colab": {
          "base_uri": "https://localhost:8080/"
        },
        "id": "_MmCT9PJQreU",
        "outputId": "c0c0c3f4-13e1-406f-90b5-474bad8a3c32"
      },
      "execution_count": 20,
      "outputs": [
        {
          "output_type": "stream",
          "name": "stdout",
          "text": [
            "Before change: ['New Year', 'b', 'c']\n",
            "After change: ['New Year', 'c']\n"
          ]
        }
      ]
    },
    {
      "cell_type": "markdown",
      "source": [
        "###Split"
      ],
      "metadata": {
        "id": "0OI1GMNVRVbv"
      }
    },
    {
      "cell_type": "code",
      "source": [
        "print(\"New Year\".split())\n",
        "print(\"New,Year\".split(\",\"))"
      ],
      "metadata": {
        "colab": {
          "base_uri": "https://localhost:8080/"
        },
        "id": "ZNz3N7XTRJrl",
        "outputId": "1fa80a8f-2669-4f05-d536-49fc4debabfd"
      },
      "execution_count": 21,
      "outputs": [
        {
          "output_type": "stream",
          "name": "stdout",
          "text": [
            "['New', 'Year']\n",
            "['New', 'Year']\n"
          ]
        }
      ]
    },
    {
      "cell_type": "markdown",
      "source": [
        "###Copy and Clone"
      ],
      "metadata": {
        "id": "ZarpHJP1RZdo"
      }
    },
    {
      "cell_type": "code",
      "source": [
        "A = [\"Estefania\", 27, 1994]\n",
        "B = A\n",
        "print(\"A:\", A)\n",
        "print(\"B:\", B)"
      ],
      "metadata": {
        "colab": {
          "base_uri": "https://localhost:8080/"
        },
        "id": "aQ1m5cPXRSll",
        "outputId": "b8f34d6c-a6a1-4a6a-c4e7-1270709a526a"
      },
      "execution_count": 22,
      "outputs": [
        {
          "output_type": "stream",
          "name": "stdout",
          "text": [
            "A: ['Estefania', 27, 1994]\n",
            "B: ['Estefania', 27, 1994]\n"
          ]
        }
      ]
    },
    {
      "cell_type": "code",
      "source": [
        "print('B[0]:', B[0])\n",
        "A[0] = \"Abigail\"\n",
        "print('B[0]:', B[0])"
      ],
      "metadata": {
        "colab": {
          "base_uri": "https://localhost:8080/"
        },
        "id": "xKL_GIx9Rojs",
        "outputId": "62518dcc-bd01-4547-c5bc-015a901d0f85"
      },
      "execution_count": 23,
      "outputs": [
        {
          "output_type": "stream",
          "name": "stdout",
          "text": [
            "B[0]: Estefania\n",
            "B[0]: Abigail\n"
          ]
        }
      ]
    },
    {
      "cell_type": "code",
      "source": [
        "B = A[:]\n",
        "B"
      ],
      "metadata": {
        "colab": {
          "base_uri": "https://localhost:8080/"
        },
        "id": "hZxKyOuZR9D2",
        "outputId": "e57f44f6-429c-470f-a30c-8dbee08e61ae"
      },
      "execution_count": 24,
      "outputs": [
        {
          "output_type": "execute_result",
          "data": {
            "text/plain": [
              "['Abigail', 27, 1994]"
            ]
          },
          "metadata": {},
          "execution_count": 24
        }
      ]
    },
    {
      "cell_type": "markdown",
      "source": [
        "###Concatenate"
      ],
      "metadata": {
        "id": "AeLBDJVZSxOq"
      }
    },
    {
      "cell_type": "code",
      "source": [
        "C = [\"New Year\", 2022]\n",
        "D =  A+B+C\n",
        "D"
      ],
      "metadata": {
        "colab": {
          "base_uri": "https://localhost:8080/"
        },
        "id": "MEflZ4COSKtK",
        "outputId": "3c3989f7-b026-4e80-d27b-e7ea1aa61e32"
      },
      "execution_count": 25,
      "outputs": [
        {
          "output_type": "execute_result",
          "data": {
            "text/plain": [
              "['Abigail', 27, 1994, 'Abigail', 27, 1994, 'New Year', 2022]"
            ]
          },
          "metadata": {},
          "execution_count": 25
        }
      ]
    },
    {
      "cell_type": "markdown",
      "source": [
        "##Sets"
      ],
      "metadata": {
        "id": "XBRlbS8eTHsz"
      }
    },
    {
      "cell_type": "code",
      "source": [
        "#List to set\n",
        "A = set([\"A\", \"B\", \"C\", \"A\", \"B\", \"C\"])\n",
        "A"
      ],
      "metadata": {
        "colab": {
          "base_uri": "https://localhost:8080/"
        },
        "id": "fdHS_h6xStQW",
        "outputId": "e86d2078-0b43-4610-db79-206c04f50bd1"
      },
      "execution_count": 26,
      "outputs": [
        {
          "output_type": "execute_result",
          "data": {
            "text/plain": [
              "{'A', 'B', 'C'}"
            ]
          },
          "metadata": {},
          "execution_count": 26
        }
      ]
    },
    {
      "cell_type": "code",
      "source": [
        "#Add element\n",
        "A.add(\"D\")\n",
        "A"
      ],
      "metadata": {
        "colab": {
          "base_uri": "https://localhost:8080/"
        },
        "id": "zu_C7J2LUU3z",
        "outputId": "657083b4-e972-4479-f8e6-b1638a63c5cb"
      },
      "execution_count": 27,
      "outputs": [
        {
          "output_type": "execute_result",
          "data": {
            "text/plain": [
              "{'A', 'B', 'C', 'D'}"
            ]
          },
          "metadata": {},
          "execution_count": 27
        }
      ]
    },
    {
      "cell_type": "markdown",
      "source": [
        "###Intersection"
      ],
      "metadata": {
        "id": "hZuoaKuEUpFA"
      }
    },
    {
      "cell_type": "code",
      "source": [
        "B = set([\"A\", \"B\", \"X\", \"Y\", \"Z\"])\n",
        "print(\"With &: \",A&B)\n",
        "#or\n",
        "print(\"With .intersection: \",A.intersection(B))"
      ],
      "metadata": {
        "colab": {
          "base_uri": "https://localhost:8080/"
        },
        "id": "_qy7FWXdUfmW",
        "outputId": "5b5bba5c-e7f1-4d0a-c35f-14a0a1cc763d"
      },
      "execution_count": 28,
      "outputs": [
        {
          "output_type": "stream",
          "name": "stdout",
          "text": [
            "With &:  {'A', 'B'}\n",
            "With .intersection:  {'A', 'B'}\n"
          ]
        }
      ]
    },
    {
      "cell_type": "markdown",
      "source": [
        "###Difference"
      ],
      "metadata": {
        "id": "CgO7p1ZmVzi5"
      }
    },
    {
      "cell_type": "code",
      "source": [
        "print(\"Difference of A: \", A.difference(B))\n",
        "print(\"Difference of B: \", B.difference(A))"
      ],
      "metadata": {
        "colab": {
          "base_uri": "https://localhost:8080/"
        },
        "id": "ZQ9ILN3iUy2_",
        "outputId": "13bda6b3-acc4-4335-e552-d635b15752aa"
      },
      "execution_count": 29,
      "outputs": [
        {
          "output_type": "stream",
          "name": "stdout",
          "text": [
            "Difference of A:  {'D', 'C'}\n",
            "Difference of B:  {'Z', 'X', 'Y'}\n"
          ]
        }
      ]
    },
    {
      "cell_type": "markdown",
      "source": [
        "###Union"
      ],
      "metadata": {
        "id": "Wj6wSSKeWKqe"
      }
    },
    {
      "cell_type": "code",
      "source": [
        "C=A.union(B)\n",
        "C"
      ],
      "metadata": {
        "colab": {
          "base_uri": "https://localhost:8080/"
        },
        "id": "SidE5TOOV3sK",
        "outputId": "4906b34b-e4a2-43d3-99bf-7cb5731c55af"
      },
      "execution_count": 30,
      "outputs": [
        {
          "output_type": "execute_result",
          "data": {
            "text/plain": [
              "{'A', 'B', 'C', 'D', 'X', 'Y', 'Z'}"
            ]
          },
          "metadata": {},
          "execution_count": 30
        }
      ]
    },
    {
      "cell_type": "markdown",
      "source": [
        "###Supersets ans subsets"
      ],
      "metadata": {
        "id": "oZEGJUPcXfXf"
      }
    },
    {
      "cell_type": "code",
      "source": [
        "set(C).issuperset(A)"
      ],
      "metadata": {
        "colab": {
          "base_uri": "https://localhost:8080/"
        },
        "id": "t4PtvgVhWO0A",
        "outputId": "9d7c8c50-08ed-442d-9033-d523d8d835d5"
      },
      "execution_count": 31,
      "outputs": [
        {
          "output_type": "execute_result",
          "data": {
            "text/plain": [
              "True"
            ]
          },
          "metadata": {},
          "execution_count": 31
        }
      ]
    },
    {
      "cell_type": "code",
      "source": [
        "A.issubset(C)"
      ],
      "metadata": {
        "colab": {
          "base_uri": "https://localhost:8080/"
        },
        "id": "mioXC2mJWcMG",
        "outputId": "abfa53ec-fdec-4e6e-d8a6-e13ba5e96912"
      },
      "execution_count": 32,
      "outputs": [
        {
          "output_type": "execute_result",
          "data": {
            "text/plain": [
              "True"
            ]
          },
          "metadata": {},
          "execution_count": 32
        }
      ]
    },
    {
      "cell_type": "code",
      "source": [
        "set({\"A\", \"Z\"}).issubset(C)"
      ],
      "metadata": {
        "colab": {
          "base_uri": "https://localhost:8080/"
        },
        "id": "19pUWVsKWoTH",
        "outputId": "45984875-da46-4d8b-e6a7-ce10aeae2f89"
      },
      "execution_count": 33,
      "outputs": [
        {
          "output_type": "execute_result",
          "data": {
            "text/plain": [
              "True"
            ]
          },
          "metadata": {},
          "execution_count": 33
        }
      ]
    },
    {
      "cell_type": "markdown",
      "source": [
        "##Dictionaries"
      ],
      "metadata": {
        "id": "xbP4X1vhXp4B"
      }
    },
    {
      "cell_type": "code",
      "source": [
        "A={\"Name\": \"Estefania\", \"Age\":27, \"Nickname\":\"Aby\"}\n",
        "print(type(A))\n",
        "A"
      ],
      "metadata": {
        "colab": {
          "base_uri": "https://localhost:8080/"
        },
        "id": "ixVJ4ebFWx2Z",
        "outputId": "8971de96-385c-418e-c115-d49ba60b8210"
      },
      "execution_count": 34,
      "outputs": [
        {
          "output_type": "stream",
          "name": "stdout",
          "text": [
            "<class 'dict'>\n"
          ]
        },
        {
          "output_type": "execute_result",
          "data": {
            "text/plain": [
              "{'Name': 'Estefania', 'Age': 27, 'Nickname': 'Aby'}"
            ]
          },
          "metadata": {},
          "execution_count": 34
        }
      ]
    },
    {
      "cell_type": "markdown",
      "source": [
        "###Using Keys and Values"
      ],
      "metadata": {
        "id": "grZs214zcGGv"
      }
    },
    {
      "cell_type": "code",
      "source": [
        "A[\"Name\"]"
      ],
      "metadata": {
        "colab": {
          "base_uri": "https://localhost:8080/",
          "height": 0
        },
        "id": "E1RJa1_uYiL5",
        "outputId": "d8d21d59-6a2f-42bd-b63a-c50af4e38c80"
      },
      "execution_count": 35,
      "outputs": [
        {
          "output_type": "execute_result",
          "data": {
            "text/plain": [
              "'Estefania'"
            ],
            "application/vnd.google.colaboratory.intrinsic+json": {
              "type": "string"
            }
          },
          "metadata": {},
          "execution_count": 35
        }
      ]
    },
    {
      "cell_type": "code",
      "source": [
        "A.keys()"
      ],
      "metadata": {
        "colab": {
          "base_uri": "https://localhost:8080/"
        },
        "id": "SEvpoAdrYs19",
        "outputId": "1ea61d03-1ed1-4bfb-8758-e251ec868009"
      },
      "execution_count": 36,
      "outputs": [
        {
          "output_type": "execute_result",
          "data": {
            "text/plain": [
              "dict_keys(['Name', 'Age', 'Nickname'])"
            ]
          },
          "metadata": {},
          "execution_count": 36
        }
      ]
    },
    {
      "cell_type": "code",
      "source": [
        "A.values()"
      ],
      "metadata": {
        "colab": {
          "base_uri": "https://localhost:8080/"
        },
        "id": "1-RrqdLyZCI2",
        "outputId": "7523a429-85f5-40e2-9ab2-c15c0f379a9f"
      },
      "execution_count": 37,
      "outputs": [
        {
          "output_type": "execute_result",
          "data": {
            "text/plain": [
              "dict_values(['Estefania', 27, 'Aby'])"
            ]
          },
          "metadata": {},
          "execution_count": 37
        }
      ]
    },
    {
      "cell_type": "markdown",
      "source": [
        "###Add and delete"
      ],
      "metadata": {
        "id": "oA9gEl5ScLaQ"
      }
    },
    {
      "cell_type": "code",
      "source": [
        "A[\"Year\"]=1994\n",
        "A"
      ],
      "metadata": {
        "colab": {
          "base_uri": "https://localhost:8080/"
        },
        "id": "SJAjUUPpaxof",
        "outputId": "4cf1c6d9-fe3f-49f9-841f-f96b01254f40"
      },
      "execution_count": 38,
      "outputs": [
        {
          "output_type": "execute_result",
          "data": {
            "text/plain": [
              "{'Name': 'Estefania', 'Age': 27, 'Nickname': 'Aby', 'Year': 1994}"
            ]
          },
          "metadata": {},
          "execution_count": 38
        }
      ]
    },
    {
      "cell_type": "code",
      "source": [
        "del(A[\"Year\"])\n",
        "A"
      ],
      "metadata": {
        "colab": {
          "base_uri": "https://localhost:8080/"
        },
        "id": "vNEredBZa6aR",
        "outputId": "a86ee9fe-8e65-4ee2-dc72-a2457d095879"
      },
      "execution_count": 39,
      "outputs": [
        {
          "output_type": "execute_result",
          "data": {
            "text/plain": [
              "{'Name': 'Estefania', 'Age': 27, 'Nickname': 'Aby'}"
            ]
          },
          "metadata": {},
          "execution_count": 39
        }
      ]
    },
    {
      "cell_type": "markdown",
      "source": [
        "###Key in Dictionary"
      ],
      "metadata": {
        "id": "RYJg__bbcOT_"
      }
    },
    {
      "cell_type": "code",
      "source": [
        "\"Name\" in A"
      ],
      "metadata": {
        "colab": {
          "base_uri": "https://localhost:8080/"
        },
        "id": "SudOT7HpbAN1",
        "outputId": "18ab1518-eff0-4127-db37-44ced068bac0"
      },
      "execution_count": 40,
      "outputs": [
        {
          "output_type": "execute_result",
          "data": {
            "text/plain": [
              "True"
            ]
          },
          "metadata": {},
          "execution_count": 40
        }
      ]
    }
  ]
}